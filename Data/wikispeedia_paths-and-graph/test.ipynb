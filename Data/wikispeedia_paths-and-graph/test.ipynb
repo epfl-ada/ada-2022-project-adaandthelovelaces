import pandas as pd
import pandas_datareader.data as web
import datetime
import matplotlib.pyplot as plt
import numpy as np
import networkx as nx
from bokeh.io import output_notebook, show, save
from bokeh.models import Range1d, Circle, ColumnDataSource, MultiLine
from bokeh.plotting import figure
from bokeh.plotting import from_networkx


links = pd.read_csv("links.tsv", skiprows=11, sep='	', names=["origin", "adjacent"])

G = nx.Graph()
G = nx.from_pandas_edgelist(links, 'origin', 'adjacent')

title = 'Wikispeedia Links Graph'

#Establish which categories will appear when hovering over each node
HOVER_TOOLTIPS = [("Page", "@origin")]

#Create a plot — set dimensions, toolbar, and title
plot = figure(tooltips = HOVER_TOOLTIPS,
              tools="pan,wheel_zoom,save,reset", active_scroll='wheel_zoom',
            x_range=Range1d(-10.1, 10.1), y_range=Range1d(-10.1, 10.1), title=title)


network_graph = from_networkx(G, nx.spring_layout, scale=10, center=(0, 0))

#Set node size and color
network_graph.node_renderer.glyph = Circle(size=15, fill_color='skyblue')

#Set edge opacity and width
network_graph.edge_renderer.glyph = MultiLine(line_alpha=0.5, line_width=1)

#Add network graph to the plot
plot.renderers.append(network_graph)

show(plot)
#save(plot, filename=f"{title}.html")