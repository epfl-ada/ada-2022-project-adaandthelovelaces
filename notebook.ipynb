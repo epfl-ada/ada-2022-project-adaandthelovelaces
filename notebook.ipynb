{
 "cells": [
  {
   "cell_type": "markdown",
   "metadata": {},
   "source": [
    "This is the notebook of Milestone 2 of team _Ada And the Lovelaces_. The outline of the notebook is as followed:\n",
    "1. Data Pre-Processing: we add the features of interest to the existing datasets\n",
    "2. Exploratory Data Analysis: based on the datasets obtained, we run some first basic analysis and visualizations\n"
   ]
  },
  {
   "cell_type": "code",
   "execution_count": 1,
   "metadata": {},
   "outputs": [],
   "source": [
    "import numpy as np\n",
    "import pandas as pd\n",
    "import scipy\n",
    "import matplotlib.pyplot as plt\n",
    "import urllib.parse as urlparse\n",
    "from collections import defaultdict\n",
    "\n",
    "from bokeh.models import Range1d, Circle, ColumnDataSource, MultiLine\n",
    "from bokeh.plotting import figure\n",
    "from bokeh.plotting import from_networkx\n",
    "\n",
    "from selenium import webdriver\n",
    "from selenium.webdriver.common.keys import Keys\n",
    "from selenium.webdriver.common.by import By\n",
    "from selenium.webdriver.chrome.options import Options\n",
    "import re\n",
    "import os\n",
    "import networkx as nx"
   ]
  },
  {
   "cell_type": "markdown",
   "metadata": {},
   "source": [
    "# Data pre-processing"
   ]
  },
  {
   "cell_type": "markdown",
   "metadata": {},
   "source": [
    "## Computing the location of the links in the HTML pages\n",
    "\n",
    "In this part, we compute the location of every link in a given HTML page. The location is added to the _links_ table."
   ]
  },
  {
   "cell_type": "markdown",
   "metadata": {},
   "source": [
    "Let's start by extracting the links, and creating the new columns we wish to add, with 0 as the initialization value:"
   ]
  },
  {
   "cell_type": "code",
   "execution_count": 2,
   "metadata": {},
   "outputs": [],
   "source": [
    "# Extract list of links as DataFrame to store frequency\n",
    "\n",
    "df_links = pd.read_csv('./data/wikispeedia_paths-and-graph/links.tsv',\n",
    "                       sep='\\t',\n",
    "                       names=['linkSource_URL', 'linkTarget_URL'],\n",
    "                       comment='#')\n",
    "\n",
    "# Storing the x and y position of the unique link on the page\n",
    "df_links['xpos'] =  pd.Series(np.zeros((len(df_links)),dtype=int))\n",
    "df_links['ypos'] =  pd.Series(np.zeros((len(df_links)),dtype=int))"
   ]
  },
  {
   "cell_type": "markdown",
   "metadata": {},
   "source": [
    "Now, the HTML driver is created. We need to define arbitrary parameters. We consider a full screen display at 1900*900, rendered in Google Chrome. \n",
    "\n",
    "\n",
    "\n",
    "\n",
    "_Note that if we were to change the resolution, the data would change but the ordering of the links locations on the y axis would remain unchanged. The results of the analysis would not change._"
   ]
  },
  {
   "cell_type": "code",
   "execution_count": 3,
   "metadata": {},
   "outputs": [],
   "source": [
    "op = Options()\n",
    "op.add_argument('headless')\n",
    "\n",
    "\n",
    "# Most common window size for desktop, \n",
    "# full-screen minus 130 at top for browser control, minus 50 at bottom for windows taskbar. \n",
    "# Since the game was played, on desktop, we choose this (ADD EXPLANATORY SCREENSHOT)\n",
    "\n",
    "op.add_argument(\"window-size=1920,900\") \n",
    "\n",
    "driver = webdriver.Chrome(options=op)"
   ]
  },
  {
   "cell_type": "markdown",
   "metadata": {},
   "source": [
    "Now that the driver is configured, let's compute the locations of all links in the articles"
   ]
  },
  {
   "cell_type": "code",
   "execution_count": 4,
   "metadata": {},
   "outputs": [
    {
     "name": "stdout",
     "output_type": "stream",
     "text": [
      "link name 2007 Schools Wikipedia Selection link pos {'x': 19, 'y': 52}\n",
      "link name Countries link pos {'x': 294, 'y': 52}\n",
      "link name European Countries link pos {'x': 351, 'y': 52}\n",
      "link name Paris link pos {'x': 1724, 'y': 417}\n",
      "link name French link pos {'x': 1724, 'y': 459}\n",
      "link name Government link pos {'x': 1588, 'y': 483}\n",
      "link name Accession to EU link pos {'x': 1604, 'y': 621}\n",
      "link name Currency link pos {'x': 1626, 'y': 1049}\n",
      "link name Euro link pos {'x': 1724, 'y': 1054}\n",
      "link name Time zone link pos {'x': 1623, 'y': 1116}\n",
      "link name European Union link pos {'x': 1748, 'y': 1577}\n",
      "link name French link pos {'x': 68, 'y': 75}\n",
      "link name French link pos {'x': 361, 'y': 75}\n",
      "link name country link pos {'x': 688, 'y': 75}\n",
      "link name Mediterranean Sea link pos {'x': 299, 'y': 94}\n",
      "link name English Channel link pos {'x': 445, 'y': 94}\n",
      "link name North Sea link pos {'x': 587, 'y': 94}\n",
      "link name Rhine link pos {'x': 726, 'y': 94}\n",
      "link name Atlantic Ocean link pos {'x': 798, 'y': 94}\n",
      "link name Belgium link pos {'x': 146, 'y': 138}\n",
      "link name Luxembourg link pos {'x': 199, 'y': 138}\n",
      "link name Germany link pos {'x': 277, 'y': 138}\n",
      "link name Switzerland link pos {'x': 335, 'y': 138}\n",
      "link name Italy link pos {'x': 408, 'y': 138}\n",
      "link name Monaco link pos {'x': 437, 'y': 138}\n",
      "link name Andorra link pos {'x': 489, 'y': 138}\n",
      "link name Spain link pos {'x': 566, 'y': 138}\n",
      "link name Brazil link pos {'x': 1029, 'y': 138}\n",
      "link name Suriname link pos {'x': 1068, 'y': 138}\n",
      "link name Netherlands Antilles link pos {'x': 1175, 'y': 138}\n",
      "link name United Kingdom link pos {'x': 1449, 'y': 138}\n",
      "link name English Channel link pos {'x': 305, 'y': 157}\n",
      "link name democracy link pos {'x': 164, 'y': 183}\n",
      "link name European Union link pos {'x': 163, 'y': 202}\n",
      "link name United Nations link pos {'x': 751, 'y': 202}\n",
      "link name Franks link pos {'x': 1448, 'y': 221}\n",
      "link name Western Roman Empire link pos {'x': 292, 'y': 240}\n",
      "link name Paris link pos {'x': 626, 'y': 240}\n",
      "link name North America link pos {'x': 1199, 'y': 300}\n",
      "link name South America link pos {'x': 1373, 'y': 300}\n",
      "link name Indian Ocean link pos {'x': 19, 'y': 319}\n",
      "link name Pacific Ocean link pos {'x': 123, 'y': 319}\n",
      "link name Antarctica link pos {'x': 232, 'y': 319}\n",
      "link name river link pos {'x': 1189, 'y': 363}\n",
      "link name Myanmar link pos {'x': 552, 'y': 408}\n",
      "link name Yemen link pos {'x': 1149, 'y': 408}\n",
      "link name Thailand link pos {'x': 1216, 'y': 408}\n",
      "link name Kenya link pos {'x': 1430, 'y': 408}\n",
      "link name United States link pos {'x': 1450, 'y': 452}\n",
      "link name Australia link pos {'x': 360, 'y': 471}\n",
      "link name China link pos {'x': 530, 'y': 569}\n",
      "link name Brazil link pos {'x': 464, 'y': 588}\n",
      "link name Napoleon link pos {'x': 1052, 'y': 633}\n",
      "link name California link pos {'x': 360, 'y': 652}\n",
      "link name internet link pos {'x': 19, 'y': 671}\n",
      "link name Rome link pos {'x': 810, 'y': 766}\n",
      "link name Julius Caesar link pos {'x': 864, 'y': 766}\n",
      "link name Latin link pos {'x': 1355, 'y': 766}\n",
      "link name French language link pos {'x': 19, 'y': 766}\n",
      "link name Middle Ages link pos {'x': 1338, 'y': 786}\n",
      "link name Rhine link pos {'x': 329, 'y': 830}\n",
      "link name Franks link pos {'x': 633, 'y': 830}\n",
      "link name Charlemagne link pos {'x': 641, 'y': 849}\n",
      "link name Louis XIV link pos {'x': 407, 'y': 893}\n",
      "link name French Revolution link pos {'x': 227, 'y': 973}\n",
      "link name Napoleon Bonaparte link pos {'x': 1289, 'y': 973}\n",
      "link name several wars link pos {'x': 836, 'y': 992}\n",
      "link name constitutional link pos {'x': 858, 'y': 1037}\n",
      "link name British Empire link pos {'x': 1201, 'y': 1081}\n",
      "link name World War I link pos {'x': 181, 'y': 1145}\n",
      "link name World War II link pos {'x': 60, 'y': 1170}\n",
      "link name Germany link pos {'x': 667, 'y': 1170}\n",
      "link name Algeria link pos {'x': 1180, 'y': 1233}\n",
      "link name Germany link pos {'x': 377, 'y': 1303}\n",
      "link name European Union link pos {'x': 860, 'y': 1303}\n",
      "link name euro link pos {'x': 1138, 'y': 1303}\n",
      "link name European Union link pos {'x': 408, 'y': 1624}\n",
      "link name Interpol link pos {'x': 336, 'y': 1713}\n",
      "link name Belgium link pos {'x': 1711, 'y': 2721}\n",
      "link name Luxembourg link pos {'x': 1761, 'y': 2756}\n",
      "link name Germany link pos {'x': 1808, 'y': 2772}\n",
      "link name Switzerland link pos {'x': 1794, 'y': 2880}\n",
      "link name Italy link pos {'x': 1804, 'y': 2948}\n",
      "link name English Channel link pos {'x': 1525, 'y': 2745}\n",
      "link name United Kingdom link pos {'x': 1499, 'y': 2706}\n",
      "link name Andorra link pos {'x': 1649, 'y': 3043}\n",
      "link name Spain link pos {'x': 1581, 'y': 3041}\n",
      "link name Mediterranean\n",
      "Sea link pos {'x': 1737, 'y': 3041}\n",
      "link name EU link pos {'x': 831, 'y': 1906}\n",
      "link name New Caledonia link pos {'x': 861, 'y': 1931}\n",
      "link name EU link pos {'x': 568, 'y': 1957}\n",
      "link name euro link pos {'x': 1189, 'y': 1957}\n",
      "link name Indian Ocean link pos {'x': 553, 'y': 2001}\n",
      "link name Pacific Ocean link pos {'x': 678, 'y': 2001}\n",
      "link name United Kingdom link pos {'x': 373, 'y': 2251}\n",
      "link name UK link pos {'x': 917, 'y': 2251}\n",
      "link name Airbus A380 link pos {'x': 1568, 'y': 3620}\n",
      "link name United States link pos {'x': 764, 'y': 2394}\n",
      "link name Japan link pos {'x': 847, 'y': 2394}\n",
      "link name Germany link pos {'x': 889, 'y': 2394}\n",
      "link name United Kingdom link pos {'x': 1174, 'y': 2394}\n",
      "link name EU link pos {'x': 1401, 'y': 2394}\n",
      "link name Euro link pos {'x': 152, 'y': 2413}\n",
      "link name United States link pos {'x': 653, 'y': 2438}\n",
      "link name Germany link pos {'x': 736, 'y': 2438}\n",
      "link name Japan link pos {'x': 794, 'y': 2438}\n",
      "link name United Kingdom link pos {'x': 1144, 'y': 2438}\n",
      "link name Spain link pos {'x': 657, 'y': 2749}\n",
      "link name United States link pos {'x': 815, 'y': 2749}\n",
      "link name Paris link pos {'x': 1203, 'y': 2749}\n",
      "link name Airbus link pos {'x': 453, 'y': 2793}\n",
      "link name Germany link pos {'x': 593, 'y': 2901}\n",
      "link name Lyon link pos {'x': 1674, 'y': 3922}\n",
      "link name Maghreb link pos {'x': 1333, 'y': 3000}\n",
      "link name Maghreb link pos {'x': 117, 'y': 3019}\n",
      "link name Republic of Ireland link pos {'x': 393, 'y': 3219}\n",
      "link name European Union link pos {'x': 1424, 'y': 3219}\n",
      "link name Russia link pos {'x': 1057, 'y': 3282}\n",
      "link name Germany link pos {'x': 1124, 'y': 3282}\n",
      "link name Brussels link pos {'x': 494, 'y': 3390}\n",
      "link name United States link pos {'x': 1175, 'y': 3435}\n",
      "link name French link pos {'x': 236, 'y': 4024}\n",
      "link name Portuguese link pos {'x': 963, 'y': 4081}\n",
      "link name Berber languages link pos {'x': 1176, 'y': 4081}\n",
      "link name Sub-Saharan Africa link pos {'x': 1404, 'y': 4081}\n",
      "link name Spanish link pos {'x': 1725, 'y': 4125}\n",
      "link name French link pos {'x': 43, 'y': 4308}\n",
      "link name German link pos {'x': 43, 'y': 4333}\n",
      "link name Arabic link pos {'x': 43, 'y': 4359}\n",
      "link name Portuguese link pos {'x': 43, 'y': 4409}\n",
      "link name Spanish link pos {'x': 43, 'y': 4484}\n",
      "link name Berber languages link pos {'x': 84, 'y': 4554}\n",
      "link name Lille link pos {'x': 1202, 'y': 4826}\n",
      "link name Lyon link pos {'x': 1386, 'y': 4826}\n",
      "link name Marseille link pos {'x': 1420, 'y': 4826}\n",
      "link name Paris link pos {'x': 560, 'y': 4845}\n",
      "link name French Revolution link pos {'x': 784, 'y': 5270}\n",
      "link name Roman Catholic link pos {'x': 184, 'y': 5420}\n",
      "link name Muslim link pos {'x': 1230, 'y': 5483}\n",
      "link name Jewish link pos {'x': 1418, 'y': 5483}\n",
      "link name God link pos {'x': 163, 'y': 5502}\n",
      "link name Orthodox link pos {'x': 83, 'y': 5521}\n",
      "link name Buddhist link pos {'x': 153, 'y': 5521}\n",
      "link name EU link pos {'x': 245, 'y': 5607}\n",
      "link name AIDS link pos {'x': 548, 'y': 5632}\n",
      "link name Marseille link pos {'x': 506, 'y': 6081}\n",
      "link name World Bank link pos {'x': 231, 'y': 6414}\n",
      "link name United Kingdom link pos {'x': 476, 'y': 6570}\n",
      "link name English Channel link pos {'x': 462, 'y': 6606}\n",
      "link name North Sea link pos {'x': 919, 'y': 6588}\n",
      "link name Belgium link pos {'x': 1326, 'y': 6578}\n",
      "link name Luxembourg link pos {'x': 1405, 'y': 6578}\n",
      "link name Germany link pos {'x': 1374, 'y': 6597}\n",
      "link name Switzerland link pos {'x': 1366, 'y': 6649}\n",
      "link name Spain link pos {'x': 465, 'y': 6713}\n",
      "link name Andorra link pos {'x': 530, 'y': 6713}\n",
      "link name Mediterranean Sea link pos {'x': 895, 'y': 6695}\n",
      "link name Algeria link pos {'x': 903, 'y': 6731}\n",
      "link name Tunisia link pos {'x': 976, 'y': 6731}\n",
      "link name Italy link pos {'x': 1388, 'y': 6694}\n",
      "link name Monaco link pos {'x': 1377, 'y': 6713}\n",
      "link name Italy link pos {'x': 1437, 'y': 6732}\n",
      "link name GNU Free Documentation License link pos {'x': 1269, 'y': 6803}\n",
      "link name Disclaimer link pos {'x': 1517, 'y': 6803}\n"
     ]
    }
   ],
   "source": [
    "source_path = './data/wpcd/wp/f/France.htm'\n",
    "\n",
    "user_cwd = os.getcwd().replace('\\\\','/')\n",
    "\n",
    "url = 'file://'+user_cwd+source_path\n",
    "driver.get(url)\n",
    "\n",
    "elem = driver.find_elements(By.TAG_NAME, \"a\")\n",
    "for e in elem:\n",
    "    \n",
    "    if e.text != '':\n",
    "        print('link name', e.text, 'link pos', e.location)"
   ]
  },
  {
   "cell_type": "markdown",
   "metadata": {},
   "source": [
    "## Computing clicks, impressions and CTR"
   ]
  },
  {
   "cell_type": "markdown",
   "metadata": {},
   "source": [
    "This is done at two different granularities:\n",
    "- Per source: we compute the clicks, impressions and CTR for each outgoing links of a given article\n",
    "- Aggregated: we compute the total number of clicks, impressions and CTR for the articles no matter the origin of the user's click"
   ]
  },
  {
   "cell_type": "markdown",
   "metadata": {},
   "source": [
    "### Fine grained dataset: per source article\n",
    "Here, the goal is to extend the _links_ table by adding for each pair _(origin article, destination article)_, columns counting the number of clicks associated, the number of impressions, and the CTR."
   ]
  },
  {
   "cell_type": "code",
   "execution_count": 5,
   "metadata": {},
   "outputs": [],
   "source": [
    "# Helper functions\n",
    "\n",
    "def title_parse(title):\n",
    "    \"\"\"\n",
    "    Parse URL encoded to readable characters\n",
    "    \"\"\"\n",
    "\n",
    "    title = urlparse.unquote(title).casefold()\n",
    "    return title\n",
    "\n",
    "\n",
    "\n",
    "def url_encode(title):\n",
    "    \"\"\"\n",
    "    URL encode target links\n",
    "    \"\"\"\n",
    "\n",
    "    title = urlparse.quote(title)\n",
    "    return title\n"
   ]
  },
  {
   "cell_type": "markdown",
   "metadata": {},
   "source": [
    "We start by retrieving the players's data: they are in the paths_finished and paths_unfinished datasets. We first focus on the finished paths:"
   ]
  },
  {
   "cell_type": "code",
   "execution_count": 6,
   "metadata": {},
   "outputs": [],
   "source": [
    "df_user_finished = pd.read_csv('./data/wikispeedia_paths-and-graph/paths_finished.tsv',\n",
    "                      sep='\\t',\n",
    "                      names=['hashedIpAddress', 'timestamp', 'durationInSec', 'path', 'rating'],\n",
    "                      comment='#')\n",
    "\n",
    "# It was noticed that users clicked on links in the footer (Terms & Conditions + Disclaimer) \n",
    "# that are not articles per-say. We decided to remove all paths containing these links as it is not in the spirit of the game\n",
    "## \"wikipedia_text_of_the_gnu_free_documentation_license\" is not an article!\n",
    "problematic_keywords = ['Wikipedia_Text_of_the_GNU_Free_Documentation_License']\n",
    "df_user_finished = df_user_finished[~df_user_finished.path.str.contains('|'.join(problematic_keywords))]\n",
    "\n",
    "# Drop unused columns for objectives and transform to list of paths\n",
    "df_user_finished = df_user_finished.drop(['hashedIpAddress', 'timestamp', 'durationInSec', 'rating'], axis=1).squeeze()\n"
   ]
  },
  {
   "cell_type": "markdown",
   "metadata": {},
   "source": [
    "We now enrich our series_paths dataframe with the unfinished paths"
   ]
  },
  {
   "cell_type": "code",
   "execution_count": 7,
   "metadata": {},
   "outputs": [],
   "source": [
    "df_user_unfinished = pd.read_csv('./data/wikispeedia_paths-and-graph/paths_unfinished.tsv',\n",
    "                      sep='\\t',\n",
    "                      names=[\"hashedIpAddress\", \"timestamp\", \"durationInSec\", \"path\", \"target\", \"type\"],\n",
    "                      comment='#')\n",
    "\n",
    "# It was noticed that users clicked on links in the footer (Terms & Conditions + Disclaimer) \n",
    "# that are not articles per-say. We decided to remove all paths containing these links as it is not in the spirit of the game\n",
    "## \"wikipedia_text_of_the_gnu_free_documentation_license\" is not an article!\n",
    "problematic_keywords = ['Wikipedia_Text_of_the_GNU_Free_Documentation_License']\n",
    "\n",
    "df_user_unfinished = df_user_unfinished[~df_user_unfinished.path.str.contains('|'.join(problematic_keywords))]\n",
    "\n",
    "df_user_unfinished = df_user_unfinished.drop(['hashedIpAddress', 'timestamp', 'durationInSec', 'target', 'type'], axis=1).squeeze()"
   ]
  },
  {
   "cell_type": "code",
   "execution_count": 8,
   "metadata": {},
   "outputs": [
    {
     "name": "stderr",
     "output_type": "stream",
     "text": [
      "C:\\Users\\nilsh\\AppData\\Local\\Temp\\ipykernel_15912\\3916051144.py:1: FutureWarning: The series.append method is deprecated and will be removed from pandas in a future version. Use pandas.concat instead.\n",
      "  df_user = df_user_finished.append(df_user_unfinished)\n"
     ]
    }
   ],
   "source": [
    "df_user = df_user_finished.append(df_user_unfinished)\n",
    "\n",
    "# Decode URL encoding for paths, case fold\n",
    "series_paths = df_user.map(title_parse)\n",
    "\n",
    "# Transform paths to list of inputs (article names or <)\n",
    "series_paths = series_paths.str.split(';')"
   ]
  },
  {
   "cell_type": "markdown",
   "metadata": {},
   "source": [
    "We add the new columns of interest in the df_links dataframe, and initialize them:"
   ]
  },
  {
   "cell_type": "code",
   "execution_count": 9,
   "metadata": {},
   "outputs": [],
   "source": [
    "\n",
    "# Definitions\n",
    "# Source Links are the link of the page on which a link is shown\n",
    "# Target Links are the outgoing link on which the user lands\n",
    "\n",
    "# Filenames are single encoded (ie C++.htm is encoded at C%2B%2B.htm)\n",
    "# Outgoing names in the HTML source are DOUBLE encoded (ie C++.htm is <a href=\"../../wp/c/C%252B%252B.htm\">\n",
    "# Therefore, we add a helper column for linkTarget_2URL storing the DOUBLE URL ENCODED string\n",
    "df_links['linkTarget_2URL'] = df_links['linkTarget_URL'].map(url_encode)\n",
    "\n",
    "# Decode URL encoding for paths, case fold (from URL encoding to readable)\n",
    "df_links['linkSource'] = df_links['linkSource_URL'].map(title_parse)\n",
    "df_links['linkTarget'] = df_links['linkTarget_URL'].map(title_parse)\n",
    "\n",
    "# Merge columns in tuple for easy lookup (unique key), format source;target\n",
    "df_links['linkPair'] = df_links['linkSource'] + ';' + df_links['linkTarget']\n",
    "\n",
    "# Number of impressions will be counted in column 'impressions' for each pair\n",
    "df_links['impressions'] = pd.Series(np.zeros((len(df_links)),dtype=int))\n",
    "\n",
    "# Number of clicks will be counted in column 'clicks' for each pair\n",
    "df_links['clicks'] = pd.Series(np.zeros((len(df_links)),dtype=int))\n",
    "\n"
   ]
  },
  {
   "cell_type": "markdown",
   "metadata": {},
   "source": [
    "The next block of code serves for optimization."
   ]
  },
  {
   "cell_type": "code",
   "execution_count": 10,
   "metadata": {},
   "outputs": [],
   "source": [
    "# Optimization step, preprocessing indices to use numpy arrays for faster access\n",
    "# For all articles names, create a list of rows in the df_links that have this article as source\n",
    "source_map = defaultdict(list)\n",
    "for link_id, source in enumerate(df_links['linkSource']):\n",
    "  source_map[source].append(link_id)\n",
    "\n",
    "# Create a reverse dictionary to index nparray\n",
    "# list[int]=string to dict[string]=int\n",
    "my_map = dict(df_links['linkPair'])\n",
    "pair_map = dict((v, k) for k, v in my_map.items())"
   ]
  },
  {
   "cell_type": "markdown",
   "metadata": {},
   "source": [
    "The computation of the number of clicks and impressions:"
   ]
  },
  {
   "cell_type": "code",
   "execution_count": 11,
   "metadata": {},
   "outputs": [
    {
     "name": "stdout",
     "output_type": "stream",
     "text": [
      "Invalid pair: 'finland;åland'\n",
      "Invalid pair: 'finland;åland'\n",
      "Invalid pair: 'republic_of_ireland;éire'\n",
      "Invalid pair: 'republic_of_ireland;éire'\n",
      "Invalid pair: 'claude_monet;édouard_manet'\n",
      "Invalid pair: 'republic_of_ireland;éire'\n",
      "Invalid pair: 'claude_monet;édouard_manet'\n",
      "Invalid pair: 'republic_of_ireland;éire'\n",
      "Invalid pair: 'finland;åland'\n",
      "Invalid pair: 'finland;åland'\n",
      "Invalid pair: 'ireland;éire'\n",
      "Invalid pair: 'republic_of_ireland;éire'\n",
      "Invalid pair: 'ireland;éire'\n",
      "Invalid pair: 'impressionism;édouard_manet'\n",
      "Invalid pair: 'claude_monet;édouard_manet'\n",
      "Invalid pair: 'francisco_goya;édouard_manet'\n",
      "Invalid pair: 'republic_of_ireland;éire'\n",
      "Invalid pair: 'ireland;éire'\n",
      "Invalid pair: 'ireland;éire'\n",
      "Invalid pair: 'republic_of_ireland;éire'\n",
      "Invalid pair: 'claude_monet;édouard_manet'\n",
      "Invalid pair: 'republic_of_ireland;éire'\n"
     ]
    }
   ],
   "source": [
    "np_links = df_links.to_numpy()\n",
    "IMPRESSIONS_COLUMN_ID = df_links.columns.get_loc('impressions')\n",
    "clicks_COLUMN_ID = df_links.columns.get_loc('clicks')\n",
    "XPOS_COLUMN_ID = df_links.columns.get_loc('xpos')\n",
    "YPOS_COLUMN_ID = df_links.columns.get_loc('ypos')\n",
    "\n",
    "# For each path, count forward link clicks\n",
    "for path in series_paths:\n",
    "    # Initialise stack with first link\n",
    "    foo = list()\n",
    "    foo.append(path[0])\n",
    "    # Iterate over every step of user's path\n",
    "    for element in path[1:]:\n",
    "        if element != '<':\n",
    "\n",
    "            # If next element in path is not a return character, store information and analyze\n",
    "            ## Source node is the current top of stack\n",
    "            source_node = foo[-1]\n",
    "\n",
    "            ## Add next link in list to top of stack\n",
    "            foo.append(element)\n",
    "\n",
    "            ## New top of stack is target\n",
    "            target_node = foo[-1]\n",
    "\n",
    "            # Create key for pair identification\n",
    "            search_value = source_node + ';' + target_node\n",
    "\n",
    "            # Some issues were discovered with the dataset and encoding: some link pairs are missing\n",
    "            ### ie 'finland;åland' is not in our dataset, BUT the link 'åland' out of finland EXISTS on the source article and was used by the user\n",
    "            # It was not listed as an outgoing link in the dataset\n",
    "            try:\n",
    "                pair = pair_map[search_value]\n",
    "                \n",
    "            except Exception as e:\n",
    "                # Catch when pair was not listed in dataset, don't add impression and disregard\n",
    "                print('Invalid pair:',e) # For debug and understanding dataset\n",
    "                break\n",
    "\n",
    "            ## Count one impression for all pairs with source_node as source (source_node;*)\n",
    "            source = source_map[source_node]\n",
    "            np_links[source,IMPRESSIONS_COLUMN_ID] += 1\n",
    "\n",
    "            ## Add one click-through for the pair (source_node;target_node)\n",
    "            np_links[pair,clicks_COLUMN_ID] += 1\n",
    "\n",
    "        else:\n",
    "            # If return character is read, pop top of stack and don't store any info\n",
    "            foo.pop()"
   ]
  },
  {
   "cell_type": "markdown",
   "metadata": {},
   "source": [
    "Let's put back the values obtained in np_links in the df_links dataframe, since dataframes are easier to handle than series"
   ]
  },
  {
   "cell_type": "code",
   "execution_count": 12,
   "metadata": {},
   "outputs": [],
   "source": [
    "columns = ['linkSource_URL', 'linkTarget_URL', 'xpos', 'ypos', 'linkTarget_2URL', 'linkSource', 'linkTarget', 'linkPair', 'impressions', 'clicks']\n",
    "to_dict_values = {}\n",
    "\n",
    "\n",
    "for i in range(len(columns)):\n",
    "\n",
    "    col = columns[i]\n",
    "    to_dict_values[col] = [np_links[k][i] for k in range(len(np_links))]\n",
    "\n",
    "df_links = pd.DataFrame(to_dict_values)\n"
   ]
  },
  {
   "cell_type": "markdown",
   "metadata": {},
   "source": [
    "Now, we can finally compute the CTR"
   ]
  },
  {
   "cell_type": "code",
   "execution_count": 13,
   "metadata": {},
   "outputs": [],
   "source": [
    "df_links['CTR'] = df_links.clicks / df_links.impressions"
   ]
  },
  {
   "cell_type": "markdown",
   "metadata": {},
   "source": [
    "Saving the obtained dataset"
   ]
  },
  {
   "cell_type": "code",
   "execution_count": 14,
   "metadata": {},
   "outputs": [],
   "source": [
    "df_links.to_csv('./output/output_links.csv',encoding='utf-8-sig')"
   ]
  },
  {
   "cell_type": "markdown",
   "metadata": {},
   "source": [
    "### Coarse-grained dataset: Aggregated view over all website\n",
    "Here, the goal is to extend the _articles_ table by adding columns representing the total number of clicks, the number of impressions and the CTR. Except for the CTR, we can simply sum the obtained numbers in the finer granularity."
   ]
  },
  {
   "cell_type": "markdown",
   "metadata": {},
   "source": [
    "Let's extract the articles data by aggregating the df_links dataframe"
   ]
  },
  {
   "cell_type": "code",
   "execution_count": 15,
   "metadata": {},
   "outputs": [],
   "source": [
    "articles = df_links[[\"linkTarget\", \"impressions\", \"clicks\"]].groupby(by=[\"linkTarget\"]).sum()\n",
    "articles[\"CTR\"] = articles[\"clicks\"]/articles[\"impressions\"]"
   ]
  },
  {
   "cell_type": "markdown",
   "metadata": {},
   "source": [
    "Let's save the result"
   ]
  },
  {
   "cell_type": "code",
   "execution_count": 16,
   "metadata": {},
   "outputs": [],
   "source": [
    "articles.to_csv('./output/output_articles.csv',encoding='utf-8-sig')"
   ]
  },
  {
   "cell_type": "markdown",
   "metadata": {},
   "source": [
    "# Exploratory Data Analysis"
   ]
  },
  {
   "cell_type": "markdown",
   "metadata": {},
   "source": [
    "## Understanding the Wikispeedia network"
   ]
  },
  {
   "cell_type": "markdown",
   "metadata": {},
   "source": [
    "To have a better understanding of the structure of the links, we wish to create a graph of the network."
   ]
  },
  {
   "cell_type": "code",
   "execution_count": 19,
   "metadata": {},
   "outputs": [],
   "source": [
    "G = nx.DiGraph()\n",
    "G = nx.from_pandas_edgelist(df_links, source='linkSource', target='linkTarget')"
   ]
  },
  {
   "cell_type": "code",
   "execution_count": 20,
   "metadata": {},
   "outputs": [
    {
     "data": {
      "image/png": "[encoded data removed]",
      "text/plain": [
       "<Figure size 640x480 with 1 Axes>"
      ]
     },
     "metadata": {},
     "output_type": "display_data"
    }
   ],
   "source": [
    "nx.draw_networkx(G, with_labels=False, node_size=5, node_color=\"#001f3f\", width=0.1, edge_color=\"#AAAAAA\")"
   ]
  },
  {
   "cell_type": "markdown",
   "metadata": {},
   "source": [
    "Interestingly, we distinguish two strongly separate connected components. We can verify that easily:"
   ]
  },
  {
   "cell_type": "code",
   "execution_count": 21,
   "metadata": {},
   "outputs": [
    {
     "name": "stdout",
     "output_type": "stream",
     "text": [
      "There are 2  connected components in the graph.\n"
     ]
    }
   ],
   "source": [
    "print(\"There are \" + str(nx.number_connected_components(G)) + \"  connected components in the graph.\")"
   ]
  },
  {
   "cell_type": "code",
   "execution_count": 22,
   "metadata": {},
   "outputs": [
    {
     "name": "stdout",
     "output_type": "stream",
     "text": [
      "Unconnected components: {'directdebit', 'sponsorship_directdebit', 'friend_directdebit'}\n"
     ]
    }
   ],
   "source": [
    "print(\"Unconnected components: \"+ str(list(nx.connected_components(G))[1]))"
   ]
  },
  {
   "cell_type": "markdown",
   "metadata": {},
   "source": [
    "This is linked to pages for donations, these are not Wikipedia articles and will be removed."
   ]
  },
  {
   "cell_type": "markdown",
   "metadata": {},
   "source": [
    "## Data Distribution"
   ]
  },
  {
   "cell_type": "markdown",
   "metadata": {},
   "source": [
    "Let's explore the dataset we have obtained."
   ]
  },
  {
   "cell_type": "code",
   "execution_count": 23,
   "metadata": {},
   "outputs": [
    {
     "name": "stdout",
     "output_type": "stream",
     "text": [
      "There exist 119882 links in total. \n",
      "\n",
      "The unique articles are: 4587\n"
     ]
    },
    {
     "data": {
      "text/plain": [
       "united_states                     294\n",
       "driving_on_the_left_or_right      255\n",
       "list_of_countries                 244\n",
       "list_of_circulating_currencies    236\n",
       "list_of_sovereign_states          216\n",
       "                                 ... \n",
       "lighting_designer                   1\n",
       "soil_structure                      1\n",
       "pro_milone                          1\n",
       "soil_profile                        1\n",
       "human_dignity                       1\n",
       "Name: linkSource, Length: 4587, dtype: int64"
      ]
     },
     "execution_count": 23,
     "metadata": {},
     "output_type": "execute_result"
    }
   ],
   "source": [
    "print('There exist', len(df_links), 'links in total.','\\n')\n",
    "print('The unique articles are:', df_links.linkSource.nunique())\n",
    "df_links['linkSource'].value_counts()"
   ]
  },
  {
   "cell_type": "code",
   "execution_count": 24,
   "metadata": {},
   "outputs": [
    {
     "data": {
      "text/plain": [
       "Text(0.5, 0, 'Article')"
      ]
     },
     "execution_count": 24,
     "metadata": {},
     "output_type": "execute_result"
    },
    {
     "data": {
      "image/png": "[encoded data removed]",
      "text/plain": [
       "<Figure size 1100x500 with 1 Axes>"
      ]
     },
     "metadata": {},
     "output_type": "display_data"
    }
   ],
   "source": [
    "group_by_links = df_links.groupby(by=\"linkSource\").count().reset_index()[:50]\n",
    "\n",
    "pl = group_by_links.plot(kind='bar', figsize=[11,5], rot=0)\n",
    "pl.set_title('Distribution of the number of links per article')\n",
    "pl.set_ylabel('Number of links')\n",
    "pl.set_xlabel('Article')"
   ]
  },
  {
   "cell_type": "markdown",
   "metadata": {},
   "source": [
    "We can see that the number of links per article does not follow a uniform distribution. There are articles that have more than 160 links while others have less than 20."
   ]
  },
  {
   "cell_type": "code",
   "execution_count": 31,
   "metadata": {},
   "outputs": [
    {
     "data": {
      "text/plain": [
       "<AxesSubplot: title={'center': 'Number of clicks'}, ylabel='Frequency'>"
      ]
     },
     "execution_count": 31,
     "metadata": {},
     "output_type": "execute_result"
    },
    {
     "data": {
      "image/png": "[encoded data removed]",
      "text/plain": [
       "<Figure size 640x480 with 1 Axes>"
      ]
     },
     "metadata": {},
     "output_type": "display_data"
    }
   ],
   "source": [
    "articles[\"clicks\"].plot.hist(bins=30, range=[0,1300], title=\"Number of clicks\")"
   ]
  },
  {
   "cell_type": "markdown",
   "metadata": {},
   "source": [
    "Let's rank the top 10 most clicks articles:"
   ]
  },
  {
   "cell_type": "code",
   "execution_count": 38,
   "metadata": {},
   "outputs": [
    {
     "data": {
      "text/html": [
       "<div>\n",
       "<style scoped>\n",
       "    .dataframe tbody tr th:only-of-type {\n",
       "        vertical-align: middle;\n",
       "    }\n",
       "\n",
       "    .dataframe tbody tr th {\n",
       "        vertical-align: top;\n",
       "    }\n",
       "\n",
       "    .dataframe thead th {\n",
       "        text-align: right;\n",
       "    }\n",
       "</style>\n",
       "<table border=\"1\" class=\"dataframe\">\n",
       "  <thead>\n",
       "    <tr style=\"text-align: right;\">\n",
       "      <th></th>\n",
       "      <th>impressions</th>\n",
       "      <th>clicks</th>\n",
       "      <th>CTR</th>\n",
       "    </tr>\n",
       "    <tr>\n",
       "      <th>linkTarget</th>\n",
       "      <th></th>\n",
       "      <th></th>\n",
       "      <th></th>\n",
       "    </tr>\n",
       "  </thead>\n",
       "  <tbody>\n",
       "    <tr>\n",
       "      <th>united_states</th>\n",
       "      <td>154518</td>\n",
       "      <td>12376</td>\n",
       "      <td>0.080094</td>\n",
       "    </tr>\n",
       "    <tr>\n",
       "      <th>europe</th>\n",
       "      <td>133170</td>\n",
       "      <td>5565</td>\n",
       "      <td>0.041789</td>\n",
       "    </tr>\n",
       "    <tr>\n",
       "      <th>united_kingdom</th>\n",
       "      <td>123566</td>\n",
       "      <td>5303</td>\n",
       "      <td>0.042916</td>\n",
       "    </tr>\n",
       "    <tr>\n",
       "      <th>england</th>\n",
       "      <td>65232</td>\n",
       "      <td>4413</td>\n",
       "      <td>0.067651</td>\n",
       "    </tr>\n",
       "    <tr>\n",
       "      <th>earth</th>\n",
       "      <td>61419</td>\n",
       "      <td>4172</td>\n",
       "      <td>0.067927</td>\n",
       "    </tr>\n",
       "    <tr>\n",
       "      <th>africa</th>\n",
       "      <td>68411</td>\n",
       "      <td>3490</td>\n",
       "      <td>0.051015</td>\n",
       "    </tr>\n",
       "    <tr>\n",
       "      <th>world_war_ii</th>\n",
       "      <td>102791</td>\n",
       "      <td>2893</td>\n",
       "      <td>0.028144</td>\n",
       "    </tr>\n",
       "    <tr>\n",
       "      <th>north_america</th>\n",
       "      <td>70097</td>\n",
       "      <td>2546</td>\n",
       "      <td>0.036321</td>\n",
       "    </tr>\n",
       "    <tr>\n",
       "      <th>animal</th>\n",
       "      <td>42468</td>\n",
       "      <td>2426</td>\n",
       "      <td>0.057125</td>\n",
       "    </tr>\n",
       "    <tr>\n",
       "      <th>human</th>\n",
       "      <td>40685</td>\n",
       "      <td>2359</td>\n",
       "      <td>0.057982</td>\n",
       "    </tr>\n",
       "  </tbody>\n",
       "</table>\n",
       "</div>"
      ],
      "text/plain": [
       "                impressions  clicks       CTR\n",
       "linkTarget                                   \n",
       "united_states        154518   12376  0.080094\n",
       "europe               133170    5565  0.041789\n",
       "united_kingdom       123566    5303  0.042916\n",
       "england               65232    4413  0.067651\n",
       "earth                 61419    4172  0.067927\n",
       "africa                68411    3490  0.051015\n",
       "world_war_ii         102791    2893  0.028144\n",
       "north_america         70097    2546  0.036321\n",
       "animal                42468    2426  0.057125\n",
       "human                 40685    2359  0.057982"
      ]
     },
     "execution_count": 38,
     "metadata": {},
     "output_type": "execute_result"
    }
   ],
   "source": [
    "articles.sort_values(by=['clicks'], ascending=False).head(10)"
   ]
  },
  {
   "cell_type": "markdown",
   "metadata": {},
   "source": [
    "Now focusing on impressions:"
   ]
  },
  {
   "cell_type": "code",
   "execution_count": 36,
   "metadata": {},
   "outputs": [
    {
     "data": {
      "text/plain": [
       "<AxesSubplot: title={'center': 'Number of impressions'}, ylabel='Frequency'>"
      ]
     },
     "execution_count": 36,
     "metadata": {},
     "output_type": "execute_result"
    },
    {
     "data": {
      "image/png": "[encoded data removed]",
      "text/plain": [
       "<Figure size 640x480 with 1 Axes>"
      ]
     },
     "metadata": {},
     "output_type": "display_data"
    }
   ],
   "source": [
    "articles[\"impressions\"].plot.hist(bins=30, title=\"Number of impressions\", range=[0,50000])"
   ]
  },
  {
   "cell_type": "markdown",
   "metadata": {},
   "source": [
    "Let's rank the top 10 articles with highest impressions"
   ]
  },
  {
   "cell_type": "code",
   "execution_count": 39,
   "metadata": {},
   "outputs": [
    {
     "data": {
      "text/html": [
       "<div>\n",
       "<style scoped>\n",
       "    .dataframe tbody tr th:only-of-type {\n",
       "        vertical-align: middle;\n",
       "    }\n",
       "\n",
       "    .dataframe tbody tr th {\n",
       "        vertical-align: top;\n",
       "    }\n",
       "\n",
       "    .dataframe thead th {\n",
       "        text-align: right;\n",
       "    }\n",
       "</style>\n",
       "<table border=\"1\" class=\"dataframe\">\n",
       "  <thead>\n",
       "    <tr style=\"text-align: right;\">\n",
       "      <th></th>\n",
       "      <th>impressions</th>\n",
       "      <th>clicks</th>\n",
       "      <th>CTR</th>\n",
       "    </tr>\n",
       "    <tr>\n",
       "      <th>linkTarget</th>\n",
       "      <th></th>\n",
       "      <th></th>\n",
       "      <th></th>\n",
       "    </tr>\n",
       "  </thead>\n",
       "  <tbody>\n",
       "    <tr>\n",
       "      <th>united_states</th>\n",
       "      <td>154518</td>\n",
       "      <td>12376</td>\n",
       "      <td>0.080094</td>\n",
       "    </tr>\n",
       "    <tr>\n",
       "      <th>europe</th>\n",
       "      <td>133170</td>\n",
       "      <td>5565</td>\n",
       "      <td>0.041789</td>\n",
       "    </tr>\n",
       "    <tr>\n",
       "      <th>france</th>\n",
       "      <td>132404</td>\n",
       "      <td>2225</td>\n",
       "      <td>0.016805</td>\n",
       "    </tr>\n",
       "    <tr>\n",
       "      <th>united_kingdom</th>\n",
       "      <td>123566</td>\n",
       "      <td>5303</td>\n",
       "      <td>0.042916</td>\n",
       "    </tr>\n",
       "    <tr>\n",
       "      <th>germany</th>\n",
       "      <td>105443</td>\n",
       "      <td>2167</td>\n",
       "      <td>0.020551</td>\n",
       "    </tr>\n",
       "    <tr>\n",
       "      <th>world_war_ii</th>\n",
       "      <td>102791</td>\n",
       "      <td>2893</td>\n",
       "      <td>0.028144</td>\n",
       "    </tr>\n",
       "    <tr>\n",
       "      <th>latin</th>\n",
       "      <td>101089</td>\n",
       "      <td>959</td>\n",
       "      <td>0.009487</td>\n",
       "    </tr>\n",
       "    <tr>\n",
       "      <th>india</th>\n",
       "      <td>97125</td>\n",
       "      <td>1750</td>\n",
       "      <td>0.018018</td>\n",
       "    </tr>\n",
       "    <tr>\n",
       "      <th>spain</th>\n",
       "      <td>93086</td>\n",
       "      <td>773</td>\n",
       "      <td>0.008304</td>\n",
       "    </tr>\n",
       "    <tr>\n",
       "      <th>italy</th>\n",
       "      <td>90599</td>\n",
       "      <td>1195</td>\n",
       "      <td>0.013190</td>\n",
       "    </tr>\n",
       "  </tbody>\n",
       "</table>\n",
       "</div>"
      ],
      "text/plain": [
       "                impressions  clicks       CTR\n",
       "linkTarget                                   \n",
       "united_states        154518   12376  0.080094\n",
       "europe               133170    5565  0.041789\n",
       "france               132404    2225  0.016805\n",
       "united_kingdom       123566    5303  0.042916\n",
       "germany              105443    2167  0.020551\n",
       "world_war_ii         102791    2893  0.028144\n",
       "latin                101089     959  0.009487\n",
       "india                 97125    1750  0.018018\n",
       "spain                 93086     773  0.008304\n",
       "italy                 90599    1195  0.013190"
      ]
     },
     "execution_count": 39,
     "metadata": {},
     "output_type": "execute_result"
    }
   ],
   "source": [
    "articles.sort_values(by=['impressions'], ascending=False).head(10)"
   ]
  },
  {
   "cell_type": "markdown",
   "metadata": {},
   "source": [
    "The finaly analysis is made on CTR:"
   ]
  },
  {
   "cell_type": "code",
   "execution_count": 37,
   "metadata": {},
   "outputs": [
    {
     "data": {
      "text/plain": [
       "<AxesSubplot: title={'center': 'Distribution of CTR'}, ylabel='Frequency'>"
      ]
     },
     "execution_count": 37,
     "metadata": {},
     "output_type": "execute_result"
    },
    {
     "data": {
      "image/png": "[encoded data removed]",
      "text/plain": [
       "<Figure size 640x480 with 1 Axes>"
      ]
     },
     "metadata": {},
     "output_type": "display_data"
    }
   ],
   "source": [
    "articles[\"CTR\"].plot.hist(bins=30, title=\"Distribution of CTR\", range=[0,0.75])"
   ]
  },
  {
   "cell_type": "markdown",
   "metadata": {},
   "source": [
    "With the top 10 CTR ranking:"
   ]
  },
  {
   "cell_type": "code",
   "execution_count": 40,
   "metadata": {},
   "outputs": [
    {
     "data": {
      "text/html": [
       "<div>\n",
       "<style scoped>\n",
       "    .dataframe tbody tr th:only-of-type {\n",
       "        vertical-align: middle;\n",
       "    }\n",
       "\n",
       "    .dataframe tbody tr th {\n",
       "        vertical-align: top;\n",
       "    }\n",
       "\n",
       "    .dataframe thead th {\n",
       "        text-align: right;\n",
       "    }\n",
       "</style>\n",
       "<table border=\"1\" class=\"dataframe\">\n",
       "  <thead>\n",
       "    <tr style=\"text-align: right;\">\n",
       "      <th></th>\n",
       "      <th>impressions</th>\n",
       "      <th>clicks</th>\n",
       "      <th>CTR</th>\n",
       "    </tr>\n",
       "    <tr>\n",
       "      <th>linkTarget</th>\n",
       "      <th></th>\n",
       "      <th></th>\n",
       "      <th></th>\n",
       "    </tr>\n",
       "  </thead>\n",
       "  <tbody>\n",
       "    <tr>\n",
       "      <th>list_of_european_countries</th>\n",
       "      <td>4</td>\n",
       "      <td>3</td>\n",
       "      <td>0.750000</td>\n",
       "    </tr>\n",
       "    <tr>\n",
       "      <th>exploration_of_mars</th>\n",
       "      <td>23</td>\n",
       "      <td>15</td>\n",
       "      <td>0.652174</td>\n",
       "    </tr>\n",
       "    <tr>\n",
       "      <th>wta_tour_championships</th>\n",
       "      <td>9</td>\n",
       "      <td>5</td>\n",
       "      <td>0.555556</td>\n",
       "    </tr>\n",
       "    <tr>\n",
       "      <th>the_lion_king</th>\n",
       "      <td>501</td>\n",
       "      <td>277</td>\n",
       "      <td>0.552894</td>\n",
       "    </tr>\n",
       "    <tr>\n",
       "      <th>gray_reef_shark</th>\n",
       "      <td>26</td>\n",
       "      <td>14</td>\n",
       "      <td>0.538462</td>\n",
       "    </tr>\n",
       "    <tr>\n",
       "      <th>ffestiniog_railway</th>\n",
       "      <td>2</td>\n",
       "      <td>1</td>\n",
       "      <td>0.500000</td>\n",
       "    </tr>\n",
       "    <tr>\n",
       "      <th>shenzhou_spacecraft</th>\n",
       "      <td>23</td>\n",
       "      <td>11</td>\n",
       "      <td>0.478261</td>\n",
       "    </tr>\n",
       "    <tr>\n",
       "      <th>battle_of_bicocca</th>\n",
       "      <td>13</td>\n",
       "      <td>6</td>\n",
       "      <td>0.461538</td>\n",
       "    </tr>\n",
       "    <tr>\n",
       "      <th>irish_theatre</th>\n",
       "      <td>14</td>\n",
       "      <td>6</td>\n",
       "      <td>0.428571</td>\n",
       "    </tr>\n",
       "    <tr>\n",
       "      <th>investment_banking</th>\n",
       "      <td>40</td>\n",
       "      <td>17</td>\n",
       "      <td>0.425000</td>\n",
       "    </tr>\n",
       "  </tbody>\n",
       "</table>\n",
       "</div>"
      ],
      "text/plain": [
       "                            impressions  clicks       CTR\n",
       "linkTarget                                               \n",
       "list_of_european_countries            4       3  0.750000\n",
       "exploration_of_mars                  23      15  0.652174\n",
       "wta_tour_championships                9       5  0.555556\n",
       "the_lion_king                       501     277  0.552894\n",
       "gray_reef_shark                      26      14  0.538462\n",
       "ffestiniog_railway                    2       1  0.500000\n",
       "shenzhou_spacecraft                  23      11  0.478261\n",
       "battle_of_bicocca                    13       6  0.461538\n",
       "irish_theatre                        14       6  0.428571\n",
       "investment_banking                   40      17  0.425000"
      ]
     },
     "execution_count": 40,
     "metadata": {},
     "output_type": "execute_result"
    }
   ],
   "source": [
    "articles.sort_values(by=['CTR'], ascending=False).head(10)"
   ]
  },
  {
   "cell_type": "markdown",
   "metadata": {},
   "source": [
    "This last ranking might not be very useful since some articles have very low impressions, meaning we don't have enough data. The obtained CTR seem very high."
   ]
  },
  {
   "cell_type": "code",
   "execution_count": 34,
   "metadata": {},
   "outputs": [
    {
     "name": "stdout",
     "output_type": "stream",
     "text": [
      "The average number of clicks is 88.35985489721887\n",
      "The average number of impressions is 5661.276420798065\n",
      "The average CTR is 0.030189658307541396\n"
     ]
    }
   ],
   "source": [
    "print(\"The average number of clicks is \" + str(articles.clicks.mean()))\n",
    "print(\"The average number of impressions is \" + str(articles.impressions.mean()))\n",
    "print(\"The average CTR is \" + str(articles.CTR.mean()))"
   ]
  },
  {
   "cell_type": "markdown",
   "metadata": {},
   "source": [
    "## Sanity Check"
   ]
  },
  {
   "cell_type": "markdown",
   "metadata": {},
   "source": [
    "Let's now check how clean how dataset is, and if we have missing data."
   ]
  }
 ],
 "metadata": {
  "kernelspec": {
   "display_name": "Python 3.10.4 64-bit",
   "language": "python",
   "name": "python3"
  },
  "language_info": {
   "codemirror_mode": {
    "name": "ipython",
    "version": 3
   },
   "file_extension": ".py",
   "mimetype": "text/x-python",
   "name": "python",
   "nbconvert_exporter": "python",
   "pygments_lexer": "ipython3",
   "version": "3.10.4"
  },
  "orig_nbformat": 4,
  "vscode": {
   "interpreter": {
    "hash": "369f2c481f4da34e4445cda3fffd2e751bd1c4d706f27375911949ba6bb62e1c"
   }
  }
 },
 "nbformat": 4,
 "nbformat_minor": 2
}
