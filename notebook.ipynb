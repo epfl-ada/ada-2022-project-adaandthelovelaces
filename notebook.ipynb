{
 "cells": [
  {
   "cell_type": "markdown",
   "metadata": {},
   "source": [
    "This is the notebook of Milestone 2 of team _Ada And the Lovelaces_. The outline of the notebook is as followed:\n",
    "1. Data Pre-Processing: we add the features of interest to the existing datasets\n",
    "2. Exploratory Data Analysis: based on the datasets obtained, we run some first basic analysis and visualizations\n"
   ]
  },
  {
   "cell_type": "code",
   "execution_count": 2,
   "metadata": {},
   "outputs": [],
   "source": [
    "import numpy as np\n",
    "import pandas as pd\n",
    "import scipy\n",
    "import matplotlib.pyplot as plt\n",
    "import seaborn as sns\n",
    "import urllib.parse as urlparse\n",
    "from collections import defaultdict\n",
    "\n",
    "from bokeh.models import Range1d, Circle, ColumnDataSource, MultiLine\n",
    "from bokeh.plotting import figure\n",
    "from bokeh.plotting import from_networkx\n",
    "\n",
    "from selenium import webdriver\n",
    "from selenium.webdriver.common.keys import Keys\n",
    "from selenium.webdriver.common.by import By\n",
    "from selenium.webdriver.chrome.options import Options\n",
    "import re\n",
    "import os\n",
    "import networkx as nx\n",
    "\n",
    "from statsmodels.stats import diagnostic\n",
    "from scipy import stats\n",
    "import statsmodels.api as sm\n",
    "import statsmodels.formula.api as smf"
   ]
  },
  {
   "cell_type": "markdown",
   "metadata": {},
   "source": [
    "# Data pre-processing"
   ]
  },
  {
   "cell_type": "markdown",
   "metadata": {},
   "source": [
    "## Computing clicks, impressions and CTR"
   ]
  },
  {
   "cell_type": "markdown",
   "metadata": {},
   "source": [
    "This is done at two different granularities:\n",
    "- Per source: we compute the clicks, impressions and CTR for each outgoing links of a given article\n",
    "- Aggregated: we compute the total number of clicks, impressions and CTR for the articles no matter the origin of the user's click"
   ]
  },
  {
   "cell_type": "markdown",
   "metadata": {},
   "source": [
    "### Fine grained dataset: per source article\n",
    "Here, the goal is to extend the _links_ table by adding for each pair _(origin article, destination article)_, columns counting the number of clicks associated, the number of impressions, and the CTR."
   ]
  },
  {
   "cell_type": "code",
   "execution_count": 3,
   "metadata": {},
   "outputs": [],
   "source": [
    "# Helper functions\n",
    "\n",
    "def title_parse(title):\n",
    "    \"\"\"\n",
    "    Parse URL encoded to readable characters\n",
    "    \"\"\"\n",
    "\n",
    "    title = urlparse.unquote(title).casefold()\n",
    "    return title\n",
    "\n",
    "\n",
    "\n",
    "def url_encode(title):\n",
    "    \"\"\"\n",
    "    URL encode target links\n",
    "    \"\"\"\n",
    "\n",
    "    title = urlparse.quote(title)\n",
    "    return title\n"
   ]
  },
  {
   "cell_type": "markdown",
   "metadata": {},
   "source": [
    "We start by retrieving the players's data: they are in the paths_finished and paths_unfinished datasets. We first focus on the finished paths:"
   ]
  },
  {
   "cell_type": "code",
   "execution_count": 4,
   "metadata": {},
   "outputs": [],
   "source": [
    "df_user_finished = pd.read_csv('./data/wikispeedia_paths-and-graph/paths_finished.tsv',\n",
    "                      sep='\\t',\n",
    "                      names=['hashedIpAddress', 'timestamp', 'durationInSec', 'path', 'rating'],\n",
    "                      comment='#')\n",
    "\n",
    "# It was noticed that users clicked on links in the footer (Terms & Conditions + Disclaimer) \n",
    "# that are not articles per-say. We decided to remove all paths containing these links as it is not in the spirit of the game\n",
    "## \"wikipedia_text_of_the_gnu_free_documentation_license\" is not an article!\n",
    "problematic_keywords = ['Wikipedia_Text_of_the_GNU_Free_Documentation_License']\n",
    "df_user_finished = df_user_finished[~df_user_finished.path.str.contains('|'.join(problematic_keywords))]\n",
    "\n",
    "# Drop unused columns for objectives and transform to list of paths\n",
    "df_user_finished = df_user_finished.drop(['hashedIpAddress', 'timestamp', 'durationInSec', 'rating'], axis=1).squeeze()\n"
   ]
  },
  {
   "cell_type": "markdown",
   "metadata": {},
   "source": [
    "We now enrich our series_paths dataframe with the unfinished paths"
   ]
  },
  {
   "cell_type": "code",
   "execution_count": 5,
   "metadata": {},
   "outputs": [],
   "source": [
    "df_user_unfinished = pd.read_csv('./data/wikispeedia_paths-and-graph/paths_unfinished.tsv',\n",
    "                      sep='\\t',\n",
    "                      names=[\"hashedIpAddress\", \"timestamp\", \"durationInSec\", \"path\", \"target\", \"type\"],\n",
    "                      comment='#')\n",
    "\n",
    "# It was noticed that users clicked on links in the footer (Terms & Conditions + Disclaimer) \n",
    "# that are not articles per-say. We decided to remove all paths containing these links as it is not in the spirit of the game\n",
    "## \"wikipedia_text_of_the_gnu_free_documentation_license\" is not an article!\n",
    "problematic_keywords = ['Wikipedia_Text_of_the_GNU_Free_Documentation_License']\n",
    "\n",
    "df_user_unfinished = df_user_unfinished[~df_user_unfinished.path.str.contains('|'.join(problematic_keywords))]\n",
    "\n",
    "df_user_unfinished = df_user_unfinished.drop(['hashedIpAddress', 'timestamp', 'durationInSec', 'target', 'type'], axis=1).squeeze()"
   ]
  },
  {
   "cell_type": "code",
   "execution_count": 6,
   "metadata": {},
   "outputs": [
    {
     "name": "stderr",
     "output_type": "stream",
     "text": [
      "C:\\Users\\Rejeb\\AppData\\Local\\Temp\\ipykernel_20224\\1195913564.py:1: FutureWarning: The series.append method is deprecated and will be removed from pandas in a future version. Use pandas.concat instead.\n",
      "  df_user = df_user_finished.append(df_user_unfinished)#Need to chance to pandas concat TODO\n"
     ]
    }
   ],
   "source": [
    "df_user = df_user_finished.append(df_user_unfinished)#Need to chance to pandas concat TODO\n",
    "# TODO Remove problematic artilces here ONCE\n",
    "# Decode URL encoding for paths, case fold\n",
    "series_paths = df_user.map(title_parse)\n",
    "\n",
    "# Transform paths to list of inputs (article names or <)\n",
    "series_paths = series_paths.str.split(';')"
   ]
  },
  {
   "cell_type": "markdown",
   "metadata": {},
   "source": [
    "We add the new columns of interest in the df_links dataframe, and initialize them:"
   ]
  },
  {
   "cell_type": "code",
   "execution_count": 7,
   "metadata": {},
   "outputs": [],
   "source": [
    "# Extract list of links as DataFrame to store frequency\n",
    "\n",
    "df_links = pd.read_csv('./data/wikispeedia_paths-and-graph/links.tsv',\n",
    "                       sep='\\t',\n",
    "                       names=['linkSource_URL', 'linkTarget_URL'],\n",
    "                       comment='#')\n",
    "# Definitions\n",
    "# Source Links are the link of the page on which a link is shown\n",
    "# Target Links are the outgoing link on which the user lands\n",
    "\n",
    "# Filenames are single encoded (ie C++.htm is encoded at C%2B%2B.htm)\n",
    "# Outgoing names in the HTML source are DOUBLE encoded (ie C++.htm is <a href=\"../../wp/c/C%252B%252B.htm\">\n",
    "# Therefore, we add a helper column for linkTarget_2URL storing the DOUBLE URL ENCODED string\n",
    "df_links['linkTarget_2URL'] = df_links['linkTarget_URL'].map(url_encode)\n",
    "df_links['linkSource_2URL'] = df_links['linkSource_URL'].map(url_encode)\n",
    "\n",
    "# Decode URL encoding for paths, case fold (from URL encoding to readable)\n",
    "df_links['linkSource'] = df_links['linkSource_URL'].map(title_parse)\n",
    "df_links['linkTarget'] = df_links['linkTarget_URL'].map(title_parse)\n",
    "\n",
    "# Merge columns in tuple for easy lookup (unique key), format source;target\n",
    "df_links['linkPair'] = df_links['linkSource'] + ';' + df_links['linkTarget']\n",
    "\n",
    "# Number of impressions will be counted in column 'impressions' for each pair\n",
    "df_links['impressions'] = pd.Series(np.zeros((len(df_links)),dtype=int))\n",
    "\n",
    "# Number of hits will be counted in column 'hits' for each pair\n",
    "df_links['clicks'] = pd.Series(np.zeros((len(df_links)),dtype=int))\n",
    "\n",
    "# Storing the x and y position of the unique link on the page\n",
    "df_links['xpos'] =  pd.Series(np.zeros((len(df_links)),dtype=int))\n",
    "df_links['ypos'] =  pd.Series(np.zeros((len(df_links)),dtype=int))"
   ]
  },
  {
   "cell_type": "code",
   "execution_count": 8,
   "metadata": {
    "collapsed": false,
    "jupyter": {
     "outputs_hidden": false
    }
   },
   "outputs": [],
   "source": [
    "# Extract list of articles\n",
    "df_articles = pd.read_csv('./data/wikispeedia_paths-and-graph/articles.tsv',\n",
    "                          sep='\\t',\n",
    "                          names=['title'],\n",
    "                          comment='#')\n",
    "series_articles_URL = df_articles['title']\n",
    "series_articles_2URL = series_articles_URL.map(url_encode)\n",
    "# Decode URL encoding for paths, case fold\n",
    "series_articles = df_articles['title'].map(title_parse)"
   ]
  },
  {
   "cell_type": "markdown",
   "metadata": {},
   "source": [
    "The next block of code serves for optimization."
   ]
  },
  {
   "cell_type": "code",
   "execution_count": 9,
   "metadata": {},
   "outputs": [],
   "source": [
    "# Optimization step, preprocessing indices to use numpy arrays for faster access\n",
    "# For all articles names, create a list of rows in the df_links that have this article as source\n",
    "source_map = defaultdict(list)\n",
    "for link_id, source in enumerate(df_links['linkSource']):\n",
    "    source_map[source].append(link_id)\n",
    "\n",
    "# Create a reverse dictionary to index nparray\n",
    "# list[int]=string to dict[string]=int\n",
    "my_map = dict(df_links['linkPair'])\n",
    "pair_map = dict((v, k) for k, v in my_map.items())"
   ]
  },
  {
   "cell_type": "markdown",
   "metadata": {},
   "source": [
    "The computation of the number of clicks and impressions:"
   ]
  },
  {
   "cell_type": "code",
   "execution_count": 10,
   "metadata": {},
   "outputs": [
    {
     "name": "stdout",
     "output_type": "stream",
     "text": [
      "Invalid pair: 'finland;åland'\n",
      "Invalid pair: 'finland;åland'\n",
      "Invalid pair: 'republic_of_ireland;éire'\n",
      "Invalid pair: 'republic_of_ireland;éire'\n",
      "Invalid pair: 'claude_monet;édouard_manet'\n",
      "Invalid pair: 'republic_of_ireland;éire'\n",
      "Invalid pair: 'claude_monet;édouard_manet'\n",
      "Invalid pair: 'republic_of_ireland;éire'\n",
      "Invalid pair: 'finland;åland'\n",
      "Invalid pair: 'finland;åland'\n",
      "Invalid pair: 'ireland;éire'\n",
      "Invalid pair: 'republic_of_ireland;éire'\n",
      "Invalid pair: 'ireland;éire'\n",
      "Invalid pair: 'impressionism;édouard_manet'\n",
      "Invalid pair: 'claude_monet;édouard_manet'\n",
      "Invalid pair: 'francisco_goya;édouard_manet'\n",
      "Invalid pair: 'republic_of_ireland;éire'\n",
      "Invalid pair: 'ireland;éire'\n",
      "Invalid pair: 'ireland;éire'\n",
      "Invalid pair: 'republic_of_ireland;éire'\n",
      "Invalid pair: 'claude_monet;édouard_manet'\n",
      "Invalid pair: 'republic_of_ireland;éire'\n"
     ]
    }
   ],
   "source": [
    "np_links = df_links.to_numpy()\n",
    "IMPRESSIONS_COLUMN_ID = df_links.columns.get_loc('impressions')\n",
    "CLICKS_COLUMN_ID = df_links.columns.get_loc('clicks')\n",
    "XPOS_COLUMN_ID = df_links.columns.get_loc('xpos')\n",
    "YPOS_COLUMN_ID = df_links.columns.get_loc('ypos')\n",
    "\n",
    "# For each path, count forward link clicks\n",
    "for path in series_paths:\n",
    "    # Initialise stack with first link\n",
    "    foo = list()\n",
    "    foo.append(path[0])\n",
    "    # Iterate over every step of user's path\n",
    "    for element in path[1:]:\n",
    "        if element != '<':\n",
    "            # If next element in path is not a return character, store information and analyze\n",
    "            ## Source node is the current top of stack\n",
    "            source_node = foo[-1]\n",
    "\n",
    "            ## Add next link in list to top of stack\n",
    "            foo.append(element)\n",
    "\n",
    "            ## New top of stack is target\n",
    "            target_node = foo[-1]\n",
    "\n",
    "            # Create key for pair identification\n",
    "            search_value = source_node + ';' + target_node\n",
    "\n",
    "            # Some issues were discovered with the dataset and encoding: some link pairs are missing\n",
    "            ### ie 'finland;åland' is not in our dataset, BUT the link 'åland' out of finland EXISTS on the source article and was used by the user\n",
    "            # It was not listed as an outgoing link in the dataset\n",
    "            try:\n",
    "                pair = pair_map[search_value]\n",
    "            except Exception as e:\n",
    "                # Catch when pair was not listed in dataset, don't add impression and disregard\n",
    "                print('Invalid pair:',e) # For debug and understanding dataset\n",
    "                break\n",
    "\n",
    "            ## Count one impression for all pairs with source_node as source (source_node;*)\n",
    "            source = source_map[source_node]\n",
    "            np_links[source,IMPRESSIONS_COLUMN_ID] += 1\n",
    "\n",
    "            ## Add one click-through for the pair (source_node;target_node)\n",
    "            np_links[pair,CLICKS_COLUMN_ID] += 1\n",
    "\n",
    "        else:\n",
    "            # If return character is read, pop top of stack and don't store any info\n",
    "            foo.pop()"
   ]
  },
  {
   "cell_type": "markdown",
   "metadata": {},
   "source": [
    "Let's put back the values obtained in np_links in the df_links dataframe, since dataframes are easier to handle than series"
   ]
  },
  {
   "cell_type": "code",
   "execution_count": 11,
   "metadata": {},
   "outputs": [],
   "source": [
    "columns = df_links.columns\n",
    "to_dict_values = {}\n",
    "\n",
    "\n",
    "for i in range(len(columns)):\n",
    "\n",
    "    col = columns[i]\n",
    "    to_dict_values[col] = [np_links[k][i] for k in range(len(np_links))]\n",
    "\n",
    "df_links = pd.DataFrame(to_dict_values)\n"
   ]
  },
  {
   "cell_type": "markdown",
   "metadata": {},
   "source": [
    "Now, we can finally compute the CTR"
   ]
  },
  {
   "cell_type": "code",
   "execution_count": 12,
   "metadata": {},
   "outputs": [],
   "source": [
    "df_links['CTR'] = df_links.clicks / df_links.impressions"
   ]
  },
  {
   "cell_type": "markdown",
   "metadata": {},
   "source": [
    "## Computing the location of the links in the HTML pages\n",
    "\n",
    "In this part, we compute the location of every link in a given HTML page. The location is added to the _links_ table."
   ]
  },
  {
   "cell_type": "markdown",
   "metadata": {},
   "source": [
    "Let's start by extracting the links, and creating the new columns we wish to add, with 0 as the initialization value:"
   ]
  },
  {
   "cell_type": "markdown",
   "metadata": {},
   "source": [
    "Now, the HTML driver is created. We need to define arbitrary parameters. We consider a full screen display at 1900*900, rendered in Google Chrome.\n",
    "\n",
    "\n",
    "\n",
    "\n",
    "_Note that if we were to change the resolution, the data would change but the ordering of the links locations on the y axis would remain unchanged. The results of the analysis would not change._"
   ]
  },
  {
   "cell_type": "code",
   "execution_count": 13,
   "metadata": {
    "collapsed": false,
    "jupyter": {
     "outputs_hidden": false
    }
   },
   "outputs": [],
   "source": [
    "op = Options()\n",
    "op.add_argument('headless')\n",
    "op.add_argument(\"window-size=1920,900\") # Most common window size for desktop, full-screen minus 130 at top for browser control, minus 50 at bottom for windows taskbar. Since the game was played, on desktop, we choose this (ADD EXPLANATORY SCREENSHOT)\n",
    "driver = webdriver.Chrome(options=op)"
   ]
  },
  {
   "cell_type": "markdown",
   "metadata": {},
   "source": [
    "Now that the driver is configured, let's compute the locations of all links in the articles (skip this cell and load the locations if you already computed/saved them)"
   ]
  },
  {
   "cell_type": "code",
   "execution_count": null,
   "metadata": {},
   "outputs": [],
   "source": [
    "article_counter = 0\n",
    "total = len(series_articles_2URL)\n",
    "\n",
    "for source in series_articles_2URL:\n",
    "    #source=series_articles_2URL[0] #DEBUG\n",
    "    print('Current Article:',source,article_counter,'/',total )\n",
    "    article_counter+=1 #For progress tracking\n",
    "\n",
    "    #Compute relative path to html\n",
    "    source_path = '/data/wpcd/wp/' + source[0].lower() + '/' + source + '.htm'\n",
    "\n",
    "    #Absolute path to html file\n",
    "    user_cwd = os.getcwd().replace('\\\\','/')\n",
    "    source_url = 'file://'+user_cwd+source_path\n",
    "    #Open the browser\n",
    "    driver.get(source_url)\n",
    "\n",
    "    #List of target links we want to find positions for\n",
    "    list_target_articles = df_links.loc[df_links['linkSource_2URL']==source]['linkTarget_2URL']\n",
    "\n",
    "    for target in list_target_articles:\n",
    "        #The pairs are in readable characters, target is double encoded format\n",
    "        target_readable = title_parse(title_parse(target))\n",
    "        source_readable = title_parse(title_parse(source))\n",
    "        search_pair = source_readable + ';' + target_readable\n",
    "\n",
    "        try:\n",
    "            current_pair = pair_map[search_pair]\n",
    "        except Exception as e:\n",
    "            # Catch when pair was not listed in dataset\n",
    "            print('Invalid pair:',e) # For debug and understanding dataset\n",
    "            break\n",
    "\n",
    "        #Find the href with /target.htm in all elements of page\n",
    "        #Example with target = World War I, we are looking for /World_War_I.htm\n",
    "        href=driver.find_elements(By.XPATH,  \".//a[contains(@href,'/\" + target + \".htm')]\")\n",
    "        try:\n",
    "            df_links.loc[current_pair, 'xpos']=href[0].location['x']\n",
    "            df_links.loc[current_pair, 'ypos']=href[0].location['y']\n",
    "            #DEBUG\n",
    "            #if len(href):\n",
    "            #Rajouter dans une colonne occurence\n",
    "            #print('Target',target,'appeared',len(href),'times')\n",
    "        except Exception as e:\n",
    "            print('Not found:',target)"
   ]
  },
  {
   "cell_type": "markdown",
   "metadata": {},
   "source": [
    "Saving the obtained dataset"
   ]
  },
  {
   "cell_type": "code",
   "execution_count": 14,
   "metadata": {
    "collapsed": false,
    "jupyter": {
     "outputs_hidden": false
    }
   },
   "outputs": [],
   "source": [
    "df_links.to_csv('./output/output_links.csv',encoding='utf-8-sig')"
   ]
  },
  {
   "cell_type": "markdown",
   "metadata": {},
   "source": [
    "Load the saved dataset"
   ]
  },
  {
   "cell_type": "code",
   "execution_count": 14,
   "metadata": {},
   "outputs": [],
   "source": [
    "df_links=pd.read_csv(\"./output/output_links.csv\")"
   ]
  },
  {
   "cell_type": "markdown",
   "metadata": {},
   "source": [
    "### Coarse-grained dataset: Aggregated view over all website\n",
    "Here, the goal is to extend the _articles_ table by adding columns representing the total number of clicks, the number of impressions and the CTR. Except for the CTR, we can simply sum the obtained numbers in the finer granularity."
   ]
  },
  {
   "cell_type": "markdown",
   "metadata": {},
   "source": [
    "Let's extract the articles data by aggregating the df_links dataframe"
   ]
  },
  {
   "cell_type": "code",
   "execution_count": 15,
   "metadata": {
    "collapsed": false,
    "jupyter": {
     "outputs_hidden": false
    }
   },
   "outputs": [],
   "source": [
    "articles = df_links[[\"linkTarget\", \"impressions\", \"clicks\"]].groupby(by=[\"linkTarget\"]).sum()\n",
    "articles[\"CTR\"] = articles[\"clicks\"]/articles[\"impressions\"]"
   ]
  },
  {
   "cell_type": "markdown",
   "metadata": {},
   "source": [
    "Let's save the result"
   ]
  },
  {
   "cell_type": "code",
   "execution_count": 16,
   "metadata": {},
   "outputs": [],
   "source": [
    "articles.to_csv('./output/output_articles.csv',encoding='utf-8-sig')"
   ]
  },
  {
   "cell_type": "markdown",
   "metadata": {},
   "source": [
    "# Exploratory Data Analysis"
   ]
  },
  {
   "cell_type": "markdown",
   "metadata": {},
   "source": [
    "## Understanding the Wikispeedia network"
   ]
  },
  {
   "cell_type": "markdown",
   "metadata": {},
   "source": [
    "To have a better understanding of the structure of the links, we wish to create a graph of the network."
   ]
  },
  {
   "cell_type": "code",
   "execution_count": 17,
   "metadata": {},
   "outputs": [],
   "source": [
    "G = nx.DiGraph()\n",
    "G = nx.from_pandas_edgelist(df_links, source='linkSource', target='linkTarget')"
   ]
  },
  {
   "cell_type": "code",
   "execution_count": 18,
   "metadata": {},
   "outputs": [
    {
     "data": {
      "image/png": "[encoded data removed]",
      "text/plain": [
       "<Figure size 640x480 with 1 Axes>"
      ]
     },
     "metadata": {},
     "output_type": "display_data"
    }
   ],
   "source": [
    "nx.draw_networkx(G, with_labels=False, node_size=5, node_color=\"#001f3f\", width=0.1, edge_color=\"#AAAAAA\")"
   ]
  },
  {
   "cell_type": "markdown",
   "metadata": {},
   "source": [
    "Interestingly, we distinguish two strongly separate connected components. We can verify that easily:"
   ]
  },
  {
   "cell_type": "code",
   "execution_count": 19,
   "metadata": {},
   "outputs": [
    {
     "name": "stdout",
     "output_type": "stream",
     "text": [
      "There are 2  connected components in the graph.\n"
     ]
    }
   ],
   "source": [
    "print(\"There are \" + str(nx.number_connected_components(G)) + \"  connected components in the graph.\")"
   ]
  },
  {
   "cell_type": "code",
   "execution_count": 20,
   "metadata": {},
   "outputs": [
    {
     "name": "stdout",
     "output_type": "stream",
     "text": [
      "Unconnected components: {'directdebit', 'friend_directdebit', 'sponsorship_directdebit'}\n"
     ]
    }
   ],
   "source": [
    "print(\"Unconnected components: \"+ str(list(nx.connected_components(G))[1]))"
   ]
  },
  {
   "cell_type": "markdown",
   "metadata": {},
   "source": [
    "This is linked to pages for donations, these are not Wikipedia articles and will be removed."
   ]
  },
  {
   "cell_type": "markdown",
   "metadata": {},
   "source": [
    "## Data Distribution"
   ]
  },
  {
   "cell_type": "markdown",
   "metadata": {},
   "source": [
    "Let's explore the dataset we have obtained."
   ]
  },
  {
   "cell_type": "code",
   "execution_count": 21,
   "metadata": {},
   "outputs": [
    {
     "name": "stdout",
     "output_type": "stream",
     "text": [
      "There exist 119882 links in total. \n",
      "\n",
      "The unique articles are: 4587\n"
     ]
    },
    {
     "data": {
      "text/plain": [
       "united_states                     294\n",
       "driving_on_the_left_or_right      255\n",
       "list_of_countries                 244\n",
       "list_of_circulating_currencies    236\n",
       "list_of_sovereign_states          216\n",
       "                                 ... \n",
       "lighting_designer                   1\n",
       "soil_structure                      1\n",
       "pro_milone                          1\n",
       "soil_profile                        1\n",
       "human_dignity                       1\n",
       "Name: linkSource, Length: 4587, dtype: int64"
      ]
     },
     "execution_count": 21,
     "metadata": {},
     "output_type": "execute_result"
    }
   ],
   "source": [
    "print('There exist', len(df_links), 'links in total.','\\n')\n",
    "print('The unique articles are:', df_links.linkSource.nunique())\n",
    "df_links['linkSource'].value_counts()"
   ]
  },
  {
   "cell_type": "code",
   "execution_count": 24,
   "metadata": {},
   "outputs": [
    {
     "data": {
      "text/plain": [
       "Text(0.5, 0, 'Article')"
      ]
     },
     "execution_count": 24,
     "metadata": {},
     "output_type": "execute_result"
    },
    {
     "data": {
      "image/png": "[encoded data removed]",
      "text/plain": [
       "<Figure size 1100x500 with 1 Axes>"
      ]
     },
     "metadata": {},
     "output_type": "display_data"
    }
   ],
   "source": [
    "group_by_links = df_links.groupby(by=df_links.linkSource).count().linkTarget.reset_index()[:50]\n",
    "\n",
    "pl = group_by_links.plot(kind='bar', figsize=[11,5], rot=0)\n",
    "pl.set_title('Distribution of the number of links per article')\n",
    "pl.set_ylabel('Number of links')\n",
    "pl.set_xlabel('Article')"
   ]
  },
  {
   "cell_type": "markdown",
   "metadata": {},
   "source": [
    "We can see that the number of links per article does not follow a uniform distribution. There are articles that have more than 160 links while others have less than 20."
   ]
  },
  {
   "cell_type": "code",
   "execution_count": 25,
   "metadata": {},
   "outputs": [
    {
     "data": {
      "text/plain": [
       "<AxesSubplot:title={'center':'Number of clicks'}, ylabel='Frequency'>"
      ]
     },
     "execution_count": 25,
     "metadata": {},
     "output_type": "execute_result"
    },
    {
     "data": {
      "image/png": "[encoded data removed]",
      "text/plain": [
       "<Figure size 640x480 with 1 Axes>"
      ]
     },
     "metadata": {},
     "output_type": "display_data"
    }
   ],
   "source": [
    "articles[\"clicks\"].plot.hist(bins=30, range=[0,1300], title=\"Number of clicks\")"
   ]
  },
  {
   "cell_type": "markdown",
   "metadata": {},
   "source": [
    "Let's rank the top 10 most clicks articles:"
   ]
  },
  {
   "cell_type": "code",
   "execution_count": 26,
   "metadata": {},
   "outputs": [
    {
     "data": {
      "text/html": [
       "<div>\n",
       "<style scoped>\n",
       "    .dataframe tbody tr th:only-of-type {\n",
       "        vertical-align: middle;\n",
       "    }\n",
       "\n",
       "    .dataframe tbody tr th {\n",
       "        vertical-align: top;\n",
       "    }\n",
       "\n",
       "    .dataframe thead th {\n",
       "        text-align: right;\n",
       "    }\n",
       "</style>\n",
       "<table border=\"1\" class=\"dataframe\">\n",
       "  <thead>\n",
       "    <tr style=\"text-align: right;\">\n",
       "      <th></th>\n",
       "      <th>impressions</th>\n",
       "      <th>clicks</th>\n",
       "      <th>CTR</th>\n",
       "    </tr>\n",
       "    <tr>\n",
       "      <th>linkTarget</th>\n",
       "      <th></th>\n",
       "      <th></th>\n",
       "      <th></th>\n",
       "    </tr>\n",
       "  </thead>\n",
       "  <tbody>\n",
       "    <tr>\n",
       "      <th>united_states</th>\n",
       "      <td>154518</td>\n",
       "      <td>12376</td>\n",
       "      <td>0.080094</td>\n",
       "    </tr>\n",
       "    <tr>\n",
       "      <th>europe</th>\n",
       "      <td>133170</td>\n",
       "      <td>5565</td>\n",
       "      <td>0.041789</td>\n",
       "    </tr>\n",
       "    <tr>\n",
       "      <th>united_kingdom</th>\n",
       "      <td>123566</td>\n",
       "      <td>5303</td>\n",
       "      <td>0.042916</td>\n",
       "    </tr>\n",
       "    <tr>\n",
       "      <th>england</th>\n",
       "      <td>65232</td>\n",
       "      <td>4413</td>\n",
       "      <td>0.067651</td>\n",
       "    </tr>\n",
       "    <tr>\n",
       "      <th>earth</th>\n",
       "      <td>61419</td>\n",
       "      <td>4172</td>\n",
       "      <td>0.067927</td>\n",
       "    </tr>\n",
       "    <tr>\n",
       "      <th>africa</th>\n",
       "      <td>68411</td>\n",
       "      <td>3490</td>\n",
       "      <td>0.051015</td>\n",
       "    </tr>\n",
       "    <tr>\n",
       "      <th>world_war_ii</th>\n",
       "      <td>102791</td>\n",
       "      <td>2893</td>\n",
       "      <td>0.028144</td>\n",
       "    </tr>\n",
       "    <tr>\n",
       "      <th>north_america</th>\n",
       "      <td>70097</td>\n",
       "      <td>2546</td>\n",
       "      <td>0.036321</td>\n",
       "    </tr>\n",
       "    <tr>\n",
       "      <th>animal</th>\n",
       "      <td>42468</td>\n",
       "      <td>2426</td>\n",
       "      <td>0.057125</td>\n",
       "    </tr>\n",
       "    <tr>\n",
       "      <th>human</th>\n",
       "      <td>40685</td>\n",
       "      <td>2359</td>\n",
       "      <td>0.057982</td>\n",
       "    </tr>\n",
       "  </tbody>\n",
       "</table>\n",
       "</div>"
      ],
      "text/plain": [
       "                impressions  clicks       CTR\n",
       "linkTarget                                   \n",
       "united_states        154518   12376  0.080094\n",
       "europe               133170    5565  0.041789\n",
       "united_kingdom       123566    5303  0.042916\n",
       "england               65232    4413  0.067651\n",
       "earth                 61419    4172  0.067927\n",
       "africa                68411    3490  0.051015\n",
       "world_war_ii         102791    2893  0.028144\n",
       "north_america         70097    2546  0.036321\n",
       "animal                42468    2426  0.057125\n",
       "human                 40685    2359  0.057982"
      ]
     },
     "execution_count": 26,
     "metadata": {},
     "output_type": "execute_result"
    }
   ],
   "source": [
    "articles.sort_values(by=['clicks'], ascending=False).head(10)"
   ]
  },
  {
   "cell_type": "markdown",
   "metadata": {},
   "source": [
    "Now focusing on impressions:"
   ]
  },
  {
   "cell_type": "code",
   "execution_count": 27,
   "metadata": {},
   "outputs": [
    {
     "data": {
      "text/plain": [
       "<AxesSubplot:title={'center':'Number of impressions'}, ylabel='Frequency'>"
      ]
     },
     "execution_count": 27,
     "metadata": {},
     "output_type": "execute_result"
    },
    {
     "data": {
      "image/png": "[encoded data removed]",
      "text/plain": [
       "<Figure size 640x480 with 1 Axes>"
      ]
     },
     "metadata": {},
     "output_type": "display_data"
    }
   ],
   "source": [
    "articles[\"impressions\"].plot.hist(bins=30, title=\"Number of impressions\", range=[0,50000])"
   ]
  },
  {
   "cell_type": "markdown",
   "metadata": {},
   "source": [
    "Let's rank the top 10 articles with highest impressions"
   ]
  },
  {
   "cell_type": "code",
   "execution_count": 28,
   "metadata": {},
   "outputs": [
    {
     "data": {
      "text/html": [
       "<div>\n",
       "<style scoped>\n",
       "    .dataframe tbody tr th:only-of-type {\n",
       "        vertical-align: middle;\n",
       "    }\n",
       "\n",
       "    .dataframe tbody tr th {\n",
       "        vertical-align: top;\n",
       "    }\n",
       "\n",
       "    .dataframe thead th {\n",
       "        text-align: right;\n",
       "    }\n",
       "</style>\n",
       "<table border=\"1\" class=\"dataframe\">\n",
       "  <thead>\n",
       "    <tr style=\"text-align: right;\">\n",
       "      <th></th>\n",
       "      <th>impressions</th>\n",
       "      <th>clicks</th>\n",
       "      <th>CTR</th>\n",
       "    </tr>\n",
       "    <tr>\n",
       "      <th>linkTarget</th>\n",
       "      <th></th>\n",
       "      <th></th>\n",
       "      <th></th>\n",
       "    </tr>\n",
       "  </thead>\n",
       "  <tbody>\n",
       "    <tr>\n",
       "      <th>united_states</th>\n",
       "      <td>154518</td>\n",
       "      <td>12376</td>\n",
       "      <td>0.080094</td>\n",
       "    </tr>\n",
       "    <tr>\n",
       "      <th>europe</th>\n",
       "      <td>133170</td>\n",
       "      <td>5565</td>\n",
       "      <td>0.041789</td>\n",
       "    </tr>\n",
       "    <tr>\n",
       "      <th>france</th>\n",
       "      <td>132404</td>\n",
       "      <td>2225</td>\n",
       "      <td>0.016805</td>\n",
       "    </tr>\n",
       "    <tr>\n",
       "      <th>united_kingdom</th>\n",
       "      <td>123566</td>\n",
       "      <td>5303</td>\n",
       "      <td>0.042916</td>\n",
       "    </tr>\n",
       "    <tr>\n",
       "      <th>germany</th>\n",
       "      <td>105443</td>\n",
       "      <td>2167</td>\n",
       "      <td>0.020551</td>\n",
       "    </tr>\n",
       "    <tr>\n",
       "      <th>world_war_ii</th>\n",
       "      <td>102791</td>\n",
       "      <td>2893</td>\n",
       "      <td>0.028144</td>\n",
       "    </tr>\n",
       "    <tr>\n",
       "      <th>latin</th>\n",
       "      <td>101089</td>\n",
       "      <td>959</td>\n",
       "      <td>0.009487</td>\n",
       "    </tr>\n",
       "    <tr>\n",
       "      <th>india</th>\n",
       "      <td>97125</td>\n",
       "      <td>1750</td>\n",
       "      <td>0.018018</td>\n",
       "    </tr>\n",
       "    <tr>\n",
       "      <th>spain</th>\n",
       "      <td>93086</td>\n",
       "      <td>773</td>\n",
       "      <td>0.008304</td>\n",
       "    </tr>\n",
       "    <tr>\n",
       "      <th>italy</th>\n",
       "      <td>90599</td>\n",
       "      <td>1195</td>\n",
       "      <td>0.013190</td>\n",
       "    </tr>\n",
       "  </tbody>\n",
       "</table>\n",
       "</div>"
      ],
      "text/plain": [
       "                impressions  clicks       CTR\n",
       "linkTarget                                   \n",
       "united_states        154518   12376  0.080094\n",
       "europe               133170    5565  0.041789\n",
       "france               132404    2225  0.016805\n",
       "united_kingdom       123566    5303  0.042916\n",
       "germany              105443    2167  0.020551\n",
       "world_war_ii         102791    2893  0.028144\n",
       "latin                101089     959  0.009487\n",
       "india                 97125    1750  0.018018\n",
       "spain                 93086     773  0.008304\n",
       "italy                 90599    1195  0.013190"
      ]
     },
     "execution_count": 28,
     "metadata": {},
     "output_type": "execute_result"
    }
   ],
   "source": [
    "articles.sort_values(by=['impressions'], ascending=False).head(10)"
   ]
  },
  {
   "cell_type": "markdown",
   "metadata": {},
   "source": [
    "The finaly analysis is made on CTR:"
   ]
  },
  {
   "cell_type": "code",
   "execution_count": 29,
   "metadata": {},
   "outputs": [
    {
     "data": {
      "text/plain": [
       "<AxesSubplot:title={'center':'Distribution of CTR'}, ylabel='Frequency'>"
      ]
     },
     "execution_count": 29,
     "metadata": {},
     "output_type": "execute_result"
    },
    {
     "data": {
      "image/png": "[encoded data removed]",
      "text/plain": [
       "<Figure size 640x480 with 1 Axes>"
      ]
     },
     "metadata": {},
     "output_type": "display_data"
    }
   ],
   "source": [
    "articles[\"CTR\"].plot.hist(bins=30, title=\"Distribution of CTR\", range=[0,0.75])"
   ]
  },
  {
   "cell_type": "markdown",
   "metadata": {},
   "source": [
    "With the top 10 CTR ranking:"
   ]
  },
  {
   "cell_type": "code",
   "execution_count": 30,
   "metadata": {},
   "outputs": [
    {
     "data": {
      "text/html": [
       "<div>\n",
       "<style scoped>\n",
       "    .dataframe tbody tr th:only-of-type {\n",
       "        vertical-align: middle;\n",
       "    }\n",
       "\n",
       "    .dataframe tbody tr th {\n",
       "        vertical-align: top;\n",
       "    }\n",
       "\n",
       "    .dataframe thead th {\n",
       "        text-align: right;\n",
       "    }\n",
       "</style>\n",
       "<table border=\"1\" class=\"dataframe\">\n",
       "  <thead>\n",
       "    <tr style=\"text-align: right;\">\n",
       "      <th></th>\n",
       "      <th>impressions</th>\n",
       "      <th>clicks</th>\n",
       "      <th>CTR</th>\n",
       "    </tr>\n",
       "    <tr>\n",
       "      <th>linkTarget</th>\n",
       "      <th></th>\n",
       "      <th></th>\n",
       "      <th></th>\n",
       "    </tr>\n",
       "  </thead>\n",
       "  <tbody>\n",
       "    <tr>\n",
       "      <th>list_of_european_countries</th>\n",
       "      <td>4</td>\n",
       "      <td>3</td>\n",
       "      <td>0.750000</td>\n",
       "    </tr>\n",
       "    <tr>\n",
       "      <th>exploration_of_mars</th>\n",
       "      <td>23</td>\n",
       "      <td>15</td>\n",
       "      <td>0.652174</td>\n",
       "    </tr>\n",
       "    <tr>\n",
       "      <th>wta_tour_championships</th>\n",
       "      <td>9</td>\n",
       "      <td>5</td>\n",
       "      <td>0.555556</td>\n",
       "    </tr>\n",
       "    <tr>\n",
       "      <th>the_lion_king</th>\n",
       "      <td>501</td>\n",
       "      <td>277</td>\n",
       "      <td>0.552894</td>\n",
       "    </tr>\n",
       "    <tr>\n",
       "      <th>gray_reef_shark</th>\n",
       "      <td>26</td>\n",
       "      <td>14</td>\n",
       "      <td>0.538462</td>\n",
       "    </tr>\n",
       "    <tr>\n",
       "      <th>ffestiniog_railway</th>\n",
       "      <td>2</td>\n",
       "      <td>1</td>\n",
       "      <td>0.500000</td>\n",
       "    </tr>\n",
       "    <tr>\n",
       "      <th>shenzhou_spacecraft</th>\n",
       "      <td>23</td>\n",
       "      <td>11</td>\n",
       "      <td>0.478261</td>\n",
       "    </tr>\n",
       "    <tr>\n",
       "      <th>battle_of_bicocca</th>\n",
       "      <td>13</td>\n",
       "      <td>6</td>\n",
       "      <td>0.461538</td>\n",
       "    </tr>\n",
       "    <tr>\n",
       "      <th>irish_theatre</th>\n",
       "      <td>14</td>\n",
       "      <td>6</td>\n",
       "      <td>0.428571</td>\n",
       "    </tr>\n",
       "    <tr>\n",
       "      <th>investment_banking</th>\n",
       "      <td>40</td>\n",
       "      <td>17</td>\n",
       "      <td>0.425000</td>\n",
       "    </tr>\n",
       "  </tbody>\n",
       "</table>\n",
       "</div>"
      ],
      "text/plain": [
       "                            impressions  clicks       CTR\n",
       "linkTarget                                               \n",
       "list_of_european_countries            4       3  0.750000\n",
       "exploration_of_mars                  23      15  0.652174\n",
       "wta_tour_championships                9       5  0.555556\n",
       "the_lion_king                       501     277  0.552894\n",
       "gray_reef_shark                      26      14  0.538462\n",
       "ffestiniog_railway                    2       1  0.500000\n",
       "shenzhou_spacecraft                  23      11  0.478261\n",
       "battle_of_bicocca                    13       6  0.461538\n",
       "irish_theatre                        14       6  0.428571\n",
       "investment_banking                   40      17  0.425000"
      ]
     },
     "execution_count": 30,
     "metadata": {},
     "output_type": "execute_result"
    }
   ],
   "source": [
    "articles.sort_values(by=['CTR'], ascending=False).head(10)"
   ]
  },
  {
   "cell_type": "markdown",
   "metadata": {},
   "source": [
    "This last ranking might not be very useful since some articles have very low impressions, meaning we don't have enough data. The obtained CTR seem very high."
   ]
  },
  {
   "cell_type": "code",
   "execution_count": 31,
   "metadata": {},
   "outputs": [
    {
     "name": "stdout",
     "output_type": "stream",
     "text": [
      "The average number of clicks is 88.35985489721887\n",
      "The average number of impressions is 5661.276420798065\n",
      "The average CTR is 0.030189658307541403\n"
     ]
    }
   ],
   "source": [
    "print(\"The average number of clicks is \" + str(articles.clicks.mean()))\n",
    "print(\"The average number of impressions is \" + str(articles.impressions.mean()))\n",
    "print(\"The average CTR is \" + str(articles.CTR.mean()))"
   ]
  },
  {
   "cell_type": "markdown",
   "metadata": {},
   "source": [
    "Let's visualize the links positions and clicks to show the regions with high click frequency. We adopt heatmaps to highlight these regions."
   ]
  },
  {
   "cell_type": "code",
   "execution_count": 46,
   "metadata": {},
   "outputs": [],
   "source": [
    "df_heatmap=df_links[['xpos','ypos','clicks','impressions','CTR']]"
   ]
  },
  {
   "cell_type": "code",
   "execution_count": 47,
   "metadata": {},
   "outputs": [
    {
     "name": "stderr",
     "output_type": "stream",
     "text": [
      "C:\\Users\\Rejeb\\anaconda3\\envs\\ada\\lib\\site-packages\\pandas\\core\\arraylike.py:397: RuntimeWarning: divide by zero encountered in log\n",
      "  result = getattr(ufunc, method)(*inputs, **kwargs)\n"
     ]
    },
    {
     "data": {
      "text/plain": [
       "<AxesSubplot:xlabel='xpos', ylabel='ypos'>"
      ]
     },
     "execution_count": 47,
     "metadata": {},
     "output_type": "execute_result"
    },
    {
     "data": {
      "image/png": "[encoded data removed]",
      "text/plain": [
       "<Figure size 640x480 with 2 Axes>"
      ]
     },
     "metadata": {},
     "output_type": "display_data"
    }
   ],
   "source": [
    "df_heatmap_clicks = pd.crosstab(np.around(np.log(df_heatmap['ypos'])),np.around(np.log(df_heatmap['xpos'])),values=df_heatmap['clicks'],aggfunc=sum)\n",
    "sns.heatmap(df_heatmap_clicks,cmap=sns.color_palette(\"Spectral\", as_cmap=True))"
   ]
  },
  {
   "cell_type": "code",
   "execution_count": 42,
   "metadata": {},
   "outputs": [
    {
     "name": "stderr",
     "output_type": "stream",
     "text": [
      "C:\\Users\\Rejeb\\anaconda3\\envs\\ada\\lib\\site-packages\\pandas\\core\\arraylike.py:397: RuntimeWarning: divide by zero encountered in log\n",
      "  result = getattr(ufunc, method)(*inputs, **kwargs)\n"
     ]
    },
    {
     "data": {
      "text/plain": [
       "<AxesSubplot:xlabel='xpos', ylabel='ypos'>"
      ]
     },
     "execution_count": 42,
     "metadata": {},
     "output_type": "execute_result"
    },
    {
     "data": {
      "image/png": "[encoded data removed]",
      "text/plain": [
       "<Figure size 640x480 with 2 Axes>"
      ]
     },
     "metadata": {},
     "output_type": "display_data"
    }
   ],
   "source": [
    "df_heatmap_impressions = pd.crosstab(np.around(np.log(df_heatmap['ypos'])),np.around(np.log(df_heatmap['xpos'])),values=df_heatmap['impressions'],aggfunc=sum)\n",
    "sns.heatmap(df_heatmap_clicks,cmap=sns.color_palette(\"Spectral\", as_cmap=True))"
   ]
  },
  {
   "cell_type": "code",
   "execution_count": 43,
   "metadata": {},
   "outputs": [
    {
     "name": "stderr",
     "output_type": "stream",
     "text": [
      "C:\\Users\\Rejeb\\anaconda3\\envs\\ada\\lib\\site-packages\\pandas\\core\\arraylike.py:397: RuntimeWarning: divide by zero encountered in log\n",
      "  result = getattr(ufunc, method)(*inputs, **kwargs)\n"
     ]
    },
    {
     "data": {
      "text/plain": [
       "<AxesSubplot:xlabel='xpos', ylabel='ypos'>"
      ]
     },
     "execution_count": 43,
     "metadata": {},
     "output_type": "execute_result"
    },
    {
     "data": {
      "image/png": "[encoded data removed]",
      "text/plain": [
       "<Figure size 640x480 with 2 Axes>"
      ]
     },
     "metadata": {},
     "output_type": "display_data"
    }
   ],
   "source": [
    "df_heatmap_CTR = pd.crosstab(np.around(np.log(df_heatmap['ypos'])),np.around(np.log(df_heatmap['xpos'])),values=df_heatmap['CTR'],aggfunc=sum)\n",
    "sns.heatmap(df_heatmap_clicks,cmap=sns.color_palette(\"Spectral\", as_cmap=True))"
   ]
  },
  {
   "cell_type": "markdown",
   "metadata": {},
   "source": [
    "Let's investigate the relationship between two variables"
   ]
  },
  {
   "cell_type": "code",
   "execution_count": 54,
   "metadata": {},
   "outputs": [
    {
     "name": "stdout",
     "output_type": "stream",
     "text": [
      "PearsonRResult(statistic=0.01911830091355269, pvalue=3.5907089331484095e-11)\n"
     ]
    }
   ],
   "source": [
    "df_links = df_links.fillna(0)\n",
    "print(stats.pearsonr(df_links['xpos'],df_links['CTR']))"
   ]
  },
  {
   "cell_type": "markdown",
   "metadata": {},
   "source": [
    "There is a very small (0.02), but significant (p < 0.05) positive correlation"
   ]
  },
  {
   "cell_type": "code",
   "execution_count": 55,
   "metadata": {},
   "outputs": [
    {
     "name": "stdout",
     "output_type": "stream",
     "text": [
      "PearsonRResult(statistic=-0.19531733063777307, pvalue=0.0)\n"
     ]
    }
   ],
   "source": [
    "print(stats.pearsonr(df_links['ypos'],df_links['CTR']))"
   ]
  },
  {
   "cell_type": "markdown",
   "metadata": {},
   "source": [
    "There is a small (-0.2), but significant (p < 0.05) negative correlation. The pearson correlation coefficient for y position is 10 times higher than the one for x position."
   ]
  },
  {
   "cell_type": "markdown",
   "metadata": {},
   "source": [
    "Finally, we plot ypos/CTR and fit a regression model "
   ]
  },
  {
   "cell_type": "code",
   "execution_count": 57,
   "metadata": {},
   "outputs": [
    {
     "data": {
      "text/plain": [
       "<seaborn.axisgrid.FacetGrid at 0x226108bcc70>"
      ]
     },
     "execution_count": 57,
     "metadata": {},
     "output_type": "execute_result"
    },
    {
     "data": {
      "image/png": "[encoded data removed]",
      "text/plain": [
       "<Figure size 500x500 with 1 Axes>"
      ]
     },
     "metadata": {},
     "output_type": "display_data"
    }
   ],
   "source": [
    "sns.lmplot(x=\"ypos\", y=\"CTR\", data=df_links, line_kws={'color': 'red'})"
   ]
  },
  {
   "cell_type": "markdown",
   "metadata": {},
   "source": [
    "## Sanity Check"
   ]
  },
  {
   "cell_type": "markdown",
   "metadata": {},
   "source": [
    "Let's now check how clean how dataset is, and if we have missing data."
   ]
  }
 ],
 "metadata": {
  "kernelspec": {
   "display_name": "Python 3 (ipykernel)",
   "language": "python",
   "name": "python3"
  },
  "language_info": {
   "codemirror_mode": {
    "name": "ipython",
    "version": 3
   },
   "file_extension": ".py",
   "mimetype": "text/x-python",
   "name": "python",
   "nbconvert_exporter": "python",
   "pygments_lexer": "ipython3",
   "version": "3.9.13"
  },
  "vscode": {
   "interpreter": {
    "hash": "369f2c481f4da34e4445cda3fffd2e751bd1c4d706f27375911949ba6bb62e1c"
   }
  }
 },
 "nbformat": 4,
 "nbformat_minor": 4
}
