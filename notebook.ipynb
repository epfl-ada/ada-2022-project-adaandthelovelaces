{
 "cells": [
  {
   "cell_type": "markdown",
   "metadata": {},
   "source": [
    "This is the notebook of Milestone 2. GIVE OUTLINE XXX"
   ]
  },
  {
   "cell_type": "code",
   "execution_count": 2,
   "metadata": {},
   "outputs": [],
   "source": [
    "import numpy as np\n",
    "import pandas as pd\n",
    "import scipy\n",
    "import matplotlib.pyplot as plt\n",
    "import urllib.parse as urlparse\n",
    "from collections import defaultdict\n",
    "\n",
    "from bokeh.models import Range1d, Circle, ColumnDataSource, MultiLine\n",
    "from bokeh.plotting import figure\n",
    "from bokeh.plotting import from_networkx\n",
    "\n",
    "from selenium import webdriver\n",
    "from selenium.webdriver.common.keys import Keys\n",
    "from selenium.webdriver.common.by import By\n",
    "from selenium.webdriver.chrome.options import Options\n",
    "import re\n",
    "import os\n",
    "import networkx as nx"
   ]
  },
  {
   "cell_type": "markdown",
   "metadata": {},
   "source": [
    "# Data pre-processing"
   ]
  },
  {
   "cell_type": "markdown",
   "metadata": {},
   "source": [
    "## Computing the location of the links in the HTML pages\n",
    "\n",
    "In this part, we compute the location of every link in a given HTML page. The location is added to the _links_ table."
   ]
  },
  {
   "cell_type": "markdown",
   "metadata": {},
   "source": [
    "Let's start by extracting the links, and creating the new columns we wish to add, with 0 as the initialization value:"
   ]
  },
  {
   "cell_type": "code",
   "execution_count": 3,
   "metadata": {},
   "outputs": [],
   "source": [
    "# Extract list of links as DataFrame to store frequency\n",
    "\n",
    "df_links = pd.read_csv('./data/wikispeedia_paths-and-graph/links.tsv',\n",
    "                       sep='\\t',\n",
    "                       names=['linkSource_URL', 'linkTarget_URL'],\n",
    "                       comment='#')\n",
    "\n",
    "# Storing the x and y position of the unique link on the page\n",
    "df_links['xpos'] =  pd.Series(np.zeros((len(df_links)),dtype=int))\n",
    "df_links['ypos'] =  pd.Series(np.zeros((len(df_links)),dtype=int))"
   ]
  },
  {
   "cell_type": "markdown",
   "metadata": {},
   "source": [
    "Now, the HTML driver is created. We need to define arbitrary parameters. We consider a full screen display at 1900*900, rendered in Google Chrome. \n",
    "\n",
    "\n",
    "\n",
    "\n",
    "_Note that if we were to change the resolution, the data would change but the ordering of the links locations on the y axis would remain unchanged. The results of the analysis would not change._"
   ]
  },
  {
   "cell_type": "code",
   "execution_count": 4,
   "metadata": {},
   "outputs": [],
   "source": [
    "op = Options()\n",
    "op.add_argument('headless')\n",
    "\n",
    "\n",
    "# Most common window size for desktop, \n",
    "# full-screen minus 130 at top for browser control, minus 50 at bottom for windows taskbar. \n",
    "# Since the game was played, on desktop, we choose this (ADD EXPLANATORY SCREENSHOT)\n",
    "\n",
    "op.add_argument(\"window-size=1920,900\") \n",
    "\n",
    "driver = webdriver.Chrome(options=op)"
   ]
  },
  {
   "cell_type": "markdown",
   "metadata": {},
   "source": [
    "Now that the driver is configured, let's compute the locations of all links in the articles"
   ]
  },
  {
   "cell_type": "code",
   "execution_count": 5,
   "metadata": {},
   "outputs": [
    {
     "name": "stdout",
     "output_type": "stream",
     "text": [
      "link name 2007 Schools Wikipedia Selection link pos {'x': 19, 'y': 52}\n",
      "link name Countries link pos {'x': 294, 'y': 52}\n",
      "link name European Countries link pos {'x': 351, 'y': 52}\n",
      "link name Paris link pos {'x': 1724, 'y': 417}\n",
      "link name French link pos {'x': 1724, 'y': 459}\n",
      "link name Government link pos {'x': 1588, 'y': 483}\n",
      "link name Accession to EU link pos {'x': 1604, 'y': 621}\n",
      "link name Currency link pos {'x': 1626, 'y': 1049}\n",
      "link name Euro link pos {'x': 1724, 'y': 1054}\n",
      "link name Time zone link pos {'x': 1623, 'y': 1116}\n",
      "link name European Union link pos {'x': 1748, 'y': 1577}\n",
      "link name French link pos {'x': 68, 'y': 75}\n",
      "link name French link pos {'x': 361, 'y': 75}\n",
      "link name country link pos {'x': 688, 'y': 75}\n",
      "link name Mediterranean Sea link pos {'x': 299, 'y': 94}\n",
      "link name English Channel link pos {'x': 445, 'y': 94}\n",
      "link name North Sea link pos {'x': 587, 'y': 94}\n",
      "link name Rhine link pos {'x': 726, 'y': 94}\n",
      "link name Atlantic Ocean link pos {'x': 798, 'y': 94}\n",
      "link name Belgium link pos {'x': 146, 'y': 138}\n",
      "link name Luxembourg link pos {'x': 199, 'y': 138}\n",
      "link name Germany link pos {'x': 277, 'y': 138}\n",
      "link name Switzerland link pos {'x': 335, 'y': 138}\n",
      "link name Italy link pos {'x': 408, 'y': 138}\n",
      "link name Monaco link pos {'x': 437, 'y': 138}\n",
      "link name Andorra link pos {'x': 489, 'y': 138}\n",
      "link name Spain link pos {'x': 566, 'y': 138}\n",
      "link name Brazil link pos {'x': 1029, 'y': 138}\n",
      "link name Suriname link pos {'x': 1068, 'y': 138}\n",
      "link name Netherlands Antilles link pos {'x': 1175, 'y': 138}\n",
      "link name United Kingdom link pos {'x': 1449, 'y': 138}\n",
      "link name English Channel link pos {'x': 305, 'y': 157}\n",
      "link name democracy link pos {'x': 164, 'y': 183}\n",
      "link name European Union link pos {'x': 163, 'y': 202}\n",
      "link name United Nations link pos {'x': 751, 'y': 202}\n",
      "link name Franks link pos {'x': 1448, 'y': 221}\n",
      "link name Western Roman Empire link pos {'x': 292, 'y': 240}\n",
      "link name Paris link pos {'x': 626, 'y': 240}\n",
      "link name North America link pos {'x': 1199, 'y': 300}\n",
      "link name South America link pos {'x': 1373, 'y': 300}\n",
      "link name Indian Ocean link pos {'x': 19, 'y': 319}\n",
      "link name Pacific Ocean link pos {'x': 123, 'y': 319}\n",
      "link name Antarctica link pos {'x': 232, 'y': 319}\n",
      "link name river link pos {'x': 1189, 'y': 363}\n",
      "link name Myanmar link pos {'x': 552, 'y': 408}\n",
      "link name Yemen link pos {'x': 1149, 'y': 408}\n",
      "link name Thailand link pos {'x': 1216, 'y': 408}\n",
      "link name Kenya link pos {'x': 1430, 'y': 408}\n",
      "link name United States link pos {'x': 1450, 'y': 452}\n",
      "link name Australia link pos {'x': 360, 'y': 471}\n",
      "link name China link pos {'x': 530, 'y': 569}\n",
      "link name Brazil link pos {'x': 464, 'y': 588}\n",
      "link name Napoleon link pos {'x': 1052, 'y': 633}\n",
      "link name California link pos {'x': 360, 'y': 652}\n",
      "link name internet link pos {'x': 19, 'y': 671}\n",
      "link name Rome link pos {'x': 810, 'y': 766}\n",
      "link name Julius Caesar link pos {'x': 864, 'y': 766}\n",
      "link name Latin link pos {'x': 1355, 'y': 766}\n",
      "link name French language link pos {'x': 19, 'y': 766}\n",
      "link name Middle Ages link pos {'x': 1338, 'y': 786}\n",
      "link name Rhine link pos {'x': 329, 'y': 830}\n",
      "link name Franks link pos {'x': 633, 'y': 830}\n",
      "link name Charlemagne link pos {'x': 641, 'y': 849}\n",
      "link name Louis XIV link pos {'x': 407, 'y': 893}\n",
      "link name French Revolution link pos {'x': 227, 'y': 973}\n",
      "link name Napoleon Bonaparte link pos {'x': 1289, 'y': 973}\n",
      "link name several wars link pos {'x': 836, 'y': 992}\n",
      "link name constitutional link pos {'x': 858, 'y': 1037}\n",
      "link name British Empire link pos {'x': 1201, 'y': 1081}\n",
      "link name World War I link pos {'x': 181, 'y': 1145}\n",
      "link name World War II link pos {'x': 60, 'y': 1170}\n",
      "link name Germany link pos {'x': 667, 'y': 1170}\n",
      "link name Algeria link pos {'x': 1180, 'y': 1233}\n",
      "link name Germany link pos {'x': 377, 'y': 1303}\n",
      "link name European Union link pos {'x': 860, 'y': 1303}\n",
      "link name euro link pos {'x': 1138, 'y': 1303}\n",
      "link name European Union link pos {'x': 408, 'y': 1624}\n",
      "link name Interpol link pos {'x': 336, 'y': 1713}\n",
      "link name Belgium link pos {'x': 1711, 'y': 2721}\n",
      "link name Luxembourg link pos {'x': 1761, 'y': 2756}\n",
      "link name Germany link pos {'x': 1808, 'y': 2772}\n",
      "link name Switzerland link pos {'x': 1794, 'y': 2880}\n",
      "link name Italy link pos {'x': 1804, 'y': 2948}\n",
      "link name English Channel link pos {'x': 1525, 'y': 2745}\n",
      "link name United Kingdom link pos {'x': 1499, 'y': 2706}\n",
      "link name Andorra link pos {'x': 1649, 'y': 3043}\n",
      "link name Spain link pos {'x': 1581, 'y': 3041}\n",
      "link name Mediterranean\n",
      "Sea link pos {'x': 1737, 'y': 3041}\n",
      "link name EU link pos {'x': 831, 'y': 1906}\n",
      "link name New Caledonia link pos {'x': 861, 'y': 1931}\n",
      "link name EU link pos {'x': 568, 'y': 1957}\n",
      "link name euro link pos {'x': 1189, 'y': 1957}\n",
      "link name Indian Ocean link pos {'x': 553, 'y': 2001}\n",
      "link name Pacific Ocean link pos {'x': 678, 'y': 2001}\n",
      "link name United Kingdom link pos {'x': 373, 'y': 2251}\n",
      "link name UK link pos {'x': 917, 'y': 2251}\n",
      "link name Airbus A380 link pos {'x': 1568, 'y': 3620}\n",
      "link name United States link pos {'x': 764, 'y': 2394}\n",
      "link name Japan link pos {'x': 847, 'y': 2394}\n",
      "link name Germany link pos {'x': 889, 'y': 2394}\n",
      "link name United Kingdom link pos {'x': 1174, 'y': 2394}\n",
      "link name EU link pos {'x': 1401, 'y': 2394}\n",
      "link name Euro link pos {'x': 152, 'y': 2413}\n",
      "link name United States link pos {'x': 653, 'y': 2438}\n",
      "link name Germany link pos {'x': 736, 'y': 2438}\n",
      "link name Japan link pos {'x': 794, 'y': 2438}\n",
      "link name United Kingdom link pos {'x': 1144, 'y': 2438}\n",
      "link name Spain link pos {'x': 657, 'y': 2749}\n",
      "link name United States link pos {'x': 815, 'y': 2749}\n",
      "link name Paris link pos {'x': 1203, 'y': 2749}\n",
      "link name Airbus link pos {'x': 453, 'y': 2793}\n",
      "link name Germany link pos {'x': 593, 'y': 2901}\n",
      "link name Lyon link pos {'x': 1674, 'y': 3922}\n",
      "link name Maghreb link pos {'x': 1333, 'y': 3000}\n",
      "link name Maghreb link pos {'x': 117, 'y': 3019}\n",
      "link name Republic of Ireland link pos {'x': 393, 'y': 3219}\n",
      "link name European Union link pos {'x': 1424, 'y': 3219}\n",
      "link name Russia link pos {'x': 1057, 'y': 3282}\n",
      "link name Germany link pos {'x': 1124, 'y': 3282}\n",
      "link name Brussels link pos {'x': 494, 'y': 3390}\n",
      "link name United States link pos {'x': 1175, 'y': 3435}\n",
      "link name French link pos {'x': 236, 'y': 4024}\n",
      "link name Portuguese link pos {'x': 963, 'y': 4081}\n",
      "link name Berber languages link pos {'x': 1176, 'y': 4081}\n",
      "link name Sub-Saharan Africa link pos {'x': 1404, 'y': 4081}\n",
      "link name Spanish link pos {'x': 1725, 'y': 4125}\n",
      "link name French link pos {'x': 43, 'y': 4308}\n",
      "link name German link pos {'x': 43, 'y': 4333}\n",
      "link name Arabic link pos {'x': 43, 'y': 4359}\n",
      "link name Portuguese link pos {'x': 43, 'y': 4409}\n",
      "link name Spanish link pos {'x': 43, 'y': 4484}\n",
      "link name Berber languages link pos {'x': 84, 'y': 4554}\n",
      "link name Lille link pos {'x': 1202, 'y': 4826}\n",
      "link name Lyon link pos {'x': 1386, 'y': 4826}\n",
      "link name Marseille link pos {'x': 1420, 'y': 4826}\n",
      "link name Paris link pos {'x': 560, 'y': 4845}\n",
      "link name French Revolution link pos {'x': 784, 'y': 5270}\n",
      "link name Roman Catholic link pos {'x': 184, 'y': 5420}\n",
      "link name Muslim link pos {'x': 1230, 'y': 5483}\n",
      "link name Jewish link pos {'x': 1418, 'y': 5483}\n",
      "link name God link pos {'x': 163, 'y': 5502}\n",
      "link name Orthodox link pos {'x': 83, 'y': 5521}\n",
      "link name Buddhist link pos {'x': 153, 'y': 5521}\n",
      "link name EU link pos {'x': 245, 'y': 5607}\n",
      "link name AIDS link pos {'x': 548, 'y': 5632}\n",
      "link name Marseille link pos {'x': 506, 'y': 6081}\n",
      "link name World Bank link pos {'x': 231, 'y': 6414}\n",
      "link name United Kingdom link pos {'x': 476, 'y': 6570}\n",
      "link name English Channel link pos {'x': 462, 'y': 6606}\n",
      "link name North Sea link pos {'x': 919, 'y': 6588}\n",
      "link name Belgium link pos {'x': 1326, 'y': 6578}\n",
      "link name Luxembourg link pos {'x': 1405, 'y': 6578}\n",
      "link name Germany link pos {'x': 1374, 'y': 6597}\n",
      "link name Switzerland link pos {'x': 1366, 'y': 6649}\n",
      "link name Spain link pos {'x': 465, 'y': 6713}\n",
      "link name Andorra link pos {'x': 530, 'y': 6713}\n",
      "link name Mediterranean Sea link pos {'x': 895, 'y': 6695}\n",
      "link name Algeria link pos {'x': 903, 'y': 6731}\n",
      "link name Tunisia link pos {'x': 976, 'y': 6731}\n",
      "link name Italy link pos {'x': 1388, 'y': 6694}\n",
      "link name Monaco link pos {'x': 1377, 'y': 6713}\n",
      "link name Italy link pos {'x': 1437, 'y': 6732}\n",
      "link name GNU Free Documentation License link pos {'x': 1269, 'y': 6803}\n",
      "link name Disclaimer link pos {'x': 1517, 'y': 6803}\n"
     ]
    }
   ],
   "source": [
    "source_path = './data/wpcd/wp/f/France.htm'\n",
    "\n",
    "user_cwd = os.getcwd().replace('\\\\','/')\n",
    "\n",
    "url = 'file://'+user_cwd+source_path\n",
    "driver.get(url)\n",
    "\n",
    "elem = driver.find_elements(By.TAG_NAME, \"a\")\n",
    "for e in elem:\n",
    "    \n",
    "    if e.text != '':\n",
    "        print('link name', e.text, 'link pos', e.location)"
   ]
  },
  {
   "cell_type": "markdown",
   "metadata": {},
   "source": [
    "## Computing clicks, imppressions and CTR"
   ]
  },
  {
   "cell_type": "markdown",
   "metadata": {},
   "source": [
    "This is done at two different granularities:\n",
    "- Per source: we compute the clicks, impressions and CTR for each outgoing links of a given article\n",
    "- Aggregated: we compute the total number of clicks, impressions and CTR for the articles no matter the origin of the user's click"
   ]
  },
  {
   "cell_type": "markdown",
   "metadata": {},
   "source": [
    "### Fine grained dataset: per source article\n",
    "Here, the goal is to extend the _links_ table by adding for each pair _(origin article, destination article)_, columns counting the number of clicks associated, the number of impressions, and the CTR."
   ]
  },
  {
   "cell_type": "code",
   "execution_count": 6,
   "metadata": {},
   "outputs": [],
   "source": [
    "# Helper functions\n",
    "\n",
    "def title_parse(title):\n",
    "    \"\"\"\n",
    "    Parse URL encoded to readable characters\n",
    "    \"\"\"\n",
    "\n",
    "    title = urlparse.unquote(title).casefold()\n",
    "    return title\n",
    "\n",
    "\n",
    "\n",
    "def url_encode(title):\n",
    "    \"\"\"\n",
    "    URL encode target links\n",
    "    \"\"\"\n",
    "\n",
    "    title = urlparse.quote(title)\n",
    "    return title"
   ]
  },
  {
   "cell_type": "markdown",
   "metadata": {},
   "source": [
    "We start by retrieving the players's data: they are in the paths_finished and paths_unfinished datasets"
   ]
  },
  {
   "cell_type": "code",
   "execution_count": 7,
   "metadata": {},
   "outputs": [],
   "source": [
    "df_user = pd.read_csv('./data/wikispeedia_paths-and-graph/paths_finished.tsv',\n",
    "                      sep='\\t',\n",
    "                      names=['hashedIpAddress', 'timestamp', 'durationInSec', 'path', 'rating'],\n",
    "                      comment='#')\n",
    "\n",
    "# It was noticed that users clicked on links in the footer (Terms & Conditions + Disclaimer) \n",
    "# that are not articles per-say. We decided to remove all paths containing these links as it is not in the spirit of the game\n",
    "## \"wikipedia_text_of_the_gnu_free_documentation_license\" is not an article!\n",
    "problematic_keywords = ['Wikipedia_Text_of_the_GNU_Free_Documentation_License']\n",
    "df_user = df_user[~df_user.path.str.contains('|'.join(problematic_keywords))]\n",
    "\n",
    "# Drop unused columns for objectives and transform to list of paths\n",
    "series_paths = df_user.drop(['hashedIpAddress', 'timestamp', 'durationInSec', 'rating'], axis=1).squeeze()\n",
    "\n",
    "# Decode URL encoding for paths, case fold\n",
    "series_paths = series_paths.map(title_parse)\n",
    "\n",
    "# Transform paths to list of inputs (article names or <)\n",
    "series_paths = series_paths.str.split(';')"
   ]
  },
  {
   "cell_type": "markdown",
   "metadata": {},
   "source": [
    "And we extract the articles"
   ]
  },
  {
   "cell_type": "code",
   "execution_count": 8,
   "metadata": {},
   "outputs": [],
   "source": [
    "# Extract list of articles\n",
    "df_articles = pd.read_csv('./data/wikispeedia_paths-and-graph/articles.tsv',\n",
    "                          sep='\\t',\n",
    "                          names=['title'],\n",
    "                          comment='#')\n",
    "\n",
    "# Decode URL encoding for paths, case fold\n",
    "series_articles = df_articles['title'].map(title_parse)"
   ]
  },
  {
   "cell_type": "markdown",
   "metadata": {},
   "source": [
    "We add the new columns of interest in the df_links dataframe, and initialize them:"
   ]
  },
  {
   "cell_type": "code",
   "execution_count": 9,
   "metadata": {},
   "outputs": [],
   "source": [
    "\n",
    "# Definitions\n",
    "# Source Links are the link of the page on which a link is shown\n",
    "# Target Links are the outgoing link on which the user lands\n",
    "\n",
    "# Filenames are single encoded (ie C++.htm is encoded at C%2B%2B.htm)\n",
    "# Outgoing names in the HTML source are DOUBLE encoded (ie C++.htm is <a href=\"../../wp/c/C%252B%252B.htm\">\n",
    "# Therefore, we add a helper column for linkTarget_2URL storing the DOUBLE URL ENCODED string\n",
    "df_links['linkTarget_2URL'] = df_links['linkTarget_URL'].map(url_encode)\n",
    "\n",
    "# Decode URL encoding for paths, case fold (from URL encoding to readable)\n",
    "df_links['linkSource'] = df_links['linkSource_URL'].map(title_parse)\n",
    "df_links['linkTarget'] = df_links['linkTarget_URL'].map(title_parse)\n",
    "\n",
    "# Merge columns in tuple for easy lookup (unique key), format source;target\n",
    "df_links['linkPair'] = df_links['linkSource'] + ';' + df_links['linkTarget']\n",
    "\n",
    "# Number of impressions will be counted in column 'impressions' for each pair\n",
    "df_links['impressions'] = pd.Series(np.zeros((len(df_links)),dtype=int))\n",
    "\n",
    "# Number of hits will be counted in column 'hits' for each pair\n",
    "df_links['hits'] = pd.Series(np.zeros((len(df_links)),dtype=int))\n",
    "\n"
   ]
  },
  {
   "cell_type": "markdown",
   "metadata": {},
   "source": [
    "The next block of code serves for optimization."
   ]
  },
  {
   "cell_type": "code",
   "execution_count": 10,
   "metadata": {},
   "outputs": [],
   "source": [
    "# Optimization step, preprocessing indices to use numpy arrays for faster access\n",
    "# For all articles names, create a list of rows in the df_links that have this article as source\n",
    "source_map = defaultdict(list)\n",
    "for link_id, source in enumerate(df_links['linkSource']):\n",
    "  source_map[source].append(link_id)\n",
    "\n",
    "# Create a reverse dictionary to index nparray\n",
    "# list[int]=string to dict[string]=int\n",
    "my_map = dict(df_links['linkPair'])\n",
    "pair_map = dict((v, k) for k, v in my_map.items())"
   ]
  },
  {
   "cell_type": "markdown",
   "metadata": {},
   "source": [
    "The computation of the number of clicks and impressions:"
   ]
  },
  {
   "cell_type": "code",
   "execution_count": 11,
   "metadata": {},
   "outputs": [
    {
     "name": "stdout",
     "output_type": "stream",
     "text": [
      "Invalid pair: 'finland;åland'\n",
      "Invalid pair: 'finland;åland'\n",
      "Invalid pair: 'republic_of_ireland;éire'\n",
      "Invalid pair: 'republic_of_ireland;éire'\n",
      "Invalid pair: 'claude_monet;édouard_manet'\n",
      "Invalid pair: 'republic_of_ireland;éire'\n",
      "Invalid pair: 'claude_monet;édouard_manet'\n"
     ]
    }
   ],
   "source": [
    "np_links = df_links.to_numpy()\n",
    "IMPRESSIONS_COLUMN_ID = df_links.columns.get_loc('impressions')\n",
    "HITS_COLUMN_ID = df_links.columns.get_loc('hits')\n",
    "XPOS_COLUMN_ID = df_links.columns.get_loc('xpos')\n",
    "YPOS_COLUMN_ID = df_links.columns.get_loc('ypos')\n",
    "\n",
    "# For each path, count forward link clicks\n",
    "for path in series_paths:\n",
    "    # Initialise stack with first link\n",
    "    foo = list()\n",
    "    foo.append(path[0])\n",
    "    # Iterate over every step of user's path\n",
    "    for element in path[1:]:\n",
    "        if element != '<':\n",
    "\n",
    "            # If next element in path is not a return character, store information and analyze\n",
    "            ## Source node is the current top of stack\n",
    "            source_node = foo[-1]\n",
    "\n",
    "            ## Add next link in list to top of stack\n",
    "            foo.append(element)\n",
    "\n",
    "            ## New top of stack is target\n",
    "            target_node = foo[-1]\n",
    "\n",
    "            # Create key for pair identification\n",
    "            search_value = source_node + ';' + target_node\n",
    "\n",
    "            # Some issues were discovered with the dataset and encoding: some link pairs are missing\n",
    "            ### ie 'finland;åland' is not in our dataset, BUT the link 'åland' out of finland EXISTS on the source article and was used by the user\n",
    "            # It was not listed as an outgoing link in the dataset\n",
    "            try:\n",
    "                pair = pair_map[search_value]\n",
    "                \n",
    "            except Exception as e:\n",
    "                # Catch when pair was not listed in dataset, don't add impression and disregard\n",
    "                print('Invalid pair:',e) # For debug and understanding dataset\n",
    "                break\n",
    "\n",
    "            ## Count one impression for all pairs with source_node as source (source_node;*)\n",
    "            source = source_map[source_node]\n",
    "            np_links[source,IMPRESSIONS_COLUMN_ID] += 1\n",
    "\n",
    "            ## Add one click-through for the pair (source_node;target_node)\n",
    "            np_links[pair,HITS_COLUMN_ID] += 1\n",
    "\n",
    "        else:\n",
    "            # If return character is read, pop top of stack and don't store any info\n",
    "            foo.pop()"
   ]
  },
  {
   "cell_type": "markdown",
   "metadata": {},
   "source": [
    "Let's put back the values obtained in np_links in the df_links dataframe, since dataframes are easier to handle than series"
   ]
  },
  {
   "cell_type": "code",
   "execution_count": 17,
   "metadata": {},
   "outputs": [],
   "source": [
    "columns = ['linkSource_URL', 'linkTarget_URL', 'xpos', 'ypos', 'linkTarget_2URL', 'linkSource', 'linkTarget', 'linkPair', 'impressions', 'hits']\n",
    "to_dict_values = {}\n",
    "\n",
    "\n",
    "for i in range(len(columns)):\n",
    "\n",
    "    col = columns[i]\n",
    "    to_dict_values[col] = [np_links[k][i] for k in range(len(np_links))]\n",
    "\n",
    "df_links = pd.DataFrame(to_dict_values)\n"
   ]
  },
  {
   "cell_type": "markdown",
   "metadata": {},
   "source": [
    "Now, we can finally compute the CTR"
   ]
  },
  {
   "cell_type": "code",
   "execution_count": 18,
   "metadata": {},
   "outputs": [
    {
     "data": {
      "text/html": [
       "<div>\n",
       "<style scoped>\n",
       "    .dataframe tbody tr th:only-of-type {\n",
       "        vertical-align: middle;\n",
       "    }\n",
       "\n",
       "    .dataframe tbody tr th {\n",
       "        vertical-align: top;\n",
       "    }\n",
       "\n",
       "    .dataframe thead th {\n",
       "        text-align: right;\n",
       "    }\n",
       "</style>\n",
       "<table border=\"1\" class=\"dataframe\">\n",
       "  <thead>\n",
       "    <tr style=\"text-align: right;\">\n",
       "      <th></th>\n",
       "      <th>linkSource_URL</th>\n",
       "      <th>linkTarget_URL</th>\n",
       "      <th>xpos</th>\n",
       "      <th>ypos</th>\n",
       "      <th>linkTarget_2URL</th>\n",
       "      <th>linkSource</th>\n",
       "      <th>linkTarget</th>\n",
       "      <th>linkPair</th>\n",
       "      <th>impressions</th>\n",
       "      <th>hits</th>\n",
       "      <th>CTR</th>\n",
       "    </tr>\n",
       "  </thead>\n",
       "  <tbody>\n",
       "    <tr>\n",
       "      <th>0</th>\n",
       "      <td>%C3%81ed%C3%A1n_mac_Gabr%C3%A1in</td>\n",
       "      <td>Bede</td>\n",
       "      <td>0</td>\n",
       "      <td>0</td>\n",
       "      <td>Bede</td>\n",
       "      <td>áedán_mac_gabráin</td>\n",
       "      <td>bede</td>\n",
       "      <td>áedán_mac_gabráin;bede</td>\n",
       "      <td>0</td>\n",
       "      <td>0</td>\n",
       "      <td>NaN</td>\n",
       "    </tr>\n",
       "    <tr>\n",
       "      <th>1</th>\n",
       "      <td>%C3%81ed%C3%A1n_mac_Gabr%C3%A1in</td>\n",
       "      <td>Columba</td>\n",
       "      <td>0</td>\n",
       "      <td>0</td>\n",
       "      <td>Columba</td>\n",
       "      <td>áedán_mac_gabráin</td>\n",
       "      <td>columba</td>\n",
       "      <td>áedán_mac_gabráin;columba</td>\n",
       "      <td>0</td>\n",
       "      <td>0</td>\n",
       "      <td>NaN</td>\n",
       "    </tr>\n",
       "    <tr>\n",
       "      <th>2</th>\n",
       "      <td>%C3%81ed%C3%A1n_mac_Gabr%C3%A1in</td>\n",
       "      <td>D%C3%A1l_Riata</td>\n",
       "      <td>0</td>\n",
       "      <td>0</td>\n",
       "      <td>D%25C3%25A1l_Riata</td>\n",
       "      <td>áedán_mac_gabráin</td>\n",
       "      <td>dál_riata</td>\n",
       "      <td>áedán_mac_gabráin;dál_riata</td>\n",
       "      <td>0</td>\n",
       "      <td>0</td>\n",
       "      <td>NaN</td>\n",
       "    </tr>\n",
       "    <tr>\n",
       "      <th>3</th>\n",
       "      <td>%C3%81ed%C3%A1n_mac_Gabr%C3%A1in</td>\n",
       "      <td>Great_Britain</td>\n",
       "      <td>0</td>\n",
       "      <td>0</td>\n",
       "      <td>Great_Britain</td>\n",
       "      <td>áedán_mac_gabráin</td>\n",
       "      <td>great_britain</td>\n",
       "      <td>áedán_mac_gabráin;great_britain</td>\n",
       "      <td>0</td>\n",
       "      <td>0</td>\n",
       "      <td>NaN</td>\n",
       "    </tr>\n",
       "    <tr>\n",
       "      <th>4</th>\n",
       "      <td>%C3%81ed%C3%A1n_mac_Gabr%C3%A1in</td>\n",
       "      <td>Ireland</td>\n",
       "      <td>0</td>\n",
       "      <td>0</td>\n",
       "      <td>Ireland</td>\n",
       "      <td>áedán_mac_gabráin</td>\n",
       "      <td>ireland</td>\n",
       "      <td>áedán_mac_gabráin;ireland</td>\n",
       "      <td>0</td>\n",
       "      <td>0</td>\n",
       "      <td>NaN</td>\n",
       "    </tr>\n",
       "  </tbody>\n",
       "</table>\n",
       "</div>"
      ],
      "text/plain": [
       "                     linkSource_URL  linkTarget_URL  xpos  ypos  \\\n",
       "0  %C3%81ed%C3%A1n_mac_Gabr%C3%A1in            Bede     0     0   \n",
       "1  %C3%81ed%C3%A1n_mac_Gabr%C3%A1in         Columba     0     0   \n",
       "2  %C3%81ed%C3%A1n_mac_Gabr%C3%A1in  D%C3%A1l_Riata     0     0   \n",
       "3  %C3%81ed%C3%A1n_mac_Gabr%C3%A1in   Great_Britain     0     0   \n",
       "4  %C3%81ed%C3%A1n_mac_Gabr%C3%A1in         Ireland     0     0   \n",
       "\n",
       "      linkTarget_2URL         linkSource     linkTarget  \\\n",
       "0                Bede  áedán_mac_gabráin           bede   \n",
       "1             Columba  áedán_mac_gabráin        columba   \n",
       "2  D%25C3%25A1l_Riata  áedán_mac_gabráin      dál_riata   \n",
       "3       Great_Britain  áedán_mac_gabráin  great_britain   \n",
       "4             Ireland  áedán_mac_gabráin        ireland   \n",
       "\n",
       "                          linkPair  impressions  hits  CTR  \n",
       "0           áedán_mac_gabráin;bede            0     0  NaN  \n",
       "1        áedán_mac_gabráin;columba            0     0  NaN  \n",
       "2      áedán_mac_gabráin;dál_riata            0     0  NaN  \n",
       "3  áedán_mac_gabráin;great_britain            0     0  NaN  \n",
       "4        áedán_mac_gabráin;ireland            0     0  NaN  "
      ]
     },
     "execution_count": 18,
     "metadata": {},
     "output_type": "execute_result"
    }
   ],
   "source": [
    "df_links['CTR'] = df_links.hits / df_links.impressions\n",
    "df_links.head()"
   ]
  },
  {
   "cell_type": "markdown",
   "metadata": {},
   "source": [
    "Saving the obtained dataset"
   ]
  },
  {
   "cell_type": "code",
   "execution_count": 12,
   "metadata": {},
   "outputs": [
    {
     "ename": "ValueError",
     "evalue": "Shape of passed values is (119882, 10), indices imply (119882, 11)",
     "output_type": "error",
     "traceback": [
      "\u001b[1;31m---------------------------------------------------------------------------\u001b[0m",
      "\u001b[1;31mValueError\u001b[0m                                Traceback (most recent call last)",
      "Cell \u001b[1;32mIn [12], line 1\u001b[0m\n\u001b[1;32m----> 1\u001b[0m df_output \u001b[39m=\u001b[39m pd\u001b[39m.\u001b[39;49mDataFrame(np_links, columns \u001b[39m=\u001b[39;49m df_links\u001b[39m.\u001b[39;49mcolumns)\n\u001b[0;32m      2\u001b[0m df_output\u001b[39m.\u001b[39mto_csv(\u001b[39m'\u001b[39m\u001b[39m./output/output_links.csv\u001b[39m\u001b[39m'\u001b[39m,encoding\u001b[39m=\u001b[39m\u001b[39m'\u001b[39m\u001b[39mutf-8-sig\u001b[39m\u001b[39m'\u001b[39m)\n",
      "File \u001b[1;32mc:\\Python310\\lib\\site-packages\\pandas\\core\\frame.py:721\u001b[0m, in \u001b[0;36mDataFrame.__init__\u001b[1;34m(self, data, index, columns, dtype, copy)\u001b[0m\n\u001b[0;32m    711\u001b[0m         mgr \u001b[39m=\u001b[39m dict_to_mgr(\n\u001b[0;32m    712\u001b[0m             \u001b[39m# error: Item \"ndarray\" of \"Union[ndarray, Series, Index]\" has no\u001b[39;00m\n\u001b[0;32m    713\u001b[0m             \u001b[39m# attribute \"name\"\u001b[39;00m\n\u001b[1;32m   (...)\u001b[0m\n\u001b[0;32m    718\u001b[0m             typ\u001b[39m=\u001b[39mmanager,\n\u001b[0;32m    719\u001b[0m         )\n\u001b[0;32m    720\u001b[0m     \u001b[39melse\u001b[39;00m:\n\u001b[1;32m--> 721\u001b[0m         mgr \u001b[39m=\u001b[39m ndarray_to_mgr(\n\u001b[0;32m    722\u001b[0m             data,\n\u001b[0;32m    723\u001b[0m             index,\n\u001b[0;32m    724\u001b[0m             columns,\n\u001b[0;32m    725\u001b[0m             dtype\u001b[39m=\u001b[39;49mdtype,\n\u001b[0;32m    726\u001b[0m             copy\u001b[39m=\u001b[39;49mcopy,\n\u001b[0;32m    727\u001b[0m             typ\u001b[39m=\u001b[39;49mmanager,\n\u001b[0;32m    728\u001b[0m         )\n\u001b[0;32m    730\u001b[0m \u001b[39m# For data is list-like, or Iterable (will consume into list)\u001b[39;00m\n\u001b[0;32m    731\u001b[0m \u001b[39melif\u001b[39;00m is_list_like(data):\n",
      "File \u001b[1;32mc:\\Python310\\lib\\site-packages\\pandas\\core\\internals\\construction.py:350\u001b[0m, in \u001b[0;36mndarray_to_mgr\u001b[1;34m(values, index, columns, dtype, copy, typ)\u001b[0m\n\u001b[0;32m    345\u001b[0m \u001b[39m# _prep_ndarraylike ensures that values.ndim == 2 at this point\u001b[39;00m\n\u001b[0;32m    346\u001b[0m index, columns \u001b[39m=\u001b[39m _get_axes(\n\u001b[0;32m    347\u001b[0m     values\u001b[39m.\u001b[39mshape[\u001b[39m0\u001b[39m], values\u001b[39m.\u001b[39mshape[\u001b[39m1\u001b[39m], index\u001b[39m=\u001b[39mindex, columns\u001b[39m=\u001b[39mcolumns\n\u001b[0;32m    348\u001b[0m )\n\u001b[1;32m--> 350\u001b[0m _check_values_indices_shape_match(values, index, columns)\n\u001b[0;32m    352\u001b[0m \u001b[39mif\u001b[39;00m typ \u001b[39m==\u001b[39m \u001b[39m\"\u001b[39m\u001b[39marray\u001b[39m\u001b[39m\"\u001b[39m:\n\u001b[0;32m    354\u001b[0m     \u001b[39mif\u001b[39;00m \u001b[39missubclass\u001b[39m(values\u001b[39m.\u001b[39mdtype\u001b[39m.\u001b[39mtype, \u001b[39mstr\u001b[39m):\n",
      "File \u001b[1;32mc:\\Python310\\lib\\site-packages\\pandas\\core\\internals\\construction.py:421\u001b[0m, in \u001b[0;36m_check_values_indices_shape_match\u001b[1;34m(values, index, columns)\u001b[0m\n\u001b[0;32m    419\u001b[0m passed \u001b[39m=\u001b[39m values\u001b[39m.\u001b[39mshape\n\u001b[0;32m    420\u001b[0m implied \u001b[39m=\u001b[39m (\u001b[39mlen\u001b[39m(index), \u001b[39mlen\u001b[39m(columns))\n\u001b[1;32m--> 421\u001b[0m \u001b[39mraise\u001b[39;00m \u001b[39mValueError\u001b[39;00m(\u001b[39mf\u001b[39m\u001b[39m\"\u001b[39m\u001b[39mShape of passed values is \u001b[39m\u001b[39m{\u001b[39;00mpassed\u001b[39m}\u001b[39;00m\u001b[39m, indices imply \u001b[39m\u001b[39m{\u001b[39;00mimplied\u001b[39m}\u001b[39;00m\u001b[39m\"\u001b[39m)\n",
      "\u001b[1;31mValueError\u001b[0m: Shape of passed values is (119882, 10), indices imply (119882, 11)"
     ]
    }
   ],
   "source": [
    "df_links.to_csv('./output/output_links.csv',encoding='utf-8-sig')"
   ]
  },
  {
   "cell_type": "markdown",
   "metadata": {},
   "source": [
    "### Coarse-grained dataset: Aggregated view over all website\n",
    "Here, the goal is to extend the _articles_ table by adding columns representing the total number of clicks, the number of impressions and the CTR. Except for the CTR, we can simply sum the obtained numbers in the finer granularity."
   ]
  },
  {
   "cell_type": "markdown",
   "metadata": {},
   "source": [
    "Let's extract the articles data by aggregating the df_links dataframe"
   ]
  },
  {
   "cell_type": "code",
   "execution_count": 26,
   "metadata": {},
   "outputs": [],
   "source": [
    "articles = df_links[[\"linkTarget\", \"impressions\", \"hits\"]].groupby(by=[\"linkTarget\"]).sum()\n",
    "articles[\"CTR\"] = articles[\"hits\"]/articles[\"impressions\"]\n"
   ]
  },
  {
   "cell_type": "markdown",
   "metadata": {},
   "source": [
    "We can now rank the 10 most clicked articles"
   ]
  },
  {
   "cell_type": "code",
   "execution_count": 27,
   "metadata": {},
   "outputs": [
    {
     "data": {
      "text/html": [
       "<div>\n",
       "<style scoped>\n",
       "    .dataframe tbody tr th:only-of-type {\n",
       "        vertical-align: middle;\n",
       "    }\n",
       "\n",
       "    .dataframe tbody tr th {\n",
       "        vertical-align: top;\n",
       "    }\n",
       "\n",
       "    .dataframe thead th {\n",
       "        text-align: right;\n",
       "    }\n",
       "</style>\n",
       "<table border=\"1\" class=\"dataframe\">\n",
       "  <thead>\n",
       "    <tr style=\"text-align: right;\">\n",
       "      <th></th>\n",
       "      <th>impressions</th>\n",
       "      <th>hits</th>\n",
       "      <th>CTR</th>\n",
       "    </tr>\n",
       "    <tr>\n",
       "      <th>linkTarget</th>\n",
       "      <th></th>\n",
       "      <th></th>\n",
       "      <th></th>\n",
       "    </tr>\n",
       "  </thead>\n",
       "  <tbody>\n",
       "    <tr>\n",
       "      <th>united_states</th>\n",
       "      <td>116139</td>\n",
       "      <td>8839</td>\n",
       "      <td>0.076107</td>\n",
       "    </tr>\n",
       "    <tr>\n",
       "      <th>europe</th>\n",
       "      <td>100644</td>\n",
       "      <td>4334</td>\n",
       "      <td>0.043063</td>\n",
       "    </tr>\n",
       "    <tr>\n",
       "      <th>united_kingdom</th>\n",
       "      <td>93549</td>\n",
       "      <td>3886</td>\n",
       "      <td>0.041540</td>\n",
       "    </tr>\n",
       "    <tr>\n",
       "      <th>england</th>\n",
       "      <td>49206</td>\n",
       "      <td>3232</td>\n",
       "      <td>0.065683</td>\n",
       "    </tr>\n",
       "    <tr>\n",
       "      <th>earth</th>\n",
       "      <td>47028</td>\n",
       "      <td>3191</td>\n",
       "      <td>0.067853</td>\n",
       "    </tr>\n",
       "    <tr>\n",
       "      <th>africa</th>\n",
       "      <td>52276</td>\n",
       "      <td>2719</td>\n",
       "      <td>0.052012</td>\n",
       "    </tr>\n",
       "    <tr>\n",
       "      <th>world_war_ii</th>\n",
       "      <td>78597</td>\n",
       "      <td>2274</td>\n",
       "      <td>0.028932</td>\n",
       "    </tr>\n",
       "    <tr>\n",
       "      <th>north_america</th>\n",
       "      <td>53079</td>\n",
       "      <td>1848</td>\n",
       "      <td>0.034816</td>\n",
       "    </tr>\n",
       "    <tr>\n",
       "      <th>germany</th>\n",
       "      <td>80023</td>\n",
       "      <td>1724</td>\n",
       "      <td>0.021544</td>\n",
       "    </tr>\n",
       "    <tr>\n",
       "      <th>animal</th>\n",
       "      <td>31440</td>\n",
       "      <td>1692</td>\n",
       "      <td>0.053817</td>\n",
       "    </tr>\n",
       "  </tbody>\n",
       "</table>\n",
       "</div>"
      ],
      "text/plain": [
       "                impressions  hits       CTR\n",
       "linkTarget                                 \n",
       "united_states        116139  8839  0.076107\n",
       "europe               100644  4334  0.043063\n",
       "united_kingdom        93549  3886  0.041540\n",
       "england               49206  3232  0.065683\n",
       "earth                 47028  3191  0.067853\n",
       "africa                52276  2719  0.052012\n",
       "world_war_ii          78597  2274  0.028932\n",
       "north_america         53079  1848  0.034816\n",
       "germany               80023  1724  0.021544\n",
       "animal                31440  1692  0.053817"
      ]
     },
     "execution_count": 27,
     "metadata": {},
     "output_type": "execute_result"
    }
   ],
   "source": [
    "articles.sort_values(by=['hits'], ascending=False).head(10)"
   ]
  },
  {
   "cell_type": "markdown",
   "metadata": {},
   "source": [
    "Let's do the same but ordering with CTR"
   ]
  },
  {
   "cell_type": "code",
   "execution_count": 28,
   "metadata": {},
   "outputs": [
    {
     "data": {
      "text/html": [
       "<div>\n",
       "<style scoped>\n",
       "    .dataframe tbody tr th:only-of-type {\n",
       "        vertical-align: middle;\n",
       "    }\n",
       "\n",
       "    .dataframe tbody tr th {\n",
       "        vertical-align: top;\n",
       "    }\n",
       "\n",
       "    .dataframe thead th {\n",
       "        text-align: right;\n",
       "    }\n",
       "</style>\n",
       "<table border=\"1\" class=\"dataframe\">\n",
       "  <thead>\n",
       "    <tr style=\"text-align: right;\">\n",
       "      <th></th>\n",
       "      <th>impressions</th>\n",
       "      <th>hits</th>\n",
       "      <th>CTR</th>\n",
       "    </tr>\n",
       "    <tr>\n",
       "      <th>linkTarget</th>\n",
       "      <th></th>\n",
       "      <th></th>\n",
       "      <th></th>\n",
       "    </tr>\n",
       "  </thead>\n",
       "  <tbody>\n",
       "    <tr>\n",
       "      <th>exploration_of_mars</th>\n",
       "      <td>19</td>\n",
       "      <td>14</td>\n",
       "      <td>0.736842</td>\n",
       "    </tr>\n",
       "    <tr>\n",
       "      <th>list_of_european_countries</th>\n",
       "      <td>3</td>\n",
       "      <td>2</td>\n",
       "      <td>0.666667</td>\n",
       "    </tr>\n",
       "    <tr>\n",
       "      <th>wta_tour_championships</th>\n",
       "      <td>8</td>\n",
       "      <td>5</td>\n",
       "      <td>0.625000</td>\n",
       "    </tr>\n",
       "    <tr>\n",
       "      <th>gray_reef_shark</th>\n",
       "      <td>20</td>\n",
       "      <td>12</td>\n",
       "      <td>0.600000</td>\n",
       "    </tr>\n",
       "    <tr>\n",
       "      <th>shenzhou_spacecraft</th>\n",
       "      <td>17</td>\n",
       "      <td>10</td>\n",
       "      <td>0.588235</td>\n",
       "    </tr>\n",
       "    <tr>\n",
       "      <th>the_lion_king</th>\n",
       "      <td>324</td>\n",
       "      <td>184</td>\n",
       "      <td>0.567901</td>\n",
       "    </tr>\n",
       "    <tr>\n",
       "      <th>boy_scout</th>\n",
       "      <td>4</td>\n",
       "      <td>2</td>\n",
       "      <td>0.500000</td>\n",
       "    </tr>\n",
       "    <tr>\n",
       "      <th>battle_of_bicocca</th>\n",
       "      <td>12</td>\n",
       "      <td>6</td>\n",
       "      <td>0.500000</td>\n",
       "    </tr>\n",
       "    <tr>\n",
       "      <th>bohemian_rhapsody</th>\n",
       "      <td>27</td>\n",
       "      <td>13</td>\n",
       "      <td>0.481481</td>\n",
       "    </tr>\n",
       "    <tr>\n",
       "      <th>iceland_hotspot</th>\n",
       "      <td>17</td>\n",
       "      <td>8</td>\n",
       "      <td>0.470588</td>\n",
       "    </tr>\n",
       "  </tbody>\n",
       "</table>\n",
       "</div>"
      ],
      "text/plain": [
       "                            impressions  hits       CTR\n",
       "linkTarget                                             \n",
       "exploration_of_mars                  19    14  0.736842\n",
       "list_of_european_countries            3     2  0.666667\n",
       "wta_tour_championships                8     5  0.625000\n",
       "gray_reef_shark                      20    12  0.600000\n",
       "shenzhou_spacecraft                  17    10  0.588235\n",
       "the_lion_king                       324   184  0.567901\n",
       "boy_scout                             4     2  0.500000\n",
       "battle_of_bicocca                    12     6  0.500000\n",
       "bohemian_rhapsody                    27    13  0.481481\n",
       "iceland_hotspot                      17     8  0.470588"
      ]
     },
     "execution_count": 28,
     "metadata": {},
     "output_type": "execute_result"
    }
   ],
   "source": [
    "articles.sort_values(by=['CTR'], ascending=False).head(10)"
   ]
  },
  {
   "cell_type": "markdown",
   "metadata": {},
   "source": [
    "This last ranking might not be very accurate since some articles have very low impressions."
   ]
  },
  {
   "cell_type": "markdown",
   "metadata": {},
   "source": [
    "# Exploratory Data Analysis"
   ]
  },
  {
   "cell_type": "markdown",
   "metadata": {},
   "source": [
    "## Understanding the Wikispeedia network"
   ]
  },
  {
   "cell_type": "markdown",
   "metadata": {},
   "source": [
    "To have a better understanding of the structure of the links, we wish to create a graph of the network."
   ]
  },
  {
   "cell_type": "code",
   "execution_count": 29,
   "metadata": {},
   "outputs": [],
   "source": [
    "G = nx.Graph()\n",
    "G = nx.from_pandas_edgelist(df_links, 'linkSource', 'linkTarget')"
   ]
  },
  {
   "cell_type": "code",
   "execution_count": 30,
   "metadata": {},
   "outputs": [
    {
     "data": {
      "image/png": "[encoded data removed]",
      "text/plain": [
       "<Figure size 640x480 with 1 Axes>"
      ]
     },
     "metadata": {},
     "output_type": "display_data"
    }
   ],
   "source": [
    "nx.draw(G)"
   ]
  },
  {
   "cell_type": "markdown",
   "metadata": {},
   "source": [
    "## Data Distribution"
   ]
  },
  {
   "cell_type": "markdown",
   "metadata": {},
   "source": [
    "Let's explore the dataset we have obtained."
   ]
  },
  {
   "cell_type": "code",
   "execution_count": 19,
   "metadata": {},
   "outputs": [
    {
     "name": "stdout",
     "output_type": "stream",
     "text": [
      "There exist 119882 articles in total. \n",
      "\n",
      "The unique articles are: 4587\n"
     ]
    },
    {
     "data": {
      "text/plain": [
       "united_states                     294\n",
       "driving_on_the_left_or_right      255\n",
       "list_of_countries                 244\n",
       "list_of_circulating_currencies    236\n",
       "list_of_sovereign_states          216\n",
       "                                 ... \n",
       "lighting_designer                   1\n",
       "soil_structure                      1\n",
       "pro_milone                          1\n",
       "soil_profile                        1\n",
       "human_dignity                       1\n",
       "Name: linkSource, Length: 4587, dtype: int64"
      ]
     },
     "execution_count": 19,
     "metadata": {},
     "output_type": "execute_result"
    }
   ],
   "source": [
    "print('There exist', len(df_links), 'articles in total.','\\n')\n",
    "print('The unique articles are:', df_links.linkSource.nunique())\n",
    "df_links['linkSource'].value_counts()"
   ]
  },
  {
   "cell_type": "code",
   "execution_count": 20,
   "metadata": {},
   "outputs": [
    {
     "data": {
      "text/plain": [
       "Text(0.5, 0, 'Article')"
      ]
     },
     "execution_count": 20,
     "metadata": {},
     "output_type": "execute_result"
    },
    {
     "data": {
      "image/png": "[encoded data removed]",
      "text/plain": [
       "<Figure size 1100x500 with 1 Axes>"
      ]
     },
     "metadata": {},
     "output_type": "display_data"
    }
   ],
   "source": [
    "group_by_links = df_links.groupby(by=df_links.linkSource).count().reset_index()[:50]\n",
    "\n",
    "pl = group_by_links.plot(kind='bar', figsize=[11,5], rot=0)\n",
    "pl.set_title('Distribution of the number of links per article')\n",
    "pl.set_ylabel('Number of links')\n",
    "pl.set_xlabel('Article')"
   ]
  },
  {
   "cell_type": "markdown",
   "metadata": {},
   "source": [
    "We can see that the number of links per article does not follow a uniform distribution. There are articles that have more than 160 links while others have less than 20."
   ]
  },
  {
   "cell_type": "code",
   "execution_count": 21,
   "metadata": {},
   "outputs": [
    {
     "data": {
      "text/plain": [
       "Text(0.5, 0, 'Article')"
      ]
     },
     "execution_count": 21,
     "metadata": {},
     "output_type": "execute_result"
    },
    {
     "data": {
      "image/png": "[encoded data removed]",
      "text/plain": [
       "<Figure size 640x480 with 1 Axes>"
      ]
     },
     "metadata": {},
     "output_type": "display_data"
    }
   ],
   "source": [
    "pl = group_by_links.boxplot()\n",
    "pl.set_title('Distribution of the number of links per article')\n",
    "pl.set_ylabel('Number of links')\n",
    "pl.set_xlabel('Article')"
   ]
  },
  {
   "cell_type": "markdown",
   "metadata": {},
   "source": [
    "## Sanity Check"
   ]
  }
 ],
 "metadata": {
  "kernelspec": {
   "display_name": "Python 3.10.4 64-bit",
   "language": "python",
   "name": "python3"
  },
  "language_info": {
   "codemirror_mode": {
    "name": "ipython",
    "version": 3
   },
   "file_extension": ".py",
   "mimetype": "text/x-python",
   "name": "python",
   "nbconvert_exporter": "python",
   "pygments_lexer": "ipython3",
   "version": "3.10.4"
  },
  "orig_nbformat": 4,
  "vscode": {
   "interpreter": {
    "hash": "369f2c481f4da34e4445cda3fffd2e751bd1c4d706f27375911949ba6bb62e1c"
   }
  }
 },
 "nbformat": 4,
 "nbformat_minor": 2
}
