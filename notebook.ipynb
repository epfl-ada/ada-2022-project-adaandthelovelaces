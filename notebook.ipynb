{
 "cells": [
  {
   "cell_type": "markdown",
   "metadata": {
    "pycharm": {
     "name": "#%% md\n"
    }
   },
   "source": [
    "# CS-401, Final Milestone, Project\n",
    "The following notebook contains the code for the final milestone of the project. The code is divided into 3 parts:\n",
    "1. Data Pre-processing\n",
    "2. Exploratory Analysis\n",
    "3. Observational Study"
   ]
  },
  {
   "cell_type": "markdown",
   "metadata": {
    "pycharm": {
     "name": "#%% md\n"
    }
   },
   "source": [
    "# Presentation of the dataset\n",
    "The dataset used in this project is generated from research papers on how users navigate through wikipedia pages. Five files were used from the dataset:\n",
    "1. The list of all articles in the dataset that a user can navigate too (and through): articles.tsv\n",
    "2. The categories associated to all these articles: categories.tsv\n",
    "3. The list of all outgoing links from each article: links.tsv\n",
    "4. The list of all games initiated by users, where each game is a sequence of articles visited by the user. These articles are finished or not finished (path_finished.tsv & path_unfinished.tsv).\n",
    "\n",
    "This dataset was taken from the following papers:\n",
    "1. Robert West and Jure Leskovec:\n",
    "    Human Wayfinding in Information Networks.\n",
    "    21st International World Wide Web Conference (WWW), 2012.\n",
    ".\n",
    "2. Robert West, Joelle Pineau, and Doina Precup:\n",
    "     Wikispeedia: An Online Game for Inferring Semantic Distances between Concepts.\n",
    "     21st International Joint Conference on Artificial Intelligence (IJCAI), 2009.\n"
   ]
  },
  {
   "cell_type": "markdown",
   "metadata": {
    "pycharm": {
     "name": "#%% md\n"
    }
   },
   "source": [
    "# Part 0: Imports"
   ]
  },
  {
   "cell_type": "markdown",
   "metadata": {
    "pycharm": {
     "name": "#%% md\n"
    }
   },
   "source": [
    "The following non-standard packages were added to our environment:\n",
    "1. sentence-transformers: This package was used to compute semantic distance between article titles and their categories."
   ]
  },
  {
   "cell_type": "code",
   "execution_count": 1,
   "outputs": [],
   "source": [
    "# required non-standard packages to be installed for NLP\n",
    "#!pip install -U sentence-transformers"
   ],
   "metadata": {
    "collapsed": false,
    "pycharm": {
     "name": "#%%\n"
    }
   }
  },
  {
   "cell_type": "markdown",
   "source": [
    "The following libraries were used to reach our objectives."
   ],
   "metadata": {
    "collapsed": false,
    "pycharm": {
     "name": "#%% md\n"
    }
   }
  },
  {
   "cell_type": "code",
   "execution_count": 2,
   "metadata": {
    "collapsed": false,
    "jupyter": {
     "outputs_hidden": false
    },
    "pycharm": {
     "name": "#%%\n"
    }
   },
   "outputs": [],
   "source": [
    "# importing libraries\n",
    "## standard\n",
    "import numpy as np\n",
    "import pandas as pd\n",
    "import os\n",
    "import random\n",
    "\n",
    "## visualisation\n",
    "import matplotlib.pyplot as plt\n",
    "import seaborn as sns\n",
    "import plotly.graph_objects as go\n",
    "import plotly.express as px\n",
    "import plotly.io as pio\n",
    "\n",
    "## utilities\n",
    "import urllib.parse as urlparse\n",
    "from collections import defaultdict\n",
    "from tqdm.notebook import tqdm_notebook\n",
    "\n",
    "## browser window output\n",
    "from selenium import webdriver\n",
    "from selenium.webdriver.common.by import By\n",
    "from selenium.webdriver.chrome.options import Options\n",
    "\n",
    "## networks\n",
    "import networkx as nx\n",
    "\n",
    "## NLP and semantic matching\n",
    "from sentence_transformers import SentenceTransformer\n",
    "from sklearn.metrics.pairwise import cosine_similarity\n",
    "\n",
    "## statistics\n",
    "from scipy import stats\n",
    "import statsmodels.formula.api as smf"
   ]
  },
  {
   "cell_type": "markdown",
   "metadata": {
    "pycharm": {
     "name": "#%% md\n"
    }
   },
   "source": [
    "---\n",
    "# Part 1: Data Pre-processing\n",
    "The objective of this first section is to create an interesting dataset to answer our research question from the raw data.\n",
    "\n",
    "The pre-processing of the data is divided into 3 parts:\n",
    "1. Data Loading, Transforming & Cleaning\n",
    "2. Coarse-Grained Analysis (Overall Articles)\n",
    "3. Fine-Grained Analysis (Individual Links)"
   ]
  },
  {
   "cell_type": "markdown",
   "metadata": {
    "pycharm": {
     "name": "#%% md\n"
    }
   },
   "source": [
    "## 1.1 Data Loading, Transforming & Cleaning\n",
    "In this first section, we load the data from the dataset and transform it into a format that is easier to work with. We also clean the data by removing any unnecessary columns and rows.\n",
    "\n",
    "The data is loaded from the following files:\n",
    "1. path_finished.tsv\n",
    "2. path_unfinished.tsv\n",
    "3. links.tsv\n",
    "4. articles.tsv\n",
    "5. categories.tsv\n",
    "\n",
    "The resulting data structures that are available are:\n",
    "1. df_users_paths: All the paths taken by users in the dataset as a list of articles visited by the user. The target article and if the game was finished is also included. A first step of filtering is made to remove invalid paths.\n",
    "2. df_links: All the links between articles in the dataset. The links are stored as a list of outgoing links from each article. Encoding and decoding of the links is done to make them easier to work with. Columns are added to store statistics about the links.\n",
    "3. df_articles: All the articles in the dataset with encoding and decoding of the titles. A list of associated categories is included as a column."
   ]
  },
  {
   "cell_type": "code",
   "execution_count": 3,
   "metadata": {
    "collapsed": false,
    "jupyter": {
     "outputs_hidden": false
    },
    "pycharm": {
     "name": "#%%\n"
    }
   },
   "outputs": [],
   "source": [
    "# helper functions for encoding and decoding.\n",
    "def url_parse(url):\n",
    "    \"\"\"\n",
    "    Parse URL encoded to readable characters\n",
    "    \"\"\"\n",
    "\n",
    "    return urlparse.unquote(url).casefold()\n",
    "\n",
    "\n",
    "def url_encode(url):\n",
    "    \"\"\"\n",
    "    URL encode target links\n",
    "    \"\"\"\n",
    "\n",
    "    return urlparse.quote(url)"
   ]
  },
  {
   "cell_type": "markdown",
   "metadata": {
    "pycharm": {
     "name": "#%% md\n"
    }
   },
   "source": [
    "We start by retrieving the data on how the players played the game: these paths are in the paths_finished and paths_unfinished files. We decided to merge both dataset while only dropping unfinished paths that are one article in length or less (no clicks)"
   ]
  },
  {
   "cell_type": "code",
   "execution_count": 4,
   "metadata": {
    "collapsed": false,
    "jupyter": {
     "outputs_hidden": false
    },
    "pycharm": {
     "name": "#%%\n"
    }
   },
   "outputs": [],
   "source": [
    "# load finished paths while dropping unused columns.\n",
    "df_user_finished = pd.read_csv('./data/wikispeedia_paths-and-graph/paths_finished.tsv',\n",
    "                               sep='\\t',\n",
    "                               names=['hashedIpAddress', 'timestamp', 'durationInSec', 'path', 'rating'],\n",
    "                               comment='#')\n",
    "\n",
    "df_user_finished = df_user_finished.drop(['hashedIpAddress', 'timestamp', 'durationInSec', 'rating'], axis=1)\n",
    "\n",
    "#create a column 'target' with the last article of each path to merge with unfinished paths\n",
    "df_user_finished['target'] = df_user_finished['path'].apply(lambda x: x.split(';')[-1])"
   ]
  },
  {
   "cell_type": "code",
   "execution_count": 5,
   "metadata": {
    "collapsed": false,
    "jupyter": {
     "outputs_hidden": false
    },
    "pycharm": {
     "name": "#%%\n"
    }
   },
   "outputs": [],
   "source": [
    "# load unfinished paths while dropping unused columns\n",
    "df_user_unfinished = pd.read_csv('./data/wikispeedia_paths-and-graph/paths_unfinished.tsv',\n",
    "                                 sep='\\t',\n",
    "                                 names=[\"hashedIpAddress\", \"timestamp\", \"durationInSec\", \"path\", \"target\", \"type\"],\n",
    "                                 comment='#')\n",
    "\n",
    "df_user_unfinished = df_user_unfinished.drop(['hashedIpAddress', 'timestamp', 'durationInSec', 'type'], axis=1)\n",
    "\n",
    "# drop paths with only one article (no clicks were made)\n",
    "df_user_unfinished = df_user_unfinished[df_user_unfinished.path.str.contains(';')]"
   ]
  },
  {
   "cell_type": "code",
   "execution_count": 6,
   "metadata": {
    "collapsed": false,
    "jupyter": {
     "outputs_hidden": false
    },
    "pycharm": {
     "name": "#%%\n"
    }
   },
   "outputs": [
    {
     "data": {
      "text/plain": "                                                path               target  \\\n0  [14th_century, 15th_century, 16th_century, pac...  african_slave_trade   \n1  [14th_century, europe, africa, atlantic_slave_...  african_slave_trade   \n2  [14th_century, niger, nigeria, british_empire,...  african_slave_trade   \n3  [14th_century, renaissance, ancient_greece, gr...               greece   \n4  [14th_century, italy, roman_catholic_church, h...      john_f._kennedy   \n5  [14th_century, europe, north_america, united_s...      john_f._kennedy   \n6             [14th_century, china, gunpowder, fire]                 fire   \n7  [14th_century, time, isaac_newton, light, colo...              rainbow   \n8               [14th_century, time, light, rainbow]              rainbow   \n9  [14th_century, 15th_century, plato, nature, ul...              rainbow   \n\n  path_type  \n0  finished  \n1  finished  \n2  finished  \n3  finished  \n4  finished  \n5  finished  \n6  finished  \n7  finished  \n8  finished  \n9  finished  ",
      "text/html": "<div>\n<style scoped>\n    .dataframe tbody tr th:only-of-type {\n        vertical-align: middle;\n    }\n\n    .dataframe tbody tr th {\n        vertical-align: top;\n    }\n\n    .dataframe thead th {\n        text-align: right;\n    }\n</style>\n<table border=\"1\" class=\"dataframe\">\n  <thead>\n    <tr style=\"text-align: right;\">\n      <th></th>\n      <th>path</th>\n      <th>target</th>\n      <th>path_type</th>\n    </tr>\n  </thead>\n  <tbody>\n    <tr>\n      <th>0</th>\n      <td>[14th_century, 15th_century, 16th_century, pac...</td>\n      <td>african_slave_trade</td>\n      <td>finished</td>\n    </tr>\n    <tr>\n      <th>1</th>\n      <td>[14th_century, europe, africa, atlantic_slave_...</td>\n      <td>african_slave_trade</td>\n      <td>finished</td>\n    </tr>\n    <tr>\n      <th>2</th>\n      <td>[14th_century, niger, nigeria, british_empire,...</td>\n      <td>african_slave_trade</td>\n      <td>finished</td>\n    </tr>\n    <tr>\n      <th>3</th>\n      <td>[14th_century, renaissance, ancient_greece, gr...</td>\n      <td>greece</td>\n      <td>finished</td>\n    </tr>\n    <tr>\n      <th>4</th>\n      <td>[14th_century, italy, roman_catholic_church, h...</td>\n      <td>john_f._kennedy</td>\n      <td>finished</td>\n    </tr>\n    <tr>\n      <th>5</th>\n      <td>[14th_century, europe, north_america, united_s...</td>\n      <td>john_f._kennedy</td>\n      <td>finished</td>\n    </tr>\n    <tr>\n      <th>6</th>\n      <td>[14th_century, china, gunpowder, fire]</td>\n      <td>fire</td>\n      <td>finished</td>\n    </tr>\n    <tr>\n      <th>7</th>\n      <td>[14th_century, time, isaac_newton, light, colo...</td>\n      <td>rainbow</td>\n      <td>finished</td>\n    </tr>\n    <tr>\n      <th>8</th>\n      <td>[14th_century, time, light, rainbow]</td>\n      <td>rainbow</td>\n      <td>finished</td>\n    </tr>\n    <tr>\n      <th>9</th>\n      <td>[14th_century, 15th_century, plato, nature, ul...</td>\n      <td>rainbow</td>\n      <td>finished</td>\n    </tr>\n  </tbody>\n</table>\n</div>"
     },
     "execution_count": 6,
     "metadata": {},
     "output_type": "execute_result"
    }
   ],
   "source": [
    "# create a new column to store the path type to differentiate finished and unfinished paths after concatenation\n",
    "df_user_finished['path_type'] = 'finished'\n",
    "df_user_unfinished['path_type'] = 'unfinished'\n",
    "\n",
    "df_user_paths = pd.concat([df_user_finished, df_user_unfinished])\n",
    "\n",
    "# some users clicked on links in the footer (Terms & Conditions + Disclaimer) that are not articles per-say.\n",
    "# remove all paths containing these links as it is not in the spirit of the game\n",
    "not_an_article = ['Wikipedia_Text_of_the_GNU_Free_Documentation_License']\n",
    "\n",
    "df_user_paths = df_user_paths[~df_user_paths.path.str.contains('|'.join(not_an_article))]\n",
    "\n",
    "# decode URL encoding for paths, case fold\n",
    "df_user_paths['path'] = df_user_paths['path'].apply(url_parse)\n",
    "df_user_paths['target'] = df_user_paths['target'].apply(url_parse)\n",
    "\n",
    "# transform paths to list of inputs (article names or <)\n",
    "df_user_paths['path'] = df_user_paths['path'].str.split(';')\n",
    "\n",
    "df_user_paths.head(10)"
   ]
  },
  {
   "cell_type": "markdown",
   "metadata": {
    "pycharm": {
     "name": "#%% md\n"
    }
   },
   "source": [
    "We create the df_lnks dataframe from extracted information, add the new columns of interest and initialize them:"
   ]
  },
  {
   "cell_type": "code",
   "execution_count": 7,
   "metadata": {
    "collapsed": false,
    "jupyter": {
     "outputs_hidden": false
    },
    "pycharm": {
     "name": "#%%\n"
    }
   },
   "outputs": [
    {
     "data": {
      "text/plain": "                     linkSource_URL  linkTarget_URL     linkTarget_2URL  \\\n0  %C3%81ed%C3%A1n_mac_Gabr%C3%A1in            Bede                Bede   \n1  %C3%81ed%C3%A1n_mac_Gabr%C3%A1in         Columba             Columba   \n2  %C3%81ed%C3%A1n_mac_Gabr%C3%A1in  D%C3%A1l_Riata  D%25C3%25A1l_Riata   \n3  %C3%81ed%C3%A1n_mac_Gabr%C3%A1in   Great_Britain       Great_Britain   \n4  %C3%81ed%C3%A1n_mac_Gabr%C3%A1in         Ireland             Ireland   \n5  %C3%81ed%C3%A1n_mac_Gabr%C3%A1in     Isle_of_Man         Isle_of_Man   \n6  %C3%81ed%C3%A1n_mac_Gabr%C3%A1in        Monarchy            Monarchy   \n7  %C3%81ed%C3%A1n_mac_Gabr%C3%A1in          Orkney              Orkney   \n8  %C3%81ed%C3%A1n_mac_Gabr%C3%A1in           Picts               Picts   \n9  %C3%81ed%C3%A1n_mac_Gabr%C3%A1in        Scotland            Scotland   \n\n                                linkSource_2URL         linkSource  \\\n0  %25C3%2581ed%25C3%25A1n_mac_Gabr%25C3%25A1in  áedán_mac_gabráin   \n1  %25C3%2581ed%25C3%25A1n_mac_Gabr%25C3%25A1in  áedán_mac_gabráin   \n2  %25C3%2581ed%25C3%25A1n_mac_Gabr%25C3%25A1in  áedán_mac_gabráin   \n3  %25C3%2581ed%25C3%25A1n_mac_Gabr%25C3%25A1in  áedán_mac_gabráin   \n4  %25C3%2581ed%25C3%25A1n_mac_Gabr%25C3%25A1in  áedán_mac_gabráin   \n5  %25C3%2581ed%25C3%25A1n_mac_Gabr%25C3%25A1in  áedán_mac_gabráin   \n6  %25C3%2581ed%25C3%25A1n_mac_Gabr%25C3%25A1in  áedán_mac_gabráin   \n7  %25C3%2581ed%25C3%25A1n_mac_Gabr%25C3%25A1in  áedán_mac_gabráin   \n8  %25C3%2581ed%25C3%25A1n_mac_Gabr%25C3%25A1in  áedán_mac_gabráin   \n9  %25C3%2581ed%25C3%25A1n_mac_Gabr%25C3%25A1in  áedán_mac_gabráin   \n\n      linkTarget                         linkPair  impressions  clicks  xpos  \\\n0           bede           áedán_mac_gabráin;bede            0       0     0   \n1        columba        áedán_mac_gabráin;columba            0       0     0   \n2      dál_riata      áedán_mac_gabráin;dál_riata            0       0     0   \n3  great_britain  áedán_mac_gabráin;great_britain            0       0     0   \n4        ireland        áedán_mac_gabráin;ireland            0       0     0   \n5    isle_of_man    áedán_mac_gabráin;isle_of_man            0       0     0   \n6       monarchy       áedán_mac_gabráin;monarchy            0       0     0   \n7         orkney         áedán_mac_gabráin;orkney            0       0     0   \n8          picts          áedán_mac_gabráin;picts            0       0     0   \n9       scotland       áedán_mac_gabráin;scotland            0       0     0   \n\n   ypos  title_similarity_score  category_similarity_score  length  \n0     0                     0.0                        0.0       0  \n1     0                     0.0                        0.0       0  \n2     0                     0.0                        0.0       0  \n3     0                     0.0                        0.0       0  \n4     0                     0.0                        0.0       0  \n5     0                     0.0                        0.0       0  \n6     0                     0.0                        0.0       0  \n7     0                     0.0                        0.0       0  \n8     0                     0.0                        0.0       0  \n9     0                     0.0                        0.0       0  ",
      "text/html": "<div>\n<style scoped>\n    .dataframe tbody tr th:only-of-type {\n        vertical-align: middle;\n    }\n\n    .dataframe tbody tr th {\n        vertical-align: top;\n    }\n\n    .dataframe thead th {\n        text-align: right;\n    }\n</style>\n<table border=\"1\" class=\"dataframe\">\n  <thead>\n    <tr style=\"text-align: right;\">\n      <th></th>\n      <th>linkSource_URL</th>\n      <th>linkTarget_URL</th>\n      <th>linkTarget_2URL</th>\n      <th>linkSource_2URL</th>\n      <th>linkSource</th>\n      <th>linkTarget</th>\n      <th>linkPair</th>\n      <th>impressions</th>\n      <th>clicks</th>\n      <th>xpos</th>\n      <th>ypos</th>\n      <th>title_similarity_score</th>\n      <th>category_similarity_score</th>\n      <th>length</th>\n    </tr>\n  </thead>\n  <tbody>\n    <tr>\n      <th>0</th>\n      <td>%C3%81ed%C3%A1n_mac_Gabr%C3%A1in</td>\n      <td>Bede</td>\n      <td>Bede</td>\n      <td>%25C3%2581ed%25C3%25A1n_mac_Gabr%25C3%25A1in</td>\n      <td>áedán_mac_gabráin</td>\n      <td>bede</td>\n      <td>áedán_mac_gabráin;bede</td>\n      <td>0</td>\n      <td>0</td>\n      <td>0</td>\n      <td>0</td>\n      <td>0.0</td>\n      <td>0.0</td>\n      <td>0</td>\n    </tr>\n    <tr>\n      <th>1</th>\n      <td>%C3%81ed%C3%A1n_mac_Gabr%C3%A1in</td>\n      <td>Columba</td>\n      <td>Columba</td>\n      <td>%25C3%2581ed%25C3%25A1n_mac_Gabr%25C3%25A1in</td>\n      <td>áedán_mac_gabráin</td>\n      <td>columba</td>\n      <td>áedán_mac_gabráin;columba</td>\n      <td>0</td>\n      <td>0</td>\n      <td>0</td>\n      <td>0</td>\n      <td>0.0</td>\n      <td>0.0</td>\n      <td>0</td>\n    </tr>\n    <tr>\n      <th>2</th>\n      <td>%C3%81ed%C3%A1n_mac_Gabr%C3%A1in</td>\n      <td>D%C3%A1l_Riata</td>\n      <td>D%25C3%25A1l_Riata</td>\n      <td>%25C3%2581ed%25C3%25A1n_mac_Gabr%25C3%25A1in</td>\n      <td>áedán_mac_gabráin</td>\n      <td>dál_riata</td>\n      <td>áedán_mac_gabráin;dál_riata</td>\n      <td>0</td>\n      <td>0</td>\n      <td>0</td>\n      <td>0</td>\n      <td>0.0</td>\n      <td>0.0</td>\n      <td>0</td>\n    </tr>\n    <tr>\n      <th>3</th>\n      <td>%C3%81ed%C3%A1n_mac_Gabr%C3%A1in</td>\n      <td>Great_Britain</td>\n      <td>Great_Britain</td>\n      <td>%25C3%2581ed%25C3%25A1n_mac_Gabr%25C3%25A1in</td>\n      <td>áedán_mac_gabráin</td>\n      <td>great_britain</td>\n      <td>áedán_mac_gabráin;great_britain</td>\n      <td>0</td>\n      <td>0</td>\n      <td>0</td>\n      <td>0</td>\n      <td>0.0</td>\n      <td>0.0</td>\n      <td>0</td>\n    </tr>\n    <tr>\n      <th>4</th>\n      <td>%C3%81ed%C3%A1n_mac_Gabr%C3%A1in</td>\n      <td>Ireland</td>\n      <td>Ireland</td>\n      <td>%25C3%2581ed%25C3%25A1n_mac_Gabr%25C3%25A1in</td>\n      <td>áedán_mac_gabráin</td>\n      <td>ireland</td>\n      <td>áedán_mac_gabráin;ireland</td>\n      <td>0</td>\n      <td>0</td>\n      <td>0</td>\n      <td>0</td>\n      <td>0.0</td>\n      <td>0.0</td>\n      <td>0</td>\n    </tr>\n    <tr>\n      <th>5</th>\n      <td>%C3%81ed%C3%A1n_mac_Gabr%C3%A1in</td>\n      <td>Isle_of_Man</td>\n      <td>Isle_of_Man</td>\n      <td>%25C3%2581ed%25C3%25A1n_mac_Gabr%25C3%25A1in</td>\n      <td>áedán_mac_gabráin</td>\n      <td>isle_of_man</td>\n      <td>áedán_mac_gabráin;isle_of_man</td>\n      <td>0</td>\n      <td>0</td>\n      <td>0</td>\n      <td>0</td>\n      <td>0.0</td>\n      <td>0.0</td>\n      <td>0</td>\n    </tr>\n    <tr>\n      <th>6</th>\n      <td>%C3%81ed%C3%A1n_mac_Gabr%C3%A1in</td>\n      <td>Monarchy</td>\n      <td>Monarchy</td>\n      <td>%25C3%2581ed%25C3%25A1n_mac_Gabr%25C3%25A1in</td>\n      <td>áedán_mac_gabráin</td>\n      <td>monarchy</td>\n      <td>áedán_mac_gabráin;monarchy</td>\n      <td>0</td>\n      <td>0</td>\n      <td>0</td>\n      <td>0</td>\n      <td>0.0</td>\n      <td>0.0</td>\n      <td>0</td>\n    </tr>\n    <tr>\n      <th>7</th>\n      <td>%C3%81ed%C3%A1n_mac_Gabr%C3%A1in</td>\n      <td>Orkney</td>\n      <td>Orkney</td>\n      <td>%25C3%2581ed%25C3%25A1n_mac_Gabr%25C3%25A1in</td>\n      <td>áedán_mac_gabráin</td>\n      <td>orkney</td>\n      <td>áedán_mac_gabráin;orkney</td>\n      <td>0</td>\n      <td>0</td>\n      <td>0</td>\n      <td>0</td>\n      <td>0.0</td>\n      <td>0.0</td>\n      <td>0</td>\n    </tr>\n    <tr>\n      <th>8</th>\n      <td>%C3%81ed%C3%A1n_mac_Gabr%C3%A1in</td>\n      <td>Picts</td>\n      <td>Picts</td>\n      <td>%25C3%2581ed%25C3%25A1n_mac_Gabr%25C3%25A1in</td>\n      <td>áedán_mac_gabráin</td>\n      <td>picts</td>\n      <td>áedán_mac_gabráin;picts</td>\n      <td>0</td>\n      <td>0</td>\n      <td>0</td>\n      <td>0</td>\n      <td>0.0</td>\n      <td>0.0</td>\n      <td>0</td>\n    </tr>\n    <tr>\n      <th>9</th>\n      <td>%C3%81ed%C3%A1n_mac_Gabr%C3%A1in</td>\n      <td>Scotland</td>\n      <td>Scotland</td>\n      <td>%25C3%2581ed%25C3%25A1n_mac_Gabr%25C3%25A1in</td>\n      <td>áedán_mac_gabráin</td>\n      <td>scotland</td>\n      <td>áedán_mac_gabráin;scotland</td>\n      <td>0</td>\n      <td>0</td>\n      <td>0</td>\n      <td>0</td>\n      <td>0.0</td>\n      <td>0.0</td>\n      <td>0</td>\n    </tr>\n  </tbody>\n</table>\n</div>"
     },
     "execution_count": 7,
     "metadata": {},
     "output_type": "execute_result"
    }
   ],
   "source": [
    "# extract list of links as DataFrame\n",
    "df_links = pd.read_csv('./data/wikispeedia_paths-and-graph/links.tsv',\n",
    "                       sep='\\t',\n",
    "                       names=['linkSource_URL', 'linkTarget_URL'],\n",
    "                       comment='#')\n",
    "# definitions:\n",
    "## source is the link of the page on which a link is shown to the user\n",
    "## target link is the outgoing link on which the user clicks (aka destination article)\n",
    "\n",
    "# filenames are single encoded (ie C++.htm is encoded at C%2B%2B.htm)\n",
    "# outgoing names in the HTML source are DOUBLE encoded (ie C++.htm is <a href=\"../../wp/c/C%252B%252B.htm\">\n",
    "\n",
    "# add a helper column for linkTarget_2URL storing the DOUBLE URL ENCODED string\n",
    "df_links['linkTarget_2URL'] = df_links['linkTarget_URL'].map(url_encode)\n",
    "df_links['linkSource_2URL'] = df_links['linkSource_URL'].map(url_encode)\n",
    "\n",
    "# decode URL encoding for paths, case fold (from URL encoding to readable)\n",
    "df_links['linkSource'] = df_links['linkSource_URL'].map(url_parse)\n",
    "df_links['linkTarget'] = df_links['linkTarget_URL'].map(url_parse)\n",
    "\n",
    "# merge columns in string for easy lookup (unique key), format (source;target)\n",
    "df_links['linkPair'] = df_links['linkSource'] + ';' + df_links['linkTarget']\n",
    "\n",
    "# number of impressions will be counted in column 'impressions' for each pair\n",
    "df_links['impressions'] = pd.Series(np.zeros((len(df_links)), dtype=int))\n",
    "\n",
    "# number of hits will be counted in column 'hits' for each pair\n",
    "df_links['clicks'] = pd.Series(np.zeros((len(df_links)), dtype=int))\n",
    "\n",
    "# to store the x and y position of the unique link pair\n",
    "df_links['xpos'] = pd.Series(np.zeros((len(df_links)), dtype=int))\n",
    "df_links['ypos'] = pd.Series(np.zeros((len(df_links)), dtype=int))\n",
    "\n",
    "# to store the similarity score between the source and target articles\n",
    "df_links['title_similarity_score'] = pd.Series(np.zeros((len(df_links)), dtype=float))\n",
    "df_links['category_similarity_score'] = pd.Series(np.zeros((len(df_links)), dtype=float))\n",
    "\n",
    "# to store the length of each source article\n",
    "df_links['length'] = pd.Series(np.zeros((len(df_links)), dtype=int))\n",
    "\n",
    "df_links.head(10)"
   ]
  },
  {
   "cell_type": "markdown",
   "metadata": {
    "pycharm": {
     "name": "#%% md\n"
    }
   },
   "source": [
    "We store the list of articles in a dataframe and decode/encode as required."
   ]
  },
  {
   "cell_type": "code",
   "execution_count": 8,
   "metadata": {
    "collapsed": false,
    "jupyter": {
     "outputs_hidden": false
    },
    "pycharm": {
     "name": "#%%\n"
    }
   },
   "outputs": [
    {
     "data": {
      "text/plain": "                          title_URL  \\\n0  %C3%81ed%C3%A1n_mac_Gabr%C3%A1in   \n1                        %C3%85land   \n2                %C3%89douard_Manet   \n3                         %C3%89ire   \n4        %C3%93engus_I_of_the_Picts   \n5    %E2%82%AC2_commemorative_coins   \n6                      10th_century   \n7                      11th_century   \n8                      12th_century   \n9                      13th_century   \n\n                                     title_2URL                   title  \\\n0  %25C3%2581ed%25C3%25A1n_mac_Gabr%25C3%25A1in       áedán_mac_gabráin   \n1                                %25C3%2585land                   åland   \n2                        %25C3%2589douard_Manet           édouard_manet   \n3                                 %25C3%2589ire                    éire   \n4                %25C3%2593engus_I_of_the_Picts   óengus_i_of_the_picts   \n5          %25E2%2582%25AC2_commemorative_coins  €2_commemorative_coins   \n6                                  10th_century            10th_century   \n7                                  11th_century            11th_century   \n8                                  12th_century            12th_century   \n9                                  13th_century            13th_century   \n\n                                          categories  \n0  History.British_History.British_History_1500_a...  \n1  Countries Geography.European_Geography.Europea...  \n2                                     People.Artists  \n3  Countries Geography.European_Geography.Europea...  \n4  History.British_History.British_History_1500_a...  \n5                          Business_Studies.Currency  \n6                            History.General_history  \n7                            History.General_history  \n8                            History.General_history  \n9                            History.General_history  ",
      "text/html": "<div>\n<style scoped>\n    .dataframe tbody tr th:only-of-type {\n        vertical-align: middle;\n    }\n\n    .dataframe tbody tr th {\n        vertical-align: top;\n    }\n\n    .dataframe thead th {\n        text-align: right;\n    }\n</style>\n<table border=\"1\" class=\"dataframe\">\n  <thead>\n    <tr style=\"text-align: right;\">\n      <th></th>\n      <th>title_URL</th>\n      <th>title_2URL</th>\n      <th>title</th>\n      <th>categories</th>\n    </tr>\n  </thead>\n  <tbody>\n    <tr>\n      <th>0</th>\n      <td>%C3%81ed%C3%A1n_mac_Gabr%C3%A1in</td>\n      <td>%25C3%2581ed%25C3%25A1n_mac_Gabr%25C3%25A1in</td>\n      <td>áedán_mac_gabráin</td>\n      <td>History.British_History.British_History_1500_a...</td>\n    </tr>\n    <tr>\n      <th>1</th>\n      <td>%C3%85land</td>\n      <td>%25C3%2585land</td>\n      <td>åland</td>\n      <td>Countries Geography.European_Geography.Europea...</td>\n    </tr>\n    <tr>\n      <th>2</th>\n      <td>%C3%89douard_Manet</td>\n      <td>%25C3%2589douard_Manet</td>\n      <td>édouard_manet</td>\n      <td>People.Artists</td>\n    </tr>\n    <tr>\n      <th>3</th>\n      <td>%C3%89ire</td>\n      <td>%25C3%2589ire</td>\n      <td>éire</td>\n      <td>Countries Geography.European_Geography.Europea...</td>\n    </tr>\n    <tr>\n      <th>4</th>\n      <td>%C3%93engus_I_of_the_Picts</td>\n      <td>%25C3%2593engus_I_of_the_Picts</td>\n      <td>óengus_i_of_the_picts</td>\n      <td>History.British_History.British_History_1500_a...</td>\n    </tr>\n    <tr>\n      <th>5</th>\n      <td>%E2%82%AC2_commemorative_coins</td>\n      <td>%25E2%2582%25AC2_commemorative_coins</td>\n      <td>€2_commemorative_coins</td>\n      <td>Business_Studies.Currency</td>\n    </tr>\n    <tr>\n      <th>6</th>\n      <td>10th_century</td>\n      <td>10th_century</td>\n      <td>10th_century</td>\n      <td>History.General_history</td>\n    </tr>\n    <tr>\n      <th>7</th>\n      <td>11th_century</td>\n      <td>11th_century</td>\n      <td>11th_century</td>\n      <td>History.General_history</td>\n    </tr>\n    <tr>\n      <th>8</th>\n      <td>12th_century</td>\n      <td>12th_century</td>\n      <td>12th_century</td>\n      <td>History.General_history</td>\n    </tr>\n    <tr>\n      <th>9</th>\n      <td>13th_century</td>\n      <td>13th_century</td>\n      <td>13th_century</td>\n      <td>History.General_history</td>\n    </tr>\n  </tbody>\n</table>\n</div>"
     },
     "execution_count": 8,
     "metadata": {},
     "output_type": "execute_result"
    }
   ],
   "source": [
    "# load list of articles\n",
    "df_articles = pd.read_csv('./data/wikispeedia_paths-and-graph/articles.tsv',\n",
    "                          sep='\\t',\n",
    "                          names=['title_URL'],\n",
    "                          comment='#')\n",
    "\n",
    "# load list of categories for articles\n",
    "df_categories = pd.read_csv('./data/wikispeedia_paths-and-graph/categories.tsv',\n",
    "                            sep='\\t',\n",
    "                            names=['title_URL', 'category'],\n",
    "                            comment='#')\n",
    "\n",
    "# store article names in series as DOUBLE URL encoded\n",
    "df_articles['title_2URL'] = df_articles['title_URL'].map(url_encode)\n",
    "\n",
    "# decode URL encoding to readable characters for path analysis\n",
    "df_articles['title'] = df_articles['title_URL'].map(url_parse)\n",
    "\n",
    "# for every article in df_category, concatenate duplicate rows into a list of categories\n",
    "df_categories = df_categories.groupby('title_URL')['category'].apply(list).reset_index(name='categories')\n",
    "\n",
    "# for all articles in df_articles, extract the category from df_categories on column 'title_URL'\n",
    "df_articles = pd.merge(df_articles, df_categories, on='title_URL', how='left')\n",
    "\n",
    "# for every article in df_category with NaN, replace with a string 'N/A'\n",
    "df_articles['categories'] = df_articles['categories'].fillna('No Category')\n",
    "\n",
    "# merge the categories as a long string and remove the subject. prefix\n",
    "df_articles['categories'] = df_articles['categories'].apply(lambda x: ' '.join(x))\n",
    "df_articles['categories'] = df_articles['categories'].apply(lambda x: x.replace('subject.', ''))\n",
    "\n",
    "df_articles.head(10)"
   ]
  },
  {
   "cell_type": "markdown",
   "source": [
    "## 1.2: Fine Grained: Analysis on Specific Links (source;destination)\n",
    "From the raw data, we want to expand the _df_links_ dataframe by adding extra information about individual link pairs.\n",
    "         _Reminder: a link pair is a link shown on a source article leading to a destination article and is represented as (source article;target article)_\n",
    "\n",
    "For each individual and unique link pair, the following metrics will be calculated:\n",
    "- the number of clicks users made by users in all games played\n",
    "- the number of impressions\n",
    "- the CTR of this specific link\n",
    "- the position of these links on a webpage"
   ],
   "metadata": {
    "collapsed": false,
    "pycharm": {
     "name": "#%% md\n"
    }
   }
  },
  {
   "cell_type": "code",
   "execution_count": 9,
   "outputs": [],
   "source": [
    "# optimization step, preprocessing indices to use numpy arrays for faster accessing\n",
    "# for all articles names, create a list of rows in the df_links that have this article as source\n",
    "source_map = defaultdict(list)\n",
    "for link_id, source in enumerate(df_links['linkSource']):\n",
    "    source_map[source].append(link_id)\n",
    "\n",
    "# create a reverse dictionary to index nparray from an article's name\n",
    "## in other words: list[idx]=string to dict[string]=idx\n",
    "my_map = dict(df_links['linkPair'])\n",
    "pair_map = dict((v, k) for k, v in my_map.items())"
   ],
   "metadata": {
    "collapsed": false,
    "pycharm": {
     "name": "#%%\n"
    }
   }
  },
  {
   "cell_type": "markdown",
   "source": [
    "### 1.2.1 Computing Clicks, Impressions & CTR\n",
    "The clicks, impressions and CTR metrics will be calculated by analysing the individual games played by players.\n",
    "For each individual link pair (source;target), we count the number of clicks and impressions to finally compute the click-through rate (CTR).\n",
    "This is done by analysing all finished and unfinished paths of users playing the game by using a stack data structure.\n",
    "\n",
    "For this analysis, a stack data structure is used. No impressions are added when the user uses the \"back\" button; only productive clicks generate impressions."
   ],
   "metadata": {
    "collapsed": false,
    "pycharm": {
     "name": "#%% md\n"
    }
   }
  },
  {
   "cell_type": "code",
   "execution_count": 10,
   "outputs": [],
   "source": [
    "# some pairs were missing from links.tsv\n",
    "# when detected, add them to list\n",
    "def create_link_pair(src, trgt, idx):\n",
    "    # create row\n",
    "    new_row = df_links.iloc[:0, :].copy()\n",
    "\n",
    "    # add row id to source_map[source_node] list\n",
    "    source_map[src].append(idx)\n",
    "\n",
    "    # add value of new pair in pair_map\n",
    "    srch_val = src + ';' + trgt\n",
    "    pair_map[srch_val] = idx\n",
    "\n",
    "    # add values to new row\n",
    "    new_row.at[0, 'linkSource_URL'] = url_encode(src)  # linkSource_URL\n",
    "    new_row.at[0, 'linkTarget_URL'] = url_encode(trgt)  # linkTarget_URL\n",
    "    new_row.at[0, 'linkSource_2URL'] = url_encode(url_encode(src))  # linkSource_2URL\n",
    "    new_row.at[0, 'linkTarget_2URL'] = url_encode(url_encode(trgt))  # linkTarget_2URL\n",
    "    new_row.at[0, 'linkSource'] = src  # linkSource\n",
    "    new_row.at[0, 'linkTarget'] = trgt  # linkTarget\n",
    "    new_row.at[0, 'linkPair'] = srch_val  # linkPair\n",
    "\n",
    "    return new_row"
   ],
   "metadata": {
    "collapsed": false,
    "pycharm": {
     "name": "#%%\n"
    }
   }
  },
  {
   "cell_type": "code",
   "execution_count": 11,
   "outputs": [
    {
     "name": "stdout",
     "output_type": "stream",
     "text": [
      "Created Pair: 'finland;åland'\n",
      "Created Pair: 'republic_of_ireland;éire'\n",
      "Created Pair: 'claude_monet;édouard_manet'\n",
      "Created Pair: 'ireland;éire'\n",
      "Created Pair: 'impressionism;édouard_manet'\n",
      "Created Pair: 'francisco_goya;édouard_manet'\n"
     ]
    }
   ],
   "source": [
    "# column constants for numpy array indexing\n",
    "IMPRESSIONS_COLUMN_ID = df_links.columns.get_loc('impressions')\n",
    "CLICKS_COLUMN_ID = df_links.columns.get_loc('clicks')\n",
    "XPOS_COLUMN_ID = df_links.columns.get_loc('xpos')\n",
    "YPOS_COLUMN_ID = df_links.columns.get_loc('ypos')\n",
    "\n",
    "# numpy array to make operations faster\n",
    "np_links = df_links.to_numpy()\n",
    "\n",
    "# create iterable series of paths\n",
    "series_paths = df_user_paths['path'].squeeze()\n",
    "\n",
    "for path in series_paths:\n",
    "    # initialise stack with first link\n",
    "    foo = list()\n",
    "    foo.append(path[0])\n",
    "    # iterate over every step of user's path\n",
    "    for element in path[1:]:\n",
    "        if element != '<':\n",
    "            # if next element in path is not a return character, store information and analyze\n",
    "            ## source node is the current top of stack\n",
    "            source_node = foo[-1]\n",
    "\n",
    "            ## add next link in list to top of stack\n",
    "            foo.append(element)\n",
    "\n",
    "            ## new top of stack is target\n",
    "            target_node = foo[-1]\n",
    "\n",
    "            # create key for pair identification\n",
    "            search_value = source_node + ';' + target_node\n",
    "\n",
    "            try:\n",
    "                pair = pair_map[search_value]\n",
    "            except Exception as e:\n",
    "                # catch when pair was not listed in dataset, create it\n",
    "                print('Created Pair:', e)\n",
    "                # append row to numpy array\n",
    "                np_links = np.append(np_links, create_link_pair(source_node, target_node, len(np_links)).to_numpy(),\n",
    "                                     axis=0)\n",
    "                break\n",
    "\n",
    "            ## count one impression for all pairs with source_node as source (source_node;*)\n",
    "            source = source_map[source_node]\n",
    "            np_links[source, IMPRESSIONS_COLUMN_ID] += 1\n",
    "\n",
    "            ## add one click-through for the pair (source_node;target_node)\n",
    "            np_links[pair, CLICKS_COLUMN_ID] += 1\n",
    "\n",
    "        else:\n",
    "            # if return character is read, pop top of stack and don't store any info\n",
    "            foo.pop()"
   ],
   "metadata": {
    "collapsed": false,
    "pycharm": {
     "name": "#%%\n"
    }
   }
  },
  {
   "cell_type": "markdown",
   "source": [
    "### Invalid pairs: Interpretation\n",
    "Some issues were discovered with the dataset: some link pairs are missing from the list of links (*links.tsv*).\n",
    "**The users clicked on a link that was not listed in the links.tsv file, but existed on the page.**\n",
    "\n",
    "This was confirmed by going to the source page (ie *finland*) and confirming that there was a link to the destination (ie *åland*), but this link pair was not listed in the links.tsv source file."
   ],
   "metadata": {
    "collapsed": false,
    "pycharm": {
     "name": "#%% md\n"
    }
   }
  },
  {
   "cell_type": "markdown",
   "source": [
    "The values obtained in np_links are put back in the df_links dataframe, since dataframes are easier to handle than numpy arrays"
   ],
   "metadata": {
    "collapsed": false,
    "pycharm": {
     "name": "#%% md\n"
    }
   }
  },
  {
   "cell_type": "code",
   "execution_count": 12,
   "outputs": [],
   "source": [
    "columns = df_links.columns\n",
    "to_dict_values = {}\n",
    "\n",
    "for i in range(len(columns)):\n",
    "    col = columns[i]\n",
    "    to_dict_values[col] = [np_links[k][i] for k in range(len(np_links))]\n",
    "\n",
    "df_links = pd.DataFrame(to_dict_values)"
   ],
   "metadata": {
    "collapsed": false,
    "pycharm": {
     "name": "#%%\n"
    }
   }
  },
  {
   "cell_type": "markdown",
   "source": [
    "From the number of clicks and the number of impressions, we are able to compute the click-through rate (CTR) for each link pair (source;target)"
   ],
   "metadata": {
    "collapsed": false,
    "pycharm": {
     "name": "#%% md\n"
    }
   }
  },
  {
   "cell_type": "code",
   "execution_count": 13,
   "outputs": [],
   "source": [
    "df_links['CTR'] = df_links.clicks / df_links.impressions\n",
    "\n",
    "#drop the rows with NaN values in CTR column as they are pages that were never seen by any users\n",
    "df_links = df_links.dropna(subset=['CTR'])"
   ],
   "metadata": {
    "collapsed": false,
    "pycharm": {
     "name": "#%%\n"
    }
   }
  },
  {
   "cell_type": "markdown",
   "source": [
    "## 1.2.2 NLP model (BERT) to encode the links and the articles' title\n",
    "We wanted to compute two semantic similarity metric using cosine distance:\n",
    "1. The first semantic similarity computed is between the titles of the link pair (source;destination)\n",
    "2. The second semantic similarity metric is computed between the category of the link pair\n",
    "    When there is more than one category for an article, they are concatenated. The logic is that this will increase the information contained in the category and will lead to a higher and more representative semantic similarity score using the BERT model.\n",
    "\n",
    "The similarity metric we computed is based on the cosine distance.\n",
    "\n",
    "First, we compute similarities between the titles of all link pairs (source;destination). Since this operation takes some time to complete, we save the results in a file to avoid having to recompute the similarity scores every time we run the notebook.\n",
    "The output file is the first checkpoint of the notebook (_1_output_title_similarity.csv_)"
   ],
   "metadata": {
    "collapsed": false,
    "pycharm": {
     "name": "#%% md\n"
    }
   }
  },
  {
   "cell_type": "code",
   "execution_count": 14,
   "outputs": [],
   "source": [
    "tqdm_notebook.pandas()  # progress bar for pandas\n",
    "\n",
    "# declare the transformer that takes word as input and outputs a vectorial output that will be used to compute cosine similarity\n",
    "model = SentenceTransformer('efederici/sentence-bert-base')\n",
    "\n",
    "\n",
    "def get_embeddings(string):\n",
    "    return model.encode(string)\n",
    "\n",
    "\n",
    "def compute_title_similarity(current_row):\n",
    "    source_title = current_row['linkSource']\n",
    "    target_title = current_row['linkTarget']\n",
    "    # embedding for strings\n",
    "    source_title_embedding = get_embeddings([source_title])\n",
    "    target_title_embedding = get_embeddings([target_title])\n",
    "    # compute cosine similarity between the two titles\n",
    "    return cosine_similarity(source_title_embedding, target_title_embedding)\n",
    "\n",
    "\n",
    "# check if output file exists and if user wants to overwrite it\n",
    "answer = 'y'  # by default, create output file\n",
    "output_title_similarity_score = 'output/1_output_title_similarity.csv'\n",
    "if os.path.isfile(output_title_similarity_score):\n",
    "    answer = input(\n",
    "        'Title Similarity was already computed. \\n Do you want to overwrite it? (y/n) \\n (Warning: this operation takes a long time)')\n",
    "\n",
    "if answer == 'n':\n",
    "    df_links = pd.read_csv(output_title_similarity_score)  # read checkpoint file\n",
    "else:\n",
    "    # compute similarity score for each link pair\n",
    "    df_links['title_similarity_score'] = df_links.progress_apply(compute_title_similarity, axis=1)\n",
    "    # save results to file\n",
    "    df_links.to_csv(output_title_similarity_score)\n",
    "    # df_links at this point contains the similarity score for each link pair"
   ],
   "metadata": {
    "collapsed": false,
    "pycharm": {
     "name": "#%%\n"
    }
   }
  },
  {
   "cell_type": "markdown",
   "source": [
    "Second, we compute similarities between the categories of all link pairs (source;destination).\n",
    "Once again, we load the results from a file if it exists, otherwise we compute the similarity scores and save them to a file.\n",
    "The output file is the second checkpoint of the notebook (_2_output_category_similarity.csv_)"
   ],
   "metadata": {
    "collapsed": false,
    "pycharm": {
     "name": "#%% md\n"
    }
   }
  },
  {
   "cell_type": "code",
   "execution_count": 15,
   "outputs": [],
   "source": [
    "# extract category from df_articles for row with title = article_title\n",
    "def get_category(article_title):\n",
    "    try:\n",
    "        return df_articles[df_articles['title'] == article_title]['categories'].values[0]\n",
    "    except:\n",
    "        return ''\n",
    "\n",
    "\n",
    "def compute_category_similarity(current_row):\n",
    "    source_category = get_category(current_row['linkSource'])\n",
    "    target_category = get_category(current_row['linkTarget'])\n",
    "    # embedding for strings\n",
    "    source_title_embedding = get_embeddings([source_category])\n",
    "    target_title_embedding = get_embeddings([target_category])\n",
    "    # compute cosine similarity between the two titles\n",
    "    return cosine_similarity(source_title_embedding, target_title_embedding)\n",
    "\n",
    "\n",
    "# check if output file exists and if user wants to overwrite it\n",
    "answer = 'y'  # by default, create output file\n",
    "output_title_similarity_score = 'output/2_output_category_similarity.csv'\n",
    "if os.path.isfile(output_title_similarity_score):\n",
    "    answer = input(\n",
    "        'Category Similarity was already computed.\\n Do you want to recompute it? (y/n) \\n (Warning: this operation takes a long time)')\n",
    "\n",
    "if answer == 'n':\n",
    "    df_links = pd.read_csv(output_title_similarity_score)  # read checkpoint file\n",
    "else:\n",
    "    # compute similarity score for each link pair\n",
    "    df_links['category_similarity_score'] = df_links.progress_apply(compute_category_similarity, axis=1)\n",
    "    # save results to file\n",
    "    df_links.to_csv(output_title_similarity_score)\n",
    "    # df_links at this point contains the both similarity scores for categories and titles for each link pair"
   ],
   "metadata": {
    "collapsed": false,
    "pycharm": {
     "name": "#%%\n"
    }
   }
  },
  {
   "cell_type": "markdown",
   "source": [
    "## 1.2.3 Computing the physical location of the links in the HTML pages\n",
    "In this part, we compute the physical location of every link pair (source;destination) in a given HTML page by rendering a virtual page using Selenium to get the actual coordinates of the links.\n",
    "\n",
    "We create an HTML driver that renders pages in memory. We consider a full screen display to be 1680*900, rendered in Google Chrome. This resolution has been chosen as a compromise between 1080p and 720p. It was also a very popular resolution in early 2010s, when this dataset was generated."
   ],
   "metadata": {
    "collapsed": false,
    "pycharm": {
     "name": "#%% md\n"
    }
   }
  },
  {
   "cell_type": "code",
   "execution_count": 16,
   "outputs": [],
   "source": [
    "X_DIM = 1680\n",
    "Y_DIM = 900\n",
    "op = Options()\n",
    "op.add_argument('headless')\n",
    "op.add_argument('window-size=' + str(X_DIM) + ',' + str(Y_DIM))\n",
    "driver = webdriver.Chrome(options=op)"
   ],
   "metadata": {
    "collapsed": false,
    "pycharm": {
     "name": "#%%\n"
    }
   }
  },
  {
   "cell_type": "markdown",
   "source": [
    "Now that the driver is configured, let's compute the locations of all links in the articles.\n",
    "\n",
    "The output file is the third checkpoint of the notebook (_3_output_link_position.csv_)"
   ],
   "metadata": {
    "collapsed": false,
    "pycharm": {
     "name": "#%% md\n"
    }
   }
  },
  {
   "cell_type": "code",
   "execution_count": 17,
   "outputs": [
    {
     "data": {
      "text/plain": "   Unnamed: 0.2  Unnamed: 0.1  Unnamed: 0                  linkSource_URL  \\\n0            68            68          68  %E2%82%AC2_commemorative_coins   \n1            69            69          69  %E2%82%AC2_commemorative_coins   \n2            70            70          70  %E2%82%AC2_commemorative_coins   \n3            71            71          71  %E2%82%AC2_commemorative_coins   \n4            72            72          72  %E2%82%AC2_commemorative_coins   \n5            73            73          73  %E2%82%AC2_commemorative_coins   \n6            74            74          74  %E2%82%AC2_commemorative_coins   \n7            75            75          75  %E2%82%AC2_commemorative_coins   \n8            76            76          76  %E2%82%AC2_commemorative_coins   \n9            77            77          77  %E2%82%AC2_commemorative_coins   \n\n           linkTarget_URL         linkTarget_2URL  \\\n0                  Athens                  Athens   \n1          Atlantic_Ocean          Atlantic_Ocean   \n2                 Austria                 Austria   \n3                 Belgium                 Belgium   \n4                  Berlin                  Berlin   \n5                Brussels                Brussels   \n6  Cathedral_of_Magdeburg  Cathedral_of_Magdeburg   \n7                  Cereal                  Cereal   \n8    Christopher_Columbus    Christopher_Columbus   \n9                 Cologne                 Cologne   \n\n                        linkSource_2URL              linkSource  \\\n0  %25E2%2582%25AC2_commemorative_coins  €2_commemorative_coins   \n1  %25E2%2582%25AC2_commemorative_coins  €2_commemorative_coins   \n2  %25E2%2582%25AC2_commemorative_coins  €2_commemorative_coins   \n3  %25E2%2582%25AC2_commemorative_coins  €2_commemorative_coins   \n4  %25E2%2582%25AC2_commemorative_coins  €2_commemorative_coins   \n5  %25E2%2582%25AC2_commemorative_coins  €2_commemorative_coins   \n6  %25E2%2582%25AC2_commemorative_coins  €2_commemorative_coins   \n7  %25E2%2582%25AC2_commemorative_coins  €2_commemorative_coins   \n8  %25E2%2582%25AC2_commemorative_coins  €2_commemorative_coins   \n9  %25E2%2582%25AC2_commemorative_coins  €2_commemorative_coins   \n\n               linkTarget                                       linkPair  \\\n0                  athens                  €2_commemorative_coins;athens   \n1          atlantic_ocean          €2_commemorative_coins;atlantic_ocean   \n2                 austria                 €2_commemorative_coins;austria   \n3                 belgium                 €2_commemorative_coins;belgium   \n4                  berlin                  €2_commemorative_coins;berlin   \n5                brussels                €2_commemorative_coins;brussels   \n6  cathedral_of_magdeburg  €2_commemorative_coins;cathedral_of_magdeburg   \n7                  cereal                  €2_commemorative_coins;cereal   \n8    christopher_columbus    €2_commemorative_coins;christopher_columbus   \n9                 cologne                 €2_commemorative_coins;cologne   \n\n   impressions  clicks  xpos  ypos  title_similarity_score  length  CTR  \\\n0            1       0   557   941                0.067500    6472  0.0   \n1            1       0  1131  5592                0.116387    6472  0.0   \n2            1       0   438   493               -0.088484    6472  0.0   \n3            1       0   484   493                0.049557    6472  0.0   \n4            1       0   621  6273               -0.010085    6472  0.0   \n5            1       0   601  5051                0.120722    6472  0.0   \n6            1       0   816  6298                0.176546    6472  0.0   \n7            1       0   424  1742                0.084645    6472  0.0   \n8            1       0   622  5504                0.180437    6472  0.0   \n9            1       0   526  4067               -0.010550    6472  0.0   \n\n   is_on_top  category_similarity_score  \n0        0.0                   0.574470  \n1        0.0                   0.610068  \n2        1.0                   0.568692  \n3        1.0                   0.568692  \n4        0.0                   0.574470  \n5        0.0                   0.574470  \n6        0.0                   0.678865  \n7        0.0                   0.533574  \n8        0.0                   0.589325  \n9        0.0                   0.574470  ",
      "text/html": "<div>\n<style scoped>\n    .dataframe tbody tr th:only-of-type {\n        vertical-align: middle;\n    }\n\n    .dataframe tbody tr th {\n        vertical-align: top;\n    }\n\n    .dataframe thead th {\n        text-align: right;\n    }\n</style>\n<table border=\"1\" class=\"dataframe\">\n  <thead>\n    <tr style=\"text-align: right;\">\n      <th></th>\n      <th>Unnamed: 0.2</th>\n      <th>Unnamed: 0.1</th>\n      <th>Unnamed: 0</th>\n      <th>linkSource_URL</th>\n      <th>linkTarget_URL</th>\n      <th>linkTarget_2URL</th>\n      <th>linkSource_2URL</th>\n      <th>linkSource</th>\n      <th>linkTarget</th>\n      <th>linkPair</th>\n      <th>impressions</th>\n      <th>clicks</th>\n      <th>xpos</th>\n      <th>ypos</th>\n      <th>title_similarity_score</th>\n      <th>length</th>\n      <th>CTR</th>\n      <th>is_on_top</th>\n      <th>category_similarity_score</th>\n    </tr>\n  </thead>\n  <tbody>\n    <tr>\n      <th>0</th>\n      <td>68</td>\n      <td>68</td>\n      <td>68</td>\n      <td>%E2%82%AC2_commemorative_coins</td>\n      <td>Athens</td>\n      <td>Athens</td>\n      <td>%25E2%2582%25AC2_commemorative_coins</td>\n      <td>€2_commemorative_coins</td>\n      <td>athens</td>\n      <td>€2_commemorative_coins;athens</td>\n      <td>1</td>\n      <td>0</td>\n      <td>557</td>\n      <td>941</td>\n      <td>0.067500</td>\n      <td>6472</td>\n      <td>0.0</td>\n      <td>0.0</td>\n      <td>0.574470</td>\n    </tr>\n    <tr>\n      <th>1</th>\n      <td>69</td>\n      <td>69</td>\n      <td>69</td>\n      <td>%E2%82%AC2_commemorative_coins</td>\n      <td>Atlantic_Ocean</td>\n      <td>Atlantic_Ocean</td>\n      <td>%25E2%2582%25AC2_commemorative_coins</td>\n      <td>€2_commemorative_coins</td>\n      <td>atlantic_ocean</td>\n      <td>€2_commemorative_coins;atlantic_ocean</td>\n      <td>1</td>\n      <td>0</td>\n      <td>1131</td>\n      <td>5592</td>\n      <td>0.116387</td>\n      <td>6472</td>\n      <td>0.0</td>\n      <td>0.0</td>\n      <td>0.610068</td>\n    </tr>\n    <tr>\n      <th>2</th>\n      <td>70</td>\n      <td>70</td>\n      <td>70</td>\n      <td>%E2%82%AC2_commemorative_coins</td>\n      <td>Austria</td>\n      <td>Austria</td>\n      <td>%25E2%2582%25AC2_commemorative_coins</td>\n      <td>€2_commemorative_coins</td>\n      <td>austria</td>\n      <td>€2_commemorative_coins;austria</td>\n      <td>1</td>\n      <td>0</td>\n      <td>438</td>\n      <td>493</td>\n      <td>-0.088484</td>\n      <td>6472</td>\n      <td>0.0</td>\n      <td>1.0</td>\n      <td>0.568692</td>\n    </tr>\n    <tr>\n      <th>3</th>\n      <td>71</td>\n      <td>71</td>\n      <td>71</td>\n      <td>%E2%82%AC2_commemorative_coins</td>\n      <td>Belgium</td>\n      <td>Belgium</td>\n      <td>%25E2%2582%25AC2_commemorative_coins</td>\n      <td>€2_commemorative_coins</td>\n      <td>belgium</td>\n      <td>€2_commemorative_coins;belgium</td>\n      <td>1</td>\n      <td>0</td>\n      <td>484</td>\n      <td>493</td>\n      <td>0.049557</td>\n      <td>6472</td>\n      <td>0.0</td>\n      <td>1.0</td>\n      <td>0.568692</td>\n    </tr>\n    <tr>\n      <th>4</th>\n      <td>72</td>\n      <td>72</td>\n      <td>72</td>\n      <td>%E2%82%AC2_commemorative_coins</td>\n      <td>Berlin</td>\n      <td>Berlin</td>\n      <td>%25E2%2582%25AC2_commemorative_coins</td>\n      <td>€2_commemorative_coins</td>\n      <td>berlin</td>\n      <td>€2_commemorative_coins;berlin</td>\n      <td>1</td>\n      <td>0</td>\n      <td>621</td>\n      <td>6273</td>\n      <td>-0.010085</td>\n      <td>6472</td>\n      <td>0.0</td>\n      <td>0.0</td>\n      <td>0.574470</td>\n    </tr>\n    <tr>\n      <th>5</th>\n      <td>73</td>\n      <td>73</td>\n      <td>73</td>\n      <td>%E2%82%AC2_commemorative_coins</td>\n      <td>Brussels</td>\n      <td>Brussels</td>\n      <td>%25E2%2582%25AC2_commemorative_coins</td>\n      <td>€2_commemorative_coins</td>\n      <td>brussels</td>\n      <td>€2_commemorative_coins;brussels</td>\n      <td>1</td>\n      <td>0</td>\n      <td>601</td>\n      <td>5051</td>\n      <td>0.120722</td>\n      <td>6472</td>\n      <td>0.0</td>\n      <td>0.0</td>\n      <td>0.574470</td>\n    </tr>\n    <tr>\n      <th>6</th>\n      <td>74</td>\n      <td>74</td>\n      <td>74</td>\n      <td>%E2%82%AC2_commemorative_coins</td>\n      <td>Cathedral_of_Magdeburg</td>\n      <td>Cathedral_of_Magdeburg</td>\n      <td>%25E2%2582%25AC2_commemorative_coins</td>\n      <td>€2_commemorative_coins</td>\n      <td>cathedral_of_magdeburg</td>\n      <td>€2_commemorative_coins;cathedral_of_magdeburg</td>\n      <td>1</td>\n      <td>0</td>\n      <td>816</td>\n      <td>6298</td>\n      <td>0.176546</td>\n      <td>6472</td>\n      <td>0.0</td>\n      <td>0.0</td>\n      <td>0.678865</td>\n    </tr>\n    <tr>\n      <th>7</th>\n      <td>75</td>\n      <td>75</td>\n      <td>75</td>\n      <td>%E2%82%AC2_commemorative_coins</td>\n      <td>Cereal</td>\n      <td>Cereal</td>\n      <td>%25E2%2582%25AC2_commemorative_coins</td>\n      <td>€2_commemorative_coins</td>\n      <td>cereal</td>\n      <td>€2_commemorative_coins;cereal</td>\n      <td>1</td>\n      <td>0</td>\n      <td>424</td>\n      <td>1742</td>\n      <td>0.084645</td>\n      <td>6472</td>\n      <td>0.0</td>\n      <td>0.0</td>\n      <td>0.533574</td>\n    </tr>\n    <tr>\n      <th>8</th>\n      <td>76</td>\n      <td>76</td>\n      <td>76</td>\n      <td>%E2%82%AC2_commemorative_coins</td>\n      <td>Christopher_Columbus</td>\n      <td>Christopher_Columbus</td>\n      <td>%25E2%2582%25AC2_commemorative_coins</td>\n      <td>€2_commemorative_coins</td>\n      <td>christopher_columbus</td>\n      <td>€2_commemorative_coins;christopher_columbus</td>\n      <td>1</td>\n      <td>0</td>\n      <td>622</td>\n      <td>5504</td>\n      <td>0.180437</td>\n      <td>6472</td>\n      <td>0.0</td>\n      <td>0.0</td>\n      <td>0.589325</td>\n    </tr>\n    <tr>\n      <th>9</th>\n      <td>77</td>\n      <td>77</td>\n      <td>77</td>\n      <td>%E2%82%AC2_commemorative_coins</td>\n      <td>Cologne</td>\n      <td>Cologne</td>\n      <td>%25E2%2582%25AC2_commemorative_coins</td>\n      <td>€2_commemorative_coins</td>\n      <td>cologne</td>\n      <td>€2_commemorative_coins;cologne</td>\n      <td>1</td>\n      <td>0</td>\n      <td>526</td>\n      <td>4067</td>\n      <td>-0.010550</td>\n      <td>6472</td>\n      <td>0.0</td>\n      <td>0.0</td>\n      <td>0.574470</td>\n    </tr>\n  </tbody>\n</table>\n</div>"
     },
     "execution_count": 17,
     "metadata": {},
     "output_type": "execute_result"
    }
   ],
   "source": [
    "# for tracking progress\n",
    "article_counter = 0\n",
    "number_of_articles = len(df_articles['title_2URL'])\n",
    "\n",
    "# check if output file exists and if user wants to overwrite it\n",
    "answer = 'y'  # by default, create output file\n",
    "output_file_name = 'output/3_output_link_position.csv'\n",
    "if os.path.isfile(output_file_name):\n",
    "    answer = input(\n",
    "        'Link Positions were already computed \\n Do you want to recompute it? (y/n)  \\n (Warning: this operation takes a long time)')\n",
    "\n",
    "if answer == 'n':\n",
    "    df_links = pd.read_csv(output_file_name)\n",
    "\n",
    "else:\n",
    "    for index, row in df_articles.iterrows():\n",
    "        source = row['title_2URL']\n",
    "\n",
    "        # progress tracking\n",
    "        if article_counter % 10 == 0:\n",
    "            print('Article', article_counter, '/', number_of_articles)\n",
    "        article_counter += 1\n",
    "\n",
    "        # compute relative path to html\n",
    "        source_path = '/data/wpcd/wp/' + source[0].lower() + '/' + source + '.htm'\n",
    "\n",
    "        # absolute path to html file\n",
    "        user_cwd = os.getcwd().replace('\\\\', '/')\n",
    "        source_url = 'file://' + user_cwd + source_path\n",
    "        # load page in memory\n",
    "        driver.get(source_url)\n",
    "\n",
    "        # list of target links we want to find positions #OPTIMIZE\n",
    "        list_target_articles = df_links.loc[df_links['linkSource_2URL'] == source]['linkTarget_2URL']\n",
    "\n",
    "        # length of each source article\n",
    "        len_article = driver.execute_script(\"return document.body.scrollHeight\")\n",
    "\n",
    "        for target in list_target_articles:\n",
    "            # the pairs are in readable characters, target is double encoded format\n",
    "            target_readable = url_parse(url_parse(target))\n",
    "            source_readable = url_parse(url_parse(source))\n",
    "            search_pair = source_readable + ';' + target_readable\n",
    "\n",
    "            try:\n",
    "                current_pair = pair_map[search_pair]\n",
    "            except Exception as e:\n",
    "                # catch when pair was not listed in dataset\n",
    "                print('Invalid pair:', e)  # for debug\n",
    "                break\n",
    "\n",
    "            # find the href with /target.htm within all elements of page\n",
    "            ## example with target = World War I, we are looking for /World_War_I.htm\n",
    "            href = driver.find_elements(By.XPATH, \".//a[contains(@href,'/\" + target + \".htm')]\")\n",
    "            try:\n",
    "                # first link is considered (href[0])\n",
    "                ## we assume that the user reads a page from top to bottom, left to right\n",
    "                ## he clicks on the first occurence of a link he thinks is good\n",
    "                df_links.at[current_pair, 'xpos'] = href[0].location['x']\n",
    "                df_links.at[current_pair, 'ypos'] = href[0].location['y']\n",
    "                df_links.at[current_pair, 'length'] = len_article\n",
    "                df_links.at[current_pair, 'is_on_top'] = 1 if href[0].location['y'] < Y_DIM else 0\n",
    "            except Exception as e:\n",
    "                print('Not found:', target)\n",
    "        df_links.to_csv(output_file_name, encoding='utf-8-sig')\n",
    "    driver.close()\n",
    "df_links.head(10)"
   ],
   "metadata": {
    "collapsed": false,
    "pycharm": {
     "name": "#%%\n"
    }
   }
  },
  {
   "cell_type": "markdown",
   "metadata": {
    "pycharm": {
     "name": "#%% md\n"
    }
   },
   "source": [
    "## 1.3: Coarse-Grained: Aggregated View over Whole Dataset\n",
    "Here, the goal is to extend the _articles_ table by adding columns representing the total number of clicks, the number of impressions and the CTR. Except for the CTR, we can simply sum the obtained numbers in the finer granularity."
   ]
  },
  {
   "cell_type": "code",
   "execution_count": 18,
   "metadata": {
    "pycharm": {
     "name": "#%%\n"
    }
   },
   "outputs": [],
   "source": [
    "# sum the number of clicks, impressions and ctr\n",
    "df_articles_coarse = df_links[[\"linkTarget\", \"impressions\", \"clicks\"]].groupby(by=[\"linkTarget\"]).sum()\n",
    "df_articles_coarse[\"CTR\"] = df_articles_coarse[\"clicks\"] / df_articles_coarse[\"impressions\"]"
   ]
  },
  {
   "cell_type": "markdown",
   "source": [
    "---\n",
    "# Part 2: Exploratory Data Analysis\n",
    "## 2.1: Wikipedia Dataset Network\n",
    "To have a better understanding of the dataset, we wish to create a graph of the network."
   ],
   "metadata": {
    "collapsed": false,
    "pycharm": {
     "name": "#%% md\n"
    }
   }
  },
  {
   "cell_type": "code",
   "execution_count": 19,
   "metadata": {
    "pycharm": {
     "name": "#%%\n"
    }
   },
   "outputs": [
    {
     "data": {
      "text/plain": "<Figure size 432x288 with 1 Axes>",
      "image/png": "[encoded data removed]"
     },
     "metadata": {},
     "output_type": "display_data"
    }
   ],
   "source": [
    "# create a graph of the network\n",
    "G = nx.from_pandas_edgelist(df_links, source='linkSource', target='linkTarget', create_using=nx.DiGraph())\n",
    "\n",
    "# draw graph network\n",
    "nx.draw_networkx(G, with_labels=False, node_size=5, node_color=\"#001f3f\", width=0.1, edge_color=\"#AAAAAA\")\n",
    "ax = plt.gca()\n",
    "ax.set_title('Wikispeedia Article Network')\n",
    "ax.set_axis_off()\n",
    "plt.show()"
   ]
  },
  {
   "cell_type": "markdown",
   "source": [
    "The graph above shows the network of articles. The nodes are the articles and the edges are the links between them. The graph is directed, meaning that the links are not symmetric. The graph is sparse, meaning that there are very few links between most of the articles. The graph is connected, as there are no isolated articles."
   ],
   "metadata": {
    "collapsed": false,
    "pycharm": {
     "name": "#%% md\n"
    }
   }
  },
  {
   "cell_type": "markdown",
   "metadata": {
    "pycharm": {
     "name": "#%% md\n"
    }
   },
   "source": [
    "## 2.2: Wikispeedia Dataset Network In-Degrees\n",
    "We investigate the number of links pointing toward each articles"
   ]
  },
  {
   "cell_type": "code",
   "execution_count": 20,
   "metadata": {
    "pycharm": {
     "name": "#%%\n"
    }
   },
   "outputs": [
    {
     "data": {
      "text/plain": "                 articles  In degree\n0  €2_commemorative_coins          0\n1                  athens         83\n2          atlantic_ocean        237\n3                 austria        224\n4                 belgium        223\n5                  berlin        129\n6                brussels         64\n7  cathedral_of_magdeburg          1\n8                  cereal         64\n9    christopher_columbus         67",
      "text/html": "<div>\n<style scoped>\n    .dataframe tbody tr th:only-of-type {\n        vertical-align: middle;\n    }\n\n    .dataframe tbody tr th {\n        vertical-align: top;\n    }\n\n    .dataframe thead th {\n        text-align: right;\n    }\n</style>\n<table border=\"1\" class=\"dataframe\">\n  <thead>\n    <tr style=\"text-align: right;\">\n      <th></th>\n      <th>articles</th>\n      <th>In degree</th>\n    </tr>\n  </thead>\n  <tbody>\n    <tr>\n      <th>0</th>\n      <td>€2_commemorative_coins</td>\n      <td>0</td>\n    </tr>\n    <tr>\n      <th>1</th>\n      <td>athens</td>\n      <td>83</td>\n    </tr>\n    <tr>\n      <th>2</th>\n      <td>atlantic_ocean</td>\n      <td>237</td>\n    </tr>\n    <tr>\n      <th>3</th>\n      <td>austria</td>\n      <td>224</td>\n    </tr>\n    <tr>\n      <th>4</th>\n      <td>belgium</td>\n      <td>223</td>\n    </tr>\n    <tr>\n      <th>5</th>\n      <td>berlin</td>\n      <td>129</td>\n    </tr>\n    <tr>\n      <th>6</th>\n      <td>brussels</td>\n      <td>64</td>\n    </tr>\n    <tr>\n      <th>7</th>\n      <td>cathedral_of_magdeburg</td>\n      <td>1</td>\n    </tr>\n    <tr>\n      <th>8</th>\n      <td>cereal</td>\n      <td>64</td>\n    </tr>\n    <tr>\n      <th>9</th>\n      <td>christopher_columbus</td>\n      <td>67</td>\n    </tr>\n  </tbody>\n</table>\n</div>"
     },
     "execution_count": 20,
     "metadata": {},
     "output_type": "execute_result"
    }
   ],
   "source": [
    "# return the number of edges pointing to a node\n",
    "in_degree = G.in_degree()\n",
    "\n",
    "# transform the output into a dataframe to simplify use\n",
    "pd_graph = pd.DataFrame(in_degree, columns=['articles', 'In degree'])\n",
    "pd_graph.head(10)"
   ]
  },
  {
   "cell_type": "markdown",
   "metadata": {
    "pycharm": {
     "name": "#%% md\n"
    }
   },
   "source": [
    "Let's visualize the distribution of the in degree values over the articles."
   ]
  },
  {
   "cell_type": "code",
   "execution_count": 21,
   "metadata": {
    "pycharm": {
     "name": "#%%\n"
    }
   },
   "outputs": [
    {
     "data": {
      "text/plain": "<Figure size 432x288 with 1 Axes>",
      "image/png": "[encoded data removed]"
     },
     "metadata": {},
     "output_type": "display_data"
    }
   ],
   "source": [
    "pd_graph.plot.hist(bins=100, rot=90, title=\"In degree distribution\", logy=True);"
   ]
  },
  {
   "cell_type": "markdown",
   "metadata": {
    "pycharm": {
     "name": "#%% md\n"
    }
   },
   "source": [
    "Let's rank the top 10 articles having the largest in degree value."
   ]
  },
  {
   "cell_type": "code",
   "execution_count": 22,
   "metadata": {
    "pycharm": {
     "name": "#%%\n"
    }
   },
   "outputs": [
    {
     "data": {
      "text/plain": "             articles  In degree\n44      united_states       1435\n42     united_kingdom        915\n15             france        902\n134            europe        866\n17            germany        700\n98            england        698\n187      world_war_ii        698\n58              india        573\n941  english_language        561\n241             japan        546",
      "text/html": "<div>\n<style scoped>\n    .dataframe tbody tr th:only-of-type {\n        vertical-align: middle;\n    }\n\n    .dataframe tbody tr th {\n        vertical-align: top;\n    }\n\n    .dataframe thead th {\n        text-align: right;\n    }\n</style>\n<table border=\"1\" class=\"dataframe\">\n  <thead>\n    <tr style=\"text-align: right;\">\n      <th></th>\n      <th>articles</th>\n      <th>In degree</th>\n    </tr>\n  </thead>\n  <tbody>\n    <tr>\n      <th>44</th>\n      <td>united_states</td>\n      <td>1435</td>\n    </tr>\n    <tr>\n      <th>42</th>\n      <td>united_kingdom</td>\n      <td>915</td>\n    </tr>\n    <tr>\n      <th>15</th>\n      <td>france</td>\n      <td>902</td>\n    </tr>\n    <tr>\n      <th>134</th>\n      <td>europe</td>\n      <td>866</td>\n    </tr>\n    <tr>\n      <th>17</th>\n      <td>germany</td>\n      <td>700</td>\n    </tr>\n    <tr>\n      <th>98</th>\n      <td>england</td>\n      <td>698</td>\n    </tr>\n    <tr>\n      <th>187</th>\n      <td>world_war_ii</td>\n      <td>698</td>\n    </tr>\n    <tr>\n      <th>58</th>\n      <td>india</td>\n      <td>573</td>\n    </tr>\n    <tr>\n      <th>941</th>\n      <td>english_language</td>\n      <td>561</td>\n    </tr>\n    <tr>\n      <th>241</th>\n      <td>japan</td>\n      <td>546</td>\n    </tr>\n  </tbody>\n</table>\n</div>"
     },
     "execution_count": 22,
     "metadata": {},
     "output_type": "execute_result"
    }
   ],
   "source": [
    "pd_graph.sort_values(by=['In degree'], ascending=False).head(10)"
   ]
  },
  {
   "cell_type": "markdown",
   "metadata": {
    "pycharm": {
     "name": "#%% md\n"
    }
   },
   "source": [
    "### 2.3: Data Distribution\n",
    "Let's explore the dataset we have obtained."
   ]
  },
  {
   "cell_type": "markdown",
   "metadata": {
    "pycharm": {
     "name": "#%% md\n"
    }
   },
   "source": []
  },
  {
   "cell_type": "code",
   "execution_count": 23,
   "metadata": {
    "pycharm": {
     "name": "#%%\n"
    }
   },
   "outputs": [
    {
     "name": "stdout",
     "output_type": "stream",
     "text": [
      "There exist 113974 links in total.\n",
      "There are 4172 unique articles\n",
      "The pages with the most links are:\n"
     ]
    },
    {
     "data": {
      "text/plain": "united_states                     294\ndriving_on_the_left_or_right      255\nlist_of_countries                 244\nlist_of_circulating_currencies    236\nlist_of_sovereign_states          216\n                                 ... \nhuman_dignity                       1\nworkchoices                         1\nsunol_water_temple                  1\nscheme_programming_language         1\nterik                               1\nName: linkSource, Length: 4172, dtype: int64"
     },
     "execution_count": 23,
     "metadata": {},
     "output_type": "execute_result"
    }
   ],
   "source": [
    "print('There exist', len(df_links), 'links in total.')\n",
    "print('There are', df_links.linkSource.nunique(), 'unique articles')\n",
    "print('The pages with the most links are:')\n",
    "df_links['linkSource'].value_counts()"
   ]
  },
  {
   "cell_type": "code",
   "execution_count": 24,
   "metadata": {
    "pycharm": {
     "name": "#%%\n"
    }
   },
   "outputs": [
    {
     "data": {
      "text/plain": "<Figure size 432x288 with 1 Axes>",
      "image/png": "[encoded data removed]"
     },
     "metadata": {},
     "output_type": "display_data"
    }
   ],
   "source": [
    "# plot the distribution of the number of links per article\n",
    "df_links['linkSource'].value_counts().plot.hist(bins=100, rot=90, title=\"Number of links per article\", logy=True);"
   ]
  },
  {
   "cell_type": "markdown",
   "metadata": {
    "pycharm": {
     "name": "#%% md\n"
    }
   },
   "source": [
    "We can see that the number of links per article does not follow a normal distribution. There are articles that have more than 200 links while others have very little."
   ]
  },
  {
   "cell_type": "code",
   "execution_count": 25,
   "outputs": [
    {
     "data": {
      "text/plain": "<AxesSubplot:title={'center':'Number of clicks'}, ylabel='Frequency'>"
     },
     "execution_count": 25,
     "metadata": {},
     "output_type": "execute_result"
    },
    {
     "data": {
      "text/plain": "<Figure size 432x288 with 1 Axes>",
      "image/png": "[encoded data removed]"
     },
     "metadata": {},
     "output_type": "display_data"
    }
   ],
   "source": [
    "# plot the distribution of the number of clicks per link\n",
    "df_articles_coarse[\"clicks\"].plot.hist(bins=30, range=[0, 1300], title=\"Number of clicks\", logy=True)"
   ],
   "metadata": {
    "collapsed": false,
    "pycharm": {
     "name": "#%%\n"
    }
   }
  },
  {
   "cell_type": "markdown",
   "source": [
    "Same for the number of clicks. We can see that the number of clicks per article does not follow a uniform distribution. There are articles that have more than 1000 clicks while others have very little.\n",
    "\n",
    "Let's rank the top 10 most clicks articles:"
   ],
   "metadata": {
    "collapsed": false,
    "pycharm": {
     "name": "#%% md\n"
    }
   }
  },
  {
   "cell_type": "code",
   "execution_count": 26,
   "outputs": [
    {
     "data": {
      "text/plain": "                impressions  clicks       CTR\nlinkTarget                                   \nunited_states        154518   12376  0.080094\neurope               133170    5565  0.041789\nunited_kingdom       123566    5303  0.042916\nengland               65232    4413  0.067651\nearth                 61419    4172  0.067927\nafrica                68411    3490  0.051015\nworld_war_ii         102791    2893  0.028144\nnorth_america         70097    2546  0.036321\nanimal                42468    2426  0.057125\nhuman                 40685    2359  0.057982",
      "text/html": "<div>\n<style scoped>\n    .dataframe tbody tr th:only-of-type {\n        vertical-align: middle;\n    }\n\n    .dataframe tbody tr th {\n        vertical-align: top;\n    }\n\n    .dataframe thead th {\n        text-align: right;\n    }\n</style>\n<table border=\"1\" class=\"dataframe\">\n  <thead>\n    <tr style=\"text-align: right;\">\n      <th></th>\n      <th>impressions</th>\n      <th>clicks</th>\n      <th>CTR</th>\n    </tr>\n    <tr>\n      <th>linkTarget</th>\n      <th></th>\n      <th></th>\n      <th></th>\n    </tr>\n  </thead>\n  <tbody>\n    <tr>\n      <th>united_states</th>\n      <td>154518</td>\n      <td>12376</td>\n      <td>0.080094</td>\n    </tr>\n    <tr>\n      <th>europe</th>\n      <td>133170</td>\n      <td>5565</td>\n      <td>0.041789</td>\n    </tr>\n    <tr>\n      <th>united_kingdom</th>\n      <td>123566</td>\n      <td>5303</td>\n      <td>0.042916</td>\n    </tr>\n    <tr>\n      <th>england</th>\n      <td>65232</td>\n      <td>4413</td>\n      <td>0.067651</td>\n    </tr>\n    <tr>\n      <th>earth</th>\n      <td>61419</td>\n      <td>4172</td>\n      <td>0.067927</td>\n    </tr>\n    <tr>\n      <th>africa</th>\n      <td>68411</td>\n      <td>3490</td>\n      <td>0.051015</td>\n    </tr>\n    <tr>\n      <th>world_war_ii</th>\n      <td>102791</td>\n      <td>2893</td>\n      <td>0.028144</td>\n    </tr>\n    <tr>\n      <th>north_america</th>\n      <td>70097</td>\n      <td>2546</td>\n      <td>0.036321</td>\n    </tr>\n    <tr>\n      <th>animal</th>\n      <td>42468</td>\n      <td>2426</td>\n      <td>0.057125</td>\n    </tr>\n    <tr>\n      <th>human</th>\n      <td>40685</td>\n      <td>2359</td>\n      <td>0.057982</td>\n    </tr>\n  </tbody>\n</table>\n</div>"
     },
     "execution_count": 26,
     "metadata": {},
     "output_type": "execute_result"
    }
   ],
   "source": [
    "df_articles_coarse.sort_values(by=['clicks'], ascending=False).head(10)"
   ],
   "metadata": {
    "collapsed": false,
    "pycharm": {
     "name": "#%%\n"
    }
   }
  },
  {
   "cell_type": "markdown",
   "source": [
    "Now focusing on impressions:"
   ],
   "metadata": {
    "collapsed": false,
    "pycharm": {
     "name": "#%% md\n"
    }
   }
  },
  {
   "cell_type": "code",
   "execution_count": 27,
   "outputs": [
    {
     "data": {
      "text/plain": "<AxesSubplot:title={'center':'Number of impressions'}, ylabel='Frequency'>"
     },
     "execution_count": 27,
     "metadata": {},
     "output_type": "execute_result"
    },
    {
     "data": {
      "text/plain": "<Figure size 432x288 with 1 Axes>",
      "image/png": "[encoded data removed]"
     },
     "metadata": {},
     "output_type": "display_data"
    }
   ],
   "source": [
    "df_articles_coarse[\"impressions\"].plot.hist(bins=30, title=\"Number of impressions\", range=[0, 50000], logy=True)"
   ],
   "metadata": {
    "collapsed": false,
    "pycharm": {
     "name": "#%%\n"
    }
   }
  },
  {
   "cell_type": "markdown",
   "source": [
    "Let's rank the top 10 articles with highest impressions"
   ],
   "metadata": {
    "collapsed": false,
    "pycharm": {
     "name": "#%% md\n"
    }
   }
  },
  {
   "cell_type": "code",
   "execution_count": 28,
   "outputs": [
    {
     "data": {
      "text/plain": "                impressions  clicks       CTR\nlinkTarget                                   \nunited_states        154518   12376  0.080094\neurope               133170    5565  0.041789\nfrance               132404    2225  0.016805\nunited_kingdom       123566    5303  0.042916\ngermany              105443    2167  0.020551\nworld_war_ii         102791    2893  0.028144\nlatin                101089     959  0.009487\nindia                 97125    1750  0.018018\nspain                 93086     773  0.008304\nitaly                 90599    1195  0.013190",
      "text/html": "<div>\n<style scoped>\n    .dataframe tbody tr th:only-of-type {\n        vertical-align: middle;\n    }\n\n    .dataframe tbody tr th {\n        vertical-align: top;\n    }\n\n    .dataframe thead th {\n        text-align: right;\n    }\n</style>\n<table border=\"1\" class=\"dataframe\">\n  <thead>\n    <tr style=\"text-align: right;\">\n      <th></th>\n      <th>impressions</th>\n      <th>clicks</th>\n      <th>CTR</th>\n    </tr>\n    <tr>\n      <th>linkTarget</th>\n      <th></th>\n      <th></th>\n      <th></th>\n    </tr>\n  </thead>\n  <tbody>\n    <tr>\n      <th>united_states</th>\n      <td>154518</td>\n      <td>12376</td>\n      <td>0.080094</td>\n    </tr>\n    <tr>\n      <th>europe</th>\n      <td>133170</td>\n      <td>5565</td>\n      <td>0.041789</td>\n    </tr>\n    <tr>\n      <th>france</th>\n      <td>132404</td>\n      <td>2225</td>\n      <td>0.016805</td>\n    </tr>\n    <tr>\n      <th>united_kingdom</th>\n      <td>123566</td>\n      <td>5303</td>\n      <td>0.042916</td>\n    </tr>\n    <tr>\n      <th>germany</th>\n      <td>105443</td>\n      <td>2167</td>\n      <td>0.020551</td>\n    </tr>\n    <tr>\n      <th>world_war_ii</th>\n      <td>102791</td>\n      <td>2893</td>\n      <td>0.028144</td>\n    </tr>\n    <tr>\n      <th>latin</th>\n      <td>101089</td>\n      <td>959</td>\n      <td>0.009487</td>\n    </tr>\n    <tr>\n      <th>india</th>\n      <td>97125</td>\n      <td>1750</td>\n      <td>0.018018</td>\n    </tr>\n    <tr>\n      <th>spain</th>\n      <td>93086</td>\n      <td>773</td>\n      <td>0.008304</td>\n    </tr>\n    <tr>\n      <th>italy</th>\n      <td>90599</td>\n      <td>1195</td>\n      <td>0.013190</td>\n    </tr>\n  </tbody>\n</table>\n</div>"
     },
     "execution_count": 28,
     "metadata": {},
     "output_type": "execute_result"
    }
   ],
   "source": [
    "df_articles_coarse.sort_values(by=['impressions'], ascending=False).head(10)"
   ],
   "metadata": {
    "collapsed": false,
    "pycharm": {
     "name": "#%%\n"
    }
   }
  },
  {
   "cell_type": "code",
   "execution_count": 29,
   "outputs": [
    {
     "data": {
      "text/plain": "<Figure size 432x288 with 1 Axes>",
      "image/png": "[encoded data removed]"
     },
     "metadata": {},
     "output_type": "display_data"
    }
   ],
   "source": [
    "df_top_5_impressions = df_articles_coarse.sort_values(by=['impressions'], ascending=False).head(5).reset_index()\n",
    "ax = sns.barplot(x=\"linkTarget\", y=\"impressions\", data=df_top_5_impressions)\n",
    "plt.xticks(rotation=90)\n",
    "plt.show()"
   ],
   "metadata": {
    "collapsed": false,
    "pycharm": {
     "name": "#%%\n"
    }
   }
  },
  {
   "cell_type": "markdown",
   "source": [
    "The final analysis is made on CTR:"
   ],
   "metadata": {
    "collapsed": false,
    "pycharm": {
     "name": "#%% md\n"
    }
   }
  },
  {
   "cell_type": "code",
   "execution_count": 30,
   "outputs": [
    {
     "data": {
      "text/plain": "<AxesSubplot:title={'center':'Distribution of CTR'}, ylabel='Frequency'>"
     },
     "execution_count": 30,
     "metadata": {},
     "output_type": "execute_result"
    },
    {
     "data": {
      "text/plain": "<Figure size 432x288 with 1 Axes>",
      "image/png": "[encoded data removed]"
     },
     "metadata": {},
     "output_type": "display_data"
    }
   ],
   "source": [
    "df_articles_coarse[\"CTR\"].plot.hist(bins=30, title=\"Distribution of CTR\", range=[0, 0.75], logy=True)"
   ],
   "metadata": {
    "collapsed": false,
    "pycharm": {
     "name": "#%%\n"
    }
   }
  },
  {
   "cell_type": "markdown",
   "source": [
    "With the top 10 CTR ranking:"
   ],
   "metadata": {
    "collapsed": false,
    "pycharm": {
     "name": "#%% md\n"
    }
   }
  },
  {
   "cell_type": "code",
   "execution_count": 31,
   "outputs": [
    {
     "data": {
      "text/plain": "                            impressions  clicks       CTR\nlinkTarget                                               \nlist_of_european_countries            4       3  0.750000\nexploration_of_mars                  23      15  0.652174\nwta_tour_championships                9       5  0.555556\nthe_lion_king                       501     277  0.552894\ngray_reef_shark                      26      14  0.538462\nffestiniog_railway                    2       1  0.500000\nshenzhou_spacecraft                  23      11  0.478261\nbattle_of_bicocca                    13       6  0.461538\nirish_theatre                        14       6  0.428571\ninvestment_banking                   40      17  0.425000",
      "text/html": "<div>\n<style scoped>\n    .dataframe tbody tr th:only-of-type {\n        vertical-align: middle;\n    }\n\n    .dataframe tbody tr th {\n        vertical-align: top;\n    }\n\n    .dataframe thead th {\n        text-align: right;\n    }\n</style>\n<table border=\"1\" class=\"dataframe\">\n  <thead>\n    <tr style=\"text-align: right;\">\n      <th></th>\n      <th>impressions</th>\n      <th>clicks</th>\n      <th>CTR</th>\n    </tr>\n    <tr>\n      <th>linkTarget</th>\n      <th></th>\n      <th></th>\n      <th></th>\n    </tr>\n  </thead>\n  <tbody>\n    <tr>\n      <th>list_of_european_countries</th>\n      <td>4</td>\n      <td>3</td>\n      <td>0.750000</td>\n    </tr>\n    <tr>\n      <th>exploration_of_mars</th>\n      <td>23</td>\n      <td>15</td>\n      <td>0.652174</td>\n    </tr>\n    <tr>\n      <th>wta_tour_championships</th>\n      <td>9</td>\n      <td>5</td>\n      <td>0.555556</td>\n    </tr>\n    <tr>\n      <th>the_lion_king</th>\n      <td>501</td>\n      <td>277</td>\n      <td>0.552894</td>\n    </tr>\n    <tr>\n      <th>gray_reef_shark</th>\n      <td>26</td>\n      <td>14</td>\n      <td>0.538462</td>\n    </tr>\n    <tr>\n      <th>ffestiniog_railway</th>\n      <td>2</td>\n      <td>1</td>\n      <td>0.500000</td>\n    </tr>\n    <tr>\n      <th>shenzhou_spacecraft</th>\n      <td>23</td>\n      <td>11</td>\n      <td>0.478261</td>\n    </tr>\n    <tr>\n      <th>battle_of_bicocca</th>\n      <td>13</td>\n      <td>6</td>\n      <td>0.461538</td>\n    </tr>\n    <tr>\n      <th>irish_theatre</th>\n      <td>14</td>\n      <td>6</td>\n      <td>0.428571</td>\n    </tr>\n    <tr>\n      <th>investment_banking</th>\n      <td>40</td>\n      <td>17</td>\n      <td>0.425000</td>\n    </tr>\n  </tbody>\n</table>\n</div>"
     },
     "execution_count": 31,
     "metadata": {},
     "output_type": "execute_result"
    }
   ],
   "source": [
    "df_articles_coarse.sort_values(by=['CTR'], ascending=False).head(10)"
   ],
   "metadata": {
    "collapsed": false,
    "pycharm": {
     "name": "#%%\n"
    }
   }
  },
  {
   "cell_type": "markdown",
   "source": [
    "This last ranking might not be very useful since some articles have very low impressions, meaning we don't have enough data. The obtained CTR seems artificially very high."
   ],
   "metadata": {
    "collapsed": false,
    "pycharm": {
     "name": "#%% md\n"
    }
   }
  },
  {
   "cell_type": "code",
   "execution_count": 32,
   "outputs": [
    {
     "name": "stdout",
     "output_type": "stream",
     "text": [
      "The average number of clicks is 89.59489946051987\n",
      "The average number of impressions is 5740.4065718489455\n",
      "The average CTR is 0.030189658307541403\n"
     ]
    }
   ],
   "source": [
    "print(\"The average number of clicks is \" + str(df_articles_coarse.clicks.mean()))\n",
    "print(\"The average number of impressions is \" + str(df_articles_coarse.impressions.mean()))\n",
    "print(\"The average CTR is \" + str(df_articles_coarse.CTR.mean()))"
   ],
   "metadata": {
    "collapsed": false,
    "pycharm": {
     "name": "#%%\n"
    }
   }
  },
  {
   "cell_type": "markdown",
   "metadata": {
    "pycharm": {
     "name": "#%% md\n"
    }
   },
   "source": [
    "### 2.4: Visualizing the link positions\n",
    "Let's visualize the link positions and clicks to show the regions with high click frequency. We adopt heatmaps to highlight these regions."
   ]
  },
  {
   "cell_type": "code",
   "execution_count": 33,
   "metadata": {
    "pycharm": {
     "name": "#%%\n"
    }
   },
   "outputs": [],
   "source": [
    "df_heatmap = df_links[['xpos', 'ypos', 'clicks', 'impressions', 'CTR']]"
   ]
  },
  {
   "cell_type": "code",
   "execution_count": 34,
   "metadata": {
    "pycharm": {
     "name": "#%%\n"
    }
   },
   "outputs": [
    {
     "data": {
      "text/plain": "        xpos  ypos  clicks  impressions       CTR\n20933   1488   395      11           38  0.289474\n111115    92  2307       3           87  0.034483\n97904    692   282       1          137  0.007299\n50952   1537    75       3           76  0.039474\n7721     229    75       9           56  0.160714\n54922    345   154       3           18  0.166667\n69508   1014   154       0            8  0.000000\n82536    550  5637       0           62  0.000000\n70889    256   954       0           44  0.000000\n49405    189  2463       1          250  0.004000\n43539    255   471       3           53  0.056604\n88832     38   971       0           13  0.000000\n4463     726    75       2           17  0.117647\n108401   908   798       4          113  0.035398\n71570    882  2589       1           85  0.011765\n10994      0     0       0           48  0.000000\n27203    283  1073       4          103  0.038835\n81366    292  1668       4         1019  0.003925\n94888    670  3856       2         1028  0.001946\n19682   1048   215       0           24  0.000000\n28913    763  1090       0          375  0.000000\n86975    211  3712       0           63  0.000000\n82550    324    75       4           26  0.153846\n99191    340  6213       0           31  0.000000\n90741    556   195       0           43  0.000000\n3489     190   768       0           20  0.000000\n98668    213  1614       0           16  0.000000\n17312    296   157       8          357  0.022409\n28629    394   995       9           69  0.130435\n869       97   189       6          711  0.008439\n83533   1519   275       0            1  0.000000\n109339   921   565       0            8  0.000000\n45903    107  3308       0           21  0.000000\n7216    1524   714       1          310  0.003226\n77042    752   639       2           52  0.038462\n2976     345  6632       3          371  0.008086\n64743     19   157       3           35  0.085714\n87734   1463   647       0          378  0.000000\n62378     60  4139       0            7  0.000000\n99056    599    75       0           29  0.000000\n55980   1501   352       2           25  0.080000\n110054   696  5397       3         1040  0.002885\n82755   1057  1085       2           70  0.028571\n113958  1513   261       0            2  0.000000\n49297     79  1103       0           11  0.000000\n55716    337  5753       0           28  0.000000\n91396    344  1423      15          395  0.037975\n25678   1097  2187       0           27  0.000000\n85865    442  1974       1           20  0.050000\n63327     19  2066      17         1294  0.013138",
      "text/html": "<div>\n<style scoped>\n    .dataframe tbody tr th:only-of-type {\n        vertical-align: middle;\n    }\n\n    .dataframe tbody tr th {\n        vertical-align: top;\n    }\n\n    .dataframe thead th {\n        text-align: right;\n    }\n</style>\n<table border=\"1\" class=\"dataframe\">\n  <thead>\n    <tr style=\"text-align: right;\">\n      <th></th>\n      <th>xpos</th>\n      <th>ypos</th>\n      <th>clicks</th>\n      <th>impressions</th>\n      <th>CTR</th>\n    </tr>\n  </thead>\n  <tbody>\n    <tr>\n      <th>20933</th>\n      <td>1488</td>\n      <td>395</td>\n      <td>11</td>\n      <td>38</td>\n      <td>0.289474</td>\n    </tr>\n    <tr>\n      <th>111115</th>\n      <td>92</td>\n      <td>2307</td>\n      <td>3</td>\n      <td>87</td>\n      <td>0.034483</td>\n    </tr>\n    <tr>\n      <th>97904</th>\n      <td>692</td>\n      <td>282</td>\n      <td>1</td>\n      <td>137</td>\n      <td>0.007299</td>\n    </tr>\n    <tr>\n      <th>50952</th>\n      <td>1537</td>\n      <td>75</td>\n      <td>3</td>\n      <td>76</td>\n      <td>0.039474</td>\n    </tr>\n    <tr>\n      <th>7721</th>\n      <td>229</td>\n      <td>75</td>\n      <td>9</td>\n      <td>56</td>\n      <td>0.160714</td>\n    </tr>\n    <tr>\n      <th>54922</th>\n      <td>345</td>\n      <td>154</td>\n      <td>3</td>\n      <td>18</td>\n      <td>0.166667</td>\n    </tr>\n    <tr>\n      <th>69508</th>\n      <td>1014</td>\n      <td>154</td>\n      <td>0</td>\n      <td>8</td>\n      <td>0.000000</td>\n    </tr>\n    <tr>\n      <th>82536</th>\n      <td>550</td>\n      <td>5637</td>\n      <td>0</td>\n      <td>62</td>\n      <td>0.000000</td>\n    </tr>\n    <tr>\n      <th>70889</th>\n      <td>256</td>\n      <td>954</td>\n      <td>0</td>\n      <td>44</td>\n      <td>0.000000</td>\n    </tr>\n    <tr>\n      <th>49405</th>\n      <td>189</td>\n      <td>2463</td>\n      <td>1</td>\n      <td>250</td>\n      <td>0.004000</td>\n    </tr>\n    <tr>\n      <th>43539</th>\n      <td>255</td>\n      <td>471</td>\n      <td>3</td>\n      <td>53</td>\n      <td>0.056604</td>\n    </tr>\n    <tr>\n      <th>88832</th>\n      <td>38</td>\n      <td>971</td>\n      <td>0</td>\n      <td>13</td>\n      <td>0.000000</td>\n    </tr>\n    <tr>\n      <th>4463</th>\n      <td>726</td>\n      <td>75</td>\n      <td>2</td>\n      <td>17</td>\n      <td>0.117647</td>\n    </tr>\n    <tr>\n      <th>108401</th>\n      <td>908</td>\n      <td>798</td>\n      <td>4</td>\n      <td>113</td>\n      <td>0.035398</td>\n    </tr>\n    <tr>\n      <th>71570</th>\n      <td>882</td>\n      <td>2589</td>\n      <td>1</td>\n      <td>85</td>\n      <td>0.011765</td>\n    </tr>\n    <tr>\n      <th>10994</th>\n      <td>0</td>\n      <td>0</td>\n      <td>0</td>\n      <td>48</td>\n      <td>0.000000</td>\n    </tr>\n    <tr>\n      <th>27203</th>\n      <td>283</td>\n      <td>1073</td>\n      <td>4</td>\n      <td>103</td>\n      <td>0.038835</td>\n    </tr>\n    <tr>\n      <th>81366</th>\n      <td>292</td>\n      <td>1668</td>\n      <td>4</td>\n      <td>1019</td>\n      <td>0.003925</td>\n    </tr>\n    <tr>\n      <th>94888</th>\n      <td>670</td>\n      <td>3856</td>\n      <td>2</td>\n      <td>1028</td>\n      <td>0.001946</td>\n    </tr>\n    <tr>\n      <th>19682</th>\n      <td>1048</td>\n      <td>215</td>\n      <td>0</td>\n      <td>24</td>\n      <td>0.000000</td>\n    </tr>\n    <tr>\n      <th>28913</th>\n      <td>763</td>\n      <td>1090</td>\n      <td>0</td>\n      <td>375</td>\n      <td>0.000000</td>\n    </tr>\n    <tr>\n      <th>86975</th>\n      <td>211</td>\n      <td>3712</td>\n      <td>0</td>\n      <td>63</td>\n      <td>0.000000</td>\n    </tr>\n    <tr>\n      <th>82550</th>\n      <td>324</td>\n      <td>75</td>\n      <td>4</td>\n      <td>26</td>\n      <td>0.153846</td>\n    </tr>\n    <tr>\n      <th>99191</th>\n      <td>340</td>\n      <td>6213</td>\n      <td>0</td>\n      <td>31</td>\n      <td>0.000000</td>\n    </tr>\n    <tr>\n      <th>90741</th>\n      <td>556</td>\n      <td>195</td>\n      <td>0</td>\n      <td>43</td>\n      <td>0.000000</td>\n    </tr>\n    <tr>\n      <th>3489</th>\n      <td>190</td>\n      <td>768</td>\n      <td>0</td>\n      <td>20</td>\n      <td>0.000000</td>\n    </tr>\n    <tr>\n      <th>98668</th>\n      <td>213</td>\n      <td>1614</td>\n      <td>0</td>\n      <td>16</td>\n      <td>0.000000</td>\n    </tr>\n    <tr>\n      <th>17312</th>\n      <td>296</td>\n      <td>157</td>\n      <td>8</td>\n      <td>357</td>\n      <td>0.022409</td>\n    </tr>\n    <tr>\n      <th>28629</th>\n      <td>394</td>\n      <td>995</td>\n      <td>9</td>\n      <td>69</td>\n      <td>0.130435</td>\n    </tr>\n    <tr>\n      <th>869</th>\n      <td>97</td>\n      <td>189</td>\n      <td>6</td>\n      <td>711</td>\n      <td>0.008439</td>\n    </tr>\n    <tr>\n      <th>83533</th>\n      <td>1519</td>\n      <td>275</td>\n      <td>0</td>\n      <td>1</td>\n      <td>0.000000</td>\n    </tr>\n    <tr>\n      <th>109339</th>\n      <td>921</td>\n      <td>565</td>\n      <td>0</td>\n      <td>8</td>\n      <td>0.000000</td>\n    </tr>\n    <tr>\n      <th>45903</th>\n      <td>107</td>\n      <td>3308</td>\n      <td>0</td>\n      <td>21</td>\n      <td>0.000000</td>\n    </tr>\n    <tr>\n      <th>7216</th>\n      <td>1524</td>\n      <td>714</td>\n      <td>1</td>\n      <td>310</td>\n      <td>0.003226</td>\n    </tr>\n    <tr>\n      <th>77042</th>\n      <td>752</td>\n      <td>639</td>\n      <td>2</td>\n      <td>52</td>\n      <td>0.038462</td>\n    </tr>\n    <tr>\n      <th>2976</th>\n      <td>345</td>\n      <td>6632</td>\n      <td>3</td>\n      <td>371</td>\n      <td>0.008086</td>\n    </tr>\n    <tr>\n      <th>64743</th>\n      <td>19</td>\n      <td>157</td>\n      <td>3</td>\n      <td>35</td>\n      <td>0.085714</td>\n    </tr>\n    <tr>\n      <th>87734</th>\n      <td>1463</td>\n      <td>647</td>\n      <td>0</td>\n      <td>378</td>\n      <td>0.000000</td>\n    </tr>\n    <tr>\n      <th>62378</th>\n      <td>60</td>\n      <td>4139</td>\n      <td>0</td>\n      <td>7</td>\n      <td>0.000000</td>\n    </tr>\n    <tr>\n      <th>99056</th>\n      <td>599</td>\n      <td>75</td>\n      <td>0</td>\n      <td>29</td>\n      <td>0.000000</td>\n    </tr>\n    <tr>\n      <th>55980</th>\n      <td>1501</td>\n      <td>352</td>\n      <td>2</td>\n      <td>25</td>\n      <td>0.080000</td>\n    </tr>\n    <tr>\n      <th>110054</th>\n      <td>696</td>\n      <td>5397</td>\n      <td>3</td>\n      <td>1040</td>\n      <td>0.002885</td>\n    </tr>\n    <tr>\n      <th>82755</th>\n      <td>1057</td>\n      <td>1085</td>\n      <td>2</td>\n      <td>70</td>\n      <td>0.028571</td>\n    </tr>\n    <tr>\n      <th>113958</th>\n      <td>1513</td>\n      <td>261</td>\n      <td>0</td>\n      <td>2</td>\n      <td>0.000000</td>\n    </tr>\n    <tr>\n      <th>49297</th>\n      <td>79</td>\n      <td>1103</td>\n      <td>0</td>\n      <td>11</td>\n      <td>0.000000</td>\n    </tr>\n    <tr>\n      <th>55716</th>\n      <td>337</td>\n      <td>5753</td>\n      <td>0</td>\n      <td>28</td>\n      <td>0.000000</td>\n    </tr>\n    <tr>\n      <th>91396</th>\n      <td>344</td>\n      <td>1423</td>\n      <td>15</td>\n      <td>395</td>\n      <td>0.037975</td>\n    </tr>\n    <tr>\n      <th>25678</th>\n      <td>1097</td>\n      <td>2187</td>\n      <td>0</td>\n      <td>27</td>\n      <td>0.000000</td>\n    </tr>\n    <tr>\n      <th>85865</th>\n      <td>442</td>\n      <td>1974</td>\n      <td>1</td>\n      <td>20</td>\n      <td>0.050000</td>\n    </tr>\n    <tr>\n      <th>63327</th>\n      <td>19</td>\n      <td>2066</td>\n      <td>17</td>\n      <td>1294</td>\n      <td>0.013138</td>\n    </tr>\n  </tbody>\n</table>\n</div>"
     },
     "execution_count": 34,
     "metadata": {},
     "output_type": "execute_result"
    }
   ],
   "source": [
    "df_heatmap.sample(50)"
   ]
  },
  {
   "cell_type": "markdown",
   "metadata": {
    "pycharm": {
     "name": "#%% md\n"
    }
   },
   "source": [
    "Now, let's see where in a page are located the links with highest clicks."
   ]
  },
  {
   "cell_type": "code",
   "execution_count": 35,
   "metadata": {
    "pycharm": {
     "name": "#%%\n"
    }
   },
   "outputs": [
    {
     "name": "stderr",
     "output_type": "stream",
     "text": [
      "C:\\anaconda3\\lib\\site-packages\\pandas\\core\\arraylike.py:397: RuntimeWarning: divide by zero encountered in log\n",
      "  result = getattr(ufunc, method)(*inputs, **kwargs)\n"
     ]
    },
    {
     "data": {
      "text/plain": "Text(0.5, 1.0, 'Clicks Heatmap')"
     },
     "execution_count": 35,
     "metadata": {},
     "output_type": "execute_result"
    },
    {
     "data": {
      "text/plain": "<Figure size 432x288 with 2 Axes>",
      "image/png": "[encoded data removed]"
     },
     "metadata": {},
     "output_type": "display_data"
    }
   ],
   "source": [
    "ax = plt.axes()\n",
    "df_heatmap_clicks = pd.crosstab(np.around(np.log(df_heatmap['ypos'])), np.around(np.log(df_heatmap['xpos'])),\n",
    "                                values=df_heatmap['clicks'], aggfunc=sum)\n",
    "sns.heatmap(df_heatmap_clicks, cmap=sns.color_palette(\"Spectral\", as_cmap=True))\n",
    "ax.set_title('Clicks Heatmap')"
   ]
  },
  {
   "cell_type": "markdown",
   "metadata": {
    "pycharm": {
     "name": "#%% md\n"
    }
   },
   "source": [
    "We can compare that to the places where the links appear in average on a page:"
   ]
  },
  {
   "cell_type": "code",
   "execution_count": 36,
   "metadata": {
    "pycharm": {
     "name": "#%%\n"
    }
   },
   "outputs": [
    {
     "name": "stderr",
     "output_type": "stream",
     "text": [
      "C:\\anaconda3\\lib\\site-packages\\pandas\\core\\arraylike.py:397: RuntimeWarning: divide by zero encountered in log\n",
      "  result = getattr(ufunc, method)(*inputs, **kwargs)\n"
     ]
    },
    {
     "data": {
      "text/plain": "Text(0.5, 1.0, 'Impressions Heatmap')"
     },
     "execution_count": 36,
     "metadata": {},
     "output_type": "execute_result"
    },
    {
     "data": {
      "text/plain": "<Figure size 432x288 with 2 Axes>",
      "image/png": "[encoded data removed]"
     },
     "metadata": {},
     "output_type": "display_data"
    }
   ],
   "source": [
    "ax = plt.axes()\n",
    "df_heatmap_impressions = pd.crosstab(np.around(np.log(df_heatmap['ypos'])), np.around(np.log(df_heatmap['xpos'])),\n",
    "                                     values=df_heatmap['impressions'], aggfunc=sum)\n",
    "sns.heatmap(df_heatmap_impressions, cmap=sns.color_palette(\"Spectral\", as_cmap=True))\n",
    "ax.set_title('Impressions Heatmap')"
   ]
  },
  {
   "cell_type": "markdown",
   "metadata": {
    "pycharm": {
     "name": "#%% md\n"
    }
   },
   "source": [
    "And finally, let's try to understand where the links with highest CTR are located:"
   ]
  },
  {
   "cell_type": "code",
   "execution_count": 37,
   "metadata": {
    "pycharm": {
     "name": "#%%\n"
    }
   },
   "outputs": [
    {
     "data": {
      "text/plain": "Text(0.5, 1.0, 'CTR Heatmap')"
     },
     "execution_count": 37,
     "metadata": {},
     "output_type": "execute_result"
    },
    {
     "data": {
      "text/plain": "<Figure size 432x288 with 2 Axes>",
      "image/png": "[encoded data removed]"
     },
     "metadata": {},
     "output_type": "display_data"
    }
   ],
   "source": [
    "ax = plt.axes()\n",
    "df_heatmap_CTR = df_heatmap_clicks / df_heatmap_impressions\n",
    "sns.heatmap(df_heatmap_CTR, cmap=sns.color_palette(\"Spectral\", as_cmap=True))\n",
    "ax.set_title('CTR Heatmap')"
   ]
  },
  {
   "cell_type": "markdown",
   "metadata": {
    "pycharm": {
     "name": "#%% md\n"
    }
   },
   "source": [
    "These heatmaps are only the first iteration and will be made more clear for the next milestone."
   ]
  },
  {
   "cell_type": "markdown",
   "metadata": {
    "pycharm": {
     "name": "#%% md\n"
    }
   },
   "source": [
    "Let's now investigate the relationship between two variables"
   ]
  },
  {
   "cell_type": "code",
   "execution_count": 38,
   "metadata": {
    "pycharm": {
     "name": "#%%\n"
    }
   },
   "outputs": [
    {
     "name": "stdout",
     "output_type": "stream",
     "text": [
      "PearsonRResult(statistic=0.025033423109650857, pvalue=2.850711163911312e-17)\n"
     ]
    }
   ],
   "source": [
    "df_links = df_links.fillna(0)\n",
    "print(stats.pearsonr(df_links['xpos'], df_links['CTR']))"
   ]
  },
  {
   "cell_type": "markdown",
   "metadata": {
    "pycharm": {
     "name": "#%% md\n"
    }
   },
   "source": [
    "There is a very small (0.02), but significant (p < 0.05) positive correlation"
   ]
  },
  {
   "cell_type": "code",
   "execution_count": 39,
   "metadata": {
    "pycharm": {
     "name": "#%%\n"
    }
   },
   "outputs": [
    {
     "name": "stdout",
     "output_type": "stream",
     "text": [
      "PearsonRResult(statistic=-0.2094043231761328, pvalue=0.0)\n"
     ]
    }
   ],
   "source": [
    "print(stats.pearsonr(df_links['ypos'], df_links['CTR']))"
   ]
  },
  {
   "cell_type": "markdown",
   "metadata": {
    "pycharm": {
     "name": "#%% md\n"
    }
   },
   "source": [
    "There is a small (-0.2), but significant (p < 0.05) negative correlation. The pearson correlation coefficient for y position is 10 times higher than the one for x position."
   ]
  },
  {
   "cell_type": "markdown",
   "metadata": {
    "pycharm": {
     "name": "#%% md\n"
    }
   },
   "source": [
    "Finally, we plot ypos/CTR and fit a regression model "
   ]
  },
  {
   "cell_type": "code",
   "execution_count": 40,
   "metadata": {
    "pycharm": {
     "name": "#%%\n"
    }
   },
   "outputs": [
    {
     "data": {
      "text/plain": "Text(0.5, 1.0, 'Linear Regression of CTR on ypos')"
     },
     "execution_count": 40,
     "metadata": {},
     "output_type": "execute_result"
    },
    {
     "data": {
      "text/plain": "<Figure size 360x360 with 1 Axes>",
      "image/png": "[encoded data removed]"
     },
     "metadata": {},
     "output_type": "display_data"
    }
   ],
   "source": [
    "sns.lmplot(x=\"ypos\", y=\"CTR\", data=df_links, line_kws={'color': 'red'})\n",
    "ax = plt.gca()\n",
    "ax.set_title('Linear Regression of CTR on ypos')"
   ]
  },
  {
   "cell_type": "markdown",
   "metadata": {
    "pycharm": {
     "name": "#%% md\n"
    }
   },
   "source": [
    "We plan to continue the investigations with additionnal features, and plot more intuitive visualizations."
   ]
  },
  {
   "cell_type": "markdown",
   "source": [
    "---\n",
    "# Part 3: Observational Study\n",
    "In this third section, we will be conducting an observational study to answer the following research question:\n",
    "> Does the position of a link on a page affect its click-through rate?\n",
    "\n",
    "# 3.1: Treatment & Control Group\n",
    "Let's first define the treated and control groups. Treated group are the links that happened to be at the top of an article and that the user can see without scrolling (ypos < 900). Control group are the links that happened to be at the bottom of an article (ypos >= 900) and that the user needs to scroll to see."
   ],
   "metadata": {
    "collapsed": false,
    "pycharm": {
     "name": "#%% md\n"
    }
   }
  },
  {
   "cell_type": "code",
   "execution_count": 41,
   "outputs": [],
   "source": [
    "df_treatment = df_links.loc[df_links['is_on_top'] == 1]\n",
    "df_control = df_links.loc[df_links['is_on_top'] == 0]"
   ],
   "metadata": {
    "collapsed": false,
    "pycharm": {
     "name": "#%%\n"
    }
   }
  },
  {
   "cell_type": "markdown",
   "source": [
    "Now, we are interested in comparing the outcome variable, the CTR, in both groups as a first analysis."
   ],
   "metadata": {
    "collapsed": false,
    "pycharm": {
     "name": "#%% md\n"
    }
   }
  },
  {
   "cell_type": "code",
   "execution_count": 42,
   "outputs": [
    {
     "name": "stdout",
     "output_type": "stream",
     "text": [
      "count    57395.000000\n",
      "mean         0.055285\n",
      "std          0.098601\n",
      "min          0.000000\n",
      "25%          0.000000\n",
      "50%          0.015152\n",
      "75%          0.071356\n",
      "max          1.000000\n",
      "Name: CTR, dtype: float64\n",
      "count    56579.000000\n",
      "mean         0.017655\n",
      "std          0.043457\n",
      "min          0.000000\n",
      "25%          0.000000\n",
      "50%          0.000000\n",
      "75%          0.016949\n",
      "max          1.000000\n",
      "Name: CTR, dtype: float64\n"
     ]
    }
   ],
   "source": [
    "print(df_treatment.CTR.describe())  # statistical description of the CTR in the treated group\n",
    "print(df_control.CTR.describe())  # statistical description of the CTR in the control group"
   ],
   "metadata": {
    "collapsed": false,
    "pycharm": {
     "name": "#%%\n"
    }
   }
  },
  {
   "cell_type": "markdown",
   "source": [
    "What about the CTR density distribution in both groups?"
   ],
   "metadata": {
    "collapsed": false,
    "pycharm": {
     "name": "#%% md\n"
    }
   }
  },
  {
   "cell_type": "code",
   "execution_count": 43,
   "outputs": [
    {
     "data": {
      "text/plain": "<Figure size 432x288 with 1 Axes>",
      "image/png": "[encoded data removed]"
     },
     "metadata": {},
     "output_type": "display_data"
    }
   ],
   "source": [
    "# remove null values because log_scale is set to true for better visualization\n",
    "df_treatment = df_treatment.loc[df_treatment[\"CTR\"] != 0]\n",
    "df_control = df_control.loc[df_control[\"CTR\"] != 0]\n",
    "\n",
    "ax = sns.histplot(df_treatment['CTR'], stat='density', kde=True, color='blue', label='treated', log_scale=True)\n",
    "ax = sns.histplot(df_control['CTR'], stat='density', kde=True, color='orange', label='control', log_scale=True)\n",
    "ax.set(title='CTR distribution', xlabel='CTR', ylabel='CTR density')\n",
    "plt.legend()\n",
    "plt.show()"
   ],
   "metadata": {
    "collapsed": false,
    "pycharm": {
     "name": "#%%\n"
    }
   }
  },
  {
   "cell_type": "markdown",
   "source": [
    "The treated group has:\n",
    "- higher mean CTR value\n",
    "- higher percentile (50%, 75%)\n",
    "- 75% of the CTR values lie below 0.071\n",
    "- 50% of the CTR values lie below 0.015\n",
    "\n",
    "The control group has:\n",
    "\n",
    "- lower mean CTR value\n",
    "- lower percentile (50%, 75%)\n",
    "- 75% of the CTR values lie below 0.016\n",
    "- 50% of the CTR values lie below 0.0 (or equal to 0 as CTR > 0)\n",
    "\n",
    "We conclude that, in general, the treated group have higher CTR values than the control one."
   ],
   "metadata": {
    "collapsed": false,
    "pycharm": {
     "name": "#%% md\n"
    }
   }
  },
  {
   "cell_type": "markdown",
   "source": [
    "### 3.2: Let's take a closer look at the data\n",
    "\n",
    "As the data was gathered on individual behaviors in the scope of the Wikispeedia game, observational studies become a pillar in a causal analysis.\n",
    "\n",
    "First, we could think of the **source article length** as a confounder acting on the link position.\n",
    "\n",
    "Second, the semantic similarity between a link and the article in which it exists could affect its position. For example, we can expect that links that are most related to the article are at the top since they gather the most important information. Thus, the **semantic similarity** could act as a confounder since not all links have the same probabilities to be at the top of an article.\n",
    "\n",
    "In this section, we discover the distribution of these confounders in both the treated and control group to assess our hypotheses through different visualizations."
   ],
   "metadata": {
    "collapsed": false,
    "pycharm": {
     "name": "#%% md\n"
    }
   }
  },
  {
   "cell_type": "code",
   "execution_count": 44,
   "outputs": [
    {
     "data": {
      "text/plain": "<Figure size 432x288 with 1 Axes>",
      "image/png": "[encoded data removed]"
     },
     "metadata": {},
     "output_type": "display_data"
    }
   ],
   "source": [
    "# Confounder 1: source article length\n",
    "\n",
    "ax = sns.histplot(df_treatment['length'], kde=True, stat='density', color='blue', label='treated')\n",
    "ax = sns.histplot(df_control['length'], kde=True, stat='density', color='orange', label='control')\n",
    "ax.set(title='Source article length distribution', xlabel='Source article length', ylabel='Length density')\n",
    "plt.legend()\n",
    "plt.show()"
   ],
   "metadata": {
    "collapsed": false,
    "pycharm": {
     "name": "#%%\n"
    }
   }
  },
  {
   "cell_type": "code",
   "execution_count": 45,
   "outputs": [
    {
     "data": {
      "text/plain": "<Figure size 504x504 with 1 Axes>",
      "image/png": "[encoded data removed]"
     },
     "metadata": {},
     "output_type": "display_data"
    }
   ],
   "source": [
    "# Confounder 1: source article length\n",
    "\n",
    "df_links.boxplot(by='is_on_top', column='length', figsize=[7, 7], grid=True)\n",
    "plt.show()"
   ],
   "metadata": {
    "collapsed": false,
    "pycharm": {
     "name": "#%%\n"
    }
   }
  },
  {
   "cell_type": "markdown",
   "source": [
    "From the graphs above, one can see that links that are at the top tend to exist in shorter articles. This might give an intuition of how much the source article length affect its target links position."
   ],
   "metadata": {
    "collapsed": false,
    "pycharm": {
     "name": "#%% md\n"
    }
   }
  },
  {
   "cell_type": "code",
   "execution_count": 46,
   "outputs": [
    {
     "data": {
      "text/plain": "<Figure size 432x288 with 1 Axes>",
      "image/png": "[encoded data removed]"
     },
     "metadata": {},
     "output_type": "display_data"
    }
   ],
   "source": [
    "# Confounder 2: semantic similarity score between links and articles in which they exists\n",
    "\n",
    "ax = sns.histplot(df_treatment['category_similarity_score'], kde=True, stat='density', color='blue', label='treated')\n",
    "ax = sns.histplot(df_control['category_similarity_score'], kde=True, stat='density', color='orange', label='control')\n",
    "ax.set(title='Category similarity score distribution', xlabel='category similarity score',\n",
    "       ylabel='category similarity score density')\n",
    "plt.legend()\n",
    "plt.show()"
   ],
   "metadata": {
    "collapsed": false,
    "pycharm": {
     "name": "#%%\n"
    }
   }
  },
  {
   "cell_type": "code",
   "execution_count": 47,
   "outputs": [
    {
     "data": {
      "text/plain": "<Figure size 504x504 with 1 Axes>",
      "image/png": "[encoded data removed]"
     },
     "metadata": {},
     "output_type": "display_data"
    }
   ],
   "source": [
    "# Confounder 2: semantic similarity score between links and articles in which they exists\n",
    "\n",
    "df_links.boxplot(by='is_on_top', column='category_similarity_score', figsize=[7, 7], grid=True)\n",
    "plt.show()"
   ],
   "metadata": {
    "collapsed": false,
    "pycharm": {
     "name": "#%%\n"
    }
   }
  },
  {
   "cell_type": "markdown",
   "source": [
    "As we can observe from the two plots above, links existing at the top tend to be more semantically related to their corresponding source article."
   ],
   "metadata": {
    "collapsed": false,
    "pycharm": {
     "name": "#%% md\n"
    }
   }
  },
  {
   "cell_type": "markdown",
   "source": [
    "### 3.3: A propensity score model\n",
    "A way to handle covariates is by matching links into pairs (treated, control) with respect to their propensity score. The propensity score can be measured through a logistic regression and for each data point, it represents its probability to be at the top of an article given the proposed covariates, features."
   ],
   "metadata": {
    "collapsed": false,
    "pycharm": {
     "name": "#%% md\n"
    }
   }
  },
  {
   "cell_type": "code",
   "execution_count": 48,
   "outputs": [
    {
     "name": "stdout",
     "output_type": "stream",
     "text": [
      "Optimization terminated successfully.\n",
      "         Current function value: 0.622879\n",
      "         Iterations 5\n",
      "                           Logit Regression Results                           \n",
      "==============================================================================\n",
      "Dep. Variable:              is_on_top   No. Observations:               113974\n",
      "Model:                          Logit   Df Residuals:                   113971\n",
      "Method:                           MLE   Df Model:                            2\n",
      "Date:                Fri, 23 Dec 2022   Pseudo R-squ.:                  0.1013\n",
      "Time:                        17:38:12   Log-Likelihood:                -70992.\n",
      "converged:                       True   LL-Null:                       -78998.\n",
      "Covariance Type:            nonrobust   LLR p-value:                     0.000\n",
      "=============================================================================================\n",
      "                                coef    std err          z      P>|z|      [0.025      0.975]\n",
      "---------------------------------------------------------------------------------------------\n",
      "Intercept                    -0.0098      0.006     -1.531      0.126      -0.022       0.003\n",
      "length                       -0.7935      0.008   -101.929      0.000      -0.809      -0.778\n",
      "category_similarity_score     0.3181      0.006     49.268      0.000       0.305       0.331\n",
      "=============================================================================================\n"
     ]
    }
   ],
   "source": [
    "# standardize the continuous covariates\n",
    "df_links['length'] = (df_links['length'] - df_links['length'].mean()) / df_links['length'].std()\n",
    "df_links['category_similarity_score'] = (df_links['category_similarity_score'] - df_links[\n",
    "    'category_similarity_score'].mean()) / df_links['category_similarity_score'].std()\n",
    "\n",
    "# logistic regression\n",
    "mod = smf.logit(formula='is_on_top ~ length + category_similarity_score ', data=df_links)\n",
    "\n",
    "res = mod.fit()\n",
    "\n",
    "# Extract the propensity scores\n",
    "df_links['Propensity_score'] = pd.Series(res.predict())\n",
    "\n",
    "print(res.summary())"
   ],
   "metadata": {
    "collapsed": false,
    "pycharm": {
     "name": "#%%\n"
    }
   }
  },
  {
   "cell_type": "markdown",
   "source": [
    "From the logistic regression summary obtained above, the p-values (=0.000) confirm the effect of the source article length and the similarity score on the link position since they are less than 0.05, resulting in a significant effect."
   ],
   "metadata": {
    "collapsed": false,
    "pycharm": {
     "name": "#%% md\n"
    }
   }
  },
  {
   "cell_type": "markdown",
   "source": [
    "### 3.4: Matching\n",
    "As the probability for two data points to have the same propensity score (real values) is negligeable, approximate matching is performed. For this, we use a K-nearest neighbors model to get the k closest neighbors to each link with respect to their propensity score. Then, each treated link is matched with a control link if this latter is considered as one of its neighbors. They share the same range of propensity scores within a chosen radius."
   ],
   "metadata": {
    "collapsed": false,
    "pycharm": {
     "name": "#%% md\n"
    }
   }
  },
  {
   "cell_type": "code",
   "execution_count": 49,
   "outputs": [
    {
     "data": {
      "text/plain": "NearestNeighbors(n_neighbors=10, radius=0.045341210374161334)"
     },
     "execution_count": 49,
     "metadata": {},
     "output_type": "execute_result"
    }
   ],
   "source": [
    "# update dataframes\n",
    "df_treatment = df_links.loc[df_links['is_on_top'] == 1]\n",
    "df_control = df_links.loc[df_links['is_on_top'] == 0]\n",
    "\n",
    "# remove NaN values (sanity check):\n",
    "df_links.dropna(inplace=True)\n",
    "\n",
    "# Here, we define the K-NN hyperparameters: radius and number of neighbors.\n",
    "## These latter have been carefully chosen after several tests.\n",
    "\n",
    "# we choose the K-nn model to vote among neighbors within 25% of standard deviation of the propensity score radius.\n",
    "radius_neighbors = np.std(df_links['Propensity_score']) * 0.25\n",
    "\n",
    "# we choose 10 as the number of neighbors to be used in the model.\n",
    "num_neighbors = 10\n",
    "\n",
    "# K-NN\n",
    "from sklearn.neighbors import NearestNeighbors\n",
    "\n",
    "knn = NearestNeighbors(n_neighbors=num_neighbors, radius=radius_neighbors)\n",
    "\n",
    "# extract the Propensity_score column\n",
    "Propensity_score = df_links[['Propensity_score']]\n",
    "\n",
    "# fit the K-NN model to the extracted column\n",
    "knn.fit(Propensity_score)"
   ],
   "metadata": {
    "collapsed": false,
    "pycharm": {
     "name": "#%%\n"
    }
   }
  },
  {
   "cell_type": "code",
   "execution_count": 50,
   "outputs": [],
   "source": [
    "# run the K-NN model to extract for each datapoint, its neighbors ids.\n",
    "_, neighbor_ids = knn.kneighbors(Propensity_score)\n",
    "df_links.reset_index(inplace=True)\n",
    "\n",
    "matching = []  # store the matched data points from the control group\n",
    "\n",
    "for id_row, row in df_links.iterrows():\n",
    "\n",
    "    # uf the row is in the control group\n",
    "    if row['is_on_top'] == 0:\n",
    "        df_links.loc[id_row, 'matched'] = np.nan  # because we want to match\n",
    "        # each treated link with a control one and not the opposite.\n",
    "    # else if the row is in the treated group\n",
    "    else:\n",
    "        # for each link in the treated group, loop over its k neighbors\n",
    "        for neighbor_id in neighbor_ids[id_row, :]:\n",
    "\n",
    "            # check if the neighbor is in the control group and the treated link is not matching with itself\n",
    "            if (id_row != neighbor_id) and (df_links.loc[neighbor_id, 'is_on_top'] == 0):\n",
    "\n",
    "                # check if the control link have a match already\n",
    "                if neighbor_id not in matching:\n",
    "                    df_links.loc[id_row, 'matched'] = neighbor_id  # match the treated link to a controlled link\n",
    "                    matching.append(neighbor_id)  # add the matched id from the control group\n",
    "                    break"
   ],
   "metadata": {
    "collapsed": false,
    "pycharm": {
     "name": "#%%\n"
    }
   }
  },
  {
   "cell_type": "code",
   "execution_count": 51,
   "outputs": [],
   "source": [
    "# dataframe containing only matched rows from the treated group\n",
    "df_treatment_matched = df_links.dropna(subset=['matched'])  # because links from the control group have NaN values\n",
    "\n",
    "# indexes of the matched links from the control group to each of the links in the treated group\n",
    "matched_control_ids = df_treatment_matched['matched'].astype(int)\n",
    "\n",
    "# dataframe containing only matched rows from the control group\n",
    "df_control_matched = df_links.loc[matched_control_ids, :]\n",
    "\n",
    "# concatenate the matched treatment and control groups into a single dataframe\n",
    "df_matched = pd.concat([df_treatment_matched, df_control_matched])\n",
    "\n",
    "# drop NaN CTR values\n",
    "df_matched.dropna(subset=['CTR'], inplace=True)"
   ],
   "metadata": {
    "collapsed": false,
    "pycharm": {
     "name": "#%%\n"
    }
   }
  },
  {
   "cell_type": "markdown",
   "source": [
    "Now that our data is matched, let's compare again the CTR statistical description and distribution between the treated and control links and see if there is a change."
   ],
   "metadata": {
    "collapsed": false,
    "pycharm": {
     "name": "#%% md\n"
    }
   }
  },
  {
   "cell_type": "code",
   "execution_count": 52,
   "outputs": [
    {
     "name": "stdout",
     "output_type": "stream",
     "text": [
      "count    29871.000000\n",
      "mean         0.055014\n",
      "std          0.094457\n",
      "min          0.000000\n",
      "25%          0.000000\n",
      "50%          0.019608\n",
      "75%          0.070423\n",
      "max          1.000000\n",
      "Name: CTR, dtype: float64\n",
      "count    29871.000000\n",
      "mean         0.020978\n",
      "std          0.047941\n",
      "min          0.000000\n",
      "25%          0.000000\n",
      "50%          0.000000\n",
      "75%          0.022698\n",
      "max          1.000000\n",
      "Name: CTR, dtype: float64\n"
     ]
    }
   ],
   "source": [
    "# matched control and treatment\n",
    "df_matched_treatment = df_matched.loc[df_matched['is_on_top'] == 1]  #links positioned at the top\n",
    "df_matched_control = df_matched.loc[df_matched['is_on_top'] == 0]  #links positioned at the bottom\n",
    "\n",
    "print(df_matched_treatment.CTR.describe())  # statistical description of the CTR in the treated group\n",
    "print(df_matched_control.CTR.describe())  # statistical description of the CTR in the control group"
   ],
   "metadata": {
    "collapsed": false,
    "pycharm": {
     "name": "#%%\n"
    }
   }
  },
  {
   "cell_type": "code",
   "execution_count": 53,
   "outputs": [
    {
     "data": {
      "text/plain": "<Figure size 432x288 with 1 Axes>",
      "image/png": "[encoded data removed]"
     },
     "metadata": {},
     "output_type": "display_data"
    }
   ],
   "source": [
    "# remove null values because log_scale is set to true for better visualization\n",
    "df_treatment = df_matched_treatment.loc[df_matched_treatment[\"CTR\"] != 0]\n",
    "df_control = df_matched_control.loc[df_matched_control[\"CTR\"] != 0]\n",
    "\n",
    "ax = sns.histplot(df_treatment['CTR'], stat='density', kde=True, color='blue', label='treated', log_scale=True)\n",
    "ax = sns.histplot(df_control['CTR'], stat='density', kde=True, color='orange', label='control', log_scale=True)\n",
    "ax.set(title='CTR distribution, after matching', xlabel='CTR', ylabel='CTR density')\n",
    "plt.legend()\n",
    "plt.show()"
   ],
   "metadata": {
    "collapsed": false,
    "pycharm": {
     "name": "#%%\n"
    }
   }
  },
  {
   "cell_type": "code",
   "execution_count": 54,
   "outputs": [
    {
     "name": "stdout",
     "output_type": "stream",
     "text": [
      "PearsonRResult(statistic=-0.20753706890359347, pvalue=0.0)\n"
     ]
    },
    {
     "data": {
      "text/plain": "<Figure size 360x360 with 1 Axes>",
      "image/png": "[encoded data removed]"
     },
     "metadata": {},
     "output_type": "display_data"
    }
   ],
   "source": [
    "sns.lmplot(x=\"ypos\", y=\"CTR\", data=df_matched, line_kws={'color': 'red'})  #linear regression\n",
    "ax = plt.gca()\n",
    "ax.set_title('Linear Regression of CTR on ypos')\n",
    "print(stats.pearsonr(df_matched['ypos'], df_matched['CTR']))"
   ],
   "metadata": {
    "collapsed": false,
    "pycharm": {
     "name": "#%%\n"
    }
   }
  },
  {
   "cell_type": "markdown",
   "source": [
    "Again, the p-value shows a significant effect of the position on the CTR (< 0.05). This, indeed, confirms that **the higher a link is positioned, the higher its CTR will be.**\n",
    "\n",
    "Let's push further the analysis by matching only links that have the same article source!"
   ],
   "metadata": {
    "collapsed": false,
    "pycharm": {
     "name": "#%% md\n"
    }
   }
  },
  {
   "cell_type": "code",
   "execution_count": 55,
   "outputs": [],
   "source": [
    "matching = []  # store the matched data points from the control group\n",
    "\n",
    "for id_row, row in df_links.iterrows():\n",
    "\n",
    "    # If the row is in the control group\n",
    "    if row['is_on_top'] == 0:\n",
    "        df_links.loc[id_row, 'matched'] = np.nan  # because we want to match\n",
    "        # each treated link with a control one and not the opposite.\n",
    "    # else if the row is in the treated group\n",
    "    else:\n",
    "        # for each link in the treated group, loop over its k neighbors\n",
    "        for neighbor_id in neighbor_ids[id_row, :]:\n",
    "\n",
    "            # check if the neighbor is in the control group and the treated link is not matching with itself\n",
    "            # and the link source of the treated link is the same as the control link\n",
    "            if (id_row != neighbor_id) and (df_links.loc[neighbor_id, 'is_on_top'] == 0) and (\n",
    "                    row['linkSource'] == df_links.loc[neighbor_id, 'linkSource']):\n",
    "\n",
    "                # check if the control link have a match already\n",
    "                if neighbor_id not in matching:\n",
    "                    df_links.loc[id_row, 'matched'] = neighbor_id  # match the treated link to a controlled link\n",
    "                    matching.append(neighbor_id)  # add the matched id from the control group\n",
    "                    break"
   ],
   "metadata": {
    "collapsed": false,
    "pycharm": {
     "name": "#%%\n"
    }
   }
  },
  {
   "cell_type": "code",
   "execution_count": 56,
   "outputs": [],
   "source": [
    "# dataframe containing only matched rows from the treated group\n",
    "df_treatment_matched = df_links.dropna(subset=['matched'])  # because links from the control group have NaN values\n",
    "\n",
    "# indexes of the matched links from the control group to each of the links in the treated group\n",
    "matched_control_ids = df_treatment_matched['matched'].astype(int)\n",
    "\n",
    "# dataframe containing only matched rows from the control group\n",
    "df_control_matched = df_links.loc[matched_control_ids, :]\n",
    "\n",
    "# concatenate the matched treatment and control groups into a single dataframe\n",
    "df_matched = pd.concat([df_treatment_matched, df_control_matched])\n",
    "\n",
    "# drop NaN CTR values\n",
    "df_matched.dropna(subset=['CTR'], inplace=True)"
   ],
   "metadata": {
    "collapsed": false,
    "pycharm": {
     "name": "#%%\n"
    }
   }
  },
  {
   "cell_type": "code",
   "execution_count": 57,
   "outputs": [],
   "source": [
    "# matched control and treatment\n",
    "df_matched_treatment = df_matched.loc[df_matched['is_on_top'] == 1]  #links positioned at the top\n",
    "df_matched_control = df_matched.loc[df_matched['is_on_top'] == 0]  #links positioned at the bottom"
   ],
   "metadata": {
    "collapsed": false,
    "pycharm": {
     "name": "#%%\n"
    }
   }
  },
  {
   "cell_type": "code",
   "execution_count": 58,
   "outputs": [
    {
     "data": {
      "text/plain": "<Figure size 432x288 with 1 Axes>",
      "image/png": "[encoded data removed]"
     },
     "metadata": {},
     "output_type": "display_data"
    }
   ],
   "source": [
    "# Remove null values because log_scale is set to true for better visualization\n",
    "df_treatment = df_matched_treatment.loc[df_matched_treatment['CTR'] != 0]\n",
    "df_control = df_matched_control.loc[df_matched_control['CTR'] != 0]\n",
    "\n",
    "ax = sns.histplot(df_treatment['CTR'], stat='density', kde=True, color='blue', label='treated', log_scale=True)\n",
    "ax = sns.histplot(df_control['CTR'], stat='density', kde=True, color='orange', label='control', log_scale=True)\n",
    "ax.set(title='CTR distribution, after matching', xlabel='CTR', ylabel='CTR density')\n",
    "plt.legend()\n",
    "plt.show()"
   ],
   "metadata": {
    "collapsed": false,
    "pycharm": {
     "name": "#%%\n"
    }
   }
  },
  {
   "cell_type": "code",
   "execution_count": 59,
   "outputs": [
    {
     "name": "stdout",
     "output_type": "stream",
     "text": [
      "PearsonRResult(statistic=-0.2083954338892232, pvalue=0.0)\n"
     ]
    },
    {
     "data": {
      "text/plain": "<Figure size 360x360 with 1 Axes>",
      "image/png": "[encoded data removed]"
     },
     "metadata": {},
     "output_type": "display_data"
    }
   ],
   "source": [
    "sns.lmplot(x=\"ypos\", y=\"CTR\", data=df_matched, line_kws={'color': 'red'})\n",
    "ax = plt.gca()\n",
    "ax.set_title('Linear Regression of CTR on ypos')\n",
    "print(stats.pearsonr(df_matched['ypos'], df_matched['CTR']))"
   ],
   "metadata": {
    "collapsed": false,
    "pycharm": {
     "name": "#%%\n"
    }
   }
  },
  {
   "cell_type": "markdown",
   "source": [
    "After link matching while sharing the same source article, a negative correlation is found between the CTR and the link position. Again, one can conclude that as the link position increases in the article, its CTR decreases."
   ],
   "metadata": {
    "collapsed": false,
    "pycharm": {
     "name": "#%% md\n"
    }
   }
  },
  {
   "cell_type": "markdown",
   "source": [
    "---\n",
    "### Appendices - Interactive Graph Generation for Website\n",
    "In the following sections, the code used to generate interactive graphs for the website will be presented. These graphs are generated using the `plotly` library and are exported as HTML files."
   ],
   "metadata": {
    "collapsed": false,
    "pycharm": {
     "name": "#%% md\n"
    }
   }
  },
  {
   "cell_type": "markdown",
   "source": [
    "### Appendix 1 - Density Map for Clicks"
   ],
   "metadata": {
    "collapsed": false,
    "pycharm": {
     "name": "#%% md\n"
    }
   }
  },
  {
   "cell_type": "code",
   "execution_count": 61,
   "outputs": [],
   "source": [
    "x = np.array(df_links.xpos)\n",
    "y = np.array(df_links.ypos)\n",
    "y_modified = max(y) - np.array(df_links.ypos)\n",
    "\n",
    "z = np.array(df_links.clicks)\n",
    "\n",
    "colorscale = ['#7A4579', '#D56073', 'rgb(236,158,105)', (1, 1, 0.2), (0.98, 0.98, 0.98)]\n",
    "\n",
    "hovertext = ['Clicks: {}'.format(z[i]) for i in range(len(z))]\n",
    "\n",
    "fig = px.density_contour(x=x, y=y_modified, z=z)\n",
    "fig.update_traces(contours_coloring=\"fill\", contours_showlabels=True)\n",
    "fig.update_layout(yaxis_range=[28000, 30000])\n",
    "\n",
    "#x axis\n",
    "fig.update_xaxes(visible=False)\n",
    "\n",
    "#y axis\n",
    "fig.update_yaxes(visible=False)\n",
    "\n",
    "fig.write_html(\"output/figures/density_map.html\", auto_open=True)"
   ],
   "metadata": {
    "collapsed": false,
    "pycharm": {
     "name": "#%%\n"
    }
   }
  },
  {
   "cell_type": "markdown",
   "source": [
    "### Appendix 2 - Heatmap for Clicks"
   ],
   "metadata": {
    "collapsed": false,
    "pycharm": {
     "name": "#%% md\n"
    }
   }
  },
  {
   "cell_type": "code",
   "execution_count": 62,
   "outputs": [],
   "source": [
    "# compute new graph for plotly visualization\n",
    "## the objective is to draw connexe components of G, removing some outliers\n",
    "G = nx.from_pandas_edgelist(df_links, source='linkSource', target='linkTarget', edge_attr='clicks',\n",
    "                            create_using=nx.DiGraph)\n",
    "Gcc = sorted(nx.strongly_connected_components(G), key=len, reverse=True)\n",
    "G = G.subgraph(Gcc[0])\n",
    "\n",
    "# Compute the node positions for the graph\n",
    "pos = nx.fruchterman_reingold_layout(G)\n",
    "\n",
    "# Extract the edge weights from the Graph object\n",
    "edge_weights = [G[u][v]['clicks'] for u, v in G.edges()]\n",
    "\n",
    "# Create a scattergl trace for the nodes\n",
    "node_trace = go.Scattergl(\n",
    "    x=[pos[node][0] for node in G.nodes],\n",
    "    y=[pos[node][1] for node in G.nodes],\n",
    "    text=[node for node in G.nodes],\n",
    "    mode='markers',\n",
    "    hoverinfo='text',\n",
    "    marker=dict(symbol='circle-dot', size=5, color='#6959CD')\n",
    ")\n",
    "\n",
    "# Create a scattergl trace for the edges\n",
    "edge_trace = go.Scattergl(\n",
    "    x=[pos[u][0] for u, v in G.edges()],\n",
    "    y=[pos[u][1] for u, v in G.edges()],\n",
    "    text=[G[u][v]['clicks'] for u, v in G.edges()],\n",
    "    mode='lines',\n",
    "    hoverinfo='text',\n",
    "    line=dict(color='rgb(50,50,50)', width=0.05)\n",
    ")\n",
    "\n",
    "# Create a Figure object\n",
    "fig = go.Figure(data=[node_trace, edge_trace])\n",
    "\n",
    "# Set the layout of the Figure object\n",
    "fig.update_layout(\n",
    "    title='Wikispeedia Network',\n",
    "    hovermode='closest',\n",
    "    hoverlabel=dict(\n",
    "        bgcolor='#FFFFFF',\n",
    "        font_size=16\n",
    "    ),\n",
    "    xaxis=dict(\n",
    "        showgrid=False,\n",
    "        zeroline=False,\n",
    "        showticklabels=False\n",
    "    ),\n",
    "    yaxis=dict(\n",
    "        showgrid=False,\n",
    "        zeroline=False,\n",
    "        showticklabels=False\n",
    "    ),\n",
    "    paper_bgcolor='rgba(0,0,0,0)',\n",
    "    plot_bgcolor='rgba(0,0,0,0)'\n",
    ")\n",
    "\n",
    "# Save the plot as an HTML file and show it in a browser\n",
    "pio.write_html(fig, file='output/figures/graph_Wikispeedia.html', auto_open=True)"
   ],
   "metadata": {
    "collapsed": false,
    "pycharm": {
     "name": "#%%\n"
    }
   }
  },
  {
   "cell_type": "markdown",
   "source": [
    "### Appendix 4 - Ranking of pages"
   ],
   "metadata": {
    "collapsed": false,
    "pycharm": {
     "name": "#%% md\n"
    }
   }
  },
  {
   "cell_type": "code",
   "execution_count": 64,
   "outputs": [],
   "source": [
    "# Ranking pages\n",
    "\n",
    "df_articles = pd.read_csv(\"output/3_output_link_position.csv\")\n",
    "\n",
    "# Sort df_articles by the 'clicks' column in descending order\n",
    "df_articles_sorted = df_articles.sort_values(\"clicks\", ascending=False)\n",
    "\n",
    "# Keep the top 5 rows\n",
    "df_top_5 = df_articles_sorted.nlargest(5, \"clicks\")\n",
    "\n",
    "# Use the melt function to pivot the data\n",
    "df = df_top_5.melt(id_vars=[\"linkTarget\"], value_vars=[\"impressions\", \"clicks\"], var_name=\"Metrics\",\n",
    "                   value_name=\"metrics_value\")\n",
    "\n",
    "fig = px.bar(df, x=\"metrics_value\", y=\"linkTarget\", color=\"Metrics\", orientation=\"h\",\n",
    "             color_discrete_sequence=['#1d3299', '#259fcc'])\n",
    "\n",
    "# Reverse the order of the bars\n",
    "fig.update_layout(yaxis=dict(autorange=\"reversed\"), paper_bgcolor='rgba(0,0,0,0)', plot_bgcolor='rgba(0,0,0,0)')\n",
    "\n",
    "# Increase the font size of the y axis values\n",
    "fig.layout.yaxis.tickfont.size = 20\n",
    "\n",
    "# Add a title to the figure\n",
    "fig.update_layout(title=\"Articles with highest impressions\")\n",
    "\n",
    "fig.layout.title.x = 0.5\n",
    "fig.layout.titlefont.size = 30\n",
    "\n",
    "#x axis\n",
    "fig.update_xaxes(visible=False)\n",
    "\n",
    "# Hide the y axis title\n",
    "fig.layout.yaxis.title = \"\"\n",
    "\n",
    "fig.write_html(\"output/figures/ranking.html\", auto_open=True)"
   ],
   "metadata": {
    "collapsed": false,
    "pycharm": {
     "name": "#%%\n"
    }
   }
  },
  {
   "cell_type": "markdown",
   "source": [
    "### Appendix 5 - CTR as function of ypos"
   ],
   "metadata": {
    "collapsed": false,
    "pycharm": {
     "name": "#%% md\n"
    }
   }
  },
  {
   "cell_type": "code",
   "execution_count": 65,
   "outputs": [],
   "source": [
    "# plot CTR vs ypos\n",
    "\n",
    "fig = px.scatter(df_links, x=\"ypos\", y=\"CTR\", color=\"CTR\",\n",
    "                 custom_data=[\"linkSource\", \"linkTarget\", \"impressions\", \"clicks\"])\n",
    "\n",
    "fig.update_traces(\n",
    "    hovertemplate=\"<br>\".join([\n",
    "        \"y position: %{x}\",\n",
    "        \"CTR: %{y}\",\n",
    "        \"Link Source: %{customdata[0]}\",\n",
    "        \"Link Target: %{customdata[1]}\",\n",
    "        \"Impressions: %{customdata[2]}\",\n",
    "        \"Clicks: %{customdata[3]}\"\n",
    "    ])\n",
    ")\n",
    "\n",
    "fig.write_html(\"output/figures/CTR_ypos_plot.html\", auto_open=True)"
   ],
   "metadata": {
    "collapsed": false,
    "pycharm": {
     "name": "#%%\n"
    }
   }
  },
  {
   "cell_type": "markdown",
   "source": [
    "### Appendix 6 - CTR as function of ypos with linear regression"
   ],
   "metadata": {
    "collapsed": false,
    "pycharm": {
     "name": "#%% md\n"
    }
   }
  },
  {
   "cell_type": "code",
   "execution_count": 66,
   "outputs": [],
   "source": [
    "# the same but with the linear regression\n",
    "\n",
    "fig = px.scatter(df_matched, x=\"ypos\", y=\"CTR\", color=\"CTR\", custom_data=[\"linkSource\", \"linkTarget\", \"impressions\", \"clicks\"], trendline=\"ols\")\n",
    "\n",
    "model = px.get_trendline_results(fig)\n",
    "alpha = model.iloc[0][\"px_fit_results\"].params[0]\n",
    "beta = model.iloc[0][\"px_fit_results\"].params[1]\n",
    "\n",
    "fig = px.scatter(df_links, x=\"ypos\", y=\"CTR\", trendline=\"ols\")\n",
    "\n",
    "rsq = model.iloc[0][\"px_fit_results\"].rsquared\n",
    "fig.add_trace(go.Scatter(x=[100], y=[100],\n",
    "                         name = \"R-squared\" + ' = ' + str(round(rsq, 2)),\n",
    "                         showlegend=True,\n",
    "                         mode='markers',\n",
    "                         marker=dict(color='rgba(0,0,0,0)')\n",
    "                         ))\n",
    "\n",
    "fig.data[0].name = 'Observations'\n",
    "fig.data[0].showlegend = True\n",
    "fig.data[1].name = fig.data[1].name  + ' y = ' + str(round(alpha, 2)) + ' + ' + str(round(beta, 3)) + 'x'\n",
    "fig.data[1].showlegend = True\n",
    "\n",
    "fig.data[1].update(line_color='red')\n",
    "\n",
    "fig.update_layout(title=dict(text=\"OLS regression with the matched dataset\",\n",
    "                             font=dict(size=18),\n",
    "                             x=0.5,\n",
    "                             xanchor='center'),\n",
    "                  yaxis_range=[-0.2, 1.2],\n",
    "                  paper_bgcolor='rgba(0,0,0,0)',\n",
    "                  plot_bgcolor='rgba(0,0,0,0)')\n",
    "\n",
    "fig.write_html(\"output/figures/CTR_ypos_plot_match.html\", auto_open=True)"
   ],
   "metadata": {
    "collapsed": false,
    "pycharm": {
     "name": "#%%\n"
    }
   }
  }
 ],
 "metadata": {
  "kernelspec": {
   "display_name": "Python 3 (ipykernel)",
   "language": "python",
   "name": "python3"
  },
  "language_info": {
   "codemirror_mode": {
    "name": "ipython",
    "version": 3
   },
   "file_extension": ".py",
   "mimetype": "text/x-python",
   "name": "python",
   "nbconvert_exporter": "python",
   "pygments_lexer": "ipython3",
   "version": "3.9.13"
  },
  "vscode": {
   "interpreter": {
    "hash": "369f2c481f4da34e4445cda3fffd2e751bd1c4d706f27375911949ba6bb62e1c"
   }
  }
 },
 "nbformat": 4,
 "nbformat_minor": 4
}