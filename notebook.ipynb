{
 "cells": [
  {
   "cell_type": "markdown",
   "metadata": {},
   "source": [
    "This is the notebook of Milestone 2 of team _Ada And the Lovelaces_. The outline of the notebook is as followed:\n",
    "1. Data Pre-Processing: we add the features of interest to the existing datasets\n",
    "2. Exploratory Data Analysis: based on the datasets obtained, we run some first basic analysis and visualizations\n"
   ]
  },
  {
   "cell_type": "code",
   "execution_count": null,
   "metadata": {},
   "outputs": [],
   "source": [
    "#!pip install -U sentence-transformers"
   ]
  },
  {
   "cell_type": "code",
   "execution_count": 25,
   "metadata": {},
   "outputs": [],
   "source": [
    "import numpy as np\n",
    "import pandas as pd\n",
    "import scipy\n",
    "import matplotlib.pyplot as plt\n",
    "import seaborn as sns\n",
    "import urllib.parse as urlparse\n",
    "from collections import defaultdict\n",
    "\n",
    "from bokeh.models import Range1d, Circle, ColumnDataSource, MultiLine\n",
    "from bokeh.plotting import figure\n",
    "from bokeh.plotting import from_networkx\n",
    "\n",
    "from selenium import webdriver\n",
    "from selenium.webdriver.common.keys import Keys\n",
    "from selenium.webdriver.common.by import By\n",
    "from selenium.webdriver.chrome.options import Options\n",
    "import re\n",
    "import os\n",
    "import networkx as nx\n",
    "\n",
    "from sentence_transformers import SentenceTransformer\n",
    "from sklearn.metrics import pairwise\n",
    "\n",
    "from statsmodels.stats import diagnostic\n",
    "from scipy import stats\n",
    "import statsmodels.api as sm\n",
    "import statsmodels.formula.api as smf"
   ]
  },
  {
   "cell_type": "code",
   "execution_count": 2,
   "metadata": {},
   "outputs": [],
   "source": [
    "import warnings\n",
    "warnings.filterwarnings('ignore')"
   ]
  },
  {
   "cell_type": "markdown",
   "metadata": {},
   "source": [
    "# Data pre-processing"
   ]
  },
  {
   "cell_type": "markdown",
   "metadata": {},
   "source": [
    "## Computing clicks, impressions and CTR"
   ]
  },
  {
   "cell_type": "markdown",
   "metadata": {},
   "source": [
    "This is done at two different granularities:\n",
    "- Per source: we compute the clicks, impressions and CTR for each outgoing links of a given article\n",
    "- Aggregated: we compute the total number of clicks, impressions and CTR for the articles no matter the origin of the user's click"
   ]
  },
  {
   "cell_type": "markdown",
   "metadata": {},
   "source": [
    "### Fine grained dataset: per source article\n",
    "Here, the goal is to extend the _links_ table by adding for each pair _(origin article, destination article)_, columns counting the number of clicks associated, the number of impressions, and the CTR."
   ]
  },
  {
   "cell_type": "code",
   "execution_count": 3,
   "metadata": {},
   "outputs": [],
   "source": [
    "# Helper functions\n",
    "\n",
    "def title_parse(title):\n",
    "    \"\"\"\n",
    "    Parse URL encoded to readable characters\n",
    "    \"\"\"\n",
    "\n",
    "    title = urlparse.unquote(title).casefold()\n",
    "    return title\n",
    "\n",
    "\n",
    "\n",
    "def url_encode(title):\n",
    "    \"\"\"\n",
    "    URL encode target links\n",
    "    \"\"\"\n",
    "\n",
    "    title = urlparse.quote(title)\n",
    "    return title\n"
   ]
  },
  {
   "cell_type": "markdown",
   "metadata": {},
   "source": [
    "We start by retrieving the players's data: they are in the paths_finished and paths_unfinished datasets. We first focus on the finished paths:"
   ]
  },
  {
   "cell_type": "code",
   "execution_count": 4,
   "metadata": {},
   "outputs": [],
   "source": [
    "df_user_finished = pd.read_csv('./data/wikispeedia_paths-and-graph/paths_finished.tsv',\n",
    "                      sep='\\t',\n",
    "                      names=['hashedIpAddress', 'timestamp', 'durationInSec', 'path', 'rating'],\n",
    "                      comment='#')\n",
    "\n",
    "# It was noticed that users clicked on links in the footer (Terms & Conditions + Disclaimer) \n",
    "# that are not articles per-say. We decided to remove all paths containing these links as it is not in the spirit of the game\n",
    "## \"wikipedia_text_of_the_gnu_free_documentation_license\" is not an article!\n",
    "problematic_keywords = ['Wikipedia_Text_of_the_GNU_Free_Documentation_License']\n",
    "df_user_finished = df_user_finished[~df_user_finished.path.str.contains('|'.join(problematic_keywords))]\n",
    "\n",
    "# Drop unused columns for objectives and transform to list of paths\n",
    "df_user_finished = df_user_finished.drop(['hashedIpAddress', 'timestamp', 'durationInSec', 'rating'], axis=1).squeeze()\n"
   ]
  },
  {
   "cell_type": "markdown",
   "metadata": {},
   "source": [
    "We now enrich our series_paths dataframe with the unfinished paths"
   ]
  },
  {
   "cell_type": "code",
   "execution_count": 5,
   "metadata": {},
   "outputs": [],
   "source": [
    "df_user_unfinished = pd.read_csv('./data/wikispeedia_paths-and-graph/paths_unfinished.tsv',\n",
    "                      sep='\\t',\n",
    "                      names=[\"hashedIpAddress\", \"timestamp\", \"durationInSec\", \"path\", \"target\", \"type\"],\n",
    "                      comment='#')\n",
    "\n",
    "# It was noticed that users clicked on links in the footer (Terms & Conditions + Disclaimer) \n",
    "# that are not articles per-say. We decided to remove all paths containing these links as it is not in the spirit of the game\n",
    "## \"wikipedia_text_of_the_gnu_free_documentation_license\" is not an article!\n",
    "problematic_keywords = ['Wikipedia_Text_of_the_GNU_Free_Documentation_License']\n",
    "\n",
    "df_user_unfinished = df_user_unfinished[~df_user_unfinished.path.str.contains('|'.join(problematic_keywords))]\n",
    "\n",
    "df_user_unfinished = df_user_unfinished.drop(['hashedIpAddress', 'timestamp', 'durationInSec', 'target', 'type'], axis=1).squeeze()"
   ]
  },
  {
   "cell_type": "code",
   "execution_count": 6,
   "metadata": {},
   "outputs": [],
   "source": [
    "df_user = df_user_finished.append(df_user_unfinished)#Need to chance to pandas concat TODO\n",
    "# TODO Remove problematic artilces here ONCE\n",
    "# Decode URL encoding for paths, case fold\n",
    "series_paths = df_user.map(title_parse)\n",
    "\n",
    "# Transform paths to list of inputs (article names or <)\n",
    "series_paths = series_paths.str.split(';')"
   ]
  },
  {
   "cell_type": "code",
   "execution_count": 7,
   "metadata": {},
   "outputs": [
    {
     "data": {
      "text/plain": [
       "0        [14th_century, 15th_century, 16th_century, pac...\n",
       "1        [14th_century, europe, africa, atlantic_slave_...\n",
       "2        [14th_century, niger, nigeria, british_empire,...\n",
       "3        [14th_century, renaissance, ancient_greece, gr...\n",
       "4        [14th_century, italy, roman_catholic_church, h...\n",
       "                               ...                        \n",
       "24870    [franz_kafka, tuberculosis, world_health_organ...\n",
       "24871                                     [modern_history]\n",
       "24872    [computer_programming, linguistics, culture, p...\n",
       "24873    [jamaica, united_kingdom, world_war_ii, battle...\n",
       "24874      [mark_antony, rome, tennis, hawk-eye, computer]\n",
       "Name: path, Length: 76075, dtype: object"
      ]
     },
     "execution_count": 7,
     "metadata": {},
     "output_type": "execute_result"
    }
   ],
   "source": [
    "series_paths"
   ]
  },
  {
   "cell_type": "markdown",
   "metadata": {},
   "source": [
    "We add the new columns of interest in the df_links dataframe, and initialize them:"
   ]
  },
  {
   "cell_type": "code",
   "execution_count": 8,
   "metadata": {},
   "outputs": [],
   "source": [
    "# Extract list of links as DataFrame to store frequency\n",
    "\n",
    "df_links = pd.read_csv('./data/wikispeedia_paths-and-graph/links.tsv',\n",
    "                       sep='\\t',\n",
    "                       names=['linkSource_URL', 'linkTarget_URL'],\n",
    "                       comment='#')\n",
    "# Definitions\n",
    "# Source Links are the link of the page on which a link is shown\n",
    "# Target Links are the outgoing link on which the user lands\n",
    "\n",
    "# Filenames are single encoded (ie C++.htm is encoded at C%2B%2B.htm)\n",
    "# Outgoing names in the HTML source are DOUBLE encoded (ie C++.htm is <a href=\"../../wp/c/C%252B%252B.htm\">\n",
    "# Therefore, we add a helper column for linkTarget_2URL storing the DOUBLE URL ENCODED string\n",
    "df_links['linkTarget_2URL'] = df_links['linkTarget_URL'].map(url_encode)\n",
    "df_links['linkSource_2URL'] = df_links['linkSource_URL'].map(url_encode)\n",
    "\n",
    "# Decode URL encoding for paths, case fold (from URL encoding to readable)\n",
    "df_links['linkSource'] = df_links['linkSource_URL'].map(title_parse)\n",
    "df_links['linkTarget'] = df_links['linkTarget_URL'].map(title_parse)\n",
    "\n",
    "# Merge columns in tuple for easy lookup (unique key), format source;target\n",
    "df_links['linkPair'] = df_links['linkSource'] + ';' + df_links['linkTarget']\n",
    "\n",
    "# Number of impressions will be counted in column 'impressions' for each pair\n",
    "df_links['impressions'] = pd.Series(np.zeros((len(df_links)),dtype=int))\n",
    "\n",
    "# Number of hits will be counted in column 'hits' for each pair\n",
    "df_links['clicks'] = pd.Series(np.zeros((len(df_links)),dtype=int))\n",
    "\n",
    "# Storing the x and y position of the unique link on the page\n",
    "df_links['xpos'] =  pd.Series(np.zeros((len(df_links)),dtype=int))\n",
    "df_links['ypos'] =  pd.Series(np.zeros((len(df_links)),dtype=int))\n",
    "\n",
    "# Storing the similarity score between the source and target articles\n",
    "df_links['similarity_score'] = pd.Series(np.zeros((len(df_links)),dtype=float))\n",
    "\n",
    "# Storing the length of each source article\n",
    "df_links['length'] = pd.Series(np.zeros((len(df_links)),dtype=int))"
   ]
  },
  {
   "cell_type": "code",
   "execution_count": 9,
   "metadata": {
    "collapsed": false,
    "jupyter": {
     "outputs_hidden": false
    }
   },
   "outputs": [],
   "source": [
    "# Extract list of articles\n",
    "df_articles = pd.read_csv('./data/wikispeedia_paths-and-graph/articles.tsv',\n",
    "                          sep='\\t',\n",
    "                          names=['title'],\n",
    "                          comment='#')\n",
    "series_articles_URL = df_articles['title']\n",
    "series_articles_2URL = series_articles_URL.map(url_encode)\n",
    "# Decode URL encoding for paths, case fold\n",
    "series_articles = df_articles['title'].map(title_parse)"
   ]
  },
  {
   "cell_type": "code",
   "execution_count": 10,
   "metadata": {},
   "outputs": [
    {
     "data": {
      "text/html": [
       "<div>\n",
       "<style scoped>\n",
       "    .dataframe tbody tr th:only-of-type {\n",
       "        vertical-align: middle;\n",
       "    }\n",
       "\n",
       "    .dataframe tbody tr th {\n",
       "        vertical-align: top;\n",
       "    }\n",
       "\n",
       "    .dataframe thead th {\n",
       "        text-align: right;\n",
       "    }\n",
       "</style>\n",
       "<table border=\"1\" class=\"dataframe\">\n",
       "  <thead>\n",
       "    <tr style=\"text-align: right;\">\n",
       "      <th></th>\n",
       "      <th>linkSource_URL</th>\n",
       "      <th>linkTarget_URL</th>\n",
       "      <th>linkTarget_2URL</th>\n",
       "      <th>linkSource_2URL</th>\n",
       "      <th>linkSource</th>\n",
       "      <th>linkTarget</th>\n",
       "      <th>linkPair</th>\n",
       "      <th>impressions</th>\n",
       "      <th>clicks</th>\n",
       "      <th>xpos</th>\n",
       "      <th>ypos</th>\n",
       "      <th>similarity_score</th>\n",
       "      <th>length</th>\n",
       "    </tr>\n",
       "  </thead>\n",
       "  <tbody>\n",
       "    <tr>\n",
       "      <th>0</th>\n",
       "      <td>%C3%81ed%C3%A1n_mac_Gabr%C3%A1in</td>\n",
       "      <td>Bede</td>\n",
       "      <td>Bede</td>\n",
       "      <td>%25C3%2581ed%25C3%25A1n_mac_Gabr%25C3%25A1in</td>\n",
       "      <td>áedán_mac_gabráin</td>\n",
       "      <td>bede</td>\n",
       "      <td>áedán_mac_gabráin;bede</td>\n",
       "      <td>0</td>\n",
       "      <td>0</td>\n",
       "      <td>0</td>\n",
       "      <td>0</td>\n",
       "      <td>0.0</td>\n",
       "      <td>0</td>\n",
       "    </tr>\n",
       "    <tr>\n",
       "      <th>1</th>\n",
       "      <td>%C3%81ed%C3%A1n_mac_Gabr%C3%A1in</td>\n",
       "      <td>Columba</td>\n",
       "      <td>Columba</td>\n",
       "      <td>%25C3%2581ed%25C3%25A1n_mac_Gabr%25C3%25A1in</td>\n",
       "      <td>áedán_mac_gabráin</td>\n",
       "      <td>columba</td>\n",
       "      <td>áedán_mac_gabráin;columba</td>\n",
       "      <td>0</td>\n",
       "      <td>0</td>\n",
       "      <td>0</td>\n",
       "      <td>0</td>\n",
       "      <td>0.0</td>\n",
       "      <td>0</td>\n",
       "    </tr>\n",
       "    <tr>\n",
       "      <th>2</th>\n",
       "      <td>%C3%81ed%C3%A1n_mac_Gabr%C3%A1in</td>\n",
       "      <td>D%C3%A1l_Riata</td>\n",
       "      <td>D%25C3%25A1l_Riata</td>\n",
       "      <td>%25C3%2581ed%25C3%25A1n_mac_Gabr%25C3%25A1in</td>\n",
       "      <td>áedán_mac_gabráin</td>\n",
       "      <td>dál_riata</td>\n",
       "      <td>áedán_mac_gabráin;dál_riata</td>\n",
       "      <td>0</td>\n",
       "      <td>0</td>\n",
       "      <td>0</td>\n",
       "      <td>0</td>\n",
       "      <td>0.0</td>\n",
       "      <td>0</td>\n",
       "    </tr>\n",
       "    <tr>\n",
       "      <th>3</th>\n",
       "      <td>%C3%81ed%C3%A1n_mac_Gabr%C3%A1in</td>\n",
       "      <td>Great_Britain</td>\n",
       "      <td>Great_Britain</td>\n",
       "      <td>%25C3%2581ed%25C3%25A1n_mac_Gabr%25C3%25A1in</td>\n",
       "      <td>áedán_mac_gabráin</td>\n",
       "      <td>great_britain</td>\n",
       "      <td>áedán_mac_gabráin;great_britain</td>\n",
       "      <td>0</td>\n",
       "      <td>0</td>\n",
       "      <td>0</td>\n",
       "      <td>0</td>\n",
       "      <td>0.0</td>\n",
       "      <td>0</td>\n",
       "    </tr>\n",
       "    <tr>\n",
       "      <th>4</th>\n",
       "      <td>%C3%81ed%C3%A1n_mac_Gabr%C3%A1in</td>\n",
       "      <td>Ireland</td>\n",
       "      <td>Ireland</td>\n",
       "      <td>%25C3%2581ed%25C3%25A1n_mac_Gabr%25C3%25A1in</td>\n",
       "      <td>áedán_mac_gabráin</td>\n",
       "      <td>ireland</td>\n",
       "      <td>áedán_mac_gabráin;ireland</td>\n",
       "      <td>0</td>\n",
       "      <td>0</td>\n",
       "      <td>0</td>\n",
       "      <td>0</td>\n",
       "      <td>0.0</td>\n",
       "      <td>0</td>\n",
       "    </tr>\n",
       "    <tr>\n",
       "      <th>...</th>\n",
       "      <td>...</td>\n",
       "      <td>...</td>\n",
       "      <td>...</td>\n",
       "      <td>...</td>\n",
       "      <td>...</td>\n",
       "      <td>...</td>\n",
       "      <td>...</td>\n",
       "      <td>...</td>\n",
       "      <td>...</td>\n",
       "      <td>...</td>\n",
       "      <td>...</td>\n",
       "      <td>...</td>\n",
       "      <td>...</td>\n",
       "    </tr>\n",
       "    <tr>\n",
       "      <th>119877</th>\n",
       "      <td>Zulu</td>\n",
       "      <td>South_Africa</td>\n",
       "      <td>South_Africa</td>\n",
       "      <td>Zulu</td>\n",
       "      <td>zulu</td>\n",
       "      <td>south_africa</td>\n",
       "      <td>zulu;south_africa</td>\n",
       "      <td>0</td>\n",
       "      <td>0</td>\n",
       "      <td>0</td>\n",
       "      <td>0</td>\n",
       "      <td>0.0</td>\n",
       "      <td>0</td>\n",
       "    </tr>\n",
       "    <tr>\n",
       "      <th>119878</th>\n",
       "      <td>Zulu</td>\n",
       "      <td>Swaziland</td>\n",
       "      <td>Swaziland</td>\n",
       "      <td>Zulu</td>\n",
       "      <td>zulu</td>\n",
       "      <td>swaziland</td>\n",
       "      <td>zulu;swaziland</td>\n",
       "      <td>0</td>\n",
       "      <td>0</td>\n",
       "      <td>0</td>\n",
       "      <td>0</td>\n",
       "      <td>0.0</td>\n",
       "      <td>0</td>\n",
       "    </tr>\n",
       "    <tr>\n",
       "      <th>119879</th>\n",
       "      <td>Zulu</td>\n",
       "      <td>United_Kingdom</td>\n",
       "      <td>United_Kingdom</td>\n",
       "      <td>Zulu</td>\n",
       "      <td>zulu</td>\n",
       "      <td>united_kingdom</td>\n",
       "      <td>zulu;united_kingdom</td>\n",
       "      <td>0</td>\n",
       "      <td>0</td>\n",
       "      <td>0</td>\n",
       "      <td>0</td>\n",
       "      <td>0.0</td>\n",
       "      <td>0</td>\n",
       "    </tr>\n",
       "    <tr>\n",
       "      <th>119880</th>\n",
       "      <td>Zulu</td>\n",
       "      <td>Zambia</td>\n",
       "      <td>Zambia</td>\n",
       "      <td>Zulu</td>\n",
       "      <td>zulu</td>\n",
       "      <td>zambia</td>\n",
       "      <td>zulu;zambia</td>\n",
       "      <td>0</td>\n",
       "      <td>0</td>\n",
       "      <td>0</td>\n",
       "      <td>0</td>\n",
       "      <td>0.0</td>\n",
       "      <td>0</td>\n",
       "    </tr>\n",
       "    <tr>\n",
       "      <th>119881</th>\n",
       "      <td>Zulu</td>\n",
       "      <td>Zimbabwe</td>\n",
       "      <td>Zimbabwe</td>\n",
       "      <td>Zulu</td>\n",
       "      <td>zulu</td>\n",
       "      <td>zimbabwe</td>\n",
       "      <td>zulu;zimbabwe</td>\n",
       "      <td>0</td>\n",
       "      <td>0</td>\n",
       "      <td>0</td>\n",
       "      <td>0</td>\n",
       "      <td>0.0</td>\n",
       "      <td>0</td>\n",
       "    </tr>\n",
       "  </tbody>\n",
       "</table>\n",
       "<p>119882 rows × 13 columns</p>\n",
       "</div>"
      ],
      "text/plain": [
       "                          linkSource_URL  linkTarget_URL     linkTarget_2URL  \\\n",
       "0       %C3%81ed%C3%A1n_mac_Gabr%C3%A1in            Bede                Bede   \n",
       "1       %C3%81ed%C3%A1n_mac_Gabr%C3%A1in         Columba             Columba   \n",
       "2       %C3%81ed%C3%A1n_mac_Gabr%C3%A1in  D%C3%A1l_Riata  D%25C3%25A1l_Riata   \n",
       "3       %C3%81ed%C3%A1n_mac_Gabr%C3%A1in   Great_Britain       Great_Britain   \n",
       "4       %C3%81ed%C3%A1n_mac_Gabr%C3%A1in         Ireland             Ireland   \n",
       "...                                  ...             ...                 ...   \n",
       "119877                              Zulu    South_Africa        South_Africa   \n",
       "119878                              Zulu       Swaziland           Swaziland   \n",
       "119879                              Zulu  United_Kingdom      United_Kingdom   \n",
       "119880                              Zulu          Zambia              Zambia   \n",
       "119881                              Zulu        Zimbabwe            Zimbabwe   \n",
       "\n",
       "                                     linkSource_2URL         linkSource  \\\n",
       "0       %25C3%2581ed%25C3%25A1n_mac_Gabr%25C3%25A1in  áedán_mac_gabráin   \n",
       "1       %25C3%2581ed%25C3%25A1n_mac_Gabr%25C3%25A1in  áedán_mac_gabráin   \n",
       "2       %25C3%2581ed%25C3%25A1n_mac_Gabr%25C3%25A1in  áedán_mac_gabráin   \n",
       "3       %25C3%2581ed%25C3%25A1n_mac_Gabr%25C3%25A1in  áedán_mac_gabráin   \n",
       "4       %25C3%2581ed%25C3%25A1n_mac_Gabr%25C3%25A1in  áedán_mac_gabráin   \n",
       "...                                              ...                ...   \n",
       "119877                                          Zulu               zulu   \n",
       "119878                                          Zulu               zulu   \n",
       "119879                                          Zulu               zulu   \n",
       "119880                                          Zulu               zulu   \n",
       "119881                                          Zulu               zulu   \n",
       "\n",
       "            linkTarget                         linkPair  impressions  clicks  \\\n",
       "0                 bede           áedán_mac_gabráin;bede            0       0   \n",
       "1              columba        áedán_mac_gabráin;columba            0       0   \n",
       "2            dál_riata      áedán_mac_gabráin;dál_riata            0       0   \n",
       "3        great_britain  áedán_mac_gabráin;great_britain            0       0   \n",
       "4              ireland        áedán_mac_gabráin;ireland            0       0   \n",
       "...                ...                              ...          ...     ...   \n",
       "119877    south_africa                zulu;south_africa            0       0   \n",
       "119878       swaziland                   zulu;swaziland            0       0   \n",
       "119879  united_kingdom              zulu;united_kingdom            0       0   \n",
       "119880          zambia                      zulu;zambia            0       0   \n",
       "119881        zimbabwe                    zulu;zimbabwe            0       0   \n",
       "\n",
       "        xpos  ypos  similarity_score  length  \n",
       "0          0     0               0.0       0  \n",
       "1          0     0               0.0       0  \n",
       "2          0     0               0.0       0  \n",
       "3          0     0               0.0       0  \n",
       "4          0     0               0.0       0  \n",
       "...      ...   ...               ...     ...  \n",
       "119877     0     0               0.0       0  \n",
       "119878     0     0               0.0       0  \n",
       "119879     0     0               0.0       0  \n",
       "119880     0     0               0.0       0  \n",
       "119881     0     0               0.0       0  \n",
       "\n",
       "[119882 rows x 13 columns]"
      ]
     },
     "execution_count": 10,
     "metadata": {},
     "output_type": "execute_result"
    }
   ],
   "source": [
    "df_links"
   ]
  },
  {
   "cell_type": "markdown",
   "metadata": {},
   "source": [
    "The next block of code serves for optimization."
   ]
  },
  {
   "cell_type": "code",
   "execution_count": 11,
   "metadata": {},
   "outputs": [],
   "source": [
    "# Optimization step, preprocessing indices to use numpy arrays for faster access\n",
    "# For all articles names, create a list of rows in the df_links that have this article as source\n",
    "source_map = defaultdict(list)\n",
    "for link_id, source in enumerate(df_links['linkSource']):\n",
    "    source_map[source].append(link_id)\n",
    "\n",
    "# Create a reverse dictionary to index nparray\n",
    "# list[int]=string to dict[string]=int\n",
    "my_map = dict(df_links['linkPair'])\n",
    "pair_map = dict((v, k) for k, v in my_map.items())"
   ]
  },
  {
   "cell_type": "markdown",
   "metadata": {},
   "source": [
    "The computation of the number of clicks and impressions:"
   ]
  },
  {
   "cell_type": "code",
   "execution_count": 12,
   "metadata": {
    "scrolled": true
   },
   "outputs": [
    {
     "name": "stdout",
     "output_type": "stream",
     "text": [
      "Invalid pair: 'finland;åland'\n",
      "Invalid pair: 'finland;åland'\n",
      "Invalid pair: 'republic_of_ireland;éire'\n",
      "Invalid pair: 'republic_of_ireland;éire'\n",
      "Invalid pair: 'claude_monet;édouard_manet'\n",
      "Invalid pair: 'republic_of_ireland;éire'\n",
      "Invalid pair: 'claude_monet;édouard_manet'\n",
      "Invalid pair: 'republic_of_ireland;éire'\n",
      "Invalid pair: 'finland;åland'\n",
      "Invalid pair: 'finland;åland'\n",
      "Invalid pair: 'ireland;éire'\n",
      "Invalid pair: 'republic_of_ireland;éire'\n",
      "Invalid pair: 'ireland;éire'\n",
      "Invalid pair: 'impressionism;édouard_manet'\n",
      "Invalid pair: 'claude_monet;édouard_manet'\n",
      "Invalid pair: 'francisco_goya;édouard_manet'\n",
      "Invalid pair: 'republic_of_ireland;éire'\n",
      "Invalid pair: 'ireland;éire'\n",
      "Invalid pair: 'ireland;éire'\n",
      "Invalid pair: 'republic_of_ireland;éire'\n",
      "Invalid pair: 'claude_monet;édouard_manet'\n",
      "Invalid pair: 'republic_of_ireland;éire'\n"
     ]
    }
   ],
   "source": [
    "np_links = df_links.to_numpy()\n",
    "IMPRESSIONS_COLUMN_ID = df_links.columns.get_loc('impressions')\n",
    "CLICKS_COLUMN_ID = df_links.columns.get_loc('clicks')\n",
    "XPOS_COLUMN_ID = df_links.columns.get_loc('xpos')\n",
    "YPOS_COLUMN_ID = df_links.columns.get_loc('ypos')\n",
    "\n",
    "# For each path, count forward link clicks\n",
    "for path in series_paths:\n",
    "    # Initialise stack with first link\n",
    "    foo = list()\n",
    "    foo.append(path[0])\n",
    "    # Iterate over every step of user's path\n",
    "    for element in path[1:]:\n",
    "        if element != '<':\n",
    "            # If next element in path is not a return character, store information and analyze\n",
    "            ## Source node is the current top of stack\n",
    "            source_node = foo[-1]\n",
    "\n",
    "            ## Add next link in list to top of stack\n",
    "            foo.append(element)\n",
    "\n",
    "            ## New top of stack is target\n",
    "            target_node = foo[-1]\n",
    "\n",
    "            # Create key for pair identification\n",
    "            search_value = source_node + ';' + target_node\n",
    "\n",
    "            # Some issues were discovered with the dataset and encoding: some link pairs are missing\n",
    "            ### ie 'finland;åland' is not in our dataset, BUT the link 'åland' out of finland EXISTS on the source article and was used by the user\n",
    "            # It was not listed as an outgoing link in the dataset\n",
    "            try:\n",
    "                pair = pair_map[search_value]\n",
    "            except Exception as e:\n",
    "                # Catch when pair was not listed in dataset, don't add impression and disregard\n",
    "                print('Invalid pair:',e) # For debug and understanding dataset\n",
    "                break\n",
    "\n",
    "            ## Count one impression for all pairs with source_node as source (source_node;*)\n",
    "            source = source_map[source_node]\n",
    "            np_links[source,IMPRESSIONS_COLUMN_ID] += 1\n",
    "\n",
    "            ## Add one click-through for the pair (source_node;target_node)\n",
    "            np_links[pair,CLICKS_COLUMN_ID] += 1\n",
    "\n",
    "        else:\n",
    "            # If return character is read, pop top of stack and don't store any info\n",
    "            foo.pop()"
   ]
  },
  {
   "cell_type": "markdown",
   "metadata": {},
   "source": [
    "Let's put back the values obtained in np_links in the df_links dataframe, since dataframes are easier to handle than series"
   ]
  },
  {
   "cell_type": "code",
   "execution_count": 13,
   "metadata": {},
   "outputs": [],
   "source": [
    "columns = df_links.columns\n",
    "to_dict_values = {}\n",
    "\n",
    "\n",
    "for i in range(len(columns)):\n",
    "\n",
    "    col = columns[i]\n",
    "    to_dict_values[col] = [np_links[k][i] for k in range(len(np_links))]\n",
    "\n",
    "df_links = pd.DataFrame(to_dict_values)\n"
   ]
  },
  {
   "cell_type": "markdown",
   "metadata": {},
   "source": [
    "Now, we can finally compute the CTR"
   ]
  },
  {
   "cell_type": "code",
   "execution_count": 14,
   "metadata": {},
   "outputs": [],
   "source": [
    "df_links['CTR'] = df_links.clicks / df_links.impressions"
   ]
  },
  {
   "cell_type": "markdown",
   "metadata": {},
   "source": [
    "## NLP model (BERT) to encode the links and the articles' title"
   ]
  },
  {
   "cell_type": "code",
   "execution_count": 15,
   "metadata": {},
   "outputs": [],
   "source": [
    "model = SentenceTransformer('efederici/sentence-bert-base')\n",
    "def embed(input):\n",
    "  return model.encode(input)"
   ]
  },
  {
   "cell_type": "markdown",
   "metadata": {},
   "source": [
    "## Computing the location of the links in the HTML pages\n",
    "\n",
    "In this part, we compute the location of every link in a given HTML page. The location is added to the _links_ table."
   ]
  },
  {
   "cell_type": "markdown",
   "metadata": {},
   "source": [
    "Let's start by extracting the links, and creating the new columns we wish to add, with 0 as the initialization value:"
   ]
  },
  {
   "cell_type": "markdown",
   "metadata": {},
   "source": [
    "Now, the HTML driver is created. We need to define arbitrary parameters. We consider a full screen display at 1900*900, rendered in Google Chrome.\n",
    "\n",
    "\n",
    "\n",
    "\n",
    "_Note that if we were to change the resolution, the data would change but the ordering of the links locations on the y axis would remain unchanged. The results of the analysis would not change._"
   ]
  },
  {
   "cell_type": "code",
   "execution_count": 16,
   "metadata": {
    "collapsed": false,
    "jupyter": {
     "outputs_hidden": false
    }
   },
   "outputs": [],
   "source": [
    "op = Options()\n",
    "op.add_argument('headless')\n",
    "op.add_argument(\"window-size=1920,900\") # Most common window size for desktop, full-screen minus 130 at top for browser control, minus 50 at bottom for windows taskbar. Since the game was played, on desktop, we choose this (ADD EXPLANATORY SCREENSHOT)\n",
    "driver = webdriver.Chrome(options=op)"
   ]
  },
  {
   "cell_type": "markdown",
   "metadata": {},
   "source": [
    "Now that the driver is configured, let's compute the locations of all links in the articles (skip this cell and load the locations if you already computed/saved them)"
   ]
  },
  {
   "cell_type": "code",
   "execution_count": 29,
   "metadata": {},
   "outputs": [
    {
     "name": "stdout",
     "output_type": "stream",
     "text": [
      "Current Article: %25C3%2581ed%25C3%25A1n_mac_Gabr%25C3%25A1in 0 / 4604\n",
      "Current Article: %25C3%2585land 1 / 4604\n",
      "Current Article: %25C3%2589douard_Manet 2 / 4604\n"
     ]
    },
    {
     "ename": "KeyboardInterrupt",
     "evalue": "",
     "output_type": "error",
     "traceback": [
      "\u001b[1;31m---------------------------------------------------------------------------\u001b[0m",
      "\u001b[1;31mKeyboardInterrupt\u001b[0m                         Traceback (most recent call last)",
      "Input \u001b[1;32mIn [29]\u001b[0m, in \u001b[0;36m<cell line: 4>\u001b[1;34m()\u001b[0m\n\u001b[0;32m     37\u001b[0m     \u001b[38;5;28;01mbreak\u001b[39;00m\n\u001b[0;32m     39\u001b[0m \u001b[38;5;66;03m#Find the href with /target.htm in all elements of page\u001b[39;00m\n\u001b[0;32m     40\u001b[0m \u001b[38;5;66;03m#Example with target = World War I, we are looking for /World_War_I.htm\u001b[39;00m\n\u001b[1;32m---> 41\u001b[0m href\u001b[38;5;241m=\u001b[39m\u001b[43mdriver\u001b[49m\u001b[38;5;241;43m.\u001b[39;49m\u001b[43mfind_elements\u001b[49m\u001b[43m(\u001b[49m\u001b[43mBy\u001b[49m\u001b[38;5;241;43m.\u001b[39;49m\u001b[43mXPATH\u001b[49m\u001b[43m,\u001b[49m\u001b[43m  \u001b[49m\u001b[38;5;124;43m\"\u001b[39;49m\u001b[38;5;124;43m.//a[contains(@href,\u001b[39;49m\u001b[38;5;124;43m'\u001b[39;49m\u001b[38;5;124;43m/\u001b[39;49m\u001b[38;5;124;43m\"\u001b[39;49m\u001b[43m \u001b[49m\u001b[38;5;241;43m+\u001b[39;49m\u001b[43m \u001b[49m\u001b[43mtarget\u001b[49m\u001b[43m \u001b[49m\u001b[38;5;241;43m+\u001b[39;49m\u001b[43m \u001b[49m\u001b[38;5;124;43m\"\u001b[39;49m\u001b[38;5;124;43m.htm\u001b[39;49m\u001b[38;5;124;43m'\u001b[39;49m\u001b[38;5;124;43m)]\u001b[39;49m\u001b[38;5;124;43m\"\u001b[39;49m\u001b[43m)\u001b[49m\n\u001b[0;32m     42\u001b[0m \u001b[38;5;28;01mtry\u001b[39;00m:\n\u001b[0;32m     43\u001b[0m     df_links\u001b[38;5;241m.\u001b[39mloc[current_pair, \u001b[38;5;124m'\u001b[39m\u001b[38;5;124mxpos\u001b[39m\u001b[38;5;124m'\u001b[39m]\u001b[38;5;241m=\u001b[39mhref[\u001b[38;5;241m0\u001b[39m]\u001b[38;5;241m.\u001b[39mlocation[\u001b[38;5;124m'\u001b[39m\u001b[38;5;124mx\u001b[39m\u001b[38;5;124m'\u001b[39m]\n",
      "File \u001b[1;32m~\\anaconda3\\envs\\ada\\lib\\site-packages\\selenium\\webdriver\\remote\\webdriver.py:892\u001b[0m, in \u001b[0;36mWebDriver.find_elements\u001b[1;34m(self, by, value)\u001b[0m\n\u001b[0;32m    888\u001b[0m     value \u001b[38;5;241m=\u001b[39m \u001b[38;5;124m'\u001b[39m\u001b[38;5;124m[name=\u001b[39m\u001b[38;5;124m\"\u001b[39m\u001b[38;5;132;01m%s\u001b[39;00m\u001b[38;5;124m\"\u001b[39m\u001b[38;5;124m]\u001b[39m\u001b[38;5;124m'\u001b[39m \u001b[38;5;241m%\u001b[39m value\n\u001b[0;32m    890\u001b[0m \u001b[38;5;66;03m# Return empty list if driver returns null\u001b[39;00m\n\u001b[0;32m    891\u001b[0m \u001b[38;5;66;03m# See https://github.com/SeleniumHQ/selenium/issues/4555\u001b[39;00m\n\u001b[1;32m--> 892\u001b[0m \u001b[38;5;28;01mreturn\u001b[39;00m \u001b[38;5;28;43mself\u001b[39;49m\u001b[38;5;241;43m.\u001b[39;49m\u001b[43mexecute\u001b[49m\u001b[43m(\u001b[49m\u001b[43mCommand\u001b[49m\u001b[38;5;241;43m.\u001b[39;49m\u001b[43mFIND_ELEMENTS\u001b[49m\u001b[43m,\u001b[49m\u001b[43m \u001b[49m\u001b[43m{\u001b[49m\u001b[38;5;124;43m\"\u001b[39;49m\u001b[38;5;124;43musing\u001b[39;49m\u001b[38;5;124;43m\"\u001b[39;49m\u001b[43m:\u001b[49m\u001b[43m \u001b[49m\u001b[43mby\u001b[49m\u001b[43m,\u001b[49m\u001b[43m \u001b[49m\u001b[38;5;124;43m\"\u001b[39;49m\u001b[38;5;124;43mvalue\u001b[39;49m\u001b[38;5;124;43m\"\u001b[39;49m\u001b[43m:\u001b[49m\u001b[43m \u001b[49m\u001b[43mvalue\u001b[49m\u001b[43m}\u001b[49m\u001b[43m)\u001b[49m[\u001b[38;5;124m\"\u001b[39m\u001b[38;5;124mvalue\u001b[39m\u001b[38;5;124m\"\u001b[39m] \u001b[38;5;129;01mor\u001b[39;00m []\n",
      "File \u001b[1;32m~\\anaconda3\\envs\\ada\\lib\\site-packages\\selenium\\webdriver\\remote\\webdriver.py:442\u001b[0m, in \u001b[0;36mWebDriver.execute\u001b[1;34m(self, driver_command, params)\u001b[0m\n\u001b[0;32m    439\u001b[0m     \u001b[38;5;28;01melif\u001b[39;00m \u001b[38;5;124m\"\u001b[39m\u001b[38;5;124msessionId\u001b[39m\u001b[38;5;124m\"\u001b[39m \u001b[38;5;129;01mnot\u001b[39;00m \u001b[38;5;129;01min\u001b[39;00m params:\n\u001b[0;32m    440\u001b[0m         params[\u001b[38;5;124m\"\u001b[39m\u001b[38;5;124msessionId\u001b[39m\u001b[38;5;124m\"\u001b[39m] \u001b[38;5;241m=\u001b[39m \u001b[38;5;28mself\u001b[39m\u001b[38;5;241m.\u001b[39msession_id\n\u001b[1;32m--> 442\u001b[0m response \u001b[38;5;241m=\u001b[39m \u001b[38;5;28;43mself\u001b[39;49m\u001b[38;5;241;43m.\u001b[39;49m\u001b[43mcommand_executor\u001b[49m\u001b[38;5;241;43m.\u001b[39;49m\u001b[43mexecute\u001b[49m\u001b[43m(\u001b[49m\u001b[43mdriver_command\u001b[49m\u001b[43m,\u001b[49m\u001b[43m \u001b[49m\u001b[43mparams\u001b[49m\u001b[43m)\u001b[49m\n\u001b[0;32m    443\u001b[0m \u001b[38;5;28;01mif\u001b[39;00m response:\n\u001b[0;32m    444\u001b[0m     \u001b[38;5;28mself\u001b[39m\u001b[38;5;241m.\u001b[39merror_handler\u001b[38;5;241m.\u001b[39mcheck_response(response)\n",
      "File \u001b[1;32m~\\anaconda3\\envs\\ada\\lib\\site-packages\\selenium\\webdriver\\remote\\remote_connection.py:294\u001b[0m, in \u001b[0;36mRemoteConnection.execute\u001b[1;34m(self, command, params)\u001b[0m\n\u001b[0;32m    292\u001b[0m data \u001b[38;5;241m=\u001b[39m utils\u001b[38;5;241m.\u001b[39mdump_json(params)\n\u001b[0;32m    293\u001b[0m url \u001b[38;5;241m=\u001b[39m \u001b[38;5;124mf\u001b[39m\u001b[38;5;124m\"\u001b[39m\u001b[38;5;132;01m{\u001b[39;00m\u001b[38;5;28mself\u001b[39m\u001b[38;5;241m.\u001b[39m_url\u001b[38;5;132;01m}\u001b[39;00m\u001b[38;5;132;01m{\u001b[39;00mpath\u001b[38;5;132;01m}\u001b[39;00m\u001b[38;5;124m\"\u001b[39m\n\u001b[1;32m--> 294\u001b[0m \u001b[38;5;28;01mreturn\u001b[39;00m \u001b[38;5;28;43mself\u001b[39;49m\u001b[38;5;241;43m.\u001b[39;49m\u001b[43m_request\u001b[49m\u001b[43m(\u001b[49m\u001b[43mcommand_info\u001b[49m\u001b[43m[\u001b[49m\u001b[38;5;241;43m0\u001b[39;49m\u001b[43m]\u001b[49m\u001b[43m,\u001b[49m\u001b[43m \u001b[49m\u001b[43murl\u001b[49m\u001b[43m,\u001b[49m\u001b[43m \u001b[49m\u001b[43mbody\u001b[49m\u001b[38;5;241;43m=\u001b[39;49m\u001b[43mdata\u001b[49m\u001b[43m)\u001b[49m\n",
      "File \u001b[1;32m~\\anaconda3\\envs\\ada\\lib\\site-packages\\selenium\\webdriver\\remote\\remote_connection.py:316\u001b[0m, in \u001b[0;36mRemoteConnection._request\u001b[1;34m(self, method, url, body)\u001b[0m\n\u001b[0;32m    313\u001b[0m     body \u001b[38;5;241m=\u001b[39m \u001b[38;5;28;01mNone\u001b[39;00m\n\u001b[0;32m    315\u001b[0m \u001b[38;5;28;01mif\u001b[39;00m \u001b[38;5;28mself\u001b[39m\u001b[38;5;241m.\u001b[39mkeep_alive:\n\u001b[1;32m--> 316\u001b[0m     response \u001b[38;5;241m=\u001b[39m \u001b[38;5;28;43mself\u001b[39;49m\u001b[38;5;241;43m.\u001b[39;49m\u001b[43m_conn\u001b[49m\u001b[38;5;241;43m.\u001b[39;49m\u001b[43mrequest\u001b[49m\u001b[43m(\u001b[49m\u001b[43mmethod\u001b[49m\u001b[43m,\u001b[49m\u001b[43m \u001b[49m\u001b[43murl\u001b[49m\u001b[43m,\u001b[49m\u001b[43m \u001b[49m\u001b[43mbody\u001b[49m\u001b[38;5;241;43m=\u001b[39;49m\u001b[43mbody\u001b[49m\u001b[43m,\u001b[49m\u001b[43m \u001b[49m\u001b[43mheaders\u001b[49m\u001b[38;5;241;43m=\u001b[39;49m\u001b[43mheaders\u001b[49m\u001b[43m)\u001b[49m\n\u001b[0;32m    317\u001b[0m     statuscode \u001b[38;5;241m=\u001b[39m response\u001b[38;5;241m.\u001b[39mstatus\n\u001b[0;32m    318\u001b[0m \u001b[38;5;28;01melse\u001b[39;00m:\n",
      "File \u001b[1;32m~\\anaconda3\\envs\\ada\\lib\\site-packages\\urllib3\\request.py:78\u001b[0m, in \u001b[0;36mRequestMethods.request\u001b[1;34m(self, method, url, fields, headers, **urlopen_kw)\u001b[0m\n\u001b[0;32m     74\u001b[0m     \u001b[38;5;28;01mreturn\u001b[39;00m \u001b[38;5;28mself\u001b[39m\u001b[38;5;241m.\u001b[39mrequest_encode_url(\n\u001b[0;32m     75\u001b[0m         method, url, fields\u001b[38;5;241m=\u001b[39mfields, headers\u001b[38;5;241m=\u001b[39mheaders, \u001b[38;5;241m*\u001b[39m\u001b[38;5;241m*\u001b[39murlopen_kw\n\u001b[0;32m     76\u001b[0m     )\n\u001b[0;32m     77\u001b[0m \u001b[38;5;28;01melse\u001b[39;00m:\n\u001b[1;32m---> 78\u001b[0m     \u001b[38;5;28;01mreturn\u001b[39;00m \u001b[38;5;28mself\u001b[39m\u001b[38;5;241m.\u001b[39mrequest_encode_body(\n\u001b[0;32m     79\u001b[0m         method, url, fields\u001b[38;5;241m=\u001b[39mfields, headers\u001b[38;5;241m=\u001b[39mheaders, \u001b[38;5;241m*\u001b[39m\u001b[38;5;241m*\u001b[39murlopen_kw\n\u001b[0;32m     80\u001b[0m     )\n",
      "File \u001b[1;32m~\\anaconda3\\envs\\ada\\lib\\site-packages\\urllib3\\request.py:170\u001b[0m, in \u001b[0;36mRequestMethods.request_encode_body\u001b[1;34m(self, method, url, fields, headers, encode_multipart, multipart_boundary, **urlopen_kw)\u001b[0m\n\u001b[0;32m    167\u001b[0m extra_kw[\u001b[38;5;124m\"\u001b[39m\u001b[38;5;124mheaders\u001b[39m\u001b[38;5;124m\"\u001b[39m]\u001b[38;5;241m.\u001b[39mupdate(headers)\n\u001b[0;32m    168\u001b[0m extra_kw\u001b[38;5;241m.\u001b[39mupdate(urlopen_kw)\n\u001b[1;32m--> 170\u001b[0m \u001b[38;5;28;01mreturn\u001b[39;00m \u001b[38;5;28mself\u001b[39m\u001b[38;5;241m.\u001b[39murlopen(method, url, \u001b[38;5;241m*\u001b[39m\u001b[38;5;241m*\u001b[39mextra_kw)\n",
      "File \u001b[1;32m~\\anaconda3\\envs\\ada\\lib\\site-packages\\urllib3\\poolmanager.py:376\u001b[0m, in \u001b[0;36mPoolManager.urlopen\u001b[1;34m(self, method, url, redirect, **kw)\u001b[0m\n\u001b[0;32m    374\u001b[0m     response \u001b[38;5;241m=\u001b[39m conn\u001b[38;5;241m.\u001b[39murlopen(method, url, \u001b[38;5;241m*\u001b[39m\u001b[38;5;241m*\u001b[39mkw)\n\u001b[0;32m    375\u001b[0m \u001b[38;5;28;01melse\u001b[39;00m:\n\u001b[1;32m--> 376\u001b[0m     response \u001b[38;5;241m=\u001b[39m conn\u001b[38;5;241m.\u001b[39murlopen(method, u\u001b[38;5;241m.\u001b[39mrequest_uri, \u001b[38;5;241m*\u001b[39m\u001b[38;5;241m*\u001b[39mkw)\n\u001b[0;32m    378\u001b[0m redirect_location \u001b[38;5;241m=\u001b[39m redirect \u001b[38;5;129;01mand\u001b[39;00m response\u001b[38;5;241m.\u001b[39mget_redirect_location()\n\u001b[0;32m    379\u001b[0m \u001b[38;5;28;01mif\u001b[39;00m \u001b[38;5;129;01mnot\u001b[39;00m redirect_location:\n",
      "File \u001b[1;32m~\\anaconda3\\envs\\ada\\lib\\site-packages\\urllib3\\connectionpool.py:703\u001b[0m, in \u001b[0;36mHTTPConnectionPool.urlopen\u001b[1;34m(self, method, url, body, headers, retries, redirect, assert_same_host, timeout, pool_timeout, release_conn, chunked, body_pos, **response_kw)\u001b[0m\n\u001b[0;32m    700\u001b[0m     \u001b[38;5;28mself\u001b[39m\u001b[38;5;241m.\u001b[39m_prepare_proxy(conn)\n\u001b[0;32m    702\u001b[0m \u001b[38;5;66;03m# Make the request on the httplib connection object.\u001b[39;00m\n\u001b[1;32m--> 703\u001b[0m httplib_response \u001b[38;5;241m=\u001b[39m \u001b[38;5;28;43mself\u001b[39;49m\u001b[38;5;241;43m.\u001b[39;49m\u001b[43m_make_request\u001b[49m\u001b[43m(\u001b[49m\n\u001b[0;32m    704\u001b[0m \u001b[43m    \u001b[49m\u001b[43mconn\u001b[49m\u001b[43m,\u001b[49m\n\u001b[0;32m    705\u001b[0m \u001b[43m    \u001b[49m\u001b[43mmethod\u001b[49m\u001b[43m,\u001b[49m\n\u001b[0;32m    706\u001b[0m \u001b[43m    \u001b[49m\u001b[43murl\u001b[49m\u001b[43m,\u001b[49m\n\u001b[0;32m    707\u001b[0m \u001b[43m    \u001b[49m\u001b[43mtimeout\u001b[49m\u001b[38;5;241;43m=\u001b[39;49m\u001b[43mtimeout_obj\u001b[49m\u001b[43m,\u001b[49m\n\u001b[0;32m    708\u001b[0m \u001b[43m    \u001b[49m\u001b[43mbody\u001b[49m\u001b[38;5;241;43m=\u001b[39;49m\u001b[43mbody\u001b[49m\u001b[43m,\u001b[49m\n\u001b[0;32m    709\u001b[0m \u001b[43m    \u001b[49m\u001b[43mheaders\u001b[49m\u001b[38;5;241;43m=\u001b[39;49m\u001b[43mheaders\u001b[49m\u001b[43m,\u001b[49m\n\u001b[0;32m    710\u001b[0m \u001b[43m    \u001b[49m\u001b[43mchunked\u001b[49m\u001b[38;5;241;43m=\u001b[39;49m\u001b[43mchunked\u001b[49m\u001b[43m,\u001b[49m\n\u001b[0;32m    711\u001b[0m \u001b[43m\u001b[49m\u001b[43m)\u001b[49m\n\u001b[0;32m    713\u001b[0m \u001b[38;5;66;03m# If we're going to release the connection in ``finally:``, then\u001b[39;00m\n\u001b[0;32m    714\u001b[0m \u001b[38;5;66;03m# the response doesn't need to know about the connection. Otherwise\u001b[39;00m\n\u001b[0;32m    715\u001b[0m \u001b[38;5;66;03m# it will also try to release it and we'll have a double-release\u001b[39;00m\n\u001b[0;32m    716\u001b[0m \u001b[38;5;66;03m# mess.\u001b[39;00m\n\u001b[0;32m    717\u001b[0m response_conn \u001b[38;5;241m=\u001b[39m conn \u001b[38;5;28;01mif\u001b[39;00m \u001b[38;5;129;01mnot\u001b[39;00m release_conn \u001b[38;5;28;01melse\u001b[39;00m \u001b[38;5;28;01mNone\u001b[39;00m\n",
      "File \u001b[1;32m~\\anaconda3\\envs\\ada\\lib\\site-packages\\urllib3\\connectionpool.py:449\u001b[0m, in \u001b[0;36mHTTPConnectionPool._make_request\u001b[1;34m(self, conn, method, url, timeout, chunked, **httplib_request_kw)\u001b[0m\n\u001b[0;32m    444\u001b[0m             httplib_response \u001b[38;5;241m=\u001b[39m conn\u001b[38;5;241m.\u001b[39mgetresponse()\n\u001b[0;32m    445\u001b[0m         \u001b[38;5;28;01mexcept\u001b[39;00m \u001b[38;5;167;01mBaseException\u001b[39;00m \u001b[38;5;28;01mas\u001b[39;00m e:\n\u001b[0;32m    446\u001b[0m             \u001b[38;5;66;03m# Remove the TypeError from the exception chain in\u001b[39;00m\n\u001b[0;32m    447\u001b[0m             \u001b[38;5;66;03m# Python 3 (including for exceptions like SystemExit).\u001b[39;00m\n\u001b[0;32m    448\u001b[0m             \u001b[38;5;66;03m# Otherwise it looks like a bug in the code.\u001b[39;00m\n\u001b[1;32m--> 449\u001b[0m             \u001b[43msix\u001b[49m\u001b[38;5;241;43m.\u001b[39;49m\u001b[43mraise_from\u001b[49m\u001b[43m(\u001b[49m\u001b[43me\u001b[49m\u001b[43m,\u001b[49m\u001b[43m \u001b[49m\u001b[38;5;28;43;01mNone\u001b[39;49;00m\u001b[43m)\u001b[49m\n\u001b[0;32m    450\u001b[0m \u001b[38;5;28;01mexcept\u001b[39;00m (SocketTimeout, BaseSSLError, SocketError) \u001b[38;5;28;01mas\u001b[39;00m e:\n\u001b[0;32m    451\u001b[0m     \u001b[38;5;28mself\u001b[39m\u001b[38;5;241m.\u001b[39m_raise_timeout(err\u001b[38;5;241m=\u001b[39me, url\u001b[38;5;241m=\u001b[39murl, timeout_value\u001b[38;5;241m=\u001b[39mread_timeout)\n",
      "File \u001b[1;32m<string>:3\u001b[0m, in \u001b[0;36mraise_from\u001b[1;34m(value, from_value)\u001b[0m\n",
      "File \u001b[1;32m~\\anaconda3\\envs\\ada\\lib\\site-packages\\urllib3\\connectionpool.py:444\u001b[0m, in \u001b[0;36mHTTPConnectionPool._make_request\u001b[1;34m(self, conn, method, url, timeout, chunked, **httplib_request_kw)\u001b[0m\n\u001b[0;32m    441\u001b[0m \u001b[38;5;28;01mexcept\u001b[39;00m \u001b[38;5;167;01mTypeError\u001b[39;00m:\n\u001b[0;32m    442\u001b[0m     \u001b[38;5;66;03m# Python 3\u001b[39;00m\n\u001b[0;32m    443\u001b[0m     \u001b[38;5;28;01mtry\u001b[39;00m:\n\u001b[1;32m--> 444\u001b[0m         httplib_response \u001b[38;5;241m=\u001b[39m \u001b[43mconn\u001b[49m\u001b[38;5;241;43m.\u001b[39;49m\u001b[43mgetresponse\u001b[49m\u001b[43m(\u001b[49m\u001b[43m)\u001b[49m\n\u001b[0;32m    445\u001b[0m     \u001b[38;5;28;01mexcept\u001b[39;00m \u001b[38;5;167;01mBaseException\u001b[39;00m \u001b[38;5;28;01mas\u001b[39;00m e:\n\u001b[0;32m    446\u001b[0m         \u001b[38;5;66;03m# Remove the TypeError from the exception chain in\u001b[39;00m\n\u001b[0;32m    447\u001b[0m         \u001b[38;5;66;03m# Python 3 (including for exceptions like SystemExit).\u001b[39;00m\n\u001b[0;32m    448\u001b[0m         \u001b[38;5;66;03m# Otherwise it looks like a bug in the code.\u001b[39;00m\n\u001b[0;32m    449\u001b[0m         six\u001b[38;5;241m.\u001b[39mraise_from(e, \u001b[38;5;28;01mNone\u001b[39;00m)\n",
      "File \u001b[1;32m~\\anaconda3\\envs\\ada\\lib\\http\\client.py:1377\u001b[0m, in \u001b[0;36mHTTPConnection.getresponse\u001b[1;34m(self)\u001b[0m\n\u001b[0;32m   1375\u001b[0m \u001b[38;5;28;01mtry\u001b[39;00m:\n\u001b[0;32m   1376\u001b[0m     \u001b[38;5;28;01mtry\u001b[39;00m:\n\u001b[1;32m-> 1377\u001b[0m         \u001b[43mresponse\u001b[49m\u001b[38;5;241;43m.\u001b[39;49m\u001b[43mbegin\u001b[49m\u001b[43m(\u001b[49m\u001b[43m)\u001b[49m\n\u001b[0;32m   1378\u001b[0m     \u001b[38;5;28;01mexcept\u001b[39;00m \u001b[38;5;167;01mConnectionError\u001b[39;00m:\n\u001b[0;32m   1379\u001b[0m         \u001b[38;5;28mself\u001b[39m\u001b[38;5;241m.\u001b[39mclose()\n",
      "File \u001b[1;32m~\\anaconda3\\envs\\ada\\lib\\http\\client.py:320\u001b[0m, in \u001b[0;36mHTTPResponse.begin\u001b[1;34m(self)\u001b[0m\n\u001b[0;32m    318\u001b[0m \u001b[38;5;66;03m# read until we get a non-100 response\u001b[39;00m\n\u001b[0;32m    319\u001b[0m \u001b[38;5;28;01mwhile\u001b[39;00m \u001b[38;5;28;01mTrue\u001b[39;00m:\n\u001b[1;32m--> 320\u001b[0m     version, status, reason \u001b[38;5;241m=\u001b[39m \u001b[38;5;28;43mself\u001b[39;49m\u001b[38;5;241;43m.\u001b[39;49m\u001b[43m_read_status\u001b[49m\u001b[43m(\u001b[49m\u001b[43m)\u001b[49m\n\u001b[0;32m    321\u001b[0m     \u001b[38;5;28;01mif\u001b[39;00m status \u001b[38;5;241m!=\u001b[39m CONTINUE:\n\u001b[0;32m    322\u001b[0m         \u001b[38;5;28;01mbreak\u001b[39;00m\n",
      "File \u001b[1;32m~\\anaconda3\\envs\\ada\\lib\\http\\client.py:281\u001b[0m, in \u001b[0;36mHTTPResponse._read_status\u001b[1;34m(self)\u001b[0m\n\u001b[0;32m    280\u001b[0m \u001b[38;5;28;01mdef\u001b[39;00m \u001b[38;5;21m_read_status\u001b[39m(\u001b[38;5;28mself\u001b[39m):\n\u001b[1;32m--> 281\u001b[0m     line \u001b[38;5;241m=\u001b[39m \u001b[38;5;28mstr\u001b[39m(\u001b[38;5;28;43mself\u001b[39;49m\u001b[38;5;241;43m.\u001b[39;49m\u001b[43mfp\u001b[49m\u001b[38;5;241;43m.\u001b[39;49m\u001b[43mreadline\u001b[49m\u001b[43m(\u001b[49m\u001b[43m_MAXLINE\u001b[49m\u001b[43m \u001b[49m\u001b[38;5;241;43m+\u001b[39;49m\u001b[43m \u001b[49m\u001b[38;5;241;43m1\u001b[39;49m\u001b[43m)\u001b[49m, \u001b[38;5;124m\"\u001b[39m\u001b[38;5;124miso-8859-1\u001b[39m\u001b[38;5;124m\"\u001b[39m)\n\u001b[0;32m    282\u001b[0m     \u001b[38;5;28;01mif\u001b[39;00m \u001b[38;5;28mlen\u001b[39m(line) \u001b[38;5;241m>\u001b[39m _MAXLINE:\n\u001b[0;32m    283\u001b[0m         \u001b[38;5;28;01mraise\u001b[39;00m LineTooLong(\u001b[38;5;124m\"\u001b[39m\u001b[38;5;124mstatus line\u001b[39m\u001b[38;5;124m\"\u001b[39m)\n",
      "File \u001b[1;32m~\\anaconda3\\envs\\ada\\lib\\socket.py:704\u001b[0m, in \u001b[0;36mSocketIO.readinto\u001b[1;34m(self, b)\u001b[0m\n\u001b[0;32m    702\u001b[0m \u001b[38;5;28;01mwhile\u001b[39;00m \u001b[38;5;28;01mTrue\u001b[39;00m:\n\u001b[0;32m    703\u001b[0m     \u001b[38;5;28;01mtry\u001b[39;00m:\n\u001b[1;32m--> 704\u001b[0m         \u001b[38;5;28;01mreturn\u001b[39;00m \u001b[38;5;28;43mself\u001b[39;49m\u001b[38;5;241;43m.\u001b[39;49m\u001b[43m_sock\u001b[49m\u001b[38;5;241;43m.\u001b[39;49m\u001b[43mrecv_into\u001b[49m\u001b[43m(\u001b[49m\u001b[43mb\u001b[49m\u001b[43m)\u001b[49m\n\u001b[0;32m    705\u001b[0m     \u001b[38;5;28;01mexcept\u001b[39;00m timeout:\n\u001b[0;32m    706\u001b[0m         \u001b[38;5;28mself\u001b[39m\u001b[38;5;241m.\u001b[39m_timeout_occurred \u001b[38;5;241m=\u001b[39m \u001b[38;5;28;01mTrue\u001b[39;00m\n",
      "\u001b[1;31mKeyboardInterrupt\u001b[0m: "
     ]
    }
   ],
   "source": [
    "article_counter = 0\n",
    "total = len(series_articles_2URL)\n",
    "\n",
    "for source in series_articles_2URL:\n",
    "    print('Current Article:',source,article_counter,'/',total )\n",
    "    article_counter+=1 #For progress tracking\n",
    "    #embed the source title with BERT model to use later for semantic similarity \n",
    "    source_embedding =  np.transpose(np.expand_dims(embed(source),axis=-1))\n",
    "    #Compute relative path to html\n",
    "    source_path = '/data/wpcd/wp/' + source[0].lower() + '/' + source + '.htm'\n",
    "\n",
    "    #Absolute path to html file\n",
    "    user_cwd = os.getcwd().replace('\\\\','/')\n",
    "    source_url = 'file://'+user_cwd+source_path\n",
    "    #Open the browser\n",
    "    driver.get(source_url)\n",
    "\n",
    "    #List of target links we want to find positions for\n",
    "    list_target_articles = df_links.loc[df_links['linkSource_2URL']==source]['linkTarget_2URL']\n",
    "    \n",
    "    #Length of each source article\n",
    "    len_article = driver.execute_script(\"return document.body.scrollHeight\")\n",
    "\n",
    "    for target in list_target_articles:\n",
    "        #embed the target title with BERT model to use later for semantic similarity \n",
    "        target_embedding = np.transpose(np.expand_dims(embed(target), axis=-1))\n",
    "        #The pairs are in readable characters, target is double encoded format\n",
    "        target_readable = title_parse(title_parse(target))\n",
    "        source_readable = title_parse(title_parse(source))\n",
    "        search_pair = source_readable + ';' + target_readable\n",
    "\n",
    "        try:\n",
    "            current_pair = pair_map[search_pair]\n",
    "        except Exception as e:\n",
    "            # Catch when pair was not listed in dataset\n",
    "            print('Invalid pair:',e) # For debug and understanding dataset\n",
    "            break\n",
    "\n",
    "        #Find the href with /target.htm in all elements of page\n",
    "        #Example with target = World War I, we are looking for /World_War_I.htm\n",
    "        href=driver.find_elements(By.XPATH,  \".//a[contains(@href,'/\" + target + \".htm')]\")\n",
    "        try:\n",
    "            df_links.loc[current_pair, 'xpos']=href[0].location['x']\n",
    "            df_links.loc[current_pair, 'ypos']=href[0].location['y']\n",
    "            df_links.loc[current_pair, 'length'] = len_article\n",
    "            df_links.loc[current_pair, 'similarity_score'] = pairwise.cosine_similarity(source_embedding, target_embedding).item()\n",
    "            #DEBUG\n",
    "            #if len(href):\n",
    "            #Rajouter dans une colonne occurence\n",
    "            #print('Target',target,'appeared',len(href),'times')\n",
    "        except Exception as e:\n",
    "            print('Not found:',target)\n"
   ]
  },
  {
   "cell_type": "markdown",
   "metadata": {},
   "source": [
    "Saving the obtained dataset"
   ]
  },
  {
   "cell_type": "code",
   "execution_count": 14,
   "metadata": {
    "collapsed": false,
    "jupyter": {
     "outputs_hidden": false
    }
   },
   "outputs": [],
   "source": [
    "df_links.to_csv('./output/output_links.csv',encoding='utf-8-sig')"
   ]
  },
  {
   "cell_type": "markdown",
   "metadata": {},
   "source": [
    "Load the saved dataset"
   ]
  },
  {
   "cell_type": "code",
   "execution_count": 16,
   "metadata": {},
   "outputs": [],
   "source": [
    "df_links=pd.read_csv(\"./output/output_links.csv\")"
   ]
  },
  {
   "cell_type": "code",
   "execution_count": 17,
   "metadata": {},
   "outputs": [
    {
     "data": {
      "text/html": [
       "<div>\n",
       "<style scoped>\n",
       "    .dataframe tbody tr th:only-of-type {\n",
       "        vertical-align: middle;\n",
       "    }\n",
       "\n",
       "    .dataframe tbody tr th {\n",
       "        vertical-align: top;\n",
       "    }\n",
       "\n",
       "    .dataframe thead th {\n",
       "        text-align: right;\n",
       "    }\n",
       "</style>\n",
       "<table border=\"1\" class=\"dataframe\">\n",
       "  <thead>\n",
       "    <tr style=\"text-align: right;\">\n",
       "      <th></th>\n",
       "      <th>Unnamed: 0</th>\n",
       "      <th>linkSource_URL</th>\n",
       "      <th>linkTarget_URL</th>\n",
       "      <th>linkTarget_2URL</th>\n",
       "      <th>linkSource_2URL</th>\n",
       "      <th>linkSource</th>\n",
       "      <th>linkTarget</th>\n",
       "      <th>linkPair</th>\n",
       "      <th>impressions</th>\n",
       "      <th>clicks</th>\n",
       "      <th>xpos</th>\n",
       "      <th>ypos</th>\n",
       "      <th>occurences</th>\n",
       "      <th>CTR</th>\n",
       "    </tr>\n",
       "  </thead>\n",
       "  <tbody>\n",
       "    <tr>\n",
       "      <th>0</th>\n",
       "      <td>0</td>\n",
       "      <td>%C3%81ed%C3%A1n_mac_Gabr%C3%A1in</td>\n",
       "      <td>Bede</td>\n",
       "      <td>Bede</td>\n",
       "      <td>%25C3%2581ed%25C3%25A1n_mac_Gabr%25C3%25A1in</td>\n",
       "      <td>áedán_mac_gabráin</td>\n",
       "      <td>bede</td>\n",
       "      <td>áedán_mac_gabráin;bede</td>\n",
       "      <td>0</td>\n",
       "      <td>0</td>\n",
       "      <td>1203</td>\n",
       "      <td>94</td>\n",
       "      <td>1</td>\n",
       "      <td>NaN</td>\n",
       "    </tr>\n",
       "    <tr>\n",
       "      <th>1</th>\n",
       "      <td>1</td>\n",
       "      <td>%C3%81ed%C3%A1n_mac_Gabr%C3%A1in</td>\n",
       "      <td>Columba</td>\n",
       "      <td>Columba</td>\n",
       "      <td>%25C3%2581ed%25C3%25A1n_mac_Gabr%25C3%25A1in</td>\n",
       "      <td>áedán_mac_gabráin</td>\n",
       "      <td>columba</td>\n",
       "      <td>áedán_mac_gabráin;columba</td>\n",
       "      <td>0</td>\n",
       "      <td>0</td>\n",
       "      <td>935</td>\n",
       "      <td>75</td>\n",
       "      <td>1</td>\n",
       "      <td>NaN</td>\n",
       "    </tr>\n",
       "    <tr>\n",
       "      <th>2</th>\n",
       "      <td>2</td>\n",
       "      <td>%C3%81ed%C3%A1n_mac_Gabr%C3%A1in</td>\n",
       "      <td>D%C3%A1l_Riata</td>\n",
       "      <td>D%25C3%25A1l_Riata</td>\n",
       "      <td>%25C3%2581ed%25C3%25A1n_mac_Gabr%25C3%25A1in</td>\n",
       "      <td>áedán_mac_gabráin</td>\n",
       "      <td>dál_riata</td>\n",
       "      <td>áedán_mac_gabráin;dál_riata</td>\n",
       "      <td>0</td>\n",
       "      <td>0</td>\n",
       "      <td>209</td>\n",
       "      <td>75</td>\n",
       "      <td>1</td>\n",
       "      <td>NaN</td>\n",
       "    </tr>\n",
       "    <tr>\n",
       "      <th>3</th>\n",
       "      <td>3</td>\n",
       "      <td>%C3%81ed%C3%A1n_mac_Gabr%C3%A1in</td>\n",
       "      <td>Great_Britain</td>\n",
       "      <td>Great_Britain</td>\n",
       "      <td>%25C3%2581ed%25C3%25A1n_mac_Gabr%25C3%25A1in</td>\n",
       "      <td>áedán_mac_gabráin</td>\n",
       "      <td>great_britain</td>\n",
       "      <td>áedán_mac_gabráin;great_britain</td>\n",
       "      <td>0</td>\n",
       "      <td>0</td>\n",
       "      <td>545</td>\n",
       "      <td>94</td>\n",
       "      <td>1</td>\n",
       "      <td>NaN</td>\n",
       "    </tr>\n",
       "    <tr>\n",
       "      <th>4</th>\n",
       "      <td>4</td>\n",
       "      <td>%C3%81ed%C3%A1n_mac_Gabr%C3%A1in</td>\n",
       "      <td>Ireland</td>\n",
       "      <td>Ireland</td>\n",
       "      <td>%25C3%2581ed%25C3%25A1n_mac_Gabr%25C3%25A1in</td>\n",
       "      <td>áedán_mac_gabráin</td>\n",
       "      <td>ireland</td>\n",
       "      <td>áedán_mac_gabráin;ireland</td>\n",
       "      <td>0</td>\n",
       "      <td>0</td>\n",
       "      <td>593</td>\n",
       "      <td>75</td>\n",
       "      <td>2</td>\n",
       "      <td>NaN</td>\n",
       "    </tr>\n",
       "    <tr>\n",
       "      <th>...</th>\n",
       "      <td>...</td>\n",
       "      <td>...</td>\n",
       "      <td>...</td>\n",
       "      <td>...</td>\n",
       "      <td>...</td>\n",
       "      <td>...</td>\n",
       "      <td>...</td>\n",
       "      <td>...</td>\n",
       "      <td>...</td>\n",
       "      <td>...</td>\n",
       "      <td>...</td>\n",
       "      <td>...</td>\n",
       "      <td>...</td>\n",
       "      <td>...</td>\n",
       "    </tr>\n",
       "    <tr>\n",
       "      <th>119877</th>\n",
       "      <td>119877</td>\n",
       "      <td>Zulu</td>\n",
       "      <td>South_Africa</td>\n",
       "      <td>South_Africa</td>\n",
       "      <td>Zulu</td>\n",
       "      <td>zulu</td>\n",
       "      <td>south_africa</td>\n",
       "      <td>zulu;south_africa</td>\n",
       "      <td>40</td>\n",
       "      <td>10</td>\n",
       "      <td>918</td>\n",
       "      <td>75</td>\n",
       "      <td>2</td>\n",
       "      <td>0.250</td>\n",
       "    </tr>\n",
       "    <tr>\n",
       "      <th>119878</th>\n",
       "      <td>119878</td>\n",
       "      <td>Zulu</td>\n",
       "      <td>Swaziland</td>\n",
       "      <td>Swaziland</td>\n",
       "      <td>Zulu</td>\n",
       "      <td>zulu</td>\n",
       "      <td>swaziland</td>\n",
       "      <td>zulu;swaziland</td>\n",
       "      <td>40</td>\n",
       "      <td>0</td>\n",
       "      <td>1694</td>\n",
       "      <td>632</td>\n",
       "      <td>2</td>\n",
       "      <td>0.000</td>\n",
       "    </tr>\n",
       "    <tr>\n",
       "      <th>119879</th>\n",
       "      <td>119879</td>\n",
       "      <td>Zulu</td>\n",
       "      <td>United_Kingdom</td>\n",
       "      <td>United_Kingdom</td>\n",
       "      <td>Zulu</td>\n",
       "      <td>zulu</td>\n",
       "      <td>united_kingdom</td>\n",
       "      <td>zulu;united_kingdom</td>\n",
       "      <td>40</td>\n",
       "      <td>1</td>\n",
       "      <td>908</td>\n",
       "      <td>711</td>\n",
       "      <td>1</td>\n",
       "      <td>0.025</td>\n",
       "    </tr>\n",
       "    <tr>\n",
       "      <th>119880</th>\n",
       "      <td>119880</td>\n",
       "      <td>Zulu</td>\n",
       "      <td>Zambia</td>\n",
       "      <td>Zambia</td>\n",
       "      <td>Zulu</td>\n",
       "      <td>zulu</td>\n",
       "      <td>zambia</td>\n",
       "      <td>zulu;zambia</td>\n",
       "      <td>40</td>\n",
       "      <td>1</td>\n",
       "      <td>1210</td>\n",
       "      <td>75</td>\n",
       "      <td>1</td>\n",
       "      <td>0.025</td>\n",
       "    </tr>\n",
       "    <tr>\n",
       "      <th>119881</th>\n",
       "      <td>119881</td>\n",
       "      <td>Zulu</td>\n",
       "      <td>Zimbabwe</td>\n",
       "      <td>Zimbabwe</td>\n",
       "      <td>Zulu</td>\n",
       "      <td>zulu</td>\n",
       "      <td>zimbabwe</td>\n",
       "      <td>zulu;zimbabwe</td>\n",
       "      <td>40</td>\n",
       "      <td>0</td>\n",
       "      <td>1145</td>\n",
       "      <td>75</td>\n",
       "      <td>1</td>\n",
       "      <td>0.000</td>\n",
       "    </tr>\n",
       "  </tbody>\n",
       "</table>\n",
       "<p>119882 rows × 14 columns</p>\n",
       "</div>"
      ],
      "text/plain": [
       "        Unnamed: 0                    linkSource_URL  linkTarget_URL  \\\n",
       "0                0  %C3%81ed%C3%A1n_mac_Gabr%C3%A1in            Bede   \n",
       "1                1  %C3%81ed%C3%A1n_mac_Gabr%C3%A1in         Columba   \n",
       "2                2  %C3%81ed%C3%A1n_mac_Gabr%C3%A1in  D%C3%A1l_Riata   \n",
       "3                3  %C3%81ed%C3%A1n_mac_Gabr%C3%A1in   Great_Britain   \n",
       "4                4  %C3%81ed%C3%A1n_mac_Gabr%C3%A1in         Ireland   \n",
       "...            ...                               ...             ...   \n",
       "119877      119877                              Zulu    South_Africa   \n",
       "119878      119878                              Zulu       Swaziland   \n",
       "119879      119879                              Zulu  United_Kingdom   \n",
       "119880      119880                              Zulu          Zambia   \n",
       "119881      119881                              Zulu        Zimbabwe   \n",
       "\n",
       "           linkTarget_2URL                               linkSource_2URL  \\\n",
       "0                     Bede  %25C3%2581ed%25C3%25A1n_mac_Gabr%25C3%25A1in   \n",
       "1                  Columba  %25C3%2581ed%25C3%25A1n_mac_Gabr%25C3%25A1in   \n",
       "2       D%25C3%25A1l_Riata  %25C3%2581ed%25C3%25A1n_mac_Gabr%25C3%25A1in   \n",
       "3            Great_Britain  %25C3%2581ed%25C3%25A1n_mac_Gabr%25C3%25A1in   \n",
       "4                  Ireland  %25C3%2581ed%25C3%25A1n_mac_Gabr%25C3%25A1in   \n",
       "...                    ...                                           ...   \n",
       "119877        South_Africa                                          Zulu   \n",
       "119878           Swaziland                                          Zulu   \n",
       "119879      United_Kingdom                                          Zulu   \n",
       "119880              Zambia                                          Zulu   \n",
       "119881            Zimbabwe                                          Zulu   \n",
       "\n",
       "               linkSource      linkTarget                         linkPair  \\\n",
       "0       áedán_mac_gabráin            bede           áedán_mac_gabráin;bede   \n",
       "1       áedán_mac_gabráin         columba        áedán_mac_gabráin;columba   \n",
       "2       áedán_mac_gabráin       dál_riata      áedán_mac_gabráin;dál_riata   \n",
       "3       áedán_mac_gabráin   great_britain  áedán_mac_gabráin;great_britain   \n",
       "4       áedán_mac_gabráin         ireland        áedán_mac_gabráin;ireland   \n",
       "...                   ...             ...                              ...   \n",
       "119877               zulu    south_africa                zulu;south_africa   \n",
       "119878               zulu       swaziland                   zulu;swaziland   \n",
       "119879               zulu  united_kingdom              zulu;united_kingdom   \n",
       "119880               zulu          zambia                      zulu;zambia   \n",
       "119881               zulu        zimbabwe                    zulu;zimbabwe   \n",
       "\n",
       "        impressions  clicks  xpos  ypos  occurences    CTR  \n",
       "0                 0       0  1203    94           1    NaN  \n",
       "1                 0       0   935    75           1    NaN  \n",
       "2                 0       0   209    75           1    NaN  \n",
       "3                 0       0   545    94           1    NaN  \n",
       "4                 0       0   593    75           2    NaN  \n",
       "...             ...     ...   ...   ...         ...    ...  \n",
       "119877           40      10   918    75           2  0.250  \n",
       "119878           40       0  1694   632           2  0.000  \n",
       "119879           40       1   908   711           1  0.025  \n",
       "119880           40       1  1210    75           1  0.025  \n",
       "119881           40       0  1145    75           1  0.000  \n",
       "\n",
       "[119882 rows x 14 columns]"
      ]
     },
     "execution_count": 17,
     "metadata": {},
     "output_type": "execute_result"
    }
   ],
   "source": [
    "df_links"
   ]
  },
  {
   "cell_type": "markdown",
   "metadata": {},
   "source": [
    "### Coarse-grained dataset: Aggregated view over all website\n",
    "Here, the goal is to extend the _articles_ table by adding columns representing the total number of clicks, the number of impressions and the CTR. Except for the CTR, we can simply sum the obtained numbers in the finer granularity."
   ]
  },
  {
   "cell_type": "markdown",
   "metadata": {},
   "source": [
    "Let's extract the articles data by aggregating the df_links dataframe"
   ]
  },
  {
   "cell_type": "code",
   "execution_count": 15,
   "metadata": {
    "collapsed": false,
    "jupyter": {
     "outputs_hidden": false
    }
   },
   "outputs": [],
   "source": [
    "articles = df_links[[\"linkTarget\", \"impressions\", \"clicks\"]].groupby(by=[\"linkTarget\"]).sum()\n",
    "articles[\"CTR\"] = articles[\"clicks\"]/articles[\"impressions\"]"
   ]
  },
  {
   "cell_type": "markdown",
   "metadata": {},
   "source": [
    "Let's save the result"
   ]
  },
  {
   "cell_type": "code",
   "execution_count": 16,
   "metadata": {},
   "outputs": [],
   "source": [
    "articles.to_csv('./output/output_articles.csv',encoding='utf-8-sig')"
   ]
  },
  {
   "cell_type": "markdown",
   "metadata": {},
   "source": [
    "# Exploratory Data Analysis"
   ]
  },
  {
   "cell_type": "markdown",
   "metadata": {},
   "source": [
    "## Understanding the Wikispeedia network"
   ]
  },
  {
   "cell_type": "markdown",
   "metadata": {},
   "source": [
    "To have a better understanding of the structure of the links, we wish to create a graph of the network."
   ]
  },
  {
   "cell_type": "code",
   "execution_count": 18,
   "metadata": {},
   "outputs": [],
   "source": [
    "G = nx.DiGraph()\n",
    "G = nx.from_pandas_edgelist(df_links, source='linkSource', target='linkTarget')"
   ]
  },
  {
   "cell_type": "code",
   "execution_count": 19,
   "metadata": {},
   "outputs": [
    {
     "data": {
      "text/plain": [
       "Text(0.5, 1.0, 'Links Network')"
      ]
     },
     "execution_count": 19,
     "metadata": {},
     "output_type": "execute_result"
    },
    {
     "data": {
      "image/png": "[encoded data removed]",
      "text/plain": [
       "<Figure size 640x480 with 1 Axes>"
      ]
     },
     "metadata": {},
     "output_type": "display_data"
    }
   ],
   "source": [
    "nx.draw_networkx(G, with_labels=False, node_size=5, node_color=\"#001f3f\", width=0.1, edge_color=\"#AAAAAA\")\n",
    "ax = plt.gca()\n",
    "ax.set_title('Links Network')"
   ]
  },
  {
   "cell_type": "markdown",
   "metadata": {},
   "source": [
    "Interestingly, we distinguish two strongly separate connected components. We can verify that easily:"
   ]
  },
  {
   "cell_type": "code",
   "execution_count": 20,
   "metadata": {},
   "outputs": [
    {
     "name": "stdout",
     "output_type": "stream",
     "text": [
      "There are 2  connected components in the graph.\n"
     ]
    }
   ],
   "source": [
    "print(\"There are \" + str(nx.number_connected_components(G)) + \"  connected components in the graph.\")"
   ]
  },
  {
   "cell_type": "code",
   "execution_count": 21,
   "metadata": {},
   "outputs": [
    {
     "name": "stdout",
     "output_type": "stream",
     "text": [
      "Unconnected components: {'sponsorship_directdebit', 'friend_directdebit', 'directdebit'}\n"
     ]
    }
   ],
   "source": [
    "print(\"Unconnected components: \"+ str(list(nx.connected_components(G))[1]))"
   ]
  },
  {
   "cell_type": "markdown",
   "metadata": {},
   "source": [
    "This is linked to pages for donations, these are not Wikipedia articles and will be removed."
   ]
  },
  {
   "cell_type": "code",
   "execution_count": 22,
   "metadata": {},
   "outputs": [],
   "source": [
    "#Drop pairs with NaN CTR. These are unreached links and we won't use them in our analysis since the player never reached these articles\n",
    "df_links.dropna(subset=['CTR'],inplace=True)"
   ]
  },
  {
   "cell_type": "markdown",
   "metadata": {},
   "source": [
    "The wikispeedia network becomes :"
   ]
  },
  {
   "cell_type": "code",
   "execution_count": 23,
   "metadata": {
    "scrolled": true
   },
   "outputs": [
    {
     "data": {
      "text/plain": [
       "Text(0.5, 1.0, 'Links Network')"
      ]
     },
     "execution_count": 23,
     "metadata": {},
     "output_type": "execute_result"
    },
    {
     "data": {
      "image/png": "[encoded data removed]",
      "text/plain": [
       "<Figure size 640x480 with 1 Axes>"
      ]
     },
     "metadata": {},
     "output_type": "display_data"
    }
   ],
   "source": [
    "G = nx.from_pandas_edgelist(df_links, source='linkSource', target='linkTarget', create_using=nx.DiGraph)\n",
    "nx.draw_networkx(G, with_labels=False, node_size=5, node_color=\"#001f3f\", width=0.1, edge_color=\"#AAAAAA\")\n",
    "ax = plt.gca()\n",
    "ax.set_title('Links Network')"
   ]
  },
  {
   "cell_type": "markdown",
   "metadata": {},
   "source": [
    "We, now, investigate the number of links pointing toward each article. "
   ]
  },
  {
   "cell_type": "code",
   "execution_count": 36,
   "metadata": {},
   "outputs": [],
   "source": [
    "# Return the number of edges pointing to the node\n",
    "in_degree = G.in_degree()"
   ]
  },
  {
   "cell_type": "code",
   "execution_count": 31,
   "metadata": {
    "scrolled": true
   },
   "outputs": [
    {
     "data": {
      "text/html": [
       "<div>\n",
       "<style scoped>\n",
       "    .dataframe tbody tr th:only-of-type {\n",
       "        vertical-align: middle;\n",
       "    }\n",
       "\n",
       "    .dataframe tbody tr th {\n",
       "        vertical-align: top;\n",
       "    }\n",
       "\n",
       "    .dataframe thead th {\n",
       "        text-align: right;\n",
       "    }\n",
       "</style>\n",
       "<table border=\"1\" class=\"dataframe\">\n",
       "  <thead>\n",
       "    <tr style=\"text-align: right;\">\n",
       "      <th></th>\n",
       "      <th>articles</th>\n",
       "      <th>In degree</th>\n",
       "    </tr>\n",
       "  </thead>\n",
       "  <tbody>\n",
       "    <tr>\n",
       "      <th>0</th>\n",
       "      <td>€2_commemorative_coins</td>\n",
       "      <td>0</td>\n",
       "    </tr>\n",
       "    <tr>\n",
       "      <th>1</th>\n",
       "      <td>athens</td>\n",
       "      <td>83</td>\n",
       "    </tr>\n",
       "    <tr>\n",
       "      <th>2</th>\n",
       "      <td>atlantic_ocean</td>\n",
       "      <td>237</td>\n",
       "    </tr>\n",
       "    <tr>\n",
       "      <th>3</th>\n",
       "      <td>austria</td>\n",
       "      <td>224</td>\n",
       "    </tr>\n",
       "    <tr>\n",
       "      <th>4</th>\n",
       "      <td>belgium</td>\n",
       "      <td>223</td>\n",
       "    </tr>\n",
       "    <tr>\n",
       "      <th>5</th>\n",
       "      <td>berlin</td>\n",
       "      <td>129</td>\n",
       "    </tr>\n",
       "    <tr>\n",
       "      <th>6</th>\n",
       "      <td>brussels</td>\n",
       "      <td>64</td>\n",
       "    </tr>\n",
       "    <tr>\n",
       "      <th>7</th>\n",
       "      <td>cathedral_of_magdeburg</td>\n",
       "      <td>1</td>\n",
       "    </tr>\n",
       "    <tr>\n",
       "      <th>8</th>\n",
       "      <td>cereal</td>\n",
       "      <td>64</td>\n",
       "    </tr>\n",
       "    <tr>\n",
       "      <th>9</th>\n",
       "      <td>christopher_columbus</td>\n",
       "      <td>67</td>\n",
       "    </tr>\n",
       "  </tbody>\n",
       "</table>\n",
       "</div>"
      ],
      "text/plain": [
       "                 articles  In degree\n",
       "0  €2_commemorative_coins          0\n",
       "1                  athens         83\n",
       "2          atlantic_ocean        237\n",
       "3                 austria        224\n",
       "4                 belgium        223\n",
       "5                  berlin        129\n",
       "6                brussels         64\n",
       "7  cathedral_of_magdeburg          1\n",
       "8                  cereal         64\n",
       "9    christopher_columbus         67"
      ]
     },
     "execution_count": 31,
     "metadata": {},
     "output_type": "execute_result"
    }
   ],
   "source": [
    "# Transform the output into a dataframe for better use\n",
    "pd_graph = pd.DataFrame(in_degree, columns=['articles', 'In degree'])\n",
    "pd_graph.head(10)"
   ]
  },
  {
   "cell_type": "markdown",
   "metadata": {},
   "source": [
    "Let's visualize the distribution of the in degree values over the articles."
   ]
  },
  {
   "cell_type": "code",
   "execution_count": 34,
   "metadata": {},
   "outputs": [
    {
     "data": {
      "text/plain": [
       "<AxesSubplot:title={'center':'In degree distribution'}, ylabel='Frequency'>"
      ]
     },
     "execution_count": 34,
     "metadata": {},
     "output_type": "execute_result"
    },
    {
     "data": {
      "image/png": "[encoded data removed]",
      "text/plain": [
       "<Figure size 640x480 with 1 Axes>"
      ]
     },
     "metadata": {},
     "output_type": "display_data"
    }
   ],
   "source": [
    "pd_graph.plot.hist(bins=100, rot=90, title= \"In degree distribution\", logy=True)"
   ]
  },
  {
   "cell_type": "markdown",
   "metadata": {},
   "source": [
    "Let's rank the top 10 articles having the largest in degree value."
   ]
  },
  {
   "cell_type": "code",
   "execution_count": 35,
   "metadata": {},
   "outputs": [
    {
     "data": {
      "text/html": [
       "<div>\n",
       "<style scoped>\n",
       "    .dataframe tbody tr th:only-of-type {\n",
       "        vertical-align: middle;\n",
       "    }\n",
       "\n",
       "    .dataframe tbody tr th {\n",
       "        vertical-align: top;\n",
       "    }\n",
       "\n",
       "    .dataframe thead th {\n",
       "        text-align: right;\n",
       "    }\n",
       "</style>\n",
       "<table border=\"1\" class=\"dataframe\">\n",
       "  <thead>\n",
       "    <tr style=\"text-align: right;\">\n",
       "      <th></th>\n",
       "      <th>articles</th>\n",
       "      <th>In degree</th>\n",
       "    </tr>\n",
       "  </thead>\n",
       "  <tbody>\n",
       "    <tr>\n",
       "      <th>44</th>\n",
       "      <td>united_states</td>\n",
       "      <td>1435</td>\n",
       "    </tr>\n",
       "    <tr>\n",
       "      <th>42</th>\n",
       "      <td>united_kingdom</td>\n",
       "      <td>915</td>\n",
       "    </tr>\n",
       "    <tr>\n",
       "      <th>15</th>\n",
       "      <td>france</td>\n",
       "      <td>902</td>\n",
       "    </tr>\n",
       "    <tr>\n",
       "      <th>134</th>\n",
       "      <td>europe</td>\n",
       "      <td>866</td>\n",
       "    </tr>\n",
       "    <tr>\n",
       "      <th>17</th>\n",
       "      <td>germany</td>\n",
       "      <td>700</td>\n",
       "    </tr>\n",
       "    <tr>\n",
       "      <th>98</th>\n",
       "      <td>england</td>\n",
       "      <td>698</td>\n",
       "    </tr>\n",
       "    <tr>\n",
       "      <th>187</th>\n",
       "      <td>world_war_ii</td>\n",
       "      <td>698</td>\n",
       "    </tr>\n",
       "    <tr>\n",
       "      <th>58</th>\n",
       "      <td>india</td>\n",
       "      <td>573</td>\n",
       "    </tr>\n",
       "    <tr>\n",
       "      <th>941</th>\n",
       "      <td>english_language</td>\n",
       "      <td>561</td>\n",
       "    </tr>\n",
       "    <tr>\n",
       "      <th>241</th>\n",
       "      <td>japan</td>\n",
       "      <td>546</td>\n",
       "    </tr>\n",
       "  </tbody>\n",
       "</table>\n",
       "</div>"
      ],
      "text/plain": [
       "             articles  In degree\n",
       "44      united_states       1435\n",
       "42     united_kingdom        915\n",
       "15             france        902\n",
       "134            europe        866\n",
       "17            germany        700\n",
       "98            england        698\n",
       "187      world_war_ii        698\n",
       "58              india        573\n",
       "941  english_language        561\n",
       "241             japan        546"
      ]
     },
     "execution_count": 35,
     "metadata": {},
     "output_type": "execute_result"
    }
   ],
   "source": [
    "pd_graph.sort_values(by=['In degree'], ascending=False).head(10)"
   ]
  },
  {
   "cell_type": "markdown",
   "metadata": {},
   "source": [
    "## Data Distribution"
   ]
  },
  {
   "cell_type": "markdown",
   "metadata": {},
   "source": [
    "Let's explore the dataset we have obtained."
   ]
  },
  {
   "cell_type": "code",
   "execution_count": 24,
   "metadata": {},
   "outputs": [
    {
     "name": "stdout",
     "output_type": "stream",
     "text": [
      "There exist 113974 links in total. \n",
      "\n",
      "The unique articles are: 4172\n"
     ]
    },
    {
     "data": {
      "text/plain": [
       "united_states                     294\n",
       "driving_on_the_left_or_right      255\n",
       "list_of_countries                 244\n",
       "list_of_circulating_currencies    236\n",
       "list_of_sovereign_states          216\n",
       "                                 ... \n",
       "human_dignity                       1\n",
       "workchoices                         1\n",
       "sunol_water_temple                  1\n",
       "scheme_programming_language         1\n",
       "terik                               1\n",
       "Name: linkSource, Length: 4172, dtype: int64"
      ]
     },
     "execution_count": 24,
     "metadata": {},
     "output_type": "execute_result"
    }
   ],
   "source": [
    "print('There exist', len(df_links), 'links in total.','\\n')\n",
    "print('The unique articles are:', df_links.linkSource.nunique())\n",
    "df_links['linkSource'].value_counts()"
   ]
  },
  {
   "cell_type": "code",
   "execution_count": 25,
   "metadata": {},
   "outputs": [
    {
     "data": {
      "text/plain": [
       "Text(0.5, 0, 'Article')"
      ]
     },
     "execution_count": 25,
     "metadata": {},
     "output_type": "execute_result"
    },
    {
     "data": {
      "image/png": "[encoded data removed]",
      "text/plain": [
       "<Figure size 1100x500 with 1 Axes>"
      ]
     },
     "metadata": {},
     "output_type": "display_data"
    }
   ],
   "source": [
    "group_by_links = df_links.groupby(by=df_links.linkSource).count().linkTarget.reset_index()[:50]\n",
    "\n",
    "pl = group_by_links.plot(kind='bar', figsize=[11,5], rot=0)\n",
    "pl.set_title('Distribution of the number of links per article')\n",
    "pl.set_ylabel('Number of links')\n",
    "pl.set_xlabel('Article')"
   ]
  },
  {
   "cell_type": "markdown",
   "metadata": {},
   "source": [
    "We can see that the number of links per article does not follow a uniform distribution. There are articles that have more than 160 links while others have less than 20."
   ]
  },
  {
   "cell_type": "code",
   "execution_count": 26,
   "metadata": {},
   "outputs": [
    {
     "data": {
      "text/plain": [
       "<AxesSubplot:title={'center':'Number of clicks'}, ylabel='Frequency'>"
      ]
     },
     "execution_count": 26,
     "metadata": {},
     "output_type": "execute_result"
    },
    {
     "data": {
      "image/png": "[encoded data removed]",
      "text/plain": [
       "<Figure size 640x480 with 1 Axes>"
      ]
     },
     "metadata": {},
     "output_type": "display_data"
    }
   ],
   "source": [
    "articles[\"clicks\"].plot.hist(bins=30, range=[0,1300], title=\"Number of clicks\")"
   ]
  },
  {
   "cell_type": "markdown",
   "metadata": {},
   "source": [
    "Let's rank the top 10 most clicks articles:"
   ]
  },
  {
   "cell_type": "code",
   "execution_count": 27,
   "metadata": {},
   "outputs": [
    {
     "data": {
      "text/html": [
       "<div>\n",
       "<style scoped>\n",
       "    .dataframe tbody tr th:only-of-type {\n",
       "        vertical-align: middle;\n",
       "    }\n",
       "\n",
       "    .dataframe tbody tr th {\n",
       "        vertical-align: top;\n",
       "    }\n",
       "\n",
       "    .dataframe thead th {\n",
       "        text-align: right;\n",
       "    }\n",
       "</style>\n",
       "<table border=\"1\" class=\"dataframe\">\n",
       "  <thead>\n",
       "    <tr style=\"text-align: right;\">\n",
       "      <th></th>\n",
       "      <th>impressions</th>\n",
       "      <th>clicks</th>\n",
       "      <th>CTR</th>\n",
       "    </tr>\n",
       "    <tr>\n",
       "      <th>linkTarget</th>\n",
       "      <th></th>\n",
       "      <th></th>\n",
       "      <th></th>\n",
       "    </tr>\n",
       "  </thead>\n",
       "  <tbody>\n",
       "    <tr>\n",
       "      <th>united_states</th>\n",
       "      <td>154518</td>\n",
       "      <td>12376</td>\n",
       "      <td>0.080094</td>\n",
       "    </tr>\n",
       "    <tr>\n",
       "      <th>europe</th>\n",
       "      <td>133170</td>\n",
       "      <td>5565</td>\n",
       "      <td>0.041789</td>\n",
       "    </tr>\n",
       "    <tr>\n",
       "      <th>united_kingdom</th>\n",
       "      <td>123566</td>\n",
       "      <td>5303</td>\n",
       "      <td>0.042916</td>\n",
       "    </tr>\n",
       "    <tr>\n",
       "      <th>england</th>\n",
       "      <td>65232</td>\n",
       "      <td>4413</td>\n",
       "      <td>0.067651</td>\n",
       "    </tr>\n",
       "    <tr>\n",
       "      <th>earth</th>\n",
       "      <td>61419</td>\n",
       "      <td>4172</td>\n",
       "      <td>0.067927</td>\n",
       "    </tr>\n",
       "    <tr>\n",
       "      <th>africa</th>\n",
       "      <td>68411</td>\n",
       "      <td>3490</td>\n",
       "      <td>0.051015</td>\n",
       "    </tr>\n",
       "    <tr>\n",
       "      <th>world_war_ii</th>\n",
       "      <td>102791</td>\n",
       "      <td>2893</td>\n",
       "      <td>0.028144</td>\n",
       "    </tr>\n",
       "    <tr>\n",
       "      <th>north_america</th>\n",
       "      <td>70097</td>\n",
       "      <td>2546</td>\n",
       "      <td>0.036321</td>\n",
       "    </tr>\n",
       "    <tr>\n",
       "      <th>animal</th>\n",
       "      <td>42468</td>\n",
       "      <td>2426</td>\n",
       "      <td>0.057125</td>\n",
       "    </tr>\n",
       "    <tr>\n",
       "      <th>human</th>\n",
       "      <td>40685</td>\n",
       "      <td>2359</td>\n",
       "      <td>0.057982</td>\n",
       "    </tr>\n",
       "  </tbody>\n",
       "</table>\n",
       "</div>"
      ],
      "text/plain": [
       "                impressions  clicks       CTR\n",
       "linkTarget                                   \n",
       "united_states        154518   12376  0.080094\n",
       "europe               133170    5565  0.041789\n",
       "united_kingdom       123566    5303  0.042916\n",
       "england               65232    4413  0.067651\n",
       "earth                 61419    4172  0.067927\n",
       "africa                68411    3490  0.051015\n",
       "world_war_ii         102791    2893  0.028144\n",
       "north_america         70097    2546  0.036321\n",
       "animal                42468    2426  0.057125\n",
       "human                 40685    2359  0.057982"
      ]
     },
     "execution_count": 27,
     "metadata": {},
     "output_type": "execute_result"
    }
   ],
   "source": [
    "articles.sort_values(by=['clicks'], ascending=False).head(10)"
   ]
  },
  {
   "cell_type": "markdown",
   "metadata": {},
   "source": [
    "Now focusing on impressions:"
   ]
  },
  {
   "cell_type": "code",
   "execution_count": 28,
   "metadata": {},
   "outputs": [
    {
     "data": {
      "text/plain": [
       "<AxesSubplot:title={'center':'Number of impressions'}, ylabel='Frequency'>"
      ]
     },
     "execution_count": 28,
     "metadata": {},
     "output_type": "execute_result"
    },
    {
     "data": {
      "image/png": "[encoded data removed]",
      "text/plain": [
       "<Figure size 640x480 with 1 Axes>"
      ]
     },
     "metadata": {},
     "output_type": "display_data"
    }
   ],
   "source": [
    "articles[\"impressions\"].plot.hist(bins=30, title=\"Number of impressions\", range=[0,50000])"
   ]
  },
  {
   "cell_type": "markdown",
   "metadata": {},
   "source": [
    "Let's rank the top 10 articles with highest impressions"
   ]
  },
  {
   "cell_type": "code",
   "execution_count": 29,
   "metadata": {},
   "outputs": [
    {
     "data": {
      "text/html": [
       "<div>\n",
       "<style scoped>\n",
       "    .dataframe tbody tr th:only-of-type {\n",
       "        vertical-align: middle;\n",
       "    }\n",
       "\n",
       "    .dataframe tbody tr th {\n",
       "        vertical-align: top;\n",
       "    }\n",
       "\n",
       "    .dataframe thead th {\n",
       "        text-align: right;\n",
       "    }\n",
       "</style>\n",
       "<table border=\"1\" class=\"dataframe\">\n",
       "  <thead>\n",
       "    <tr style=\"text-align: right;\">\n",
       "      <th></th>\n",
       "      <th>impressions</th>\n",
       "      <th>clicks</th>\n",
       "      <th>CTR</th>\n",
       "    </tr>\n",
       "    <tr>\n",
       "      <th>linkTarget</th>\n",
       "      <th></th>\n",
       "      <th></th>\n",
       "      <th></th>\n",
       "    </tr>\n",
       "  </thead>\n",
       "  <tbody>\n",
       "    <tr>\n",
       "      <th>united_states</th>\n",
       "      <td>154518</td>\n",
       "      <td>12376</td>\n",
       "      <td>0.080094</td>\n",
       "    </tr>\n",
       "    <tr>\n",
       "      <th>europe</th>\n",
       "      <td>133170</td>\n",
       "      <td>5565</td>\n",
       "      <td>0.041789</td>\n",
       "    </tr>\n",
       "    <tr>\n",
       "      <th>france</th>\n",
       "      <td>132404</td>\n",
       "      <td>2225</td>\n",
       "      <td>0.016805</td>\n",
       "    </tr>\n",
       "    <tr>\n",
       "      <th>united_kingdom</th>\n",
       "      <td>123566</td>\n",
       "      <td>5303</td>\n",
       "      <td>0.042916</td>\n",
       "    </tr>\n",
       "    <tr>\n",
       "      <th>germany</th>\n",
       "      <td>105443</td>\n",
       "      <td>2167</td>\n",
       "      <td>0.020551</td>\n",
       "    </tr>\n",
       "    <tr>\n",
       "      <th>world_war_ii</th>\n",
       "      <td>102791</td>\n",
       "      <td>2893</td>\n",
       "      <td>0.028144</td>\n",
       "    </tr>\n",
       "    <tr>\n",
       "      <th>latin</th>\n",
       "      <td>101089</td>\n",
       "      <td>959</td>\n",
       "      <td>0.009487</td>\n",
       "    </tr>\n",
       "    <tr>\n",
       "      <th>india</th>\n",
       "      <td>97125</td>\n",
       "      <td>1750</td>\n",
       "      <td>0.018018</td>\n",
       "    </tr>\n",
       "    <tr>\n",
       "      <th>spain</th>\n",
       "      <td>93086</td>\n",
       "      <td>773</td>\n",
       "      <td>0.008304</td>\n",
       "    </tr>\n",
       "    <tr>\n",
       "      <th>italy</th>\n",
       "      <td>90599</td>\n",
       "      <td>1195</td>\n",
       "      <td>0.013190</td>\n",
       "    </tr>\n",
       "  </tbody>\n",
       "</table>\n",
       "</div>"
      ],
      "text/plain": [
       "                impressions  clicks       CTR\n",
       "linkTarget                                   \n",
       "united_states        154518   12376  0.080094\n",
       "europe               133170    5565  0.041789\n",
       "france               132404    2225  0.016805\n",
       "united_kingdom       123566    5303  0.042916\n",
       "germany              105443    2167  0.020551\n",
       "world_war_ii         102791    2893  0.028144\n",
       "latin                101089     959  0.009487\n",
       "india                 97125    1750  0.018018\n",
       "spain                 93086     773  0.008304\n",
       "italy                 90599    1195  0.013190"
      ]
     },
     "execution_count": 29,
     "metadata": {},
     "output_type": "execute_result"
    }
   ],
   "source": [
    "articles.sort_values(by=['impressions'], ascending=False).head(10)"
   ]
  },
  {
   "cell_type": "markdown",
   "metadata": {},
   "source": [
    "The finaly analysis is made on CTR:"
   ]
  },
  {
   "cell_type": "code",
   "execution_count": 30,
   "metadata": {},
   "outputs": [
    {
     "data": {
      "text/plain": [
       "<AxesSubplot:title={'center':'Distribution of CTR'}, ylabel='Frequency'>"
      ]
     },
     "execution_count": 30,
     "metadata": {},
     "output_type": "execute_result"
    },
    {
     "data": {
      "image/png": "[encoded data removed]",
      "text/plain": [
       "<Figure size 640x480 with 1 Axes>"
      ]
     },
     "metadata": {},
     "output_type": "display_data"
    }
   ],
   "source": [
    "articles[\"CTR\"].plot.hist(bins=30, title=\"Distribution of CTR\", range=[0,0.75])"
   ]
  },
  {
   "cell_type": "markdown",
   "metadata": {},
   "source": [
    "With the top 10 CTR ranking:"
   ]
  },
  {
   "cell_type": "code",
   "execution_count": 31,
   "metadata": {},
   "outputs": [
    {
     "data": {
      "text/html": [
       "<div>\n",
       "<style scoped>\n",
       "    .dataframe tbody tr th:only-of-type {\n",
       "        vertical-align: middle;\n",
       "    }\n",
       "\n",
       "    .dataframe tbody tr th {\n",
       "        vertical-align: top;\n",
       "    }\n",
       "\n",
       "    .dataframe thead th {\n",
       "        text-align: right;\n",
       "    }\n",
       "</style>\n",
       "<table border=\"1\" class=\"dataframe\">\n",
       "  <thead>\n",
       "    <tr style=\"text-align: right;\">\n",
       "      <th></th>\n",
       "      <th>impressions</th>\n",
       "      <th>clicks</th>\n",
       "      <th>CTR</th>\n",
       "    </tr>\n",
       "    <tr>\n",
       "      <th>linkTarget</th>\n",
       "      <th></th>\n",
       "      <th></th>\n",
       "      <th></th>\n",
       "    </tr>\n",
       "  </thead>\n",
       "  <tbody>\n",
       "    <tr>\n",
       "      <th>list_of_european_countries</th>\n",
       "      <td>4</td>\n",
       "      <td>3</td>\n",
       "      <td>0.750000</td>\n",
       "    </tr>\n",
       "    <tr>\n",
       "      <th>exploration_of_mars</th>\n",
       "      <td>23</td>\n",
       "      <td>15</td>\n",
       "      <td>0.652174</td>\n",
       "    </tr>\n",
       "    <tr>\n",
       "      <th>wta_tour_championships</th>\n",
       "      <td>9</td>\n",
       "      <td>5</td>\n",
       "      <td>0.555556</td>\n",
       "    </tr>\n",
       "    <tr>\n",
       "      <th>the_lion_king</th>\n",
       "      <td>501</td>\n",
       "      <td>277</td>\n",
       "      <td>0.552894</td>\n",
       "    </tr>\n",
       "    <tr>\n",
       "      <th>gray_reef_shark</th>\n",
       "      <td>26</td>\n",
       "      <td>14</td>\n",
       "      <td>0.538462</td>\n",
       "    </tr>\n",
       "    <tr>\n",
       "      <th>ffestiniog_railway</th>\n",
       "      <td>2</td>\n",
       "      <td>1</td>\n",
       "      <td>0.500000</td>\n",
       "    </tr>\n",
       "    <tr>\n",
       "      <th>shenzhou_spacecraft</th>\n",
       "      <td>23</td>\n",
       "      <td>11</td>\n",
       "      <td>0.478261</td>\n",
       "    </tr>\n",
       "    <tr>\n",
       "      <th>battle_of_bicocca</th>\n",
       "      <td>13</td>\n",
       "      <td>6</td>\n",
       "      <td>0.461538</td>\n",
       "    </tr>\n",
       "    <tr>\n",
       "      <th>irish_theatre</th>\n",
       "      <td>14</td>\n",
       "      <td>6</td>\n",
       "      <td>0.428571</td>\n",
       "    </tr>\n",
       "    <tr>\n",
       "      <th>investment_banking</th>\n",
       "      <td>40</td>\n",
       "      <td>17</td>\n",
       "      <td>0.425000</td>\n",
       "    </tr>\n",
       "  </tbody>\n",
       "</table>\n",
       "</div>"
      ],
      "text/plain": [
       "                            impressions  clicks       CTR\n",
       "linkTarget                                               \n",
       "list_of_european_countries            4       3  0.750000\n",
       "exploration_of_mars                  23      15  0.652174\n",
       "wta_tour_championships                9       5  0.555556\n",
       "the_lion_king                       501     277  0.552894\n",
       "gray_reef_shark                      26      14  0.538462\n",
       "ffestiniog_railway                    2       1  0.500000\n",
       "shenzhou_spacecraft                  23      11  0.478261\n",
       "battle_of_bicocca                    13       6  0.461538\n",
       "irish_theatre                        14       6  0.428571\n",
       "investment_banking                   40      17  0.425000"
      ]
     },
     "execution_count": 31,
     "metadata": {},
     "output_type": "execute_result"
    }
   ],
   "source": [
    "articles.sort_values(by=['CTR'], ascending=False).head(10)"
   ]
  },
  {
   "cell_type": "markdown",
   "metadata": {},
   "source": [
    "This last ranking might not be very useful since some articles have very low impressions, meaning we don't have enough data. The obtained CTR seem very high."
   ]
  },
  {
   "cell_type": "code",
   "execution_count": 32,
   "metadata": {},
   "outputs": [
    {
     "name": "stdout",
     "output_type": "stream",
     "text": [
      "The average number of clicks is 88.35985489721887\n",
      "The average number of impressions is 5661.276420798065\n",
      "The average CTR is 0.030189658307541403\n"
     ]
    }
   ],
   "source": [
    "print(\"The average number of clicks is \" + str(articles.clicks.mean()))\n",
    "print(\"The average number of impressions is \" + str(articles.impressions.mean()))\n",
    "print(\"The average CTR is \" + str(articles.CTR.mean()))"
   ]
  },
  {
   "cell_type": "markdown",
   "metadata": {},
   "source": [
    "Let's visualize the links positions and clicks to show the regions with high click frequency. We adopt heatmaps to highlight these regions."
   ]
  },
  {
   "cell_type": "code",
   "execution_count": 33,
   "metadata": {},
   "outputs": [],
   "source": [
    "df_heatmap=df_links[['xpos','ypos','clicks','impressions','CTR']]"
   ]
  },
  {
   "cell_type": "code",
   "execution_count": 34,
   "metadata": {},
   "outputs": [
    {
     "data": {
      "text/html": [
       "<div>\n",
       "<style scoped>\n",
       "    .dataframe tbody tr th:only-of-type {\n",
       "        vertical-align: middle;\n",
       "    }\n",
       "\n",
       "    .dataframe tbody tr th {\n",
       "        vertical-align: top;\n",
       "    }\n",
       "\n",
       "    .dataframe thead th {\n",
       "        text-align: right;\n",
       "    }\n",
       "</style>\n",
       "<table border=\"1\" class=\"dataframe\">\n",
       "  <thead>\n",
       "    <tr style=\"text-align: right;\">\n",
       "      <th></th>\n",
       "      <th>xpos</th>\n",
       "      <th>ypos</th>\n",
       "      <th>clicks</th>\n",
       "      <th>impressions</th>\n",
       "      <th>CTR</th>\n",
       "    </tr>\n",
       "  </thead>\n",
       "  <tbody>\n",
       "    <tr>\n",
       "      <th>86899</th>\n",
       "      <td>450</td>\n",
       "      <td>157</td>\n",
       "      <td>12</td>\n",
       "      <td>62</td>\n",
       "      <td>0.193548</td>\n",
       "    </tr>\n",
       "    <tr>\n",
       "      <th>3754</th>\n",
       "      <td>1750</td>\n",
       "      <td>392</td>\n",
       "      <td>1</td>\n",
       "      <td>20</td>\n",
       "      <td>0.050000</td>\n",
       "    </tr>\n",
       "    <tr>\n",
       "      <th>113756</th>\n",
       "      <td>569</td>\n",
       "      <td>1852</td>\n",
       "      <td>0</td>\n",
       "      <td>65</td>\n",
       "      <td>0.000000</td>\n",
       "    </tr>\n",
       "    <tr>\n",
       "      <th>24402</th>\n",
       "      <td>23</td>\n",
       "      <td>2170</td>\n",
       "      <td>0</td>\n",
       "      <td>68</td>\n",
       "      <td>0.000000</td>\n",
       "    </tr>\n",
       "    <tr>\n",
       "      <th>86267</th>\n",
       "      <td>1586</td>\n",
       "      <td>492</td>\n",
       "      <td>0</td>\n",
       "      <td>41</td>\n",
       "      <td>0.000000</td>\n",
       "    </tr>\n",
       "    <tr>\n",
       "      <th>72474</th>\n",
       "      <td>926</td>\n",
       "      <td>1323</td>\n",
       "      <td>2</td>\n",
       "      <td>16</td>\n",
       "      <td>0.125000</td>\n",
       "    </tr>\n",
       "    <tr>\n",
       "      <th>13171</th>\n",
       "      <td>1163</td>\n",
       "      <td>265</td>\n",
       "      <td>282</td>\n",
       "      <td>895</td>\n",
       "      <td>0.315084</td>\n",
       "    </tr>\n",
       "    <tr>\n",
       "      <th>3690</th>\n",
       "      <td>1761</td>\n",
       "      <td>522</td>\n",
       "      <td>0</td>\n",
       "      <td>5</td>\n",
       "      <td>0.000000</td>\n",
       "    </tr>\n",
       "    <tr>\n",
       "      <th>85725</th>\n",
       "      <td>1659</td>\n",
       "      <td>117</td>\n",
       "      <td>47</td>\n",
       "      <td>1019</td>\n",
       "      <td>0.046124</td>\n",
       "    </tr>\n",
       "    <tr>\n",
       "      <th>108827</th>\n",
       "      <td>145</td>\n",
       "      <td>4003</td>\n",
       "      <td>0</td>\n",
       "      <td>158</td>\n",
       "      <td>0.000000</td>\n",
       "    </tr>\n",
       "    <tr>\n",
       "      <th>19158</th>\n",
       "      <td>196</td>\n",
       "      <td>1636</td>\n",
       "      <td>0</td>\n",
       "      <td>30</td>\n",
       "      <td>0.000000</td>\n",
       "    </tr>\n",
       "    <tr>\n",
       "      <th>35867</th>\n",
       "      <td>1263</td>\n",
       "      <td>94</td>\n",
       "      <td>16</td>\n",
       "      <td>4333</td>\n",
       "      <td>0.003693</td>\n",
       "    </tr>\n",
       "    <tr>\n",
       "      <th>34652</th>\n",
       "      <td>892</td>\n",
       "      <td>2277</td>\n",
       "      <td>0</td>\n",
       "      <td>868</td>\n",
       "      <td>0.000000</td>\n",
       "    </tr>\n",
       "    <tr>\n",
       "      <th>88829</th>\n",
       "      <td>172</td>\n",
       "      <td>3662</td>\n",
       "      <td>0</td>\n",
       "      <td>30</td>\n",
       "      <td>0.000000</td>\n",
       "    </tr>\n",
       "    <tr>\n",
       "      <th>107954</th>\n",
       "      <td>1137</td>\n",
       "      <td>1306</td>\n",
       "      <td>0</td>\n",
       "      <td>23</td>\n",
       "      <td>0.000000</td>\n",
       "    </tr>\n",
       "    <tr>\n",
       "      <th>66813</th>\n",
       "      <td>662</td>\n",
       "      <td>2206</td>\n",
       "      <td>0</td>\n",
       "      <td>18</td>\n",
       "      <td>0.000000</td>\n",
       "    </tr>\n",
       "    <tr>\n",
       "      <th>100567</th>\n",
       "      <td>972</td>\n",
       "      <td>335</td>\n",
       "      <td>0</td>\n",
       "      <td>9</td>\n",
       "      <td>0.000000</td>\n",
       "    </tr>\n",
       "    <tr>\n",
       "      <th>107157</th>\n",
       "      <td>1740</td>\n",
       "      <td>241</td>\n",
       "      <td>0</td>\n",
       "      <td>67</td>\n",
       "      <td>0.000000</td>\n",
       "    </tr>\n",
       "    <tr>\n",
       "      <th>46652</th>\n",
       "      <td>789</td>\n",
       "      <td>776</td>\n",
       "      <td>0</td>\n",
       "      <td>179</td>\n",
       "      <td>0.000000</td>\n",
       "    </tr>\n",
       "    <tr>\n",
       "      <th>55317</th>\n",
       "      <td>971</td>\n",
       "      <td>1062</td>\n",
       "      <td>0</td>\n",
       "      <td>29</td>\n",
       "      <td>0.000000</td>\n",
       "    </tr>\n",
       "  </tbody>\n",
       "</table>\n",
       "</div>"
      ],
      "text/plain": [
       "        xpos  ypos  clicks  impressions       CTR\n",
       "86899    450   157      12           62  0.193548\n",
       "3754    1750   392       1           20  0.050000\n",
       "113756   569  1852       0           65  0.000000\n",
       "24402     23  2170       0           68  0.000000\n",
       "86267   1586   492       0           41  0.000000\n",
       "72474    926  1323       2           16  0.125000\n",
       "13171   1163   265     282          895  0.315084\n",
       "3690    1761   522       0            5  0.000000\n",
       "85725   1659   117      47         1019  0.046124\n",
       "108827   145  4003       0          158  0.000000\n",
       "19158    196  1636       0           30  0.000000\n",
       "35867   1263    94      16         4333  0.003693\n",
       "34652    892  2277       0          868  0.000000\n",
       "88829    172  3662       0           30  0.000000\n",
       "107954  1137  1306       0           23  0.000000\n",
       "66813    662  2206       0           18  0.000000\n",
       "100567   972   335       0            9  0.000000\n",
       "107157  1740   241       0           67  0.000000\n",
       "46652    789   776       0          179  0.000000\n",
       "55317    971  1062       0           29  0.000000"
      ]
     },
     "execution_count": 34,
     "metadata": {},
     "output_type": "execute_result"
    }
   ],
   "source": [
    "df_heatmap.sample(20)"
   ]
  },
  {
   "cell_type": "markdown",
   "metadata": {},
   "source": [
    "Now, let's see where in a page are located the links with highest clicks."
   ]
  },
  {
   "cell_type": "code",
   "execution_count": 36,
   "metadata": {},
   "outputs": [
    {
     "data": {
      "text/plain": [
       "Text(0.5, 1.0, 'Clicks Heatmap')"
      ]
     },
     "execution_count": 36,
     "metadata": {},
     "output_type": "execute_result"
    },
    {
     "data": {
      "image/png": "[encoded data removed]",
      "text/plain": [
       "<Figure size 640x480 with 2 Axes>"
      ]
     },
     "metadata": {},
     "output_type": "display_data"
    }
   ],
   "source": [
    "ax = plt.axes()\n",
    "df_heatmap_clicks = pd.crosstab(np.around(np.log(df_heatmap['ypos'])),np.around(np.log(df_heatmap['xpos'])),values=df_heatmap['clicks'],aggfunc=sum)\n",
    "sns.heatmap(df_heatmap_clicks,cmap=sns.color_palette(\"Spectral\", as_cmap=True))\n",
    "ax.set_title('Clicks Heatmap')"
   ]
  },
  {
   "cell_type": "markdown",
   "metadata": {},
   "source": [
    "We can compare that to the places where the links appear in average on a page:"
   ]
  },
  {
   "cell_type": "code",
   "execution_count": 37,
   "metadata": {},
   "outputs": [
    {
     "data": {
      "text/plain": [
       "Text(0.5, 1.0, 'Impressions Heatmap')"
      ]
     },
     "execution_count": 37,
     "metadata": {},
     "output_type": "execute_result"
    },
    {
     "data": {
      "image/png": "[encoded data removed]",
      "text/plain": [
       "<Figure size 640x480 with 2 Axes>"
      ]
     },
     "metadata": {},
     "output_type": "display_data"
    }
   ],
   "source": [
    "ax = plt.axes()\n",
    "df_heatmap_impressions = pd.crosstab(np.around(np.log(df_heatmap['ypos'])),np.around(np.log(df_heatmap['xpos'])),values=df_heatmap['impressions'],aggfunc=sum)\n",
    "sns.heatmap(df_heatmap_impressions,cmap=sns.color_palette(\"Spectral\", as_cmap=True))\n",
    "ax.set_title('Impressions Heatmap')"
   ]
  },
  {
   "cell_type": "markdown",
   "metadata": {},
   "source": [
    "And finally, let's try to understand where the links with highest CTR are located:"
   ]
  },
  {
   "cell_type": "code",
   "execution_count": 38,
   "metadata": {},
   "outputs": [
    {
     "data": {
      "text/plain": [
       "Text(0.5, 1.0, 'CTR Heatmap')"
      ]
     },
     "execution_count": 38,
     "metadata": {},
     "output_type": "execute_result"
    },
    {
     "data": {
      "image/png": "[encoded data removed]",
      "text/plain": [
       "<Figure size 640x480 with 2 Axes>"
      ]
     },
     "metadata": {},
     "output_type": "display_data"
    }
   ],
   "source": [
    "ax = plt.axes()\n",
    "df_heatmap_CTR = df_heatmap_clicks/df_heatmap_impressions\n",
    "sns.heatmap(df_heatmap_CTR,cmap=sns.color_palette(\"Spectral\", as_cmap=True))\n",
    "ax.set_title('CTR Heatmap')"
   ]
  },
  {
   "cell_type": "markdown",
   "metadata": {},
   "source": [
    "These heatmaps are only the first iteration and will be made more clear for the next milestone."
   ]
  },
  {
   "cell_type": "markdown",
   "metadata": {},
   "source": [
    "Let's now investigate the relationship between two variables"
   ]
  },
  {
   "cell_type": "code",
   "execution_count": 39,
   "metadata": {},
   "outputs": [
    {
     "name": "stdout",
     "output_type": "stream",
     "text": [
      "PearsonRResult(statistic=0.02024533074008124, pvalue=8.174436083074256e-12)\n"
     ]
    }
   ],
   "source": [
    "df_links = df_links.fillna(0)\n",
    "print(stats.pearsonr(df_links['xpos'],df_links['CTR']))"
   ]
  },
  {
   "cell_type": "markdown",
   "metadata": {},
   "source": [
    "There is a very small (0.02), but significant (p < 0.05) positive correlation"
   ]
  },
  {
   "cell_type": "code",
   "execution_count": 40,
   "metadata": {},
   "outputs": [
    {
     "name": "stdout",
     "output_type": "stream",
     "text": [
      "PearsonRResult(statistic=-0.2073982284292976, pvalue=0.0)\n"
     ]
    }
   ],
   "source": [
    "print(stats.pearsonr(df_links['ypos'],df_links['CTR']))"
   ]
  },
  {
   "cell_type": "markdown",
   "metadata": {},
   "source": [
    "There is a small (-0.2), but significant (p < 0.05) negative correlation. The pearson correlation coefficient for y position is 10 times higher than the one for x position."
   ]
  },
  {
   "cell_type": "markdown",
   "metadata": {},
   "source": [
    "Finally, we plot ypos/CTR and fit a regression model "
   ]
  },
  {
   "cell_type": "code",
   "execution_count": 42,
   "metadata": {},
   "outputs": [
    {
     "data": {
      "text/plain": [
       "Text(0.5, 1.0, 'Linear Regression of CTR on ypos')"
      ]
     },
     "execution_count": 42,
     "metadata": {},
     "output_type": "execute_result"
    },
    {
     "data": {
      "image/png": "[encoded data removed]",
      "text/plain": [
       "<Figure size 500x500 with 1 Axes>"
      ]
     },
     "metadata": {},
     "output_type": "display_data"
    }
   ],
   "source": [
    "sns.lmplot(x=\"ypos\", y=\"CTR\", data=df_links, line_kws={'color': 'red'})\n",
    "ax = plt.gca()\n",
    "ax.set_title('Linear Regression of CTR on ypos')"
   ]
  },
  {
   "cell_type": "markdown",
   "metadata": {},
   "source": [
    "We plan to continue the investigations with additionnal features, and plot more intuitive visualizations. "
   ]
  }
 ],
 "metadata": {
  "kernelspec": {
   "display_name": "Python 3 (ipykernel)",
   "language": "python",
   "name": "python3"
  },
  "language_info": {
   "codemirror_mode": {
    "name": "ipython",
    "version": 3
   },
   "file_extension": ".py",
   "mimetype": "text/x-python",
   "name": "python",
   "nbconvert_exporter": "python",
   "pygments_lexer": "ipython3",
   "version": "3.9.13"
  },
  "vscode": {
   "interpreter": {
    "hash": "369f2c481f4da34e4445cda3fffd2e751bd1c4d706f27375911949ba6bb62e1c"
   }
  }
 },
 "nbformat": 4,
 "nbformat_minor": 4
}
